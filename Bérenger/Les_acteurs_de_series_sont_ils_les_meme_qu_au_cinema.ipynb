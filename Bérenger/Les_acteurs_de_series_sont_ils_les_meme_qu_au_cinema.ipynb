{
 "cells": [
  {
   "cell_type": "code",
   "execution_count": null,
   "metadata": {},
   "outputs": [],
   "source": [
    "import numpy as np\n",
    "import pandas as pd\n",
    "import matplotlib.pyplot as plt\n",
    "import datetime as dt\n",
    "from scipy import stats\n",
    "import chart_studio.plotly as py\n",
    "import plotly.express as px\n",
    "import cufflinks as cf\n",
    "import plotly.graph_objects as go\n",
    "import seaborn as sns\n",
    "import ipywidgets as widgets"
   ]
  },
  {
   "cell_type": "code",
   "execution_count": null,
   "metadata": {},
   "outputs": [],
   "source": [
    "acteurs_occurences = pd.read_csv(r\"C:\\Users\\Berenger\\Desktop\\projet abc\\acteurs_occurences.csv\")"
   ]
  },
  {
   "cell_type": "code",
   "execution_count": null,
   "metadata": {},
   "outputs": [],
   "source": [
    "name_df = pd.read_csv(\"https://datasets.imdbws.com/name.basics.tsv.gz\", sep=\"\\t\")\n",
    "name_df.head(1)"
   ]
  },
  {
   "cell_type": "code",
   "execution_count": null,
   "metadata": {},
   "outputs": [],
   "source": [
    "# Nettoyage de la Database\n",
    "name_df2 = name_df[[\"nconst\", \"primaryName\"]]\n",
    "# Etape 4 : set index puis merge\n",
    "# Set index on nconst for Database name and Database actors_occurence_df2 to prepare a merge\n",
    "name_df3 = name_df2.set_index('nconst')\n",
    "actors_occurence_df3 = actors_occurence_df2.set_index('nconst')\n",
    "# Merge to link first name with nconst\n",
    "actors_occurence_df4 = pd.merge(name_df3, actors_occurence_df3, how='inner', left_index=True, right_index=True)"
   ]
  },
  {
   "cell_type": "code",
   "execution_count": null,
   "metadata": {},
   "outputs": [],
   "source": [
    "# Etape 5 : Nettoyage pour retirer les oeuvres très courtes comme les cartoons de quelques minutes pour lesquelles les acteurs font seulement les voix\n",
    "actors_occurence_df5 = actors_occurence_df4[actors_occurence_df4['runtimeMinutes'] != '\\\\N']"
   ]
  },
  {
   "cell_type": "code",
   "execution_count": null,
   "metadata": {},
   "outputs": [],
   "source": [
    "# Etape 6 : Value_counts pour trouver les acteurs les plus présents\n",
    "actors_occurence_df8 = actors_occurence_df5['primaryName'].value_counts()\n",
    "actors_occurence_df9 = actors_occurence_df8.head(20)"
   ]
  },
  {
   "cell_type": "code",
   "execution_count": null,
   "metadata": {},
   "outputs": [],
   "source": [
    "# Etape 7 : transformation d'une série en dataframe puis reset de l'index\n",
    "actors_occurence_df10 = pd.DataFrame(actors_occurence_df9)\n",
    "actors_occurence_df10.reset_index(inplace=True)"
   ]
  },
  {
   "cell_type": "code",
   "execution_count": null,
   "metadata": {},
   "outputs": [],
   "source": [
    "# Etape 8 : Sauvegarde du dataframe\n",
    "actors_occurence_df10.to_csv(r'C:\\Users\\Berenger\\Desktop\\projet abc\\presence_acteurs_series.csv', index = False, header = True)"
   ]
  },
  {
   "cell_type": "code",
   "execution_count": null,
   "metadata": {},
   "outputs": [],
   "source": [
    "# Etape 9 : Chargement du dataframe\n",
    "presence_acteurs_series = pd.read_csv(r\"C:\\Users\\Berenger\\Desktop\\projet abc\\presence_acteurs_series.csv\")\n",
    "presence_acteurs_series.head(20)"
   ]
  },
  {
   "cell_type": "code",
   "execution_count": null,
   "metadata": {},
   "outputs": [],
   "source": [
    "presence_acteurs_series.rename(columns={'index': 'acteurSeries', 'primaryName': 'nombreApparition'}, inplace=True)\n",
    "presence_acteurs_series.head(20)"
   ]
  },
  {
   "cell_type": "code",
   "execution_count": null,
   "metadata": {},
   "outputs": [],
   "source": [
    "presence_acteur.rename(columns={'acteurSeries': 'acteurFilms', 'apparitionSeries': 'nombreApparition'}, inplace=True)\n",
    "presence_acteur.head(20)"
   ]
  },
  {
   "cell_type": "code",
   "execution_count": null,
   "metadata": {},
   "outputs": [],
   "source": [
    "presence_acteur[\"acteurSeries\"] = presence_acteurs_series[\"acteurSeries\"]\n",
    "presence_acteur[\"apparitionSeries\"] = presence_acteurs_series[\"apparitionSeries\"]\n",
    "presence_acteur_film_series = presence_acteur"
   ]
  },
  {
   "cell_type": "code",
   "execution_count": null,
   "metadata": {},
   "outputs": [],
   "source": [
    "# Etape 8 : Sauvegarde du dataframe\n",
    "presence_acteur_film_series.to_csv(r'C:\\Users\\Berenger\\Desktop\\projet abc\\presence_acteur_film_series.csv', index = False, header = True)"
   ]
  },
  {
   "cell_type": "code",
   "execution_count": null,
   "metadata": {},
   "outputs": [],
   "source": [
    "presence_acteur_film_series = pd.read_csv(r\"C:\\Users\\Berenger\\Desktop\\projet abc\\presence_acteur_film_series.csv\")\n",
    "presence_acteur_film_series.head(20)"
   ]
  },
  {
   "cell_type": "code",
   "execution_count": null,
   "metadata": {},
   "outputs": [],
   "source": []
  },
  {
   "cell_type": "code",
   "execution_count": null,
   "metadata": {},
   "outputs": [],
   "source": []
  }
 ],
 "metadata": {
  "language_info": {
   "name": "python"
  },
  "orig_nbformat": 4
 },
 "nbformat": 4,
 "nbformat_minor": 2
}
