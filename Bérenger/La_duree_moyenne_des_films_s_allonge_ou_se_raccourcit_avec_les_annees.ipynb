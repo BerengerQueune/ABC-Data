{
 "cells": [
  {
   "cell_type": "code",
   "execution_count": null,
   "metadata": {},
   "outputs": [],
   "source": [
    "import numpy as np\n",
    "import pandas as pd\n",
    "import matplotlib.pyplot as plt\n",
    "import datetime as dt\n",
    "from scipy import stats\n",
    "import chart_studio.plotly as py\n",
    "import plotly.express as px\n",
    "import cufflinks as cf\n",
    "import plotly.graph_objects as go\n",
    "import seaborn as sns\n",
    "import ipywidgets as widgets"
   ]
  },
  {
   "cell_type": "code",
   "execution_count": null,
   "metadata": {},
   "outputs": [],
   "source": [
    "basics_df = pd.read_csv(\"https://datasets.imdbws.com/title.basics.tsv.gz\", sep=\"\\t\", low_memory=False)\n",
    "basics_df.head(1)"
   ]
  },
  {
   "cell_type": "code",
   "execution_count": null,
   "metadata": {},
   "outputs": [],
   "source": [
    "basics_df_average1 = basics_df[[\"titleType\", \"startYear\", \"runtimeMinutes\"]]\n",
    "basics_df_average2 = basics_df_average1.loc[(basics_df_average1['titleType'] == \"movie\") & (basics_df_average1['runtimeMinutes'] != \"\\\\N\") & (basics_df_average1['startYear'] != \"\\\\N\")]\n",
    "basics_df_average3 = basics_df_average2[[\"startYear\", \"runtimeMinutes\"]]"
   ]
  },
  {
   "cell_type": "code",
   "execution_count": null,
   "metadata": {},
   "outputs": [],
   "source": [
    "basics_df_average4 = basics_df_average3.astype({\"startYear\": int})\n",
    "basics_df_average5 = basics_df_average4.astype({\"runtimeMinutes\": int})"
   ]
  },
  {
   "cell_type": "code",
   "execution_count": null,
   "metadata": {},
   "outputs": [],
   "source": [
    "# étape 2 : création d'une fonction pour transformer une date en décennie\n",
    "def find_decade2(year):\n",
    "    decade1 = (year // 10 * 10)\n",
    "    decade2 = (year // 10 * 10) + 10\n",
    "    return str(decade1) + \" - \" + str(decade2)"
   ]
  },
  {
   "cell_type": "code",
   "execution_count": null,
   "metadata": {},
   "outputs": [],
   "source": [
    "basics_df_average5[\"startYear\"] = basics_df_average5[\"startYear\"].apply(find_decade2)"
   ]
  },
  {
   "cell_type": "code",
   "execution_count": null,
   "metadata": {},
   "outputs": [],
   "source": [
    "#basics_df_average6  = pd.DataFrame({'count' : basics_df_average5.groupby(['startYear', 'runtimeMinutes'] ).size()})\n",
    "#basics_df_average6 = basics_df_average5.groupby(['startYear', 'runtimeMinutes']).mean()\n",
    "basics_df_average6 = basics_df_average5.groupby(['startYear']).mean()"
   ]
  },
  {
   "cell_type": "code",
   "execution_count": null,
   "metadata": {},
   "outputs": [],
   "source": [
    "basics_df_average6.reset_index(inplace=True)"
   ]
  },
  {
   "cell_type": "code",
   "execution_count": null,
   "metadata": {},
   "outputs": [],
   "source": [
    "basics_df_average7 = basics_df_average6.astype({\"runtimeMinutes\": int})"
   ]
  },
  {
   "cell_type": "code",
   "execution_count": null,
   "metadata": {},
   "outputs": [],
   "source": [
    "# # Etape 8 : Sauvegarde du dataframe\n",
    "basics_df_average7.to_csv(r'C:\\Users\\Berenger\\Desktop\\projet abc\\duree_film.csv', index = False, header = True)"
   ]
  },
  {
   "cell_type": "code",
   "execution_count": null,
   "metadata": {},
   "outputs": [],
   "source": [
    "# # Etape 9 : Chargement du dataframe\n",
    "duree_film = pd.read_csv(r\"C:\\Users\\Berenger\\Desktop\\projet abc\\duree_film.csv\")\n",
    "duree_film.head()"
   ]
  },
  {
   "cell_type": "code",
   "execution_count": null,
   "metadata": {},
   "outputs": [],
   "source": [
    "fig = px.line(duree_film, x=\"startYear\", y=\"runtimeMinutes\", \n",
    "title=\"La durée moyenne des films s'allonge ou se raccourcit avec les années ?\",\n",
    "labels = {'startYear': 'Périodes', 'runtimeMinutes': 'Minutes'},\n",
    "markers=True) \n",
    "fig.update_xaxes(tickangle=20)\n",
    "\n",
    "fig.update_layout(showlegend=False, title_x=0.5)"
   ]
  }
 ],
 "metadata": {
  "language_info": {
   "name": "python"
  },
  "orig_nbformat": 4
 },
 "nbformat": 4,
 "nbformat_minor": 2
}
