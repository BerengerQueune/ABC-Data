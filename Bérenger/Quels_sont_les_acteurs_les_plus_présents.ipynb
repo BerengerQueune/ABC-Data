{
 "cells": [
  {
   "cell_type": "code",
   "execution_count": null,
   "metadata": {},
   "outputs": [],
   "source": [
    "import numpy as np\n",
    "import pandas as pd\n",
    "import matplotlib.pyplot as plt\n",
    "import datetime as dt\n",
    "from scipy import stats\n",
    "import chart_studio.plotly as py\n",
    "import plotly.express as px\n",
    "import cufflinks as cf\n",
    "import plotly.graph_objects as go\n",
    "import seaborn as sns\n",
    "import ipywidgets as widgets"
   ]
  },
  {
   "cell_type": "code",
   "execution_count": null,
   "metadata": {},
   "outputs": [],
   "source": [
    "name_df = pd.read_csv(\"https://datasets.imdbws.com/name.basics.tsv.gz\", sep=\"\\t\")\n",
    "name_df.head(1)"
   ]
  },
  {
   "cell_type": "code",
   "execution_count": null,
   "metadata": {},
   "outputs": [],
   "source": [
    "principals_df = pd.read_csv(\"https://datasets.imdbws.com/title.principals.tsv.gz\", sep=\"\\t\")\n",
    "principals_df.head(1)"
   ]
  },
  {
   "cell_type": "code",
   "execution_count": null,
   "metadata": {},
   "outputs": [],
   "source": [
    "basics_df = pd.read_csv(\"https://datasets.imdbws.com/title.basics.tsv.gz\", sep=\"\\t\", low_memory=False)\n",
    "basics_df.head(1)"
   ]
  },
  {
   "cell_type": "code",
   "execution_count": null,
   "metadata": {},
   "outputs": [],
   "source": [
    "# Etape 1 : nettoyage de la Database\n",
    "principals_df2 = principals_df[[\"tconst\", \"nconst\", \"category\", \"characters\"]]\n",
    "principals_df3 = principals_df2[principals_df2['category'].str.contains('actor|actress') & (principals_df2['characters'] != '\\\\N')]\n",
    "principals_df4 = principals_df3[(principals_df3['characters'] != 'Narrator') & (principals_df3['characters'] != 'Various') & (principals_df3['characters'] != 'Additional Voices')]"
   ]
  },
  {
   "cell_type": "code",
   "execution_count": null,
   "metadata": {},
   "outputs": [],
   "source": [
    "# Nettoyage de la Database\n",
    "basics_df2 = basics_df[[\"tconst\", \"titleType\", \"startYear\", \"runtimeMinutes\", \"genres\"]]\n",
    "# Etape 2 : set index puis merge\n",
    "# Set index on tconst for basics and principal table\n",
    "basics_df3 = basics_df2.set_index('tconst')\n",
    "principals_df5 = principals_df4.set_index('tconst')\n",
    "# Merge de la table principals et basics afin de filtrer uniquement sur les movies et les shorts\n",
    "actors_occurence_df = pd.merge(basics_df3, principals_df5, how='inner', left_index=True, right_index=True)"
   ]
  },
  {
   "cell_type": "code",
   "execution_count": null,
   "metadata": {},
   "outputs": [],
   "source": [
    "actors_occurence_df[\"titleType\"].value_counts()"
   ]
  },
  {
   "cell_type": "code",
   "execution_count": null,
   "metadata": {},
   "outputs": [],
   "source": [
    "# Etape 3 : Nettoyage pour garder uniquement les titleType movie et short\n",
    "#actors_occurence_df2 = actors_occurence_df[(actors_occurence_df['titleType'] == 'movie') | (actors_occurence_df['titleType'] == 'short')]\n",
    "actors_occurence_df2 = actors_occurence_df[(actors_occurence_df['titleType'] == 'tvEpisode') | (actors_occurence_df['titleType'] == 'tvSeries') | (actors_occurence_df['titleType'] == 'tvMiniSeries')]"
   ]
  },
  {
   "cell_type": "code",
   "execution_count": null,
   "metadata": {},
   "outputs": [],
   "source": [
    "# Nettoyage de la Database\n",
    "name_df2 = name_df[[\"nconst\", \"primaryName\"]]\n",
    "# Etape 4 : set index puis merge\n",
    "# Set index on nconst for Database name and Database actors_occurence_df2 to prepare a merge\n",
    "name_df3 = name_df2.set_index('nconst')\n",
    "actors_occurence_df3 = actors_occurence_df2.set_index('nconst')\n",
    "# Merge to link first name with nconst\n",
    "actors_occurence_df4 = pd.merge(name_df3, actors_occurence_df3, how='inner', left_index=True, right_index=True)"
   ]
  },
  {
   "cell_type": "code",
   "execution_count": null,
   "metadata": {},
   "outputs": [],
   "source": [
    "# Etape 5 : Nettoyage pour retirer les oeuvres très courtes comme les cartoons de quelques minutes pour lesquelles les acteurs font seulement les voix\n",
    "actors_occurence_df5 = actors_occurence_df4[actors_occurence_df4['runtimeMinutes'] != '\\\\N']\n",
    "actors_occurence_df6 = actors_occurence_df5.astype({\"runtimeMinutes\": int})\n",
    "actors_occurence_df7 = actors_occurence_df6[actors_occurence_df6['runtimeMinutes'] > 20]"
   ]
  },
  {
   "cell_type": "code",
   "execution_count": null,
   "metadata": {},
   "outputs": [],
   "source": [
    "# Etape 6 : Value_counts pour trouver les acteurs les plus présents\n",
    "actors_occurence_df8 = actors_occurence_df7['primaryName'].value_counts()\n",
    "actors_occurence_df9 = actors_occurence_df8.head(20)"
   ]
  },
  {
   "cell_type": "code",
   "execution_count": null,
   "metadata": {},
   "outputs": [],
   "source": [
    "# Etape 7 : transformation d'une série en dataframe puis reset de l'index\n",
    "actors_occurence_df10 = pd.DataFrame(actors_occurence_df9)\n",
    "actors_occurence_df10.reset_index(inplace=True)"
   ]
  },
  {
   "cell_type": "code",
   "execution_count": null,
   "metadata": {},
   "outputs": [],
   "source": [
    "# # Etape 8 : Sauvegarde du dataframe\n",
    "actors_occurence_df10.to_csv(r'C:\\Users\\Berenger\\Desktop\\projet abc\\presence_acteurs.csv', index = False, header = True)"
   ]
  },
  {
   "cell_type": "code",
   "execution_count": null,
   "metadata": {},
   "outputs": [],
   "source": [
    "# # Etape 9 : Chargement du dataframe\n",
    "presence_acteur = pd.read_csv(r\"C:\\Users\\Berenger\\Desktop\\projet abc\\presence_acteurs.csv\")\n",
    "presence_acteur.head()"
   ]
  },
  {
   "cell_type": "code",
   "execution_count": null,
   "metadata": {},
   "outputs": [],
   "source": [
    "# étape 10 : visualisation\n",
    "fig = px.bar(presence_acteur, x=\"primaryName\", y ='index', color = 'index',\n",
    "    title = 'Quels sont les acteurs les plus présents ?',\n",
    "    labels = {'primaryName': 'Nombre de films', 'index': 'Acteurs'},\n",
    "    width=800, height=600)\n",
    "\n",
    "fig.update_layout(showlegend=False, title_x=0.5, yaxis={'visible': False})"
   ]
  }
 ],
 "metadata": {
  "language_info": {
   "name": "python"
  },
  "orig_nbformat": 4
 },
 "nbformat": 4,
 "nbformat_minor": 2
}
