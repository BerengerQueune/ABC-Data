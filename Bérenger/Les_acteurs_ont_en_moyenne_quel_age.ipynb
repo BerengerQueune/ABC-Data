{
 "cells": [
  {
   "cell_type": "code",
   "execution_count": null,
   "metadata": {},
   "outputs": [],
   "source": [
    "import numpy as np\n",
    "import pandas as pd\n",
    "import matplotlib.pyplot as plt\n",
    "import datetime as dt\n",
    "from scipy import stats\n",
    "import chart_studio.plotly as py\n",
    "import plotly.express as px\n",
    "import cufflinks as cf\n",
    "import plotly.graph_objects as go\n",
    "import seaborn as sns\n",
    "import ipywidgets as widgets"
   ]
  },
  {
   "cell_type": "code",
   "execution_count": null,
   "metadata": {},
   "outputs": [],
   "source": [
    "basics_df = pd.read_csv(\"https://datasets.imdbws.com/title.basics.tsv.gz\", sep=\"\\t\", low_memory=False)\n",
    "basics_df.head(1)"
   ]
  },
  {
   "cell_type": "code",
   "execution_count": null,
   "metadata": {},
   "outputs": [],
   "source": [
    "name_df = pd.read_csv(\"https://datasets.imdbws.com/name.basics.tsv.gz\", sep=\"\\t\")\n",
    "name_df.head(1)"
   ]
  },
  {
   "cell_type": "code",
   "execution_count": null,
   "metadata": {},
   "outputs": [],
   "source": [
    "principals_df = pd.read_csv(\"https://datasets.imdbws.com/title.principals.tsv.gz\", sep=\"\\t\")\n",
    "principals_df.head(1)"
   ]
  },
  {
   "cell_type": "code",
   "execution_count": null,
   "metadata": {},
   "outputs": [],
   "source": [
    "# étape 1 : nettoyage de la Database\n",
    "principals_df2 = principals_df[[\"tconst\", \"nconst\", \"category\", \"characters\"]]\n",
    "principals_df3 = principals_df2[principals_df2['category'].str.contains('actor|actress') & (principals_df2['characters'] != '\\\\N')]\n",
    "principals_df4 = principals_df3[(principals_df3['characters'] != 'Narrator') & (principals_df3['characters'] != 'Various') & (principals_df3['characters'] != 'Additional Voices')]\n",
    "\n",
    "basics_df2 = basics_df[[\"tconst\", \"titleType\", \"startYear\", \"runtimeMinutes\", \"genres\"]]\n",
    "# étape 2 : set index puis merge\n",
    "# set index on tconst for basics and principal table\n",
    "basics_df3 = basics_df2.set_index('tconst')\n",
    "principals_df5 = principals_df4.set_index('tconst')\n",
    "# Merge de la table principals et basics afin de filtrer uniquement sur les movies et les shorts\n",
    "actors_occurence_df = pd.merge(basics_df3, principals_df5, how='inner', left_index=True, right_index=True)\n",
    "\n",
    "actors_occurence_df2 = actors_occurence_df[(actors_occurence_df['titleType'] == 'movie') | (actors_occurence_df['titleType'] == 'short')]\n",
    "name_df2 = name_df[[\"nconst\", \"primaryName\", \"birthYear\"]]\n",
    "name_df3 = name_df2.set_index('nconst')\n",
    "actors_occurence_df3 = actors_occurence_df2.set_index('nconst')\n",
    "# merge to link first name with nconst\n",
    "actors_occurence_df4 = pd.merge(name_df3, actors_occurence_df3, how='inner', left_index=True, right_index=True)\n",
    "\n",
    "actors_occurence_df5 = actors_occurence_df4[[\"birthYear\", \"startYear\", \"category\"]]\n",
    "actors_occurence_df6 = actors_occurence_df5.loc[(actors_occurence_df5['birthYear'] != \"\\\\N\") & (actors_occurence_df5['startYear'] != \"\\\\N\")]\n",
    "actors_occurence_df6"
   ]
  },
  {
   "cell_type": "code",
   "execution_count": null,
   "metadata": {},
   "outputs": [],
   "source": [
    "#sauvegarde du dataframe\n",
    "actors_occurence_df6.to_csv(r'C:\\Users\\Berenger\\Desktop\\projet abc\\moyenne_age_acteurs.csv', index = False, header = True)"
   ]
  },
  {
   "cell_type": "code",
   "execution_count": null,
   "metadata": {},
   "outputs": [],
   "source": [
    "#chargement du dataframe\n",
    "moyenne_age = pd.read_csv(r\"C:\\Users\\Berenger\\Desktop\\projet abc\\moyenne_age_acteurs.csv\")"
   ]
  },
  {
   "cell_type": "code",
   "execution_count": null,
   "metadata": {},
   "outputs": [],
   "source": [
    "moyenne_age[\"age\"] = moyenne_age[\"startYear\"] - moyenne_age[\"birthYear\"]\n",
    "moyenne_age[\"age\"].mean()"
   ]
  },
  {
   "cell_type": "markdown",
   "metadata": {},
   "source": [
    "# <span style=\"color:orange\">Moyenne d'âge des acteurs/actrices, par sexe</span> "
   ]
  },
  {
   "cell_type": "code",
   "execution_count": null,
   "metadata": {},
   "outputs": [],
   "source": [
    "moyenne_age_femme = moyenne_age.loc[moyenne_age['category'] == \"actress\"]\n",
    "moyenne_age_femme[\"age\"].mean()"
   ]
  },
  {
   "cell_type": "code",
   "execution_count": null,
   "metadata": {},
   "outputs": [],
   "source": [
    "moyenne_age_homme = moyenne_age.loc[moyenne_age['category'] == \"actor\"]\n",
    "moyenne_age_homme[\"age\"].mean()"
   ]
  },
  {
   "cell_type": "code",
   "execution_count": null,
   "metadata": {},
   "outputs": [],
   "source": []
  }
 ],
 "metadata": {
  "language_info": {
   "name": "python"
  },
  "orig_nbformat": 4
 },
 "nbformat": 4,
 "nbformat_minor": 2
}
