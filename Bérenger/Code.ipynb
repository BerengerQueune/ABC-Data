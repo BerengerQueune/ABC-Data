{
 "cells": [
  {
   "cell_type": "code",
   "execution_count": 1,
   "metadata": {},
   "outputs": [],
   "source": [
    "import numpy as np\n",
    "import pandas as pd\n",
    "import matplotlib.pyplot as plt\n",
    "import datetime as dt\n",
    "from scipy import stats\n",
    "import chart_studio.plotly as py\n",
    "import plotly.express as px\n",
    "import cufflinks as cf\n",
    "import plotly.graph_objects as go"
   ]
  },
  {
   "cell_type": "code",
   "execution_count": null,
   "metadata": {},
   "outputs": [],
   "source": [
    "name_df = pd.read_csv(\"https://datasets.imdbws.com/name.basics.tsv.gz\", sep=\"\\t\")\n",
    "name_df.head(1)"
   ]
  },
  {
   "cell_type": "code",
   "execution_count": null,
   "metadata": {},
   "outputs": [],
   "source": [
    "akas_df = pd.read_csv(\"https://datasets.imdbws.com/title.akas.tsv.gz\", sep=\"\\t\", dtype={\"titleId\": \"string\", \"ordering\": str, \"title \": \"string\", \"region \": \"string\", \n",
    "\"language \": \"string\", \"types \": str, \"attributes \": str, \"isOriginalTitle\": str})\n",
    "akas_df.head(1)"
   ]
  },
  {
   "cell_type": "code",
   "execution_count": null,
   "metadata": {},
   "outputs": [],
   "source": [
    "basics_df = pd.read_csv(\"https://datasets.imdbws.com/title.basics.tsv.gz\", sep=\"\\t\", low_memory=False)\n",
    "basics_df.head(1)"
   ]
  },
  {
   "cell_type": "code",
   "execution_count": null,
   "metadata": {},
   "outputs": [],
   "source": [
    "crew_df = pd.read_csv(\"https://datasets.imdbws.com/title.crew.tsv.gz\", sep=\"\\t\", low_memory=False)\n",
    "crew_df.head(1)"
   ]
  },
  {
   "cell_type": "code",
   "execution_count": null,
   "metadata": {},
   "outputs": [],
   "source": [
    "episode_df = pd.read_csv(\"https://datasets.imdbws.com/title.episode.tsv.gz\", sep=\"\\t\", low_memory=False)\n",
    "episode_df.head(1)"
   ]
  },
  {
   "cell_type": "code",
   "execution_count": null,
   "metadata": {},
   "outputs": [],
   "source": [
    "principals_df = pd.read_csv(\"https://datasets.imdbws.com/title.principals.tsv.gz\", sep=\"\\t\")\n",
    "principals_df.head(1)"
   ]
  },
  {
   "cell_type": "code",
   "execution_count": null,
   "metadata": {},
   "outputs": [],
   "source": [
    "ratings_df = pd.read_csv(\"https://datasets.imdbws.com/title.ratings.tsv.gz\", sep=\"\\t\", low_memory=False)\n",
    "ratings_df.head(1)"
   ]
  },
  {
   "cell_type": "markdown",
   "metadata": {},
   "source": [
    "# <span style=\"color:orange\">Quels sont les pays qui produisent le plus de films ?</span> "
   ]
  },
  {
   "cell_type": "code",
   "execution_count": 33,
   "metadata": {},
   "outputs": [
    {
     "data": {
      "application/vnd.plotly.v1+json": {
       "config": {
        "plotlyServerURL": "https://plot.ly"
       },
       "data": [
        {
         "alignmentgroup": "True",
         "hovertemplate": "Pays=%{x}<br>Nombre de films=%{y}<extra></extra>",
         "legendgroup": "FR",
         "marker": {
          "color": "#636efa",
          "pattern": {
           "shape": ""
          }
         },
         "name": "FR",
         "offsetgroup": "FR",
         "orientation": "v",
         "showlegend": true,
         "textposition": "auto",
         "type": "bar",
         "x": [
          "FR"
         ],
         "xaxis": "x",
         "y": [
          3487957
         ],
         "yaxis": "y"
        },
        {
         "alignmentgroup": "True",
         "hovertemplate": "Pays=%{x}<br>Nombre de films=%{y}<extra></extra>",
         "legendgroup": "JP",
         "marker": {
          "color": "#EF553B",
          "pattern": {
           "shape": ""
          }
         },
         "name": "JP",
         "offsetgroup": "JP",
         "orientation": "v",
         "showlegend": true,
         "textposition": "auto",
         "type": "bar",
         "x": [
          "JP"
         ],
         "xaxis": "x",
         "y": [
          3482526
         ],
         "yaxis": "y"
        },
        {
         "alignmentgroup": "True",
         "hovertemplate": "Pays=%{x}<br>Nombre de films=%{y}<extra></extra>",
         "legendgroup": "DE",
         "marker": {
          "color": "#00cc96",
          "pattern": {
           "shape": ""
          }
         },
         "name": "DE",
         "offsetgroup": "DE",
         "orientation": "v",
         "showlegend": true,
         "textposition": "auto",
         "type": "bar",
         "x": [
          "DE"
         ],
         "xaxis": "x",
         "y": [
          3445185
         ],
         "yaxis": "y"
        },
        {
         "alignmentgroup": "True",
         "hovertemplate": "Pays=%{x}<br>Nombre de films=%{y}<extra></extra>",
         "legendgroup": "ES",
         "marker": {
          "color": "#ab63fa",
          "pattern": {
           "shape": ""
          }
         },
         "name": "ES",
         "offsetgroup": "ES",
         "orientation": "v",
         "showlegend": true,
         "textposition": "auto",
         "type": "bar",
         "x": [
          "ES"
         ],
         "xaxis": "x",
         "y": [
          3412919
         ],
         "yaxis": "y"
        },
        {
         "alignmentgroup": "True",
         "hovertemplate": "Pays=%{x}<br>Nombre de films=%{y}<extra></extra>",
         "legendgroup": "IN",
         "marker": {
          "color": "#FFA15A",
          "pattern": {
           "shape": ""
          }
         },
         "name": "IN",
         "offsetgroup": "IN",
         "orientation": "v",
         "showlegend": true,
         "textposition": "auto",
         "type": "bar",
         "x": [
          "IN"
         ],
         "xaxis": "x",
         "y": [
          3406529
         ],
         "yaxis": "y"
        },
        {
         "alignmentgroup": "True",
         "hovertemplate": "Pays=%{x}<br>Nombre de films=%{y}<extra></extra>",
         "legendgroup": "IT",
         "marker": {
          "color": "#19d3f3",
          "pattern": {
           "shape": ""
          }
         },
         "name": "IT",
         "offsetgroup": "IT",
         "orientation": "v",
         "showlegend": true,
         "textposition": "auto",
         "type": "bar",
         "x": [
          "IT"
         ],
         "xaxis": "x",
         "y": [
          3395074
         ],
         "yaxis": "y"
        },
        {
         "alignmentgroup": "True",
         "hovertemplate": "Pays=%{x}<br>Nombre de films=%{y}<extra></extra>",
         "legendgroup": "PT",
         "marker": {
          "color": "#FF6692",
          "pattern": {
           "shape": ""
          }
         },
         "name": "PT",
         "offsetgroup": "PT",
         "orientation": "v",
         "showlegend": true,
         "textposition": "auto",
         "type": "bar",
         "x": [
          "PT"
         ],
         "xaxis": "x",
         "y": [
          3336232
         ],
         "yaxis": "y"
        },
        {
         "alignmentgroup": "True",
         "hovertemplate": "Pays=%{x}<br>Nombre de films=%{y}<extra></extra>",
         "legendgroup": "US",
         "marker": {
          "color": "#B6E880",
          "pattern": {
           "shape": ""
          }
         },
         "name": "US",
         "offsetgroup": "US",
         "orientation": "v",
         "showlegend": true,
         "textposition": "auto",
         "type": "bar",
         "x": [
          "US"
         ],
         "xaxis": "x",
         "y": [
          1303011
         ],
         "yaxis": "y"
        },
        {
         "alignmentgroup": "True",
         "hovertemplate": "Pays=%{x}<br>Nombre de films=%{y}<extra></extra>",
         "legendgroup": "GB",
         "marker": {
          "color": "#FF97FF",
          "pattern": {
           "shape": ""
          }
         },
         "name": "GB",
         "offsetgroup": "GB",
         "orientation": "v",
         "showlegend": true,
         "textposition": "auto",
         "type": "bar",
         "x": [
          "GB"
         ],
         "xaxis": "x",
         "y": [
          405490
         ],
         "yaxis": "y"
        },
        {
         "alignmentgroup": "True",
         "hovertemplate": "Pays=%{x}<br>Nombre de films=%{y}<extra></extra>",
         "legendgroup": "CA",
         "marker": {
          "color": "#FECB52",
          "pattern": {
           "shape": ""
          }
         },
         "name": "CA",
         "offsetgroup": "CA",
         "orientation": "v",
         "showlegend": true,
         "textposition": "auto",
         "type": "bar",
         "x": [
          "CA"
         ],
         "xaxis": "x",
         "y": [
          188350
         ],
         "yaxis": "y"
        },
        {
         "alignmentgroup": "True",
         "hovertemplate": "Pays=%{x}<br>Nombre de films=%{y}<extra></extra>",
         "legendgroup": "XWW",
         "marker": {
          "color": "#636efa",
          "pattern": {
           "shape": ""
          }
         },
         "name": "XWW",
         "offsetgroup": "XWW",
         "orientation": "v",
         "showlegend": true,
         "textposition": "auto",
         "type": "bar",
         "x": [
          "XWW"
         ],
         "xaxis": "x",
         "y": [
          154502
         ],
         "yaxis": "y"
        },
        {
         "alignmentgroup": "True",
         "hovertemplate": "Pays=%{x}<br>Nombre de films=%{y}<extra></extra>",
         "legendgroup": "AU",
         "marker": {
          "color": "#EF553B",
          "pattern": {
           "shape": ""
          }
         },
         "name": "AU",
         "offsetgroup": "AU",
         "orientation": "v",
         "showlegend": true,
         "textposition": "auto",
         "type": "bar",
         "x": [
          "AU"
         ],
         "xaxis": "x",
         "y": [
          104270
         ],
         "yaxis": "y"
        },
        {
         "alignmentgroup": "True",
         "hovertemplate": "Pays=%{x}<br>Nombre de films=%{y}<extra></extra>",
         "legendgroup": "BR",
         "marker": {
          "color": "#00cc96",
          "pattern": {
           "shape": ""
          }
         },
         "name": "BR",
         "offsetgroup": "BR",
         "orientation": "v",
         "showlegend": true,
         "textposition": "auto",
         "type": "bar",
         "x": [
          "BR"
         ],
         "xaxis": "x",
         "y": [
          102241
         ],
         "yaxis": "y"
        },
        {
         "alignmentgroup": "True",
         "hovertemplate": "Pays=%{x}<br>Nombre de films=%{y}<extra></extra>",
         "legendgroup": "MX",
         "marker": {
          "color": "#ab63fa",
          "pattern": {
           "shape": ""
          }
         },
         "name": "MX",
         "offsetgroup": "MX",
         "orientation": "v",
         "showlegend": true,
         "textposition": "auto",
         "type": "bar",
         "x": [
          "MX"
         ],
         "xaxis": "x",
         "y": [
          86941
         ],
         "yaxis": "y"
        }
       ],
       "layout": {
        "barmode": "relative",
        "height": 600,
        "legend": {
         "title": {
          "text": "Pays"
         },
         "tracegroupgap": 0
        },
        "showlegend": false,
        "template": {
         "data": {
          "bar": [
           {
            "error_x": {
             "color": "#2a3f5f"
            },
            "error_y": {
             "color": "#2a3f5f"
            },
            "marker": {
             "line": {
              "color": "#E5ECF6",
              "width": 0.5
             },
             "pattern": {
              "fillmode": "overlay",
              "size": 10,
              "solidity": 0.2
             }
            },
            "type": "bar"
           }
          ],
          "barpolar": [
           {
            "marker": {
             "line": {
              "color": "#E5ECF6",
              "width": 0.5
             },
             "pattern": {
              "fillmode": "overlay",
              "size": 10,
              "solidity": 0.2
             }
            },
            "type": "barpolar"
           }
          ],
          "carpet": [
           {
            "aaxis": {
             "endlinecolor": "#2a3f5f",
             "gridcolor": "white",
             "linecolor": "white",
             "minorgridcolor": "white",
             "startlinecolor": "#2a3f5f"
            },
            "baxis": {
             "endlinecolor": "#2a3f5f",
             "gridcolor": "white",
             "linecolor": "white",
             "minorgridcolor": "white",
             "startlinecolor": "#2a3f5f"
            },
            "type": "carpet"
           }
          ],
          "choropleth": [
           {
            "colorbar": {
             "outlinewidth": 0,
             "ticks": ""
            },
            "type": "choropleth"
           }
          ],
          "contour": [
           {
            "colorbar": {
             "outlinewidth": 0,
             "ticks": ""
            },
            "colorscale": [
             [
              0,
              "#0d0887"
             ],
             [
              0.1111111111111111,
              "#46039f"
             ],
             [
              0.2222222222222222,
              "#7201a8"
             ],
             [
              0.3333333333333333,
              "#9c179e"
             ],
             [
              0.4444444444444444,
              "#bd3786"
             ],
             [
              0.5555555555555556,
              "#d8576b"
             ],
             [
              0.6666666666666666,
              "#ed7953"
             ],
             [
              0.7777777777777778,
              "#fb9f3a"
             ],
             [
              0.8888888888888888,
              "#fdca26"
             ],
             [
              1,
              "#f0f921"
             ]
            ],
            "type": "contour"
           }
          ],
          "contourcarpet": [
           {
            "colorbar": {
             "outlinewidth": 0,
             "ticks": ""
            },
            "type": "contourcarpet"
           }
          ],
          "heatmap": [
           {
            "colorbar": {
             "outlinewidth": 0,
             "ticks": ""
            },
            "colorscale": [
             [
              0,
              "#0d0887"
             ],
             [
              0.1111111111111111,
              "#46039f"
             ],
             [
              0.2222222222222222,
              "#7201a8"
             ],
             [
              0.3333333333333333,
              "#9c179e"
             ],
             [
              0.4444444444444444,
              "#bd3786"
             ],
             [
              0.5555555555555556,
              "#d8576b"
             ],
             [
              0.6666666666666666,
              "#ed7953"
             ],
             [
              0.7777777777777778,
              "#fb9f3a"
             ],
             [
              0.8888888888888888,
              "#fdca26"
             ],
             [
              1,
              "#f0f921"
             ]
            ],
            "type": "heatmap"
           }
          ],
          "heatmapgl": [
           {
            "colorbar": {
             "outlinewidth": 0,
             "ticks": ""
            },
            "colorscale": [
             [
              0,
              "#0d0887"
             ],
             [
              0.1111111111111111,
              "#46039f"
             ],
             [
              0.2222222222222222,
              "#7201a8"
             ],
             [
              0.3333333333333333,
              "#9c179e"
             ],
             [
              0.4444444444444444,
              "#bd3786"
             ],
             [
              0.5555555555555556,
              "#d8576b"
             ],
             [
              0.6666666666666666,
              "#ed7953"
             ],
             [
              0.7777777777777778,
              "#fb9f3a"
             ],
             [
              0.8888888888888888,
              "#fdca26"
             ],
             [
              1,
              "#f0f921"
             ]
            ],
            "type": "heatmapgl"
           }
          ],
          "histogram": [
           {
            "marker": {
             "pattern": {
              "fillmode": "overlay",
              "size": 10,
              "solidity": 0.2
             }
            },
            "type": "histogram"
           }
          ],
          "histogram2d": [
           {
            "colorbar": {
             "outlinewidth": 0,
             "ticks": ""
            },
            "colorscale": [
             [
              0,
              "#0d0887"
             ],
             [
              0.1111111111111111,
              "#46039f"
             ],
             [
              0.2222222222222222,
              "#7201a8"
             ],
             [
              0.3333333333333333,
              "#9c179e"
             ],
             [
              0.4444444444444444,
              "#bd3786"
             ],
             [
              0.5555555555555556,
              "#d8576b"
             ],
             [
              0.6666666666666666,
              "#ed7953"
             ],
             [
              0.7777777777777778,
              "#fb9f3a"
             ],
             [
              0.8888888888888888,
              "#fdca26"
             ],
             [
              1,
              "#f0f921"
             ]
            ],
            "type": "histogram2d"
           }
          ],
          "histogram2dcontour": [
           {
            "colorbar": {
             "outlinewidth": 0,
             "ticks": ""
            },
            "colorscale": [
             [
              0,
              "#0d0887"
             ],
             [
              0.1111111111111111,
              "#46039f"
             ],
             [
              0.2222222222222222,
              "#7201a8"
             ],
             [
              0.3333333333333333,
              "#9c179e"
             ],
             [
              0.4444444444444444,
              "#bd3786"
             ],
             [
              0.5555555555555556,
              "#d8576b"
             ],
             [
              0.6666666666666666,
              "#ed7953"
             ],
             [
              0.7777777777777778,
              "#fb9f3a"
             ],
             [
              0.8888888888888888,
              "#fdca26"
             ],
             [
              1,
              "#f0f921"
             ]
            ],
            "type": "histogram2dcontour"
           }
          ],
          "mesh3d": [
           {
            "colorbar": {
             "outlinewidth": 0,
             "ticks": ""
            },
            "type": "mesh3d"
           }
          ],
          "parcoords": [
           {
            "line": {
             "colorbar": {
              "outlinewidth": 0,
              "ticks": ""
             }
            },
            "type": "parcoords"
           }
          ],
          "pie": [
           {
            "automargin": true,
            "type": "pie"
           }
          ],
          "scatter": [
           {
            "marker": {
             "colorbar": {
              "outlinewidth": 0,
              "ticks": ""
             }
            },
            "type": "scatter"
           }
          ],
          "scatter3d": [
           {
            "line": {
             "colorbar": {
              "outlinewidth": 0,
              "ticks": ""
             }
            },
            "marker": {
             "colorbar": {
              "outlinewidth": 0,
              "ticks": ""
             }
            },
            "type": "scatter3d"
           }
          ],
          "scattercarpet": [
           {
            "marker": {
             "colorbar": {
              "outlinewidth": 0,
              "ticks": ""
             }
            },
            "type": "scattercarpet"
           }
          ],
          "scattergeo": [
           {
            "marker": {
             "colorbar": {
              "outlinewidth": 0,
              "ticks": ""
             }
            },
            "type": "scattergeo"
           }
          ],
          "scattergl": [
           {
            "marker": {
             "colorbar": {
              "outlinewidth": 0,
              "ticks": ""
             }
            },
            "type": "scattergl"
           }
          ],
          "scattermapbox": [
           {
            "marker": {
             "colorbar": {
              "outlinewidth": 0,
              "ticks": ""
             }
            },
            "type": "scattermapbox"
           }
          ],
          "scatterpolar": [
           {
            "marker": {
             "colorbar": {
              "outlinewidth": 0,
              "ticks": ""
             }
            },
            "type": "scatterpolar"
           }
          ],
          "scatterpolargl": [
           {
            "marker": {
             "colorbar": {
              "outlinewidth": 0,
              "ticks": ""
             }
            },
            "type": "scatterpolargl"
           }
          ],
          "scatterternary": [
           {
            "marker": {
             "colorbar": {
              "outlinewidth": 0,
              "ticks": ""
             }
            },
            "type": "scatterternary"
           }
          ],
          "surface": [
           {
            "colorbar": {
             "outlinewidth": 0,
             "ticks": ""
            },
            "colorscale": [
             [
              0,
              "#0d0887"
             ],
             [
              0.1111111111111111,
              "#46039f"
             ],
             [
              0.2222222222222222,
              "#7201a8"
             ],
             [
              0.3333333333333333,
              "#9c179e"
             ],
             [
              0.4444444444444444,
              "#bd3786"
             ],
             [
              0.5555555555555556,
              "#d8576b"
             ],
             [
              0.6666666666666666,
              "#ed7953"
             ],
             [
              0.7777777777777778,
              "#fb9f3a"
             ],
             [
              0.8888888888888888,
              "#fdca26"
             ],
             [
              1,
              "#f0f921"
             ]
            ],
            "type": "surface"
           }
          ],
          "table": [
           {
            "cells": {
             "fill": {
              "color": "#EBF0F8"
             },
             "line": {
              "color": "white"
             }
            },
            "header": {
             "fill": {
              "color": "#C8D4E3"
             },
             "line": {
              "color": "white"
             }
            },
            "type": "table"
           }
          ]
         },
         "layout": {
          "annotationdefaults": {
           "arrowcolor": "#2a3f5f",
           "arrowhead": 0,
           "arrowwidth": 1
          },
          "autotypenumbers": "strict",
          "coloraxis": {
           "colorbar": {
            "outlinewidth": 0,
            "ticks": ""
           }
          },
          "colorscale": {
           "diverging": [
            [
             0,
             "#8e0152"
            ],
            [
             0.1,
             "#c51b7d"
            ],
            [
             0.2,
             "#de77ae"
            ],
            [
             0.3,
             "#f1b6da"
            ],
            [
             0.4,
             "#fde0ef"
            ],
            [
             0.5,
             "#f7f7f7"
            ],
            [
             0.6,
             "#e6f5d0"
            ],
            [
             0.7,
             "#b8e186"
            ],
            [
             0.8,
             "#7fbc41"
            ],
            [
             0.9,
             "#4d9221"
            ],
            [
             1,
             "#276419"
            ]
           ],
           "sequential": [
            [
             0,
             "#0d0887"
            ],
            [
             0.1111111111111111,
             "#46039f"
            ],
            [
             0.2222222222222222,
             "#7201a8"
            ],
            [
             0.3333333333333333,
             "#9c179e"
            ],
            [
             0.4444444444444444,
             "#bd3786"
            ],
            [
             0.5555555555555556,
             "#d8576b"
            ],
            [
             0.6666666666666666,
             "#ed7953"
            ],
            [
             0.7777777777777778,
             "#fb9f3a"
            ],
            [
             0.8888888888888888,
             "#fdca26"
            ],
            [
             1,
             "#f0f921"
            ]
           ],
           "sequentialminus": [
            [
             0,
             "#0d0887"
            ],
            [
             0.1111111111111111,
             "#46039f"
            ],
            [
             0.2222222222222222,
             "#7201a8"
            ],
            [
             0.3333333333333333,
             "#9c179e"
            ],
            [
             0.4444444444444444,
             "#bd3786"
            ],
            [
             0.5555555555555556,
             "#d8576b"
            ],
            [
             0.6666666666666666,
             "#ed7953"
            ],
            [
             0.7777777777777778,
             "#fb9f3a"
            ],
            [
             0.8888888888888888,
             "#fdca26"
            ],
            [
             1,
             "#f0f921"
            ]
           ]
          },
          "colorway": [
           "#636efa",
           "#EF553B",
           "#00cc96",
           "#ab63fa",
           "#FFA15A",
           "#19d3f3",
           "#FF6692",
           "#B6E880",
           "#FF97FF",
           "#FECB52"
          ],
          "font": {
           "color": "#2a3f5f"
          },
          "geo": {
           "bgcolor": "white",
           "lakecolor": "white",
           "landcolor": "#E5ECF6",
           "showlakes": true,
           "showland": true,
           "subunitcolor": "white"
          },
          "hoverlabel": {
           "align": "left"
          },
          "hovermode": "closest",
          "mapbox": {
           "style": "light"
          },
          "paper_bgcolor": "white",
          "plot_bgcolor": "#E5ECF6",
          "polar": {
           "angularaxis": {
            "gridcolor": "white",
            "linecolor": "white",
            "ticks": ""
           },
           "bgcolor": "#E5ECF6",
           "radialaxis": {
            "gridcolor": "white",
            "linecolor": "white",
            "ticks": ""
           }
          },
          "scene": {
           "xaxis": {
            "backgroundcolor": "#E5ECF6",
            "gridcolor": "white",
            "gridwidth": 2,
            "linecolor": "white",
            "showbackground": true,
            "ticks": "",
            "zerolinecolor": "white"
           },
           "yaxis": {
            "backgroundcolor": "#E5ECF6",
            "gridcolor": "white",
            "gridwidth": 2,
            "linecolor": "white",
            "showbackground": true,
            "ticks": "",
            "zerolinecolor": "white"
           },
           "zaxis": {
            "backgroundcolor": "#E5ECF6",
            "gridcolor": "white",
            "gridwidth": 2,
            "linecolor": "white",
            "showbackground": true,
            "ticks": "",
            "zerolinecolor": "white"
           }
          },
          "shapedefaults": {
           "line": {
            "color": "#2a3f5f"
           }
          },
          "ternary": {
           "aaxis": {
            "gridcolor": "white",
            "linecolor": "white",
            "ticks": ""
           },
           "baxis": {
            "gridcolor": "white",
            "linecolor": "white",
            "ticks": ""
           },
           "bgcolor": "#E5ECF6",
           "caxis": {
            "gridcolor": "white",
            "linecolor": "white",
            "ticks": ""
           }
          },
          "title": {
           "x": 0.05
          },
          "xaxis": {
           "automargin": true,
           "gridcolor": "white",
           "linecolor": "white",
           "ticks": "",
           "title": {
            "standoff": 15
           },
           "zerolinecolor": "white",
           "zerolinewidth": 2
          },
          "yaxis": {
           "automargin": true,
           "gridcolor": "white",
           "linecolor": "white",
           "ticks": "",
           "title": {
            "standoff": 15
           },
           "zerolinecolor": "white",
           "zerolinewidth": 2
          }
         }
        },
        "title": {
         "text": "Quels sont les pays qui produisent le plus de films ?",
         "x": 0.5
        },
        "width": 800,
        "xaxis": {
         "anchor": "y",
         "categoryarray": [
          "FR",
          "JP",
          "DE",
          "ES",
          "IN",
          "IT",
          "PT",
          "US",
          "GB",
          "CA",
          "XWW",
          "AU",
          "BR",
          "MX"
         ],
         "categoryorder": "array",
         "domain": [
          0,
          1
         ],
         "title": {
          "text": "Pays"
         }
        },
        "yaxis": {
         "anchor": "x",
         "domain": [
          0,
          1
         ],
         "title": {
          "text": "Nombre de films"
         }
        }
       }
      }
     },
     "metadata": {},
     "output_type": "display_data"
    }
   ],
   "source": [
    "# Quels sont les pays qui produisent le plus de films ?\n",
    "# étape 1 : juste un value_counts sur les régions dans la Database akas en prenant le top 15\n",
    "movie_By_Region2 = akas_df[\"region\"].value_counts().reset_index().head(15)\n",
    "# je retire les régions \\N\n",
    "movie_By_Region3 = movie_By_Region2[movie_By_Region2['index'] != '\\\\N']\n",
    "\n",
    "fig = px.bar(movie_By_Region3, x=\"index\", y ='region', color = 'index',\n",
    "    title = 'Quels sont les pays qui produisent le plus de films ?',\n",
    "    labels = {'region': 'Nombre de films', 'index': 'Pays'},\n",
    "    width=800, height=600)\n",
    "\n",
    "fig.update_layout(showlegend=False, title_x=0.5)"
   ]
  },
  {
   "cell_type": "markdown",
   "metadata": {},
   "source": [
    "# <span style=\"color:orange\">Quels sont les acteurs les plus présents ?</span> "
   ]
  },
  {
   "cell_type": "code",
   "execution_count": null,
   "metadata": {},
   "outputs": [],
   "source": [
    "# Quels sont les acteurs les plus présents ?\n",
    "# étape 1 : nettoyage de la Database\n",
    "\n",
    "principals_df2 = principals_df[principals_df['category'].str.contains('actor|actress')]\n",
    "principals_df3 = principals_df2[principals_df2['characters'] != '\\\\N']\n",
    "principals_df4 = principals_df3[principals_df3['characters'] != 'Narrator']\n",
    "principals_df5 = principals_df4[principals_df4['characters'] != 'Various']\n",
    "principals_df6 = principals_df5[principals_df5['characters'] != 'Various Characters']\n",
    "principals_df7 = principals_df6[principals_df6['characters'] != 'Additional Voices']"
   ]
  },
  {
   "cell_type": "code",
   "execution_count": null,
   "metadata": {},
   "outputs": [],
   "source": [
    "# Quels sont les acteurs les plus présents ?\n",
    "# étape 2 : set index puis merge\n",
    "# set index on tconst for basics and principal table\n",
    "basics_df2 = basics_df.set_index('tconst')\n",
    "principals_df8 = principals_df7.set_index('tconst')\n",
    "# Merge de la table principals et basics afin de filtrer uniquement sur les movies et les shorts\n",
    "merge_basics_principals = pd.merge(basics_df2, principals_df8, how='inner', left_index=True, right_index=True)"
   ]
  },
  {
   "cell_type": "code",
   "execution_count": null,
   "metadata": {},
   "outputs": [],
   "source": [
    "# Quels sont les acteurs les plus présents ?\n",
    "# étape 3 : Nettoyage pour garder uniquement les titleType movie et short\n",
    "merge_basics_principals2 = merge_basics_principals[(merge_basics_principals['titleType'] == 'movie') | (merge_basics_principals['titleType'] == 'short')]"
   ]
  },
  {
   "cell_type": "code",
   "execution_count": null,
   "metadata": {},
   "outputs": [],
   "source": [
    "# Quels sont les acteurs les plus présents ?\n",
    "# étape 4 : set index puis merge\n",
    "# set index on nconst for Database name and Database merge_basics_principals2 to prepare a merge\n",
    "name_df2 = name_df.set_index('nconst')\n",
    "merge_basics_principals3 = merge_basics_principals2.set_index('nconst')\n",
    "# merge to link first name with nconst\n",
    "merge_basics_principals4 = pd.merge(name_df2, merge_basics_principals3, how='inner', left_index=True, right_index=True)"
   ]
  },
  {
   "cell_type": "code",
   "execution_count": null,
   "metadata": {},
   "outputs": [],
   "source": [
    "# Quels sont les acteurs les plus présents ?\n",
    "# étape 5 : Nettoyage pour retirer les oeuvres très courtes comme les cartoons de quelques minutes pour lesquelles les acteurs font seulement les voix\n",
    "merge_basics_principals5 = merge_basics_principals4[merge_basics_principals4['runtimeMinutes'] != '\\\\N']\n",
    "merge_basics_principals6 = merge_basics_principals5.astype({\"runtimeMinutes\": int})\n",
    "merge_basics_principals7 = merge_basics_principals6[merge_basics_principals6['runtimeMinutes'] > 20]"
   ]
  },
  {
   "cell_type": "code",
   "execution_count": null,
   "metadata": {},
   "outputs": [],
   "source": [
    "# Quels sont les acteurs les plus présents ?\n",
    "# étape 6 : Value_counts pour trouver les acteurs les plus présents\n",
    "merge_basics_principals8 = merge_basics_principals7['primaryName'].value_counts()\n",
    "merge_basics_principals9 = merge_basics_principals8.head(20)"
   ]
  },
  {
   "cell_type": "code",
   "execution_count": 26,
   "metadata": {},
   "outputs": [
    {
     "data": {
      "application/vnd.plotly.v1+json": {
       "config": {
        "plotlyServerURL": "https://plot.ly"
       },
       "data": [
        {
         "alignmentgroup": "True",
         "hovertemplate": "Acteurs=%{y}<br>Nombre de films=%{x}<extra></extra>",
         "legendgroup": "Mohanlal",
         "marker": {
          "color": "#636efa",
          "pattern": {
           "shape": ""
          }
         },
         "name": "Mohanlal",
         "offsetgroup": "Mohanlal",
         "orientation": "h",
         "showlegend": true,
         "textposition": "auto",
         "type": "bar",
         "x": [
          236
         ],
         "xaxis": "x",
         "y": [
          "Mohanlal"
         ],
         "yaxis": "y"
        },
        {
         "alignmentgroup": "True",
         "hovertemplate": "Acteurs=%{y}<br>Nombre de films=%{x}<extra></extra>",
         "legendgroup": "Eric Roberts",
         "marker": {
          "color": "#EF553B",
          "pattern": {
           "shape": ""
          }
         },
         "name": "Eric Roberts",
         "offsetgroup": "Eric Roberts",
         "orientation": "h",
         "showlegend": true,
         "textposition": "auto",
         "type": "bar",
         "x": [
          227
         ],
         "xaxis": "x",
         "y": [
          "Eric Roberts"
         ],
         "yaxis": "y"
        },
        {
         "alignmentgroup": "True",
         "hovertemplate": "Acteurs=%{y}<br>Nombre de films=%{x}<extra></extra>",
         "legendgroup": "Mammootty",
         "marker": {
          "color": "#00cc96",
          "pattern": {
           "shape": ""
          }
         },
         "name": "Mammootty",
         "offsetgroup": "Mammootty",
         "orientation": "h",
         "showlegend": true,
         "textposition": "auto",
         "type": "bar",
         "x": [
          224
         ],
         "xaxis": "x",
         "y": [
          "Mammootty"
         ],
         "yaxis": "y"
        },
        {
         "alignmentgroup": "True",
         "hovertemplate": "Acteurs=%{y}<br>Nombre de films=%{x}<extra></extra>",
         "legendgroup": "Cüneyt Arkin",
         "marker": {
          "color": "#ab63fa",
          "pattern": {
           "shape": ""
          }
         },
         "name": "Cüneyt Arkin",
         "offsetgroup": "Cüneyt Arkin",
         "orientation": "h",
         "showlegend": true,
         "textposition": "auto",
         "type": "bar",
         "x": [
          219
         ],
         "xaxis": "x",
         "y": [
          "Cüneyt Arkin"
         ],
         "yaxis": "y"
        },
        {
         "alignmentgroup": "True",
         "hovertemplate": "Acteurs=%{y}<br>Nombre de films=%{x}<extra></extra>",
         "legendgroup": "Raymond Hatton",
         "marker": {
          "color": "#FFA15A",
          "pattern": {
           "shape": ""
          }
         },
         "name": "Raymond Hatton",
         "offsetgroup": "Raymond Hatton",
         "orientation": "h",
         "showlegend": true,
         "textposition": "auto",
         "type": "bar",
         "x": [
          202
         ],
         "xaxis": "x",
         "y": [
          "Raymond Hatton"
         ],
         "yaxis": "y"
        },
        {
         "alignmentgroup": "True",
         "hovertemplate": "Acteurs=%{y}<br>Nombre de films=%{x}<extra></extra>",
         "legendgroup": "Mithun Chakraborty",
         "marker": {
          "color": "#19d3f3",
          "pattern": {
           "shape": ""
          }
         },
         "name": "Mithun Chakraborty",
         "offsetgroup": "Mithun Chakraborty",
         "orientation": "h",
         "showlegend": true,
         "textposition": "auto",
         "type": "bar",
         "x": [
          178
         ],
         "xaxis": "x",
         "y": [
          "Mithun Chakraborty"
         ],
         "yaxis": "y"
        },
        {
         "alignmentgroup": "True",
         "hovertemplate": "Acteurs=%{y}<br>Nombre de films=%{x}<extra></extra>",
         "legendgroup": "Seiji Nakamitsu",
         "marker": {
          "color": "#FF6692",
          "pattern": {
           "shape": ""
          }
         },
         "name": "Seiji Nakamitsu",
         "offsetgroup": "Seiji Nakamitsu",
         "orientation": "h",
         "showlegend": true,
         "textposition": "auto",
         "type": "bar",
         "x": [
          159
         ],
         "xaxis": "x",
         "y": [
          "Seiji Nakamitsu"
         ],
         "yaxis": "y"
        },
        {
         "alignmentgroup": "True",
         "hovertemplate": "Acteurs=%{y}<br>Nombre de films=%{x}<extra></extra>",
         "legendgroup": "Amitabh Bachchan",
         "marker": {
          "color": "#B6E880",
          "pattern": {
           "shape": ""
          }
         },
         "name": "Amitabh Bachchan",
         "offsetgroup": "Amitabh Bachchan",
         "orientation": "h",
         "showlegend": true,
         "textposition": "auto",
         "type": "bar",
         "x": [
          158
         ],
         "xaxis": "x",
         "y": [
          "Amitabh Bachchan"
         ],
         "yaxis": "y"
        },
        {
         "alignmentgroup": "True",
         "hovertemplate": "Acteurs=%{y}<br>Nombre de films=%{x}<extra></extra>",
         "legendgroup": "Charles Starrett",
         "marker": {
          "color": "#FF97FF",
          "pattern": {
           "shape": ""
          }
         },
         "name": "Charles Starrett",
         "offsetgroup": "Charles Starrett",
         "orientation": "h",
         "showlegend": true,
         "textposition": "auto",
         "type": "bar",
         "x": [
          157
         ],
         "xaxis": "x",
         "y": [
          "Charles Starrett"
         ],
         "yaxis": "y"
        },
        {
         "alignmentgroup": "True",
         "hovertemplate": "Acteurs=%{y}<br>Nombre de films=%{x}<extra></extra>",
         "legendgroup": "Dharmendra",
         "marker": {
          "color": "#FECB52",
          "pattern": {
           "shape": ""
          }
         },
         "name": "Dharmendra",
         "offsetgroup": "Dharmendra",
         "orientation": "h",
         "showlegend": true,
         "textposition": "auto",
         "type": "bar",
         "x": [
          150
         ],
         "xaxis": "x",
         "y": [
          "Dharmendra"
         ],
         "yaxis": "y"
        },
        {
         "alignmentgroup": "True",
         "hovertemplate": "Acteurs=%{y}<br>Nombre de films=%{x}<extra></extra>",
         "legendgroup": "Johnny Mack Brown",
         "marker": {
          "color": "#636efa",
          "pattern": {
           "shape": ""
          }
         },
         "name": "Johnny Mack Brown",
         "offsetgroup": "Johnny Mack Brown",
         "orientation": "h",
         "showlegend": true,
         "textposition": "auto",
         "type": "bar",
         "x": [
          150
         ],
         "xaxis": "x",
         "y": [
          "Johnny Mack Brown"
         ],
         "yaxis": "y"
        },
        {
         "alignmentgroup": "True",
         "hovertemplate": "Acteurs=%{y}<br>Nombre de films=%{x}<extra></extra>",
         "legendgroup": "Gérard Depardieu",
         "marker": {
          "color": "#EF553B",
          "pattern": {
           "shape": ""
          }
         },
         "name": "Gérard Depardieu",
         "offsetgroup": "Gérard Depardieu",
         "orientation": "h",
         "showlegend": true,
         "textposition": "auto",
         "type": "bar",
         "x": [
          148
         ],
         "xaxis": "x",
         "y": [
          "Gérard Depardieu"
         ],
         "yaxis": "y"
        },
        {
         "alignmentgroup": "True",
         "hovertemplate": "Acteurs=%{y}<br>Nombre de films=%{x}<extra></extra>",
         "legendgroup": "Jack Holt",
         "marker": {
          "color": "#00cc96",
          "pattern": {
           "shape": ""
          }
         },
         "name": "Jack Holt",
         "offsetgroup": "Jack Holt",
         "orientation": "h",
         "showlegend": true,
         "textposition": "auto",
         "type": "bar",
         "x": [
          146
         ],
         "xaxis": "x",
         "y": [
          "Jack Holt"
         ],
         "yaxis": "y"
        },
        {
         "alignmentgroup": "True",
         "hovertemplate": "Acteurs=%{y}<br>Nombre de films=%{x}<extra></extra>",
         "legendgroup": "Jamie Gillis",
         "marker": {
          "color": "#ab63fa",
          "pattern": {
           "shape": ""
          }
         },
         "name": "Jamie Gillis",
         "offsetgroup": "Jamie Gillis",
         "orientation": "h",
         "showlegend": true,
         "textposition": "auto",
         "type": "bar",
         "x": [
          145
         ],
         "xaxis": "x",
         "y": [
          "Jamie Gillis"
         ],
         "yaxis": "y"
        },
        {
         "alignmentgroup": "True",
         "hovertemplate": "Acteurs=%{y}<br>Nombre de films=%{x}<extra></extra>",
         "legendgroup": "Buck Jones",
         "marker": {
          "color": "#FFA15A",
          "pattern": {
           "shape": ""
          }
         },
         "name": "Buck Jones",
         "offsetgroup": "Buck Jones",
         "orientation": "h",
         "showlegend": true,
         "textposition": "auto",
         "type": "bar",
         "x": [
          143
         ],
         "xaxis": "x",
         "y": [
          "Buck Jones"
         ],
         "yaxis": "y"
        },
        {
         "alignmentgroup": "True",
         "hovertemplate": "Acteurs=%{y}<br>Nombre de films=%{x}<extra></extra>",
         "legendgroup": "Ashok Kumar",
         "marker": {
          "color": "#19d3f3",
          "pattern": {
           "shape": ""
          }
         },
         "name": "Ashok Kumar",
         "offsetgroup": "Ashok Kumar",
         "orientation": "h",
         "showlegend": true,
         "textposition": "auto",
         "type": "bar",
         "x": [
          142
         ],
         "xaxis": "x",
         "y": [
          "Ashok Kumar"
         ],
         "yaxis": "y"
        },
        {
         "alignmentgroup": "True",
         "hovertemplate": "Acteurs=%{y}<br>Nombre de films=%{x}<extra></extra>",
         "legendgroup": "Anupam Kher",
         "marker": {
          "color": "#FF6692",
          "pattern": {
           "shape": ""
          }
         },
         "name": "Anupam Kher",
         "offsetgroup": "Anupam Kher",
         "orientation": "h",
         "showlegend": true,
         "textposition": "auto",
         "type": "bar",
         "x": [
          141
         ],
         "xaxis": "x",
         "y": [
          "Anupam Kher"
         ],
         "yaxis": "y"
        },
        {
         "alignmentgroup": "True",
         "hovertemplate": "Acteurs=%{y}<br>Nombre de films=%{x}<extra></extra>",
         "legendgroup": "John Wayne",
         "marker": {
          "color": "#B6E880",
          "pattern": {
           "shape": ""
          }
         },
         "name": "John Wayne",
         "offsetgroup": "John Wayne",
         "orientation": "h",
         "showlegend": true,
         "textposition": "auto",
         "type": "bar",
         "x": [
          140
         ],
         "xaxis": "x",
         "y": [
          "John Wayne"
         ],
         "yaxis": "y"
        },
        {
         "alignmentgroup": "True",
         "hovertemplate": "Acteurs=%{y}<br>Nombre de films=%{x}<extra></extra>",
         "legendgroup": "Michael Madsen",
         "marker": {
          "color": "#FF97FF",
          "pattern": {
           "shape": ""
          }
         },
         "name": "Michael Madsen",
         "offsetgroup": "Michael Madsen",
         "orientation": "h",
         "showlegend": true,
         "textposition": "auto",
         "type": "bar",
         "x": [
          138
         ],
         "xaxis": "x",
         "y": [
          "Michael Madsen"
         ],
         "yaxis": "y"
        },
        {
         "alignmentgroup": "True",
         "hovertemplate": "Acteurs=%{y}<br>Nombre de films=%{x}<extra></extra>",
         "legendgroup": "Paul Hörbiger",
         "marker": {
          "color": "#FECB52",
          "pattern": {
           "shape": ""
          }
         },
         "name": "Paul Hörbiger",
         "offsetgroup": "Paul Hörbiger",
         "orientation": "h",
         "showlegend": true,
         "textposition": "auto",
         "type": "bar",
         "x": [
          131
         ],
         "xaxis": "x",
         "y": [
          "Paul Hörbiger"
         ],
         "yaxis": "y"
        }
       ],
       "layout": {
        "barmode": "relative",
        "height": 600,
        "legend": {
         "title": {
          "text": "Acteurs"
         },
         "tracegroupgap": 0
        },
        "showlegend": false,
        "template": {
         "data": {
          "bar": [
           {
            "error_x": {
             "color": "#2a3f5f"
            },
            "error_y": {
             "color": "#2a3f5f"
            },
            "marker": {
             "line": {
              "color": "#E5ECF6",
              "width": 0.5
             },
             "pattern": {
              "fillmode": "overlay",
              "size": 10,
              "solidity": 0.2
             }
            },
            "type": "bar"
           }
          ],
          "barpolar": [
           {
            "marker": {
             "line": {
              "color": "#E5ECF6",
              "width": 0.5
             },
             "pattern": {
              "fillmode": "overlay",
              "size": 10,
              "solidity": 0.2
             }
            },
            "type": "barpolar"
           }
          ],
          "carpet": [
           {
            "aaxis": {
             "endlinecolor": "#2a3f5f",
             "gridcolor": "white",
             "linecolor": "white",
             "minorgridcolor": "white",
             "startlinecolor": "#2a3f5f"
            },
            "baxis": {
             "endlinecolor": "#2a3f5f",
             "gridcolor": "white",
             "linecolor": "white",
             "minorgridcolor": "white",
             "startlinecolor": "#2a3f5f"
            },
            "type": "carpet"
           }
          ],
          "choropleth": [
           {
            "colorbar": {
             "outlinewidth": 0,
             "ticks": ""
            },
            "type": "choropleth"
           }
          ],
          "contour": [
           {
            "colorbar": {
             "outlinewidth": 0,
             "ticks": ""
            },
            "colorscale": [
             [
              0,
              "#0d0887"
             ],
             [
              0.1111111111111111,
              "#46039f"
             ],
             [
              0.2222222222222222,
              "#7201a8"
             ],
             [
              0.3333333333333333,
              "#9c179e"
             ],
             [
              0.4444444444444444,
              "#bd3786"
             ],
             [
              0.5555555555555556,
              "#d8576b"
             ],
             [
              0.6666666666666666,
              "#ed7953"
             ],
             [
              0.7777777777777778,
              "#fb9f3a"
             ],
             [
              0.8888888888888888,
              "#fdca26"
             ],
             [
              1,
              "#f0f921"
             ]
            ],
            "type": "contour"
           }
          ],
          "contourcarpet": [
           {
            "colorbar": {
             "outlinewidth": 0,
             "ticks": ""
            },
            "type": "contourcarpet"
           }
          ],
          "heatmap": [
           {
            "colorbar": {
             "outlinewidth": 0,
             "ticks": ""
            },
            "colorscale": [
             [
              0,
              "#0d0887"
             ],
             [
              0.1111111111111111,
              "#46039f"
             ],
             [
              0.2222222222222222,
              "#7201a8"
             ],
             [
              0.3333333333333333,
              "#9c179e"
             ],
             [
              0.4444444444444444,
              "#bd3786"
             ],
             [
              0.5555555555555556,
              "#d8576b"
             ],
             [
              0.6666666666666666,
              "#ed7953"
             ],
             [
              0.7777777777777778,
              "#fb9f3a"
             ],
             [
              0.8888888888888888,
              "#fdca26"
             ],
             [
              1,
              "#f0f921"
             ]
            ],
            "type": "heatmap"
           }
          ],
          "heatmapgl": [
           {
            "colorbar": {
             "outlinewidth": 0,
             "ticks": ""
            },
            "colorscale": [
             [
              0,
              "#0d0887"
             ],
             [
              0.1111111111111111,
              "#46039f"
             ],
             [
              0.2222222222222222,
              "#7201a8"
             ],
             [
              0.3333333333333333,
              "#9c179e"
             ],
             [
              0.4444444444444444,
              "#bd3786"
             ],
             [
              0.5555555555555556,
              "#d8576b"
             ],
             [
              0.6666666666666666,
              "#ed7953"
             ],
             [
              0.7777777777777778,
              "#fb9f3a"
             ],
             [
              0.8888888888888888,
              "#fdca26"
             ],
             [
              1,
              "#f0f921"
             ]
            ],
            "type": "heatmapgl"
           }
          ],
          "histogram": [
           {
            "marker": {
             "pattern": {
              "fillmode": "overlay",
              "size": 10,
              "solidity": 0.2
             }
            },
            "type": "histogram"
           }
          ],
          "histogram2d": [
           {
            "colorbar": {
             "outlinewidth": 0,
             "ticks": ""
            },
            "colorscale": [
             [
              0,
              "#0d0887"
             ],
             [
              0.1111111111111111,
              "#46039f"
             ],
             [
              0.2222222222222222,
              "#7201a8"
             ],
             [
              0.3333333333333333,
              "#9c179e"
             ],
             [
              0.4444444444444444,
              "#bd3786"
             ],
             [
              0.5555555555555556,
              "#d8576b"
             ],
             [
              0.6666666666666666,
              "#ed7953"
             ],
             [
              0.7777777777777778,
              "#fb9f3a"
             ],
             [
              0.8888888888888888,
              "#fdca26"
             ],
             [
              1,
              "#f0f921"
             ]
            ],
            "type": "histogram2d"
           }
          ],
          "histogram2dcontour": [
           {
            "colorbar": {
             "outlinewidth": 0,
             "ticks": ""
            },
            "colorscale": [
             [
              0,
              "#0d0887"
             ],
             [
              0.1111111111111111,
              "#46039f"
             ],
             [
              0.2222222222222222,
              "#7201a8"
             ],
             [
              0.3333333333333333,
              "#9c179e"
             ],
             [
              0.4444444444444444,
              "#bd3786"
             ],
             [
              0.5555555555555556,
              "#d8576b"
             ],
             [
              0.6666666666666666,
              "#ed7953"
             ],
             [
              0.7777777777777778,
              "#fb9f3a"
             ],
             [
              0.8888888888888888,
              "#fdca26"
             ],
             [
              1,
              "#f0f921"
             ]
            ],
            "type": "histogram2dcontour"
           }
          ],
          "mesh3d": [
           {
            "colorbar": {
             "outlinewidth": 0,
             "ticks": ""
            },
            "type": "mesh3d"
           }
          ],
          "parcoords": [
           {
            "line": {
             "colorbar": {
              "outlinewidth": 0,
              "ticks": ""
             }
            },
            "type": "parcoords"
           }
          ],
          "pie": [
           {
            "automargin": true,
            "type": "pie"
           }
          ],
          "scatter": [
           {
            "marker": {
             "colorbar": {
              "outlinewidth": 0,
              "ticks": ""
             }
            },
            "type": "scatter"
           }
          ],
          "scatter3d": [
           {
            "line": {
             "colorbar": {
              "outlinewidth": 0,
              "ticks": ""
             }
            },
            "marker": {
             "colorbar": {
              "outlinewidth": 0,
              "ticks": ""
             }
            },
            "type": "scatter3d"
           }
          ],
          "scattercarpet": [
           {
            "marker": {
             "colorbar": {
              "outlinewidth": 0,
              "ticks": ""
             }
            },
            "type": "scattercarpet"
           }
          ],
          "scattergeo": [
           {
            "marker": {
             "colorbar": {
              "outlinewidth": 0,
              "ticks": ""
             }
            },
            "type": "scattergeo"
           }
          ],
          "scattergl": [
           {
            "marker": {
             "colorbar": {
              "outlinewidth": 0,
              "ticks": ""
             }
            },
            "type": "scattergl"
           }
          ],
          "scattermapbox": [
           {
            "marker": {
             "colorbar": {
              "outlinewidth": 0,
              "ticks": ""
             }
            },
            "type": "scattermapbox"
           }
          ],
          "scatterpolar": [
           {
            "marker": {
             "colorbar": {
              "outlinewidth": 0,
              "ticks": ""
             }
            },
            "type": "scatterpolar"
           }
          ],
          "scatterpolargl": [
           {
            "marker": {
             "colorbar": {
              "outlinewidth": 0,
              "ticks": ""
             }
            },
            "type": "scatterpolargl"
           }
          ],
          "scatterternary": [
           {
            "marker": {
             "colorbar": {
              "outlinewidth": 0,
              "ticks": ""
             }
            },
            "type": "scatterternary"
           }
          ],
          "surface": [
           {
            "colorbar": {
             "outlinewidth": 0,
             "ticks": ""
            },
            "colorscale": [
             [
              0,
              "#0d0887"
             ],
             [
              0.1111111111111111,
              "#46039f"
             ],
             [
              0.2222222222222222,
              "#7201a8"
             ],
             [
              0.3333333333333333,
              "#9c179e"
             ],
             [
              0.4444444444444444,
              "#bd3786"
             ],
             [
              0.5555555555555556,
              "#d8576b"
             ],
             [
              0.6666666666666666,
              "#ed7953"
             ],
             [
              0.7777777777777778,
              "#fb9f3a"
             ],
             [
              0.8888888888888888,
              "#fdca26"
             ],
             [
              1,
              "#f0f921"
             ]
            ],
            "type": "surface"
           }
          ],
          "table": [
           {
            "cells": {
             "fill": {
              "color": "#EBF0F8"
             },
             "line": {
              "color": "white"
             }
            },
            "header": {
             "fill": {
              "color": "#C8D4E3"
             },
             "line": {
              "color": "white"
             }
            },
            "type": "table"
           }
          ]
         },
         "layout": {
          "annotationdefaults": {
           "arrowcolor": "#2a3f5f",
           "arrowhead": 0,
           "arrowwidth": 1
          },
          "autotypenumbers": "strict",
          "coloraxis": {
           "colorbar": {
            "outlinewidth": 0,
            "ticks": ""
           }
          },
          "colorscale": {
           "diverging": [
            [
             0,
             "#8e0152"
            ],
            [
             0.1,
             "#c51b7d"
            ],
            [
             0.2,
             "#de77ae"
            ],
            [
             0.3,
             "#f1b6da"
            ],
            [
             0.4,
             "#fde0ef"
            ],
            [
             0.5,
             "#f7f7f7"
            ],
            [
             0.6,
             "#e6f5d0"
            ],
            [
             0.7,
             "#b8e186"
            ],
            [
             0.8,
             "#7fbc41"
            ],
            [
             0.9,
             "#4d9221"
            ],
            [
             1,
             "#276419"
            ]
           ],
           "sequential": [
            [
             0,
             "#0d0887"
            ],
            [
             0.1111111111111111,
             "#46039f"
            ],
            [
             0.2222222222222222,
             "#7201a8"
            ],
            [
             0.3333333333333333,
             "#9c179e"
            ],
            [
             0.4444444444444444,
             "#bd3786"
            ],
            [
             0.5555555555555556,
             "#d8576b"
            ],
            [
             0.6666666666666666,
             "#ed7953"
            ],
            [
             0.7777777777777778,
             "#fb9f3a"
            ],
            [
             0.8888888888888888,
             "#fdca26"
            ],
            [
             1,
             "#f0f921"
            ]
           ],
           "sequentialminus": [
            [
             0,
             "#0d0887"
            ],
            [
             0.1111111111111111,
             "#46039f"
            ],
            [
             0.2222222222222222,
             "#7201a8"
            ],
            [
             0.3333333333333333,
             "#9c179e"
            ],
            [
             0.4444444444444444,
             "#bd3786"
            ],
            [
             0.5555555555555556,
             "#d8576b"
            ],
            [
             0.6666666666666666,
             "#ed7953"
            ],
            [
             0.7777777777777778,
             "#fb9f3a"
            ],
            [
             0.8888888888888888,
             "#fdca26"
            ],
            [
             1,
             "#f0f921"
            ]
           ]
          },
          "colorway": [
           "#636efa",
           "#EF553B",
           "#00cc96",
           "#ab63fa",
           "#FFA15A",
           "#19d3f3",
           "#FF6692",
           "#B6E880",
           "#FF97FF",
           "#FECB52"
          ],
          "font": {
           "color": "#2a3f5f"
          },
          "geo": {
           "bgcolor": "white",
           "lakecolor": "white",
           "landcolor": "#E5ECF6",
           "showlakes": true,
           "showland": true,
           "subunitcolor": "white"
          },
          "hoverlabel": {
           "align": "left"
          },
          "hovermode": "closest",
          "mapbox": {
           "style": "light"
          },
          "paper_bgcolor": "white",
          "plot_bgcolor": "#E5ECF6",
          "polar": {
           "angularaxis": {
            "gridcolor": "white",
            "linecolor": "white",
            "ticks": ""
           },
           "bgcolor": "#E5ECF6",
           "radialaxis": {
            "gridcolor": "white",
            "linecolor": "white",
            "ticks": ""
           }
          },
          "scene": {
           "xaxis": {
            "backgroundcolor": "#E5ECF6",
            "gridcolor": "white",
            "gridwidth": 2,
            "linecolor": "white",
            "showbackground": true,
            "ticks": "",
            "zerolinecolor": "white"
           },
           "yaxis": {
            "backgroundcolor": "#E5ECF6",
            "gridcolor": "white",
            "gridwidth": 2,
            "linecolor": "white",
            "showbackground": true,
            "ticks": "",
            "zerolinecolor": "white"
           },
           "zaxis": {
            "backgroundcolor": "#E5ECF6",
            "gridcolor": "white",
            "gridwidth": 2,
            "linecolor": "white",
            "showbackground": true,
            "ticks": "",
            "zerolinecolor": "white"
           }
          },
          "shapedefaults": {
           "line": {
            "color": "#2a3f5f"
           }
          },
          "ternary": {
           "aaxis": {
            "gridcolor": "white",
            "linecolor": "white",
            "ticks": ""
           },
           "baxis": {
            "gridcolor": "white",
            "linecolor": "white",
            "ticks": ""
           },
           "bgcolor": "#E5ECF6",
           "caxis": {
            "gridcolor": "white",
            "linecolor": "white",
            "ticks": ""
           }
          },
          "title": {
           "x": 0.05
          },
          "xaxis": {
           "automargin": true,
           "gridcolor": "white",
           "linecolor": "white",
           "ticks": "",
           "title": {
            "standoff": 15
           },
           "zerolinecolor": "white",
           "zerolinewidth": 2
          },
          "yaxis": {
           "automargin": true,
           "gridcolor": "white",
           "linecolor": "white",
           "ticks": "",
           "title": {
            "standoff": 15
           },
           "zerolinecolor": "white",
           "zerolinewidth": 2
          }
         }
        },
        "title": {
         "text": "Quels sont les acteurs les plus présents ?",
         "x": 0.5
        },
        "width": 800,
        "xaxis": {
         "anchor": "y",
         "domain": [
          0,
          1
         ],
         "title": {
          "text": "Nombre de films"
         }
        },
        "yaxis": {
         "anchor": "x",
         "categoryarray": [
          "Paul Hörbiger",
          "Michael Madsen",
          "John Wayne",
          "Anupam Kher",
          "Ashok Kumar",
          "Buck Jones",
          "Jamie Gillis",
          "Jack Holt",
          "Gérard Depardieu",
          "Johnny Mack Brown",
          "Dharmendra",
          "Charles Starrett",
          "Amitabh Bachchan",
          "Seiji Nakamitsu",
          "Mithun Chakraborty",
          "Raymond Hatton",
          "Cüneyt Arkin",
          "Mammootty",
          "Eric Roberts",
          "Mohanlal"
         ],
         "categoryorder": "array",
         "domain": [
          0,
          1
         ],
         "title": {
          "text": "Acteurs"
         }
        }
       }
      }
     },
     "metadata": {},
     "output_type": "display_data"
    }
   ],
   "source": [
    "# Quels sont les acteurs les plus présents ?\n",
    "# étape 7 : visualisation\n",
    "fig = px.bar(merge_basics_principals9.reset_index(), x=\"primaryName\", y ='index', color = 'index',\n",
    "    title = 'Quels sont les acteurs les plus présents ?',\n",
    "    labels = {'primaryName': 'Nombre de films', 'index': 'Acteurs'},\n",
    "    width=800, height=600)\n",
    "\n",
    "fig.update_layout(showlegend=False, title_x=0.5)"
   ]
  },
  {
   "cell_type": "markdown",
   "metadata": {},
   "source": [
    "# <span style=\"color:orange\">Quels sont les acteurs les plus présents ? A quelle période ?</span> "
   ]
  },
  {
   "cell_type": "code",
   "execution_count": 33,
   "metadata": {},
   "outputs": [],
   "source": [
    "# Quels sont les acteurs les plus présents ? A quelle période ?\n",
    "# étape 1 : Nettoyage de la base de données pour retirer les titres qui n'ont pas de startYear\n",
    "merge_basics_principals8 = merge_basics_principals7[merge_basics_principals7['startYear'] != \"\\\\N\"]"
   ]
  },
  {
   "cell_type": "code",
   "execution_count": 34,
   "metadata": {},
   "outputs": [
    {
     "data": {
      "text/html": [
       "<div>\n",
       "<style scoped>\n",
       "    .dataframe tbody tr th:only-of-type {\n",
       "        vertical-align: middle;\n",
       "    }\n",
       "\n",
       "    .dataframe tbody tr th {\n",
       "        vertical-align: top;\n",
       "    }\n",
       "\n",
       "    .dataframe thead th {\n",
       "        text-align: right;\n",
       "    }\n",
       "</style>\n",
       "<table border=\"1\" class=\"dataframe\">\n",
       "  <thead>\n",
       "    <tr style=\"text-align: right;\">\n",
       "      <th></th>\n",
       "      <th>primaryName</th>\n",
       "      <th>birthYear</th>\n",
       "      <th>deathYear</th>\n",
       "      <th>primaryProfession</th>\n",
       "      <th>knownForTitles</th>\n",
       "      <th>titleType</th>\n",
       "      <th>primaryTitle</th>\n",
       "      <th>originalTitle</th>\n",
       "      <th>isAdult</th>\n",
       "      <th>startYear</th>\n",
       "      <th>endYear</th>\n",
       "      <th>runtimeMinutes</th>\n",
       "      <th>genres</th>\n",
       "      <th>ordering</th>\n",
       "      <th>category</th>\n",
       "      <th>job</th>\n",
       "      <th>characters</th>\n",
       "    </tr>\n",
       "    <tr>\n",
       "      <th>nconst</th>\n",
       "      <th></th>\n",
       "      <th></th>\n",
       "      <th></th>\n",
       "      <th></th>\n",
       "      <th></th>\n",
       "      <th></th>\n",
       "      <th></th>\n",
       "      <th></th>\n",
       "      <th></th>\n",
       "      <th></th>\n",
       "      <th></th>\n",
       "      <th></th>\n",
       "      <th></th>\n",
       "      <th></th>\n",
       "      <th></th>\n",
       "      <th></th>\n",
       "      <th></th>\n",
       "    </tr>\n",
       "  </thead>\n",
       "  <tbody>\n",
       "    <tr>\n",
       "      <th>nm0000001</th>\n",
       "      <td>Fred Astaire</td>\n",
       "      <td>1899</td>\n",
       "      <td>1987</td>\n",
       "      <td>soundtrack,actor,miscellaneous</td>\n",
       "      <td>tt0031983,tt0050419,tt0072308,tt0053137</td>\n",
       "      <td>movie</td>\n",
       "      <td>The Gay Divorcee</td>\n",
       "      <td>The Gay Divorcee</td>\n",
       "      <td>0</td>\n",
       "      <td>1934</td>\n",
       "      <td>\\N</td>\n",
       "      <td>107</td>\n",
       "      <td>Comedy,Musical,Romance</td>\n",
       "      <td>1</td>\n",
       "      <td>actor</td>\n",
       "      <td>\\N</td>\n",
       "      <td>[\"Guy Holden\"]</td>\n",
       "    </tr>\n",
       "    <tr>\n",
       "      <th>nm0000001</th>\n",
       "      <td>Fred Astaire</td>\n",
       "      <td>1899</td>\n",
       "      <td>1987</td>\n",
       "      <td>soundtrack,actor,miscellaneous</td>\n",
       "      <td>tt0031983,tt0050419,tt0072308,tt0053137</td>\n",
       "      <td>movie</td>\n",
       "      <td>Roberta</td>\n",
       "      <td>Roberta</td>\n",
       "      <td>0</td>\n",
       "      <td>1935</td>\n",
       "      <td>\\N</td>\n",
       "      <td>106</td>\n",
       "      <td>Comedy,Musical,Romance</td>\n",
       "      <td>2</td>\n",
       "      <td>actor</td>\n",
       "      <td>\\N</td>\n",
       "      <td>[\"Huck Haines\"]</td>\n",
       "    </tr>\n",
       "    <tr>\n",
       "      <th>nm0000001</th>\n",
       "      <td>Fred Astaire</td>\n",
       "      <td>1899</td>\n",
       "      <td>1987</td>\n",
       "      <td>soundtrack,actor,miscellaneous</td>\n",
       "      <td>tt0031983,tt0050419,tt0072308,tt0053137</td>\n",
       "      <td>movie</td>\n",
       "      <td>Top Hat</td>\n",
       "      <td>Top Hat</td>\n",
       "      <td>0</td>\n",
       "      <td>1935</td>\n",
       "      <td>\\N</td>\n",
       "      <td>101</td>\n",
       "      <td>Comedy,Musical,Romance</td>\n",
       "      <td>1</td>\n",
       "      <td>actor</td>\n",
       "      <td>\\N</td>\n",
       "      <td>[\"Jerry Travers\"]</td>\n",
       "    </tr>\n",
       "    <tr>\n",
       "      <th>nm0000001</th>\n",
       "      <td>Fred Astaire</td>\n",
       "      <td>1899</td>\n",
       "      <td>1987</td>\n",
       "      <td>soundtrack,actor,miscellaneous</td>\n",
       "      <td>tt0031983,tt0050419,tt0072308,tt0053137</td>\n",
       "      <td>movie</td>\n",
       "      <td>Follow the Fleet</td>\n",
       "      <td>Follow the Fleet</td>\n",
       "      <td>0</td>\n",
       "      <td>1936</td>\n",
       "      <td>\\N</td>\n",
       "      <td>110</td>\n",
       "      <td>Comedy,Musical,Romance</td>\n",
       "      <td>1</td>\n",
       "      <td>actor</td>\n",
       "      <td>\\N</td>\n",
       "      <td>[\"Bake Baker\"]</td>\n",
       "    </tr>\n",
       "    <tr>\n",
       "      <th>nm0000001</th>\n",
       "      <td>Fred Astaire</td>\n",
       "      <td>1899</td>\n",
       "      <td>1987</td>\n",
       "      <td>soundtrack,actor,miscellaneous</td>\n",
       "      <td>tt0031983,tt0050419,tt0072308,tt0053137</td>\n",
       "      <td>movie</td>\n",
       "      <td>Swing Time</td>\n",
       "      <td>Swing Time</td>\n",
       "      <td>0</td>\n",
       "      <td>1936</td>\n",
       "      <td>\\N</td>\n",
       "      <td>103</td>\n",
       "      <td>Comedy,Musical,Romance</td>\n",
       "      <td>1</td>\n",
       "      <td>actor</td>\n",
       "      <td>\\N</td>\n",
       "      <td>[\"Lucky Garnett\"]</td>\n",
       "    </tr>\n",
       "    <tr>\n",
       "      <th>...</th>\n",
       "      <td>...</td>\n",
       "      <td>...</td>\n",
       "      <td>...</td>\n",
       "      <td>...</td>\n",
       "      <td>...</td>\n",
       "      <td>...</td>\n",
       "      <td>...</td>\n",
       "      <td>...</td>\n",
       "      <td>...</td>\n",
       "      <td>...</td>\n",
       "      <td>...</td>\n",
       "      <td>...</td>\n",
       "      <td>...</td>\n",
       "      <td>...</td>\n",
       "      <td>...</td>\n",
       "      <td>...</td>\n",
       "      <td>...</td>\n",
       "    </tr>\n",
       "    <tr>\n",
       "      <th>nm9993616</th>\n",
       "      <td>Ryan Mac Lennan</td>\n",
       "      <td>\\N</td>\n",
       "      <td>\\N</td>\n",
       "      <td>actor</td>\n",
       "      <td>tt4844148</td>\n",
       "      <td>movie</td>\n",
       "      <td>Mia and the White Lion</td>\n",
       "      <td>Mia et le lion blanc</td>\n",
       "      <td>0</td>\n",
       "      <td>2018</td>\n",
       "      <td>\\N</td>\n",
       "      <td>98</td>\n",
       "      <td>Adventure,Drama,Family</td>\n",
       "      <td>4</td>\n",
       "      <td>actor</td>\n",
       "      <td>\\N</td>\n",
       "      <td>[\"Mick Owen\"]</td>\n",
       "    </tr>\n",
       "    <tr>\n",
       "      <th>nm9993636</th>\n",
       "      <td>Adam French</td>\n",
       "      <td>\\N</td>\n",
       "      <td>\\N</td>\n",
       "      <td>actor</td>\n",
       "      <td>tt10842376,tt9532986,tt8983162,tt10402496</td>\n",
       "      <td>movie</td>\n",
       "      <td>Homeless But Happy</td>\n",
       "      <td>Homeless But Happy</td>\n",
       "      <td>0</td>\n",
       "      <td>2020</td>\n",
       "      <td>\\N</td>\n",
       "      <td>90</td>\n",
       "      <td>Documentary,Drama</td>\n",
       "      <td>3</td>\n",
       "      <td>actor</td>\n",
       "      <td>\\N</td>\n",
       "      <td>[\"Bobby\"]</td>\n",
       "    </tr>\n",
       "    <tr>\n",
       "      <th>nm9993650</th>\n",
       "      <td>Marcin Balcerak</td>\n",
       "      <td>\\N</td>\n",
       "      <td>\\N</td>\n",
       "      <td>actor</td>\n",
       "      <td>tt8739208</td>\n",
       "      <td>movie</td>\n",
       "      <td>Autsajder</td>\n",
       "      <td>Autsajder</td>\n",
       "      <td>0</td>\n",
       "      <td>2018</td>\n",
       "      <td>\\N</td>\n",
       "      <td>93</td>\n",
       "      <td>Drama</td>\n",
       "      <td>4</td>\n",
       "      <td>actor</td>\n",
       "      <td>\\N</td>\n",
       "      <td>[\"Guardian\"]</td>\n",
       "    </tr>\n",
       "    <tr>\n",
       "      <th>nm9993693</th>\n",
       "      <td>Apsara Rani</td>\n",
       "      <td>\\N</td>\n",
       "      <td>\\N</td>\n",
       "      <td>actress</td>\n",
       "      <td>tt13847502,tt8302382,tt8737752,tt12856788</td>\n",
       "      <td>movie</td>\n",
       "      <td>4 Letters</td>\n",
       "      <td>4 Letters</td>\n",
       "      <td>0</td>\n",
       "      <td>2019</td>\n",
       "      <td>\\N</td>\n",
       "      <td>121</td>\n",
       "      <td>Comedy,Drama,Romance</td>\n",
       "      <td>2</td>\n",
       "      <td>actress</td>\n",
       "      <td>\\N</td>\n",
       "      <td>[\"Anupama\"]</td>\n",
       "    </tr>\n",
       "    <tr>\n",
       "      <th>nm9993694</th>\n",
       "      <td>Chinmay Mishra</td>\n",
       "      <td>\\N</td>\n",
       "      <td>\\N</td>\n",
       "      <td>actor</td>\n",
       "      <td>tt8737752</td>\n",
       "      <td>short</td>\n",
       "      <td>Adha Lekha Chithi</td>\n",
       "      <td>Adha Lekha Chithi</td>\n",
       "      <td>0</td>\n",
       "      <td>2018</td>\n",
       "      <td>\\N</td>\n",
       "      <td>24</td>\n",
       "      <td>Crime,Drama,Horror</td>\n",
       "      <td>1</td>\n",
       "      <td>actor</td>\n",
       "      <td>\\N</td>\n",
       "      <td>[\"Biraj\"]</td>\n",
       "    </tr>\n",
       "  </tbody>\n",
       "</table>\n",
       "<p>1169853 rows × 17 columns</p>\n",
       "</div>"
      ],
      "text/plain": [
       "               primaryName birthYear deathYear  \\\n",
       "nconst                                           \n",
       "nm0000001     Fred Astaire      1899      1987   \n",
       "nm0000001     Fred Astaire      1899      1987   \n",
       "nm0000001     Fred Astaire      1899      1987   \n",
       "nm0000001     Fred Astaire      1899      1987   \n",
       "nm0000001     Fred Astaire      1899      1987   \n",
       "...                    ...       ...       ...   \n",
       "nm9993616  Ryan Mac Lennan        \\N        \\N   \n",
       "nm9993636      Adam French        \\N        \\N   \n",
       "nm9993650  Marcin Balcerak        \\N        \\N   \n",
       "nm9993693      Apsara Rani        \\N        \\N   \n",
       "nm9993694   Chinmay Mishra        \\N        \\N   \n",
       "\n",
       "                        primaryProfession  \\\n",
       "nconst                                      \n",
       "nm0000001  soundtrack,actor,miscellaneous   \n",
       "nm0000001  soundtrack,actor,miscellaneous   \n",
       "nm0000001  soundtrack,actor,miscellaneous   \n",
       "nm0000001  soundtrack,actor,miscellaneous   \n",
       "nm0000001  soundtrack,actor,miscellaneous   \n",
       "...                                   ...   \n",
       "nm9993616                           actor   \n",
       "nm9993636                           actor   \n",
       "nm9993650                           actor   \n",
       "nm9993693                         actress   \n",
       "nm9993694                           actor   \n",
       "\n",
       "                                      knownForTitles titleType  \\\n",
       "nconst                                                           \n",
       "nm0000001    tt0031983,tt0050419,tt0072308,tt0053137     movie   \n",
       "nm0000001    tt0031983,tt0050419,tt0072308,tt0053137     movie   \n",
       "nm0000001    tt0031983,tt0050419,tt0072308,tt0053137     movie   \n",
       "nm0000001    tt0031983,tt0050419,tt0072308,tt0053137     movie   \n",
       "nm0000001    tt0031983,tt0050419,tt0072308,tt0053137     movie   \n",
       "...                                              ...       ...   \n",
       "nm9993616                                  tt4844148     movie   \n",
       "nm9993636  tt10842376,tt9532986,tt8983162,tt10402496     movie   \n",
       "nm9993650                                  tt8739208     movie   \n",
       "nm9993693  tt13847502,tt8302382,tt8737752,tt12856788     movie   \n",
       "nm9993694                                  tt8737752     short   \n",
       "\n",
       "                     primaryTitle         originalTitle isAdult startYear  \\\n",
       "nconst                                                                      \n",
       "nm0000001        The Gay Divorcee      The Gay Divorcee       0      1934   \n",
       "nm0000001                 Roberta               Roberta       0      1935   \n",
       "nm0000001                 Top Hat               Top Hat       0      1935   \n",
       "nm0000001        Follow the Fleet      Follow the Fleet       0      1936   \n",
       "nm0000001              Swing Time            Swing Time       0      1936   \n",
       "...                           ...                   ...     ...       ...   \n",
       "nm9993616  Mia and the White Lion  Mia et le lion blanc       0      2018   \n",
       "nm9993636      Homeless But Happy    Homeless But Happy       0      2020   \n",
       "nm9993650               Autsajder             Autsajder       0      2018   \n",
       "nm9993693               4 Letters             4 Letters       0      2019   \n",
       "nm9993694       Adha Lekha Chithi     Adha Lekha Chithi       0      2018   \n",
       "\n",
       "          endYear  runtimeMinutes                  genres  ordering category  \\\n",
       "nconst                                                                         \n",
       "nm0000001      \\N             107  Comedy,Musical,Romance         1    actor   \n",
       "nm0000001      \\N             106  Comedy,Musical,Romance         2    actor   \n",
       "nm0000001      \\N             101  Comedy,Musical,Romance         1    actor   \n",
       "nm0000001      \\N             110  Comedy,Musical,Romance         1    actor   \n",
       "nm0000001      \\N             103  Comedy,Musical,Romance         1    actor   \n",
       "...           ...             ...                     ...       ...      ...   \n",
       "nm9993616      \\N              98  Adventure,Drama,Family         4    actor   \n",
       "nm9993636      \\N              90       Documentary,Drama         3    actor   \n",
       "nm9993650      \\N              93                   Drama         4    actor   \n",
       "nm9993693      \\N             121    Comedy,Drama,Romance         2  actress   \n",
       "nm9993694      \\N              24      Crime,Drama,Horror         1    actor   \n",
       "\n",
       "          job         characters  \n",
       "nconst                            \n",
       "nm0000001  \\N     [\"Guy Holden\"]  \n",
       "nm0000001  \\N    [\"Huck Haines\"]  \n",
       "nm0000001  \\N  [\"Jerry Travers\"]  \n",
       "nm0000001  \\N     [\"Bake Baker\"]  \n",
       "nm0000001  \\N  [\"Lucky Garnett\"]  \n",
       "...        ..                ...  \n",
       "nm9993616  \\N      [\"Mick Owen\"]  \n",
       "nm9993636  \\N          [\"Bobby\"]  \n",
       "nm9993650  \\N       [\"Guardian\"]  \n",
       "nm9993693  \\N        [\"Anupama\"]  \n",
       "nm9993694  \\N          [\"Biraj\"]  \n",
       "\n",
       "[1169853 rows x 17 columns]"
      ]
     },
     "execution_count": 34,
     "metadata": {},
     "output_type": "execute_result"
    }
   ],
   "source": [
    "# Quels sont les acteurs les plus présents ? A quelle période ?\n",
    "# étape 1 : Nettoyage de la base de données pour retirer les titres qui n'ont pas de startYear\n",
    "merge_basics_principals8"
   ]
  },
  {
   "cell_type": "code",
   "execution_count": 1,
   "metadata": {},
   "outputs": [],
   "source": [
    "#quelques tests\n",
    "\n",
    "#name_df6.loc[name_df6['primaryName'] == \"Nikita\"]\n",
    "\n",
    "#name_df6.loc[name_df6['primaryName'] == \"Brad Pitt\"]\n",
    "\n",
    "#principals_df.loc[(principals_df['nconst'] == \"nm0000093\") & (principals_df['category'] == \"actor\")]\n",
    "\n",
    "#principals_df[principals_df['category'].str.contains('actor|actress')]\n",
    "#principals_df['nconst'].value_counts()\n",
    "\n",
    "#name_df.loc[name_df['nconst'] == \"nm10120013\"]\n",
    "\n",
    "#principals_df2 = principals_df[principals_df['category'].str.contains('actor|actress')]\n",
    "\n",
    "#principals_df2['nconst'].value_counts()\n",
    "\n",
    "#principals_df.loc[principals_df['nconst'] == \"nm0000093\"]\n",
    "\n",
    "# name_df6['numberOfKnownForTitles'] = name_df6['knownForTitles'].str.count(\"tt\")\n",
    "# name_df6.sort_values(by=['numberOfKnownForTitles'], ascending=False).head(15)\n",
    "\n",
    "# name_df2 = name_df.dropna(axis=0)\n",
    "# name_df3 = name_df2[name_df2['primaryProfession'] != '\\\\N']\n",
    "# name_df4 = name_df3[name_df3['birthYear'] != '\\\\N']\n",
    "# name_df5 = name_df4[name_df4['knownForTitles'] != '\\\\N']\n",
    "# name_df6 = name_df5[name_df5['primaryProfession'].str.contains('actor|actress')]\n",
    "\n",
    "#akas_df2 = akas_df[(akas_df['region'] == 'FR') & (akas_df['title'] == 'Star Wars : Épisode VII - Le Réveil de la Force')]\n",
    "#akas_df2 = akas_df[akas_df['region'] == 'FR']\n",
    "#akas_df2 = akas_df[(akas_df['title'] == 'Mr. & Mrs. Smith') & (akas_df['region'] == 'FR')]\n",
    "#akas_df2 = akas_df[akas_df['titleId'] == 'tt0000001']\n",
    "#akas_df2 = akas_df[akas_df['title'] == 'Mr. & Mrs. Smith']"
   ]
  }
 ],
 "metadata": {
  "interpreter": {
   "hash": "78b7e305d27bf9bc60ca6e97d3f20268b064d9f5fcf2d23d574a1486a0310c34"
  },
  "kernelspec": {
   "display_name": "Python 3.8.12 64-bit ('base': conda)",
   "name": "python3"
  },
  "language_info": {
   "codemirror_mode": {
    "name": "ipython",
    "version": 3
   },
   "file_extension": ".py",
   "mimetype": "text/x-python",
   "name": "python",
   "nbconvert_exporter": "python",
   "pygments_lexer": "ipython3",
   "version": "3.8.12"
  },
  "orig_nbformat": 4
 },
 "nbformat": 4,
 "nbformat_minor": 2
}
