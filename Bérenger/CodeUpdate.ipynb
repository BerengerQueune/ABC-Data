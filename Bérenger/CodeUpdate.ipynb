{
 "cells": [
  {
   "cell_type": "code",
   "execution_count": 2,
   "metadata": {},
   "outputs": [],
   "source": [
    "import numpy as np\n",
    "import pandas as pd\n",
    "import matplotlib.pyplot as plt\n",
    "import datetime as dt\n",
    "from scipy import stats\n",
    "import chart_studio.plotly as py\n",
    "import plotly.express as px\n",
    "import cufflinks as cf\n",
    "import plotly.graph_objects as go\n",
    "import seaborn as sns\n",
    "import ipywidgets as widgets"
   ]
  },
  {
   "cell_type": "code",
   "execution_count": 71,
   "metadata": {},
   "outputs": [
    {
     "data": {
      "text/html": [
       "<div>\n",
       "<style scoped>\n",
       "    .dataframe tbody tr th:only-of-type {\n",
       "        vertical-align: middle;\n",
       "    }\n",
       "\n",
       "    .dataframe tbody tr th {\n",
       "        vertical-align: top;\n",
       "    }\n",
       "\n",
       "    .dataframe thead th {\n",
       "        text-align: right;\n",
       "    }\n",
       "</style>\n",
       "<table border=\"1\" class=\"dataframe\">\n",
       "  <thead>\n",
       "    <tr style=\"text-align: right;\">\n",
       "      <th></th>\n",
       "      <th>nconst</th>\n",
       "      <th>primaryName</th>\n",
       "      <th>birthYear</th>\n",
       "      <th>deathYear</th>\n",
       "      <th>primaryProfession</th>\n",
       "      <th>knownForTitles</th>\n",
       "    </tr>\n",
       "  </thead>\n",
       "  <tbody>\n",
       "    <tr>\n",
       "      <th>0</th>\n",
       "      <td>nm0000001</td>\n",
       "      <td>Fred Astaire</td>\n",
       "      <td>1899</td>\n",
       "      <td>1987</td>\n",
       "      <td>soundtrack,actor,miscellaneous</td>\n",
       "      <td>tt0053137,tt0031983,tt0050419,tt0072308</td>\n",
       "    </tr>\n",
       "  </tbody>\n",
       "</table>\n",
       "</div>"
      ],
      "text/plain": [
       "      nconst   primaryName birthYear deathYear  \\\n",
       "0  nm0000001  Fred Astaire      1899      1987   \n",
       "\n",
       "                primaryProfession                           knownForTitles  \n",
       "0  soundtrack,actor,miscellaneous  tt0053137,tt0031983,tt0050419,tt0072308  "
      ]
     },
     "execution_count": 71,
     "metadata": {},
     "output_type": "execute_result"
    }
   ],
   "source": [
    "name_df = pd.read_csv(\"https://datasets.imdbws.com/name.basics.tsv.gz\", sep=\"\\t\")\n",
    "name_df.head(1)"
   ]
  },
  {
   "cell_type": "code",
   "execution_count": 6,
   "metadata": {},
   "outputs": [
    {
     "data": {
      "text/html": [
       "<div>\n",
       "<style scoped>\n",
       "    .dataframe tbody tr th:only-of-type {\n",
       "        vertical-align: middle;\n",
       "    }\n",
       "\n",
       "    .dataframe tbody tr th {\n",
       "        vertical-align: top;\n",
       "    }\n",
       "\n",
       "    .dataframe thead th {\n",
       "        text-align: right;\n",
       "    }\n",
       "</style>\n",
       "<table border=\"1\" class=\"dataframe\">\n",
       "  <thead>\n",
       "    <tr style=\"text-align: right;\">\n",
       "      <th></th>\n",
       "      <th>titleId</th>\n",
       "      <th>ordering</th>\n",
       "      <th>title</th>\n",
       "      <th>region</th>\n",
       "      <th>language</th>\n",
       "      <th>types</th>\n",
       "      <th>attributes</th>\n",
       "      <th>isOriginalTitle</th>\n",
       "    </tr>\n",
       "  </thead>\n",
       "  <tbody>\n",
       "    <tr>\n",
       "      <th>0</th>\n",
       "      <td>tt0000001</td>\n",
       "      <td>1</td>\n",
       "      <td>Карменсіта</td>\n",
       "      <td>UA</td>\n",
       "      <td>\\N</td>\n",
       "      <td>imdbDisplay</td>\n",
       "      <td>\\N</td>\n",
       "      <td>0</td>\n",
       "    </tr>\n",
       "  </tbody>\n",
       "</table>\n",
       "</div>"
      ],
      "text/plain": [
       "     titleId ordering       title region language        types attributes  \\\n",
       "0  tt0000001        1  Карменсіта     UA       \\N  imdbDisplay         \\N   \n",
       "\n",
       "  isOriginalTitle  \n",
       "0               0  "
      ]
     },
     "execution_count": 6,
     "metadata": {},
     "output_type": "execute_result"
    }
   ],
   "source": [
    "akas_df = pd.read_csv(\"https://datasets.imdbws.com/title.akas.tsv.gz\", sep=\"\\t\", dtype={\"titleId\": \"string\", \"ordering\": str, \"title \": \"string\", \"region \": \"string\", \n",
    "\"language \": \"string\", \"types \": str, \"attributes \": str, \"isOriginalTitle\": str})\n",
    "akas_df.head(1)"
   ]
  },
  {
   "cell_type": "code",
   "execution_count": 72,
   "metadata": {},
   "outputs": [
    {
     "data": {
      "text/html": [
       "<div>\n",
       "<style scoped>\n",
       "    .dataframe tbody tr th:only-of-type {\n",
       "        vertical-align: middle;\n",
       "    }\n",
       "\n",
       "    .dataframe tbody tr th {\n",
       "        vertical-align: top;\n",
       "    }\n",
       "\n",
       "    .dataframe thead th {\n",
       "        text-align: right;\n",
       "    }\n",
       "</style>\n",
       "<table border=\"1\" class=\"dataframe\">\n",
       "  <thead>\n",
       "    <tr style=\"text-align: right;\">\n",
       "      <th></th>\n",
       "      <th>tconst</th>\n",
       "      <th>titleType</th>\n",
       "      <th>primaryTitle</th>\n",
       "      <th>originalTitle</th>\n",
       "      <th>isAdult</th>\n",
       "      <th>startYear</th>\n",
       "      <th>endYear</th>\n",
       "      <th>runtimeMinutes</th>\n",
       "      <th>genres</th>\n",
       "    </tr>\n",
       "  </thead>\n",
       "  <tbody>\n",
       "    <tr>\n",
       "      <th>0</th>\n",
       "      <td>tt0000001</td>\n",
       "      <td>short</td>\n",
       "      <td>Carmencita</td>\n",
       "      <td>Carmencita</td>\n",
       "      <td>0</td>\n",
       "      <td>1894</td>\n",
       "      <td>\\N</td>\n",
       "      <td>1</td>\n",
       "      <td>Documentary,Short</td>\n",
       "    </tr>\n",
       "  </tbody>\n",
       "</table>\n",
       "</div>"
      ],
      "text/plain": [
       "      tconst titleType primaryTitle originalTitle isAdult startYear endYear  \\\n",
       "0  tt0000001     short   Carmencita    Carmencita       0      1894      \\N   \n",
       "\n",
       "  runtimeMinutes             genres  \n",
       "0              1  Documentary,Short  "
      ]
     },
     "execution_count": 72,
     "metadata": {},
     "output_type": "execute_result"
    }
   ],
   "source": [
    "basics_df = pd.read_csv(\"https://datasets.imdbws.com/title.basics.tsv.gz\", sep=\"\\t\", low_memory=False)\n",
    "basics_df.head(1)"
   ]
  },
  {
   "cell_type": "code",
   "execution_count": null,
   "metadata": {},
   "outputs": [],
   "source": [
    "crew_df = pd.read_csv(\"https://datasets.imdbws.com/title.crew.tsv.gz\", sep=\"\\t\", low_memory=False)\n",
    "crew_df.head(1)"
   ]
  },
  {
   "cell_type": "code",
   "execution_count": null,
   "metadata": {},
   "outputs": [],
   "source": [
    "episode_df = pd.read_csv(\"https://datasets.imdbws.com/title.episode.tsv.gz\", sep=\"\\t\", low_memory=False)\n",
    "episode_df.head(1)"
   ]
  },
  {
   "cell_type": "code",
   "execution_count": 73,
   "metadata": {},
   "outputs": [
    {
     "data": {
      "text/html": [
       "<div>\n",
       "<style scoped>\n",
       "    .dataframe tbody tr th:only-of-type {\n",
       "        vertical-align: middle;\n",
       "    }\n",
       "\n",
       "    .dataframe tbody tr th {\n",
       "        vertical-align: top;\n",
       "    }\n",
       "\n",
       "    .dataframe thead th {\n",
       "        text-align: right;\n",
       "    }\n",
       "</style>\n",
       "<table border=\"1\" class=\"dataframe\">\n",
       "  <thead>\n",
       "    <tr style=\"text-align: right;\">\n",
       "      <th></th>\n",
       "      <th>tconst</th>\n",
       "      <th>ordering</th>\n",
       "      <th>nconst</th>\n",
       "      <th>category</th>\n",
       "      <th>job</th>\n",
       "      <th>characters</th>\n",
       "    </tr>\n",
       "  </thead>\n",
       "  <tbody>\n",
       "    <tr>\n",
       "      <th>0</th>\n",
       "      <td>tt0000001</td>\n",
       "      <td>1</td>\n",
       "      <td>nm1588970</td>\n",
       "      <td>self</td>\n",
       "      <td>\\N</td>\n",
       "      <td>[\"Self\"]</td>\n",
       "    </tr>\n",
       "  </tbody>\n",
       "</table>\n",
       "</div>"
      ],
      "text/plain": [
       "      tconst  ordering     nconst category job characters\n",
       "0  tt0000001         1  nm1588970     self  \\N   [\"Self\"]"
      ]
     },
     "execution_count": 73,
     "metadata": {},
     "output_type": "execute_result"
    }
   ],
   "source": [
    "principals_df = pd.read_csv(\"https://datasets.imdbws.com/title.principals.tsv.gz\", sep=\"\\t\")\n",
    "principals_df.head(1)"
   ]
  },
  {
   "cell_type": "code",
   "execution_count": 9,
   "metadata": {},
   "outputs": [
    {
     "data": {
      "text/html": [
       "<div>\n",
       "<style scoped>\n",
       "    .dataframe tbody tr th:only-of-type {\n",
       "        vertical-align: middle;\n",
       "    }\n",
       "\n",
       "    .dataframe tbody tr th {\n",
       "        vertical-align: top;\n",
       "    }\n",
       "\n",
       "    .dataframe thead th {\n",
       "        text-align: right;\n",
       "    }\n",
       "</style>\n",
       "<table border=\"1\" class=\"dataframe\">\n",
       "  <thead>\n",
       "    <tr style=\"text-align: right;\">\n",
       "      <th></th>\n",
       "      <th>tconst</th>\n",
       "      <th>averageRating</th>\n",
       "      <th>numVotes</th>\n",
       "    </tr>\n",
       "  </thead>\n",
       "  <tbody>\n",
       "    <tr>\n",
       "      <th>0</th>\n",
       "      <td>tt0000001</td>\n",
       "      <td>5.7</td>\n",
       "      <td>1831</td>\n",
       "    </tr>\n",
       "  </tbody>\n",
       "</table>\n",
       "</div>"
      ],
      "text/plain": [
       "      tconst  averageRating  numVotes\n",
       "0  tt0000001            5.7      1831"
      ]
     },
     "execution_count": 9,
     "metadata": {},
     "output_type": "execute_result"
    }
   ],
   "source": [
    "ratings_df = pd.read_csv(\"https://datasets.imdbws.com/title.ratings.tsv.gz\", sep=\"\\t\", low_memory=False)\n",
    "ratings_df.head(1)"
   ]
  },
  {
   "cell_type": "markdown",
   "metadata": {},
   "source": [
    "# <span style=\"color:orange\">Quels sont les pays qui produisent le plus de films ?</span> "
   ]
  },
  {
   "cell_type": "code",
   "execution_count": 39,
   "metadata": {},
   "outputs": [
    {
     "ename": "NameError",
     "evalue": "name 'akas_df' is not defined",
     "output_type": "error",
     "traceback": [
      "\u001b[1;31m---------------------------------------------------------------------------\u001b[0m",
      "\u001b[1;31mNameError\u001b[0m                                 Traceback (most recent call last)",
      "\u001b[1;32m~\\AppData\\Local\\Temp/ipykernel_19876/1524732789.py\u001b[0m in \u001b[0;36m<module>\u001b[1;34m\u001b[0m\n\u001b[0;32m      1\u001b[0m \u001b[1;31m# Etape 1 : value_counts sur les régions dans la Database akas en prenant le top 15\u001b[0m\u001b[1;33m\u001b[0m\u001b[1;33m\u001b[0m\u001b[1;33m\u001b[0m\u001b[0m\n\u001b[1;32m----> 2\u001b[1;33m \u001b[0mmovie_By_Region\u001b[0m \u001b[1;33m=\u001b[0m \u001b[0makas_df\u001b[0m\u001b[1;33m[\u001b[0m\u001b[1;34m\"region\"\u001b[0m\u001b[1;33m]\u001b[0m\u001b[1;33m.\u001b[0m\u001b[0mvalue_counts\u001b[0m\u001b[1;33m(\u001b[0m\u001b[1;33m)\u001b[0m\u001b[1;33m.\u001b[0m\u001b[0mreset_index\u001b[0m\u001b[1;33m(\u001b[0m\u001b[1;33m)\u001b[0m\u001b[1;33m.\u001b[0m\u001b[0mhead\u001b[0m\u001b[1;33m(\u001b[0m\u001b[1;36m15\u001b[0m\u001b[1;33m)\u001b[0m\u001b[1;33m\u001b[0m\u001b[1;33m\u001b[0m\u001b[0m\n\u001b[0m\u001b[0;32m      3\u001b[0m \u001b[1;31m# Retrait des régions qui n'ont pas d'indication\u001b[0m\u001b[1;33m\u001b[0m\u001b[1;33m\u001b[0m\u001b[1;33m\u001b[0m\u001b[0m\n\u001b[0;32m      4\u001b[0m \u001b[0mmovie_By_Region2\u001b[0m \u001b[1;33m=\u001b[0m \u001b[0mmovie_By_Region\u001b[0m\u001b[1;33m[\u001b[0m\u001b[0mmovie_By_Region\u001b[0m\u001b[1;33m[\u001b[0m\u001b[1;34m'index'\u001b[0m\u001b[1;33m]\u001b[0m \u001b[1;33m!=\u001b[0m \u001b[1;34m'\\\\N'\u001b[0m\u001b[1;33m]\u001b[0m\u001b[1;33m\u001b[0m\u001b[1;33m\u001b[0m\u001b[0m\n",
      "\u001b[1;31mNameError\u001b[0m: name 'akas_df' is not defined"
     ]
    }
   ],
   "source": [
    "# Etape 1 : value_counts sur les régions dans la Database akas en prenant le top 15\n",
    "movie_By_Region = akas_df[\"region\"].value_counts().reset_index().head(15)\n",
    "# Retrait des régions qui n'ont pas d'indication\n",
    "movie_By_Region2 = movie_By_Region[movie_By_Region['index'] != '\\\\N']\n"
   ]
  },
  {
   "cell_type": "code",
   "execution_count": 12,
   "metadata": {},
   "outputs": [],
   "source": [
    "# Sauvegarde du dataframe\n",
    "movie_By_Region2.to_csv(r'C:\\Users\\Berenger\\Desktop\\projet abc\\pays_nombre_de_film.csv', index = False, header = True)"
   ]
  },
  {
   "cell_type": "code",
   "execution_count": 40,
   "metadata": {},
   "outputs": [
    {
     "data": {
      "text/html": [
       "<div>\n",
       "<style scoped>\n",
       "    .dataframe tbody tr th:only-of-type {\n",
       "        vertical-align: middle;\n",
       "    }\n",
       "\n",
       "    .dataframe tbody tr th {\n",
       "        vertical-align: top;\n",
       "    }\n",
       "\n",
       "    .dataframe thead th {\n",
       "        text-align: right;\n",
       "    }\n",
       "</style>\n",
       "<table border=\"1\" class=\"dataframe\">\n",
       "  <thead>\n",
       "    <tr style=\"text-align: right;\">\n",
       "      <th></th>\n",
       "      <th>index</th>\n",
       "      <th>region</th>\n",
       "    </tr>\n",
       "  </thead>\n",
       "  <tbody>\n",
       "    <tr>\n",
       "      <th>0</th>\n",
       "      <td>FR</td>\n",
       "      <td>3501512</td>\n",
       "    </tr>\n",
       "    <tr>\n",
       "      <th>1</th>\n",
       "      <td>JP</td>\n",
       "      <td>3496246</td>\n",
       "    </tr>\n",
       "    <tr>\n",
       "      <th>2</th>\n",
       "      <td>DE</td>\n",
       "      <td>3458776</td>\n",
       "    </tr>\n",
       "    <tr>\n",
       "      <th>3</th>\n",
       "      <td>ES</td>\n",
       "      <td>3426798</td>\n",
       "    </tr>\n",
       "    <tr>\n",
       "      <th>4</th>\n",
       "      <td>IN</td>\n",
       "      <td>3420547</td>\n",
       "    </tr>\n",
       "  </tbody>\n",
       "</table>\n",
       "</div>"
      ],
      "text/plain": [
       "  index   region\n",
       "0    FR  3501512\n",
       "1    JP  3496246\n",
       "2    DE  3458776\n",
       "3    ES  3426798\n",
       "4    IN  3420547"
      ]
     },
     "execution_count": 40,
     "metadata": {},
     "output_type": "execute_result"
    }
   ],
   "source": [
    "# Chargement du dataframe\n",
    "movie_By_Region = pd.read_csv(r\"C:\\Users\\Berenger\\Desktop\\projet abc\\pays_nombre_de_film.csv\")\n",
    "movie_By_Region.head()"
   ]
  },
  {
   "cell_type": "code",
   "execution_count": 5,
   "metadata": {},
   "outputs": [
    {
     "data": {
      "application/vnd.plotly.v1+json": {
       "config": {
        "plotlyServerURL": "https://plot.ly"
       },
       "data": [
        {
         "alignmentgroup": "True",
         "hovertemplate": "Pays=%{x}<br>Nombre de films=%{text}<extra></extra>",
         "legendgroup": "FR",
         "marker": {
          "color": "#636efa",
          "pattern": {
           "shape": ""
          }
         },
         "name": "FR",
         "offsetgroup": "FR",
         "orientation": "v",
         "showlegend": true,
         "text": [
          3497560
         ],
         "textposition": "outside",
         "texttemplate": "%{text:.2s}",
         "type": "bar",
         "x": [
          "FR"
         ],
         "xaxis": "x",
         "y": [
          3497560
         ],
         "yaxis": "y"
        },
        {
         "alignmentgroup": "True",
         "hovertemplate": "Pays=%{x}<br>Nombre de films=%{text}<extra></extra>",
         "legendgroup": "JP",
         "marker": {
          "color": "#EF553B",
          "pattern": {
           "shape": ""
          }
         },
         "name": "JP",
         "offsetgroup": "JP",
         "orientation": "v",
         "showlegend": true,
         "text": [
          3492238
         ],
         "textposition": "outside",
         "texttemplate": "%{text:.2s}",
         "type": "bar",
         "x": [
          "JP"
         ],
         "xaxis": "x",
         "y": [
          3492238
         ],
         "yaxis": "y"
        },
        {
         "alignmentgroup": "True",
         "hovertemplate": "Pays=%{x}<br>Nombre de films=%{text}<extra></extra>",
         "legendgroup": "DE",
         "marker": {
          "color": "#00cc96",
          "pattern": {
           "shape": ""
          }
         },
         "name": "DE",
         "offsetgroup": "DE",
         "orientation": "v",
         "showlegend": true,
         "text": [
          3454801
         ],
         "textposition": "outside",
         "texttemplate": "%{text:.2s}",
         "type": "bar",
         "x": [
          "DE"
         ],
         "xaxis": "x",
         "y": [
          3454801
         ],
         "yaxis": "y"
        },
        {
         "alignmentgroup": "True",
         "hovertemplate": "Pays=%{x}<br>Nombre de films=%{text}<extra></extra>",
         "legendgroup": "ES",
         "marker": {
          "color": "#ab63fa",
          "pattern": {
           "shape": ""
          }
         },
         "name": "ES",
         "offsetgroup": "ES",
         "orientation": "v",
         "showlegend": true,
         "text": [
          3422577
         ],
         "textposition": "outside",
         "texttemplate": "%{text:.2s}",
         "type": "bar",
         "x": [
          "ES"
         ],
         "xaxis": "x",
         "y": [
          3422577
         ],
         "yaxis": "y"
        },
        {
         "alignmentgroup": "True",
         "hovertemplate": "Pays=%{x}<br>Nombre de films=%{text}<extra></extra>",
         "legendgroup": "IN",
         "marker": {
          "color": "#FFA15A",
          "pattern": {
           "shape": ""
          }
         },
         "name": "IN",
         "offsetgroup": "IN",
         "orientation": "v",
         "showlegend": true,
         "text": [
          3416248
         ],
         "textposition": "outside",
         "texttemplate": "%{text:.2s}",
         "type": "bar",
         "x": [
          "IN"
         ],
         "xaxis": "x",
         "y": [
          3416248
         ],
         "yaxis": "y"
        },
        {
         "alignmentgroup": "True",
         "hovertemplate": "Pays=%{x}<br>Nombre de films=%{text}<extra></extra>",
         "legendgroup": "IT",
         "marker": {
          "color": "#19d3f3",
          "pattern": {
           "shape": ""
          }
         },
         "name": "IT",
         "offsetgroup": "IT",
         "orientation": "v",
         "showlegend": true,
         "text": [
          3404636
         ],
         "textposition": "outside",
         "texttemplate": "%{text:.2s}",
         "type": "bar",
         "x": [
          "IT"
         ],
         "xaxis": "x",
         "y": [
          3404636
         ],
         "yaxis": "y"
        },
        {
         "alignmentgroup": "True",
         "hovertemplate": "Pays=%{x}<br>Nombre de films=%{text}<extra></extra>",
         "legendgroup": "PT",
         "marker": {
          "color": "#FF6692",
          "pattern": {
           "shape": ""
          }
         },
         "name": "PT",
         "offsetgroup": "PT",
         "orientation": "v",
         "showlegend": true,
         "text": [
          3345703
         ],
         "textposition": "outside",
         "texttemplate": "%{text:.2s}",
         "type": "bar",
         "x": [
          "PT"
         ],
         "xaxis": "x",
         "y": [
          3345703
         ],
         "yaxis": "y"
        },
        {
         "alignmentgroup": "True",
         "hovertemplate": "Pays=%{x}<br>Nombre de films=%{text}<extra></extra>",
         "legendgroup": "US",
         "marker": {
          "color": "#B6E880",
          "pattern": {
           "shape": ""
          }
         },
         "name": "US",
         "offsetgroup": "US",
         "orientation": "v",
         "showlegend": true,
         "text": [
          1304892
         ],
         "textposition": "outside",
         "texttemplate": "%{text:.2s}",
         "type": "bar",
         "x": [
          "US"
         ],
         "xaxis": "x",
         "y": [
          1304892
         ],
         "yaxis": "y"
        },
        {
         "alignmentgroup": "True",
         "hovertemplate": "Pays=%{x}<br>Nombre de films=%{text}<extra></extra>",
         "legendgroup": "GB",
         "marker": {
          "color": "#FF97FF",
          "pattern": {
           "shape": ""
          }
         },
         "name": "GB",
         "offsetgroup": "GB",
         "orientation": "v",
         "showlegend": true,
         "text": [
          406114
         ],
         "textposition": "outside",
         "texttemplate": "%{text:.2s}",
         "type": "bar",
         "x": [
          "GB"
         ],
         "xaxis": "x",
         "y": [
          406114
         ],
         "yaxis": "y"
        },
        {
         "alignmentgroup": "True",
         "hovertemplate": "Pays=%{x}<br>Nombre de films=%{text}<extra></extra>",
         "legendgroup": "CA",
         "marker": {
          "color": "#FECB52",
          "pattern": {
           "shape": ""
          }
         },
         "name": "CA",
         "offsetgroup": "CA",
         "orientation": "v",
         "showlegend": true,
         "text": [
          188744
         ],
         "textposition": "outside",
         "texttemplate": "%{text:.2s}",
         "type": "bar",
         "x": [
          "CA"
         ],
         "xaxis": "x",
         "y": [
          188744
         ],
         "yaxis": "y"
        },
        {
         "alignmentgroup": "True",
         "hovertemplate": "Pays=%{x}<br>Nombre de films=%{text}<extra></extra>",
         "legendgroup": "XWW",
         "marker": {
          "color": "#636efa",
          "pattern": {
           "shape": ""
          }
         },
         "name": "XWW",
         "offsetgroup": "XWW",
         "orientation": "v",
         "showlegend": true,
         "text": [
          154783
         ],
         "textposition": "outside",
         "texttemplate": "%{text:.2s}",
         "type": "bar",
         "x": [
          "XWW"
         ],
         "xaxis": "x",
         "y": [
          154783
         ],
         "yaxis": "y"
        },
        {
         "alignmentgroup": "True",
         "hovertemplate": "Pays=%{x}<br>Nombre de films=%{text}<extra></extra>",
         "legendgroup": "AU",
         "marker": {
          "color": "#EF553B",
          "pattern": {
           "shape": ""
          }
         },
         "name": "AU",
         "offsetgroup": "AU",
         "orientation": "v",
         "showlegend": true,
         "text": [
          104345
         ],
         "textposition": "outside",
         "texttemplate": "%{text:.2s}",
         "type": "bar",
         "x": [
          "AU"
         ],
         "xaxis": "x",
         "y": [
          104345
         ],
         "yaxis": "y"
        },
        {
         "alignmentgroup": "True",
         "hovertemplate": "Pays=%{x}<br>Nombre de films=%{text}<extra></extra>",
         "legendgroup": "BR",
         "marker": {
          "color": "#00cc96",
          "pattern": {
           "shape": ""
          }
         },
         "name": "BR",
         "offsetgroup": "BR",
         "orientation": "v",
         "showlegend": true,
         "text": [
          102408
         ],
         "textposition": "outside",
         "texttemplate": "%{text:.2s}",
         "type": "bar",
         "x": [
          "BR"
         ],
         "xaxis": "x",
         "y": [
          102408
         ],
         "yaxis": "y"
        },
        {
         "alignmentgroup": "True",
         "hovertemplate": "Pays=%{x}<br>Nombre de films=%{text}<extra></extra>",
         "legendgroup": "MX",
         "marker": {
          "color": "#ab63fa",
          "pattern": {
           "shape": ""
          }
         },
         "name": "MX",
         "offsetgroup": "MX",
         "orientation": "v",
         "showlegend": true,
         "text": [
          87024
         ],
         "textposition": "outside",
         "texttemplate": "%{text:.2s}",
         "type": "bar",
         "x": [
          "MX"
         ],
         "xaxis": "x",
         "y": [
          87024
         ],
         "yaxis": "y"
        }
       ],
       "layout": {
        "barmode": "relative",
        "height": 600,
        "legend": {
         "title": {
          "text": "Pays"
         },
         "tracegroupgap": 0
        },
        "showlegend": false,
        "template": {
         "data": {
          "bar": [
           {
            "error_x": {
             "color": "#2a3f5f"
            },
            "error_y": {
             "color": "#2a3f5f"
            },
            "marker": {
             "line": {
              "color": "#E5ECF6",
              "width": 0.5
             },
             "pattern": {
              "fillmode": "overlay",
              "size": 10,
              "solidity": 0.2
             }
            },
            "type": "bar"
           }
          ],
          "barpolar": [
           {
            "marker": {
             "line": {
              "color": "#E5ECF6",
              "width": 0.5
             },
             "pattern": {
              "fillmode": "overlay",
              "size": 10,
              "solidity": 0.2
             }
            },
            "type": "barpolar"
           }
          ],
          "carpet": [
           {
            "aaxis": {
             "endlinecolor": "#2a3f5f",
             "gridcolor": "white",
             "linecolor": "white",
             "minorgridcolor": "white",
             "startlinecolor": "#2a3f5f"
            },
            "baxis": {
             "endlinecolor": "#2a3f5f",
             "gridcolor": "white",
             "linecolor": "white",
             "minorgridcolor": "white",
             "startlinecolor": "#2a3f5f"
            },
            "type": "carpet"
           }
          ],
          "choropleth": [
           {
            "colorbar": {
             "outlinewidth": 0,
             "ticks": ""
            },
            "type": "choropleth"
           }
          ],
          "contour": [
           {
            "colorbar": {
             "outlinewidth": 0,
             "ticks": ""
            },
            "colorscale": [
             [
              0,
              "#0d0887"
             ],
             [
              0.1111111111111111,
              "#46039f"
             ],
             [
              0.2222222222222222,
              "#7201a8"
             ],
             [
              0.3333333333333333,
              "#9c179e"
             ],
             [
              0.4444444444444444,
              "#bd3786"
             ],
             [
              0.5555555555555556,
              "#d8576b"
             ],
             [
              0.6666666666666666,
              "#ed7953"
             ],
             [
              0.7777777777777778,
              "#fb9f3a"
             ],
             [
              0.8888888888888888,
              "#fdca26"
             ],
             [
              1,
              "#f0f921"
             ]
            ],
            "type": "contour"
           }
          ],
          "contourcarpet": [
           {
            "colorbar": {
             "outlinewidth": 0,
             "ticks": ""
            },
            "type": "contourcarpet"
           }
          ],
          "heatmap": [
           {
            "colorbar": {
             "outlinewidth": 0,
             "ticks": ""
            },
            "colorscale": [
             [
              0,
              "#0d0887"
             ],
             [
              0.1111111111111111,
              "#46039f"
             ],
             [
              0.2222222222222222,
              "#7201a8"
             ],
             [
              0.3333333333333333,
              "#9c179e"
             ],
             [
              0.4444444444444444,
              "#bd3786"
             ],
             [
              0.5555555555555556,
              "#d8576b"
             ],
             [
              0.6666666666666666,
              "#ed7953"
             ],
             [
              0.7777777777777778,
              "#fb9f3a"
             ],
             [
              0.8888888888888888,
              "#fdca26"
             ],
             [
              1,
              "#f0f921"
             ]
            ],
            "type": "heatmap"
           }
          ],
          "heatmapgl": [
           {
            "colorbar": {
             "outlinewidth": 0,
             "ticks": ""
            },
            "colorscale": [
             [
              0,
              "#0d0887"
             ],
             [
              0.1111111111111111,
              "#46039f"
             ],
             [
              0.2222222222222222,
              "#7201a8"
             ],
             [
              0.3333333333333333,
              "#9c179e"
             ],
             [
              0.4444444444444444,
              "#bd3786"
             ],
             [
              0.5555555555555556,
              "#d8576b"
             ],
             [
              0.6666666666666666,
              "#ed7953"
             ],
             [
              0.7777777777777778,
              "#fb9f3a"
             ],
             [
              0.8888888888888888,
              "#fdca26"
             ],
             [
              1,
              "#f0f921"
             ]
            ],
            "type": "heatmapgl"
           }
          ],
          "histogram": [
           {
            "marker": {
             "pattern": {
              "fillmode": "overlay",
              "size": 10,
              "solidity": 0.2
             }
            },
            "type": "histogram"
           }
          ],
          "histogram2d": [
           {
            "colorbar": {
             "outlinewidth": 0,
             "ticks": ""
            },
            "colorscale": [
             [
              0,
              "#0d0887"
             ],
             [
              0.1111111111111111,
              "#46039f"
             ],
             [
              0.2222222222222222,
              "#7201a8"
             ],
             [
              0.3333333333333333,
              "#9c179e"
             ],
             [
              0.4444444444444444,
              "#bd3786"
             ],
             [
              0.5555555555555556,
              "#d8576b"
             ],
             [
              0.6666666666666666,
              "#ed7953"
             ],
             [
              0.7777777777777778,
              "#fb9f3a"
             ],
             [
              0.8888888888888888,
              "#fdca26"
             ],
             [
              1,
              "#f0f921"
             ]
            ],
            "type": "histogram2d"
           }
          ],
          "histogram2dcontour": [
           {
            "colorbar": {
             "outlinewidth": 0,
             "ticks": ""
            },
            "colorscale": [
             [
              0,
              "#0d0887"
             ],
             [
              0.1111111111111111,
              "#46039f"
             ],
             [
              0.2222222222222222,
              "#7201a8"
             ],
             [
              0.3333333333333333,
              "#9c179e"
             ],
             [
              0.4444444444444444,
              "#bd3786"
             ],
             [
              0.5555555555555556,
              "#d8576b"
             ],
             [
              0.6666666666666666,
              "#ed7953"
             ],
             [
              0.7777777777777778,
              "#fb9f3a"
             ],
             [
              0.8888888888888888,
              "#fdca26"
             ],
             [
              1,
              "#f0f921"
             ]
            ],
            "type": "histogram2dcontour"
           }
          ],
          "mesh3d": [
           {
            "colorbar": {
             "outlinewidth": 0,
             "ticks": ""
            },
            "type": "mesh3d"
           }
          ],
          "parcoords": [
           {
            "line": {
             "colorbar": {
              "outlinewidth": 0,
              "ticks": ""
             }
            },
            "type": "parcoords"
           }
          ],
          "pie": [
           {
            "automargin": true,
            "type": "pie"
           }
          ],
          "scatter": [
           {
            "marker": {
             "colorbar": {
              "outlinewidth": 0,
              "ticks": ""
             }
            },
            "type": "scatter"
           }
          ],
          "scatter3d": [
           {
            "line": {
             "colorbar": {
              "outlinewidth": 0,
              "ticks": ""
             }
            },
            "marker": {
             "colorbar": {
              "outlinewidth": 0,
              "ticks": ""
             }
            },
            "type": "scatter3d"
           }
          ],
          "scattercarpet": [
           {
            "marker": {
             "colorbar": {
              "outlinewidth": 0,
              "ticks": ""
             }
            },
            "type": "scattercarpet"
           }
          ],
          "scattergeo": [
           {
            "marker": {
             "colorbar": {
              "outlinewidth": 0,
              "ticks": ""
             }
            },
            "type": "scattergeo"
           }
          ],
          "scattergl": [
           {
            "marker": {
             "colorbar": {
              "outlinewidth": 0,
              "ticks": ""
             }
            },
            "type": "scattergl"
           }
          ],
          "scattermapbox": [
           {
            "marker": {
             "colorbar": {
              "outlinewidth": 0,
              "ticks": ""
             }
            },
            "type": "scattermapbox"
           }
          ],
          "scatterpolar": [
           {
            "marker": {
             "colorbar": {
              "outlinewidth": 0,
              "ticks": ""
             }
            },
            "type": "scatterpolar"
           }
          ],
          "scatterpolargl": [
           {
            "marker": {
             "colorbar": {
              "outlinewidth": 0,
              "ticks": ""
             }
            },
            "type": "scatterpolargl"
           }
          ],
          "scatterternary": [
           {
            "marker": {
             "colorbar": {
              "outlinewidth": 0,
              "ticks": ""
             }
            },
            "type": "scatterternary"
           }
          ],
          "surface": [
           {
            "colorbar": {
             "outlinewidth": 0,
             "ticks": ""
            },
            "colorscale": [
             [
              0,
              "#0d0887"
             ],
             [
              0.1111111111111111,
              "#46039f"
             ],
             [
              0.2222222222222222,
              "#7201a8"
             ],
             [
              0.3333333333333333,
              "#9c179e"
             ],
             [
              0.4444444444444444,
              "#bd3786"
             ],
             [
              0.5555555555555556,
              "#d8576b"
             ],
             [
              0.6666666666666666,
              "#ed7953"
             ],
             [
              0.7777777777777778,
              "#fb9f3a"
             ],
             [
              0.8888888888888888,
              "#fdca26"
             ],
             [
              1,
              "#f0f921"
             ]
            ],
            "type": "surface"
           }
          ],
          "table": [
           {
            "cells": {
             "fill": {
              "color": "#EBF0F8"
             },
             "line": {
              "color": "white"
             }
            },
            "header": {
             "fill": {
              "color": "#C8D4E3"
             },
             "line": {
              "color": "white"
             }
            },
            "type": "table"
           }
          ]
         },
         "layout": {
          "annotationdefaults": {
           "arrowcolor": "#2a3f5f",
           "arrowhead": 0,
           "arrowwidth": 1
          },
          "autotypenumbers": "strict",
          "coloraxis": {
           "colorbar": {
            "outlinewidth": 0,
            "ticks": ""
           }
          },
          "colorscale": {
           "diverging": [
            [
             0,
             "#8e0152"
            ],
            [
             0.1,
             "#c51b7d"
            ],
            [
             0.2,
             "#de77ae"
            ],
            [
             0.3,
             "#f1b6da"
            ],
            [
             0.4,
             "#fde0ef"
            ],
            [
             0.5,
             "#f7f7f7"
            ],
            [
             0.6,
             "#e6f5d0"
            ],
            [
             0.7,
             "#b8e186"
            ],
            [
             0.8,
             "#7fbc41"
            ],
            [
             0.9,
             "#4d9221"
            ],
            [
             1,
             "#276419"
            ]
           ],
           "sequential": [
            [
             0,
             "#0d0887"
            ],
            [
             0.1111111111111111,
             "#46039f"
            ],
            [
             0.2222222222222222,
             "#7201a8"
            ],
            [
             0.3333333333333333,
             "#9c179e"
            ],
            [
             0.4444444444444444,
             "#bd3786"
            ],
            [
             0.5555555555555556,
             "#d8576b"
            ],
            [
             0.6666666666666666,
             "#ed7953"
            ],
            [
             0.7777777777777778,
             "#fb9f3a"
            ],
            [
             0.8888888888888888,
             "#fdca26"
            ],
            [
             1,
             "#f0f921"
            ]
           ],
           "sequentialminus": [
            [
             0,
             "#0d0887"
            ],
            [
             0.1111111111111111,
             "#46039f"
            ],
            [
             0.2222222222222222,
             "#7201a8"
            ],
            [
             0.3333333333333333,
             "#9c179e"
            ],
            [
             0.4444444444444444,
             "#bd3786"
            ],
            [
             0.5555555555555556,
             "#d8576b"
            ],
            [
             0.6666666666666666,
             "#ed7953"
            ],
            [
             0.7777777777777778,
             "#fb9f3a"
            ],
            [
             0.8888888888888888,
             "#fdca26"
            ],
            [
             1,
             "#f0f921"
            ]
           ]
          },
          "colorway": [
           "#636efa",
           "#EF553B",
           "#00cc96",
           "#ab63fa",
           "#FFA15A",
           "#19d3f3",
           "#FF6692",
           "#B6E880",
           "#FF97FF",
           "#FECB52"
          ],
          "font": {
           "color": "#2a3f5f"
          },
          "geo": {
           "bgcolor": "white",
           "lakecolor": "white",
           "landcolor": "#E5ECF6",
           "showlakes": true,
           "showland": true,
           "subunitcolor": "white"
          },
          "hoverlabel": {
           "align": "left"
          },
          "hovermode": "closest",
          "mapbox": {
           "style": "light"
          },
          "paper_bgcolor": "white",
          "plot_bgcolor": "#E5ECF6",
          "polar": {
           "angularaxis": {
            "gridcolor": "white",
            "linecolor": "white",
            "ticks": ""
           },
           "bgcolor": "#E5ECF6",
           "radialaxis": {
            "gridcolor": "white",
            "linecolor": "white",
            "ticks": ""
           }
          },
          "scene": {
           "xaxis": {
            "backgroundcolor": "#E5ECF6",
            "gridcolor": "white",
            "gridwidth": 2,
            "linecolor": "white",
            "showbackground": true,
            "ticks": "",
            "zerolinecolor": "white"
           },
           "yaxis": {
            "backgroundcolor": "#E5ECF6",
            "gridcolor": "white",
            "gridwidth": 2,
            "linecolor": "white",
            "showbackground": true,
            "ticks": "",
            "zerolinecolor": "white"
           },
           "zaxis": {
            "backgroundcolor": "#E5ECF6",
            "gridcolor": "white",
            "gridwidth": 2,
            "linecolor": "white",
            "showbackground": true,
            "ticks": "",
            "zerolinecolor": "white"
           }
          },
          "shapedefaults": {
           "line": {
            "color": "#2a3f5f"
           }
          },
          "ternary": {
           "aaxis": {
            "gridcolor": "white",
            "linecolor": "white",
            "ticks": ""
           },
           "baxis": {
            "gridcolor": "white",
            "linecolor": "white",
            "ticks": ""
           },
           "bgcolor": "#E5ECF6",
           "caxis": {
            "gridcolor": "white",
            "linecolor": "white",
            "ticks": ""
           }
          },
          "title": {
           "x": 0.05
          },
          "xaxis": {
           "automargin": true,
           "gridcolor": "white",
           "linecolor": "white",
           "ticks": "",
           "title": {
            "standoff": 15
           },
           "zerolinecolor": "white",
           "zerolinewidth": 2
          },
          "yaxis": {
           "automargin": true,
           "gridcolor": "white",
           "linecolor": "white",
           "ticks": "",
           "title": {
            "standoff": 15
           },
           "zerolinecolor": "white",
           "zerolinewidth": 2
          }
         }
        },
        "title": {
         "text": "Quels sont les pays qui produisent le plus de films ?",
         "x": 0.5
        },
        "uniformtext": {
         "minsize": 8
        },
        "width": 800,
        "xaxis": {
         "anchor": "y",
         "categoryarray": [
          "FR",
          "JP",
          "DE",
          "ES",
          "IN",
          "IT",
          "PT",
          "US",
          "GB",
          "CA",
          "XWW",
          "AU",
          "BR",
          "MX"
         ],
         "categoryorder": "array",
         "domain": [
          0,
          1
         ],
         "title": {
          "text": "Pays"
         }
        },
        "yaxis": {
         "anchor": "x",
         "domain": [
          0,
          1
         ],
         "title": {
          "text": "Nombre de films"
         },
         "visible": false
        }
       }
      }
     },
     "metadata": {},
     "output_type": "display_data"
    }
   ],
   "source": [
    "# Visualisation\n",
    "fig = px.bar(movie_By_Region, x=\"index\", y ='region', color = 'index', text ='region',\n",
    "    title = 'Quels sont les pays qui produisent le plus de films ?',\n",
    "    labels = {'region': 'Nombre de films', 'index': 'Pays'},\n",
    "    width=800, height=600)\n",
    "    \n",
    "fig.update_traces(texttemplate='%{text:.2s}', textposition='outside')\n",
    "fig.update_layout(uniformtext_minsize=8)\n",
    "\n",
    "fig.update_layout(showlegend=False, title_x=0.5, yaxis={'visible': False})"
   ]
  },
  {
   "cell_type": "markdown",
   "metadata": {},
   "source": [
    "# <span style=\"color:orange\">Quels sont les acteurs les plus présents ?</span> "
   ]
  },
  {
   "cell_type": "code",
   "execution_count": 74,
   "metadata": {},
   "outputs": [],
   "source": [
    "# Etape 1 : nettoyage de la Database\n",
    "principals_df2 = principals_df[[\"tconst\", \"nconst\", \"category\", \"characters\"]]\n",
    "principals_df3 = principals_df2[principals_df2['category'].str.contains('actor|actress') & (principals_df2['characters'] != '\\\\N')]\n",
    "principals_df4 = principals_df3[(principals_df3['characters'] != 'Narrator') & (principals_df3['characters'] != 'Various') & (principals_df3['characters'] != 'Additional Voices')]"
   ]
  },
  {
   "cell_type": "code",
   "execution_count": 75,
   "metadata": {},
   "outputs": [],
   "source": [
    "# Nettoyage de la Database\n",
    "basics_df2 = basics_df[[\"tconst\", \"titleType\", \"startYear\", \"runtimeMinutes\", \"genres\"]]\n",
    "# Etape 2 : set index puis merge\n",
    "# Set index on tconst for basics and principal table\n",
    "basics_df3 = basics_df2.set_index('tconst')\n",
    "principals_df5 = principals_df4.set_index('tconst')\n",
    "# Merge de la table principals et basics afin de filtrer uniquement sur les movies et les shorts\n",
    "actors_occurence_df = pd.merge(basics_df3, principals_df5, how='inner', left_index=True, right_index=True)"
   ]
  },
  {
   "cell_type": "code",
   "execution_count": 79,
   "metadata": {},
   "outputs": [
    {
     "data": {
      "text/plain": [
       "tvEpisode       10494130\n",
       "short            1562016\n",
       "movie            1275537\n",
       "tvSeries          659377\n",
       "video             438800\n",
       "tvMovie           302705\n",
       "tvMiniSeries      143258\n",
       "videoGame          43151\n",
       "tvSpecial          22439\n",
       "tvShort            16386\n",
       "tvPilot                1\n",
       "Name: titleType, dtype: int64"
      ]
     },
     "execution_count": 79,
     "metadata": {},
     "output_type": "execute_result"
    }
   ],
   "source": [
    "actors_occurence_df[\"titleType\"].value_counts()"
   ]
  },
  {
   "cell_type": "code",
   "execution_count": 80,
   "metadata": {},
   "outputs": [],
   "source": [
    "# Etape 3 : Nettoyage pour garder uniquement les titleType movie et short\n",
    "actors_occurence_df2 = actors_occurence_df[(actors_occurence_df['titleType'] == 'movie') | (actors_occurence_df['titleType'] == 'short')]\n",
    "#actors_occurence_df2 = actors_occurence_df[(actors_occurence_df['titleType'] == 'tvEpisode') | (actors_occurence_df['titleType'] == 'tvSeries') | (actors_occurence_df['titleType'] == 'tvMiniSeries')]"
   ]
  },
  {
   "cell_type": "code",
   "execution_count": 27,
   "metadata": {},
   "outputs": [],
   "source": [
    "# Nettoyage de la Database\n",
    "name_df2 = name_df[[\"nconst\", \"primaryName\"]]\n",
    "# Etape 4 : set index puis merge\n",
    "# Set index on nconst for Database name and Database actors_occurence_df2 to prepare a merge\n",
    "name_df3 = name_df2.set_index('nconst')\n",
    "actors_occurence_df3 = actors_occurence_df2.set_index('nconst')\n",
    "# Merge to link first name with nconst\n",
    "actors_occurence_df4 = pd.merge(name_df3, actors_occurence_df3, how='inner', left_index=True, right_index=True)"
   ]
  },
  {
   "cell_type": "code",
   "execution_count": 28,
   "metadata": {},
   "outputs": [],
   "source": [
    "# Etape 5 : Nettoyage pour retirer les oeuvres très courtes comme les cartoons de quelques minutes pour lesquelles les acteurs font seulement les voix\n",
    "actors_occurence_df5 = actors_occurence_df4[actors_occurence_df4['runtimeMinutes'] != '\\\\N']\n",
    "actors_occurence_df6 = actors_occurence_df5.astype({\"runtimeMinutes\": int})\n",
    "actors_occurence_df7 = actors_occurence_df6[actors_occurence_df6['runtimeMinutes'] > 20]"
   ]
  },
  {
   "cell_type": "code",
   "execution_count": 119,
   "metadata": {},
   "outputs": [],
   "source": [
    "# Etape 6 : Value_counts pour trouver les acteurs les plus présents\n",
    "actors_occurence_df8 = actors_occurence_df7['primaryName'].value_counts()\n",
    "actors_occurence_df9 = actors_occurence_df8.head(20)"
   ]
  },
  {
   "cell_type": "code",
   "execution_count": 123,
   "metadata": {},
   "outputs": [],
   "source": [
    "# Etape 7 : transformation d'une série en dataframe puis reset de l'index\n",
    "actors_occurence_df10 = pd.DataFrame(actors_occurence_df9)\n",
    "actors_occurence_df10.reset_index(inplace=True)"
   ]
  },
  {
   "cell_type": "code",
   "execution_count": 125,
   "metadata": {},
   "outputs": [],
   "source": [
    "# # Etape 8 : Sauvegarde du dataframe\n",
    "actors_occurence_df10.to_csv(r'C:\\Users\\Berenger\\Desktop\\projet abc\\presence_acteurs.csv', index = False, header = True)"
   ]
  },
  {
   "cell_type": "code",
   "execution_count": 3,
   "metadata": {},
   "outputs": [
    {
     "data": {
      "text/html": [
       "<div>\n",
       "<style scoped>\n",
       "    .dataframe tbody tr th:only-of-type {\n",
       "        vertical-align: middle;\n",
       "    }\n",
       "\n",
       "    .dataframe tbody tr th {\n",
       "        vertical-align: top;\n",
       "    }\n",
       "\n",
       "    .dataframe thead th {\n",
       "        text-align: right;\n",
       "    }\n",
       "</style>\n",
       "<table border=\"1\" class=\"dataframe\">\n",
       "  <thead>\n",
       "    <tr style=\"text-align: right;\">\n",
       "      <th></th>\n",
       "      <th>index</th>\n",
       "      <th>primaryName</th>\n",
       "    </tr>\n",
       "  </thead>\n",
       "  <tbody>\n",
       "    <tr>\n",
       "      <th>0</th>\n",
       "      <td>Mohanlal</td>\n",
       "      <td>236</td>\n",
       "    </tr>\n",
       "    <tr>\n",
       "      <th>1</th>\n",
       "      <td>Eric Roberts</td>\n",
       "      <td>227</td>\n",
       "    </tr>\n",
       "    <tr>\n",
       "      <th>2</th>\n",
       "      <td>Mammootty</td>\n",
       "      <td>224</td>\n",
       "    </tr>\n",
       "    <tr>\n",
       "      <th>3</th>\n",
       "      <td>Cüneyt Arkin</td>\n",
       "      <td>219</td>\n",
       "    </tr>\n",
       "    <tr>\n",
       "      <th>4</th>\n",
       "      <td>Raymond Hatton</td>\n",
       "      <td>202</td>\n",
       "    </tr>\n",
       "  </tbody>\n",
       "</table>\n",
       "</div>"
      ],
      "text/plain": [
       "            index  primaryName\n",
       "0        Mohanlal          236\n",
       "1    Eric Roberts          227\n",
       "2       Mammootty          224\n",
       "3    Cüneyt Arkin          219\n",
       "4  Raymond Hatton          202"
      ]
     },
     "execution_count": 3,
     "metadata": {},
     "output_type": "execute_result"
    }
   ],
   "source": [
    "# # Etape 9 : Chargement du dataframe\n",
    "presence_acteur = pd.read_csv(r\"C:\\Users\\Berenger\\Desktop\\projet abc\\presence_acteurs.csv\")\n",
    "presence_acteur.head()"
   ]
  },
  {
   "cell_type": "code",
   "execution_count": 4,
   "metadata": {},
   "outputs": [
    {
     "data": {
      "application/vnd.plotly.v1+json": {
       "config": {
        "plotlyServerURL": "https://plot.ly"
       },
       "data": [
        {
         "alignmentgroup": "True",
         "hovertemplate": "Acteurs=%{y}<br>Nombre de films=%{x}<extra></extra>",
         "legendgroup": "Mohanlal",
         "marker": {
          "color": "#636efa",
          "pattern": {
           "shape": ""
          }
         },
         "name": "Mohanlal",
         "offsetgroup": "Mohanlal",
         "orientation": "h",
         "showlegend": true,
         "textposition": "auto",
         "type": "bar",
         "x": [
          236
         ],
         "xaxis": "x",
         "y": [
          "Mohanlal"
         ],
         "yaxis": "y"
        },
        {
         "alignmentgroup": "True",
         "hovertemplate": "Acteurs=%{y}<br>Nombre de films=%{x}<extra></extra>",
         "legendgroup": "Eric Roberts",
         "marker": {
          "color": "#EF553B",
          "pattern": {
           "shape": ""
          }
         },
         "name": "Eric Roberts",
         "offsetgroup": "Eric Roberts",
         "orientation": "h",
         "showlegend": true,
         "textposition": "auto",
         "type": "bar",
         "x": [
          227
         ],
         "xaxis": "x",
         "y": [
          "Eric Roberts"
         ],
         "yaxis": "y"
        },
        {
         "alignmentgroup": "True",
         "hovertemplate": "Acteurs=%{y}<br>Nombre de films=%{x}<extra></extra>",
         "legendgroup": "Mammootty",
         "marker": {
          "color": "#00cc96",
          "pattern": {
           "shape": ""
          }
         },
         "name": "Mammootty",
         "offsetgroup": "Mammootty",
         "orientation": "h",
         "showlegend": true,
         "textposition": "auto",
         "type": "bar",
         "x": [
          224
         ],
         "xaxis": "x",
         "y": [
          "Mammootty"
         ],
         "yaxis": "y"
        },
        {
         "alignmentgroup": "True",
         "hovertemplate": "Acteurs=%{y}<br>Nombre de films=%{x}<extra></extra>",
         "legendgroup": "Cüneyt Arkin",
         "marker": {
          "color": "#ab63fa",
          "pattern": {
           "shape": ""
          }
         },
         "name": "Cüneyt Arkin",
         "offsetgroup": "Cüneyt Arkin",
         "orientation": "h",
         "showlegend": true,
         "textposition": "auto",
         "type": "bar",
         "x": [
          219
         ],
         "xaxis": "x",
         "y": [
          "Cüneyt Arkin"
         ],
         "yaxis": "y"
        },
        {
         "alignmentgroup": "True",
         "hovertemplate": "Acteurs=%{y}<br>Nombre de films=%{x}<extra></extra>",
         "legendgroup": "Raymond Hatton",
         "marker": {
          "color": "#FFA15A",
          "pattern": {
           "shape": ""
          }
         },
         "name": "Raymond Hatton",
         "offsetgroup": "Raymond Hatton",
         "orientation": "h",
         "showlegend": true,
         "textposition": "auto",
         "type": "bar",
         "x": [
          202
         ],
         "xaxis": "x",
         "y": [
          "Raymond Hatton"
         ],
         "yaxis": "y"
        },
        {
         "alignmentgroup": "True",
         "hovertemplate": "Acteurs=%{y}<br>Nombre de films=%{x}<extra></extra>",
         "legendgroup": "Mithun Chakraborty",
         "marker": {
          "color": "#19d3f3",
          "pattern": {
           "shape": ""
          }
         },
         "name": "Mithun Chakraborty",
         "offsetgroup": "Mithun Chakraborty",
         "orientation": "h",
         "showlegend": true,
         "textposition": "auto",
         "type": "bar",
         "x": [
          178
         ],
         "xaxis": "x",
         "y": [
          "Mithun Chakraborty"
         ],
         "yaxis": "y"
        },
        {
         "alignmentgroup": "True",
         "hovertemplate": "Acteurs=%{y}<br>Nombre de films=%{x}<extra></extra>",
         "legendgroup": "Seiji Nakamitsu",
         "marker": {
          "color": "#FF6692",
          "pattern": {
           "shape": ""
          }
         },
         "name": "Seiji Nakamitsu",
         "offsetgroup": "Seiji Nakamitsu",
         "orientation": "h",
         "showlegend": true,
         "textposition": "auto",
         "type": "bar",
         "x": [
          159
         ],
         "xaxis": "x",
         "y": [
          "Seiji Nakamitsu"
         ],
         "yaxis": "y"
        },
        {
         "alignmentgroup": "True",
         "hovertemplate": "Acteurs=%{y}<br>Nombre de films=%{x}<extra></extra>",
         "legendgroup": "Amitabh Bachchan",
         "marker": {
          "color": "#B6E880",
          "pattern": {
           "shape": ""
          }
         },
         "name": "Amitabh Bachchan",
         "offsetgroup": "Amitabh Bachchan",
         "orientation": "h",
         "showlegend": true,
         "textposition": "auto",
         "type": "bar",
         "x": [
          158
         ],
         "xaxis": "x",
         "y": [
          "Amitabh Bachchan"
         ],
         "yaxis": "y"
        },
        {
         "alignmentgroup": "True",
         "hovertemplate": "Acteurs=%{y}<br>Nombre de films=%{x}<extra></extra>",
         "legendgroup": "Charles Starrett",
         "marker": {
          "color": "#FF97FF",
          "pattern": {
           "shape": ""
          }
         },
         "name": "Charles Starrett",
         "offsetgroup": "Charles Starrett",
         "orientation": "h",
         "showlegend": true,
         "textposition": "auto",
         "type": "bar",
         "x": [
          157
         ],
         "xaxis": "x",
         "y": [
          "Charles Starrett"
         ],
         "yaxis": "y"
        },
        {
         "alignmentgroup": "True",
         "hovertemplate": "Acteurs=%{y}<br>Nombre de films=%{x}<extra></extra>",
         "legendgroup": "Dharmendra",
         "marker": {
          "color": "#FECB52",
          "pattern": {
           "shape": ""
          }
         },
         "name": "Dharmendra",
         "offsetgroup": "Dharmendra",
         "orientation": "h",
         "showlegend": true,
         "textposition": "auto",
         "type": "bar",
         "x": [
          150
         ],
         "xaxis": "x",
         "y": [
          "Dharmendra"
         ],
         "yaxis": "y"
        },
        {
         "alignmentgroup": "True",
         "hovertemplate": "Acteurs=%{y}<br>Nombre de films=%{x}<extra></extra>",
         "legendgroup": "Johnny Mack Brown",
         "marker": {
          "color": "#636efa",
          "pattern": {
           "shape": ""
          }
         },
         "name": "Johnny Mack Brown",
         "offsetgroup": "Johnny Mack Brown",
         "orientation": "h",
         "showlegend": true,
         "textposition": "auto",
         "type": "bar",
         "x": [
          150
         ],
         "xaxis": "x",
         "y": [
          "Johnny Mack Brown"
         ],
         "yaxis": "y"
        },
        {
         "alignmentgroup": "True",
         "hovertemplate": "Acteurs=%{y}<br>Nombre de films=%{x}<extra></extra>",
         "legendgroup": "Gérard Depardieu",
         "marker": {
          "color": "#EF553B",
          "pattern": {
           "shape": ""
          }
         },
         "name": "Gérard Depardieu",
         "offsetgroup": "Gérard Depardieu",
         "orientation": "h",
         "showlegend": true,
         "textposition": "auto",
         "type": "bar",
         "x": [
          148
         ],
         "xaxis": "x",
         "y": [
          "Gérard Depardieu"
         ],
         "yaxis": "y"
        },
        {
         "alignmentgroup": "True",
         "hovertemplate": "Acteurs=%{y}<br>Nombre de films=%{x}<extra></extra>",
         "legendgroup": "Jack Holt",
         "marker": {
          "color": "#00cc96",
          "pattern": {
           "shape": ""
          }
         },
         "name": "Jack Holt",
         "offsetgroup": "Jack Holt",
         "orientation": "h",
         "showlegend": true,
         "textposition": "auto",
         "type": "bar",
         "x": [
          146
         ],
         "xaxis": "x",
         "y": [
          "Jack Holt"
         ],
         "yaxis": "y"
        },
        {
         "alignmentgroup": "True",
         "hovertemplate": "Acteurs=%{y}<br>Nombre de films=%{x}<extra></extra>",
         "legendgroup": "Jamie Gillis",
         "marker": {
          "color": "#ab63fa",
          "pattern": {
           "shape": ""
          }
         },
         "name": "Jamie Gillis",
         "offsetgroup": "Jamie Gillis",
         "orientation": "h",
         "showlegend": true,
         "textposition": "auto",
         "type": "bar",
         "x": [
          145
         ],
         "xaxis": "x",
         "y": [
          "Jamie Gillis"
         ],
         "yaxis": "y"
        },
        {
         "alignmentgroup": "True",
         "hovertemplate": "Acteurs=%{y}<br>Nombre de films=%{x}<extra></extra>",
         "legendgroup": "Buck Jones",
         "marker": {
          "color": "#FFA15A",
          "pattern": {
           "shape": ""
          }
         },
         "name": "Buck Jones",
         "offsetgroup": "Buck Jones",
         "orientation": "h",
         "showlegend": true,
         "textposition": "auto",
         "type": "bar",
         "x": [
          143
         ],
         "xaxis": "x",
         "y": [
          "Buck Jones"
         ],
         "yaxis": "y"
        },
        {
         "alignmentgroup": "True",
         "hovertemplate": "Acteurs=%{y}<br>Nombre de films=%{x}<extra></extra>",
         "legendgroup": "Ashok Kumar",
         "marker": {
          "color": "#19d3f3",
          "pattern": {
           "shape": ""
          }
         },
         "name": "Ashok Kumar",
         "offsetgroup": "Ashok Kumar",
         "orientation": "h",
         "showlegend": true,
         "textposition": "auto",
         "type": "bar",
         "x": [
          142
         ],
         "xaxis": "x",
         "y": [
          "Ashok Kumar"
         ],
         "yaxis": "y"
        },
        {
         "alignmentgroup": "True",
         "hovertemplate": "Acteurs=%{y}<br>Nombre de films=%{x}<extra></extra>",
         "legendgroup": "Anupam Kher",
         "marker": {
          "color": "#FF6692",
          "pattern": {
           "shape": ""
          }
         },
         "name": "Anupam Kher",
         "offsetgroup": "Anupam Kher",
         "orientation": "h",
         "showlegend": true,
         "textposition": "auto",
         "type": "bar",
         "x": [
          141
         ],
         "xaxis": "x",
         "y": [
          "Anupam Kher"
         ],
         "yaxis": "y"
        },
        {
         "alignmentgroup": "True",
         "hovertemplate": "Acteurs=%{y}<br>Nombre de films=%{x}<extra></extra>",
         "legendgroup": "John Wayne",
         "marker": {
          "color": "#B6E880",
          "pattern": {
           "shape": ""
          }
         },
         "name": "John Wayne",
         "offsetgroup": "John Wayne",
         "orientation": "h",
         "showlegend": true,
         "textposition": "auto",
         "type": "bar",
         "x": [
          140
         ],
         "xaxis": "x",
         "y": [
          "John Wayne"
         ],
         "yaxis": "y"
        },
        {
         "alignmentgroup": "True",
         "hovertemplate": "Acteurs=%{y}<br>Nombre de films=%{x}<extra></extra>",
         "legendgroup": "Michael Madsen",
         "marker": {
          "color": "#FF97FF",
          "pattern": {
           "shape": ""
          }
         },
         "name": "Michael Madsen",
         "offsetgroup": "Michael Madsen",
         "orientation": "h",
         "showlegend": true,
         "textposition": "auto",
         "type": "bar",
         "x": [
          138
         ],
         "xaxis": "x",
         "y": [
          "Michael Madsen"
         ],
         "yaxis": "y"
        },
        {
         "alignmentgroup": "True",
         "hovertemplate": "Acteurs=%{y}<br>Nombre de films=%{x}<extra></extra>",
         "legendgroup": "Kamal Haasan",
         "marker": {
          "color": "#FECB52",
          "pattern": {
           "shape": ""
          }
         },
         "name": "Kamal Haasan",
         "offsetgroup": "Kamal Haasan",
         "orientation": "h",
         "showlegend": true,
         "textposition": "auto",
         "type": "bar",
         "x": [
          131
         ],
         "xaxis": "x",
         "y": [
          "Kamal Haasan"
         ],
         "yaxis": "y"
        }
       ],
       "layout": {
        "barmode": "relative",
        "height": 600,
        "legend": {
         "title": {
          "text": "Acteurs"
         },
         "tracegroupgap": 0
        },
        "showlegend": false,
        "template": {
         "data": {
          "bar": [
           {
            "error_x": {
             "color": "#2a3f5f"
            },
            "error_y": {
             "color": "#2a3f5f"
            },
            "marker": {
             "line": {
              "color": "#E5ECF6",
              "width": 0.5
             },
             "pattern": {
              "fillmode": "overlay",
              "size": 10,
              "solidity": 0.2
             }
            },
            "type": "bar"
           }
          ],
          "barpolar": [
           {
            "marker": {
             "line": {
              "color": "#E5ECF6",
              "width": 0.5
             },
             "pattern": {
              "fillmode": "overlay",
              "size": 10,
              "solidity": 0.2
             }
            },
            "type": "barpolar"
           }
          ],
          "carpet": [
           {
            "aaxis": {
             "endlinecolor": "#2a3f5f",
             "gridcolor": "white",
             "linecolor": "white",
             "minorgridcolor": "white",
             "startlinecolor": "#2a3f5f"
            },
            "baxis": {
             "endlinecolor": "#2a3f5f",
             "gridcolor": "white",
             "linecolor": "white",
             "minorgridcolor": "white",
             "startlinecolor": "#2a3f5f"
            },
            "type": "carpet"
           }
          ],
          "choropleth": [
           {
            "colorbar": {
             "outlinewidth": 0,
             "ticks": ""
            },
            "type": "choropleth"
           }
          ],
          "contour": [
           {
            "colorbar": {
             "outlinewidth": 0,
             "ticks": ""
            },
            "colorscale": [
             [
              0,
              "#0d0887"
             ],
             [
              0.1111111111111111,
              "#46039f"
             ],
             [
              0.2222222222222222,
              "#7201a8"
             ],
             [
              0.3333333333333333,
              "#9c179e"
             ],
             [
              0.4444444444444444,
              "#bd3786"
             ],
             [
              0.5555555555555556,
              "#d8576b"
             ],
             [
              0.6666666666666666,
              "#ed7953"
             ],
             [
              0.7777777777777778,
              "#fb9f3a"
             ],
             [
              0.8888888888888888,
              "#fdca26"
             ],
             [
              1,
              "#f0f921"
             ]
            ],
            "type": "contour"
           }
          ],
          "contourcarpet": [
           {
            "colorbar": {
             "outlinewidth": 0,
             "ticks": ""
            },
            "type": "contourcarpet"
           }
          ],
          "heatmap": [
           {
            "colorbar": {
             "outlinewidth": 0,
             "ticks": ""
            },
            "colorscale": [
             [
              0,
              "#0d0887"
             ],
             [
              0.1111111111111111,
              "#46039f"
             ],
             [
              0.2222222222222222,
              "#7201a8"
             ],
             [
              0.3333333333333333,
              "#9c179e"
             ],
             [
              0.4444444444444444,
              "#bd3786"
             ],
             [
              0.5555555555555556,
              "#d8576b"
             ],
             [
              0.6666666666666666,
              "#ed7953"
             ],
             [
              0.7777777777777778,
              "#fb9f3a"
             ],
             [
              0.8888888888888888,
              "#fdca26"
             ],
             [
              1,
              "#f0f921"
             ]
            ],
            "type": "heatmap"
           }
          ],
          "heatmapgl": [
           {
            "colorbar": {
             "outlinewidth": 0,
             "ticks": ""
            },
            "colorscale": [
             [
              0,
              "#0d0887"
             ],
             [
              0.1111111111111111,
              "#46039f"
             ],
             [
              0.2222222222222222,
              "#7201a8"
             ],
             [
              0.3333333333333333,
              "#9c179e"
             ],
             [
              0.4444444444444444,
              "#bd3786"
             ],
             [
              0.5555555555555556,
              "#d8576b"
             ],
             [
              0.6666666666666666,
              "#ed7953"
             ],
             [
              0.7777777777777778,
              "#fb9f3a"
             ],
             [
              0.8888888888888888,
              "#fdca26"
             ],
             [
              1,
              "#f0f921"
             ]
            ],
            "type": "heatmapgl"
           }
          ],
          "histogram": [
           {
            "marker": {
             "pattern": {
              "fillmode": "overlay",
              "size": 10,
              "solidity": 0.2
             }
            },
            "type": "histogram"
           }
          ],
          "histogram2d": [
           {
            "colorbar": {
             "outlinewidth": 0,
             "ticks": ""
            },
            "colorscale": [
             [
              0,
              "#0d0887"
             ],
             [
              0.1111111111111111,
              "#46039f"
             ],
             [
              0.2222222222222222,
              "#7201a8"
             ],
             [
              0.3333333333333333,
              "#9c179e"
             ],
             [
              0.4444444444444444,
              "#bd3786"
             ],
             [
              0.5555555555555556,
              "#d8576b"
             ],
             [
              0.6666666666666666,
              "#ed7953"
             ],
             [
              0.7777777777777778,
              "#fb9f3a"
             ],
             [
              0.8888888888888888,
              "#fdca26"
             ],
             [
              1,
              "#f0f921"
             ]
            ],
            "type": "histogram2d"
           }
          ],
          "histogram2dcontour": [
           {
            "colorbar": {
             "outlinewidth": 0,
             "ticks": ""
            },
            "colorscale": [
             [
              0,
              "#0d0887"
             ],
             [
              0.1111111111111111,
              "#46039f"
             ],
             [
              0.2222222222222222,
              "#7201a8"
             ],
             [
              0.3333333333333333,
              "#9c179e"
             ],
             [
              0.4444444444444444,
              "#bd3786"
             ],
             [
              0.5555555555555556,
              "#d8576b"
             ],
             [
              0.6666666666666666,
              "#ed7953"
             ],
             [
              0.7777777777777778,
              "#fb9f3a"
             ],
             [
              0.8888888888888888,
              "#fdca26"
             ],
             [
              1,
              "#f0f921"
             ]
            ],
            "type": "histogram2dcontour"
           }
          ],
          "mesh3d": [
           {
            "colorbar": {
             "outlinewidth": 0,
             "ticks": ""
            },
            "type": "mesh3d"
           }
          ],
          "parcoords": [
           {
            "line": {
             "colorbar": {
              "outlinewidth": 0,
              "ticks": ""
             }
            },
            "type": "parcoords"
           }
          ],
          "pie": [
           {
            "automargin": true,
            "type": "pie"
           }
          ],
          "scatter": [
           {
            "marker": {
             "colorbar": {
              "outlinewidth": 0,
              "ticks": ""
             }
            },
            "type": "scatter"
           }
          ],
          "scatter3d": [
           {
            "line": {
             "colorbar": {
              "outlinewidth": 0,
              "ticks": ""
             }
            },
            "marker": {
             "colorbar": {
              "outlinewidth": 0,
              "ticks": ""
             }
            },
            "type": "scatter3d"
           }
          ],
          "scattercarpet": [
           {
            "marker": {
             "colorbar": {
              "outlinewidth": 0,
              "ticks": ""
             }
            },
            "type": "scattercarpet"
           }
          ],
          "scattergeo": [
           {
            "marker": {
             "colorbar": {
              "outlinewidth": 0,
              "ticks": ""
             }
            },
            "type": "scattergeo"
           }
          ],
          "scattergl": [
           {
            "marker": {
             "colorbar": {
              "outlinewidth": 0,
              "ticks": ""
             }
            },
            "type": "scattergl"
           }
          ],
          "scattermapbox": [
           {
            "marker": {
             "colorbar": {
              "outlinewidth": 0,
              "ticks": ""
             }
            },
            "type": "scattermapbox"
           }
          ],
          "scatterpolar": [
           {
            "marker": {
             "colorbar": {
              "outlinewidth": 0,
              "ticks": ""
             }
            },
            "type": "scatterpolar"
           }
          ],
          "scatterpolargl": [
           {
            "marker": {
             "colorbar": {
              "outlinewidth": 0,
              "ticks": ""
             }
            },
            "type": "scatterpolargl"
           }
          ],
          "scatterternary": [
           {
            "marker": {
             "colorbar": {
              "outlinewidth": 0,
              "ticks": ""
             }
            },
            "type": "scatterternary"
           }
          ],
          "surface": [
           {
            "colorbar": {
             "outlinewidth": 0,
             "ticks": ""
            },
            "colorscale": [
             [
              0,
              "#0d0887"
             ],
             [
              0.1111111111111111,
              "#46039f"
             ],
             [
              0.2222222222222222,
              "#7201a8"
             ],
             [
              0.3333333333333333,
              "#9c179e"
             ],
             [
              0.4444444444444444,
              "#bd3786"
             ],
             [
              0.5555555555555556,
              "#d8576b"
             ],
             [
              0.6666666666666666,
              "#ed7953"
             ],
             [
              0.7777777777777778,
              "#fb9f3a"
             ],
             [
              0.8888888888888888,
              "#fdca26"
             ],
             [
              1,
              "#f0f921"
             ]
            ],
            "type": "surface"
           }
          ],
          "table": [
           {
            "cells": {
             "fill": {
              "color": "#EBF0F8"
             },
             "line": {
              "color": "white"
             }
            },
            "header": {
             "fill": {
              "color": "#C8D4E3"
             },
             "line": {
              "color": "white"
             }
            },
            "type": "table"
           }
          ]
         },
         "layout": {
          "annotationdefaults": {
           "arrowcolor": "#2a3f5f",
           "arrowhead": 0,
           "arrowwidth": 1
          },
          "autotypenumbers": "strict",
          "coloraxis": {
           "colorbar": {
            "outlinewidth": 0,
            "ticks": ""
           }
          },
          "colorscale": {
           "diverging": [
            [
             0,
             "#8e0152"
            ],
            [
             0.1,
             "#c51b7d"
            ],
            [
             0.2,
             "#de77ae"
            ],
            [
             0.3,
             "#f1b6da"
            ],
            [
             0.4,
             "#fde0ef"
            ],
            [
             0.5,
             "#f7f7f7"
            ],
            [
             0.6,
             "#e6f5d0"
            ],
            [
             0.7,
             "#b8e186"
            ],
            [
             0.8,
             "#7fbc41"
            ],
            [
             0.9,
             "#4d9221"
            ],
            [
             1,
             "#276419"
            ]
           ],
           "sequential": [
            [
             0,
             "#0d0887"
            ],
            [
             0.1111111111111111,
             "#46039f"
            ],
            [
             0.2222222222222222,
             "#7201a8"
            ],
            [
             0.3333333333333333,
             "#9c179e"
            ],
            [
             0.4444444444444444,
             "#bd3786"
            ],
            [
             0.5555555555555556,
             "#d8576b"
            ],
            [
             0.6666666666666666,
             "#ed7953"
            ],
            [
             0.7777777777777778,
             "#fb9f3a"
            ],
            [
             0.8888888888888888,
             "#fdca26"
            ],
            [
             1,
             "#f0f921"
            ]
           ],
           "sequentialminus": [
            [
             0,
             "#0d0887"
            ],
            [
             0.1111111111111111,
             "#46039f"
            ],
            [
             0.2222222222222222,
             "#7201a8"
            ],
            [
             0.3333333333333333,
             "#9c179e"
            ],
            [
             0.4444444444444444,
             "#bd3786"
            ],
            [
             0.5555555555555556,
             "#d8576b"
            ],
            [
             0.6666666666666666,
             "#ed7953"
            ],
            [
             0.7777777777777778,
             "#fb9f3a"
            ],
            [
             0.8888888888888888,
             "#fdca26"
            ],
            [
             1,
             "#f0f921"
            ]
           ]
          },
          "colorway": [
           "#636efa",
           "#EF553B",
           "#00cc96",
           "#ab63fa",
           "#FFA15A",
           "#19d3f3",
           "#FF6692",
           "#B6E880",
           "#FF97FF",
           "#FECB52"
          ],
          "font": {
           "color": "#2a3f5f"
          },
          "geo": {
           "bgcolor": "white",
           "lakecolor": "white",
           "landcolor": "#E5ECF6",
           "showlakes": true,
           "showland": true,
           "subunitcolor": "white"
          },
          "hoverlabel": {
           "align": "left"
          },
          "hovermode": "closest",
          "mapbox": {
           "style": "light"
          },
          "paper_bgcolor": "white",
          "plot_bgcolor": "#E5ECF6",
          "polar": {
           "angularaxis": {
            "gridcolor": "white",
            "linecolor": "white",
            "ticks": ""
           },
           "bgcolor": "#E5ECF6",
           "radialaxis": {
            "gridcolor": "white",
            "linecolor": "white",
            "ticks": ""
           }
          },
          "scene": {
           "xaxis": {
            "backgroundcolor": "#E5ECF6",
            "gridcolor": "white",
            "gridwidth": 2,
            "linecolor": "white",
            "showbackground": true,
            "ticks": "",
            "zerolinecolor": "white"
           },
           "yaxis": {
            "backgroundcolor": "#E5ECF6",
            "gridcolor": "white",
            "gridwidth": 2,
            "linecolor": "white",
            "showbackground": true,
            "ticks": "",
            "zerolinecolor": "white"
           },
           "zaxis": {
            "backgroundcolor": "#E5ECF6",
            "gridcolor": "white",
            "gridwidth": 2,
            "linecolor": "white",
            "showbackground": true,
            "ticks": "",
            "zerolinecolor": "white"
           }
          },
          "shapedefaults": {
           "line": {
            "color": "#2a3f5f"
           }
          },
          "ternary": {
           "aaxis": {
            "gridcolor": "white",
            "linecolor": "white",
            "ticks": ""
           },
           "baxis": {
            "gridcolor": "white",
            "linecolor": "white",
            "ticks": ""
           },
           "bgcolor": "#E5ECF6",
           "caxis": {
            "gridcolor": "white",
            "linecolor": "white",
            "ticks": ""
           }
          },
          "title": {
           "x": 0.05
          },
          "xaxis": {
           "automargin": true,
           "gridcolor": "white",
           "linecolor": "white",
           "ticks": "",
           "title": {
            "standoff": 15
           },
           "zerolinecolor": "white",
           "zerolinewidth": 2
          },
          "yaxis": {
           "automargin": true,
           "gridcolor": "white",
           "linecolor": "white",
           "ticks": "",
           "title": {
            "standoff": 15
           },
           "zerolinecolor": "white",
           "zerolinewidth": 2
          }
         }
        },
        "title": {
         "text": "Quels sont les acteurs les plus présents ?",
         "x": 0.5
        },
        "width": 800,
        "xaxis": {
         "anchor": "y",
         "domain": [
          0,
          1
         ],
         "title": {
          "text": "Nombre de films"
         }
        },
        "yaxis": {
         "anchor": "x",
         "categoryarray": [
          "Kamal Haasan",
          "Michael Madsen",
          "John Wayne",
          "Anupam Kher",
          "Ashok Kumar",
          "Buck Jones",
          "Jamie Gillis",
          "Jack Holt",
          "Gérard Depardieu",
          "Johnny Mack Brown",
          "Dharmendra",
          "Charles Starrett",
          "Amitabh Bachchan",
          "Seiji Nakamitsu",
          "Mithun Chakraborty",
          "Raymond Hatton",
          "Cüneyt Arkin",
          "Mammootty",
          "Eric Roberts",
          "Mohanlal"
         ],
         "categoryorder": "array",
         "domain": [
          0,
          1
         ],
         "title": {
          "text": "Acteurs"
         },
         "visible": true
        }
       }
      }
     },
     "metadata": {},
     "output_type": "display_data"
    }
   ],
   "source": [
    "# étape 10 : visualisation\n",
    "fig = px.bar(presence_acteur, x=\"primaryName\", y ='index', color = 'index',\n",
    "    title = 'Quels sont les acteurs les plus présents ?',\n",
    "    labels = {'primaryName': 'Nombre de films', 'index': 'Acteurs'},\n",
    "    width=800, height=600)\n",
    "\n",
    "fig.update_layout(showlegend=False, title_x=0.5, yaxis={'visible': True})"
   ]
  },
  {
   "cell_type": "markdown",
   "metadata": {},
   "source": [
    "# <span style=\"color:orange\">Quels sont les acteurs les plus présents ? A quelle période ?</span> "
   ]
  },
  {
   "cell_type": "code",
   "execution_count": 128,
   "metadata": {},
   "outputs": [],
   "source": [
    "# étape 1 : Nettoyage de la base de données pour retirer les titres qui n'ont pas de startYear\n",
    "actors_occurence_df8 = actors_occurence_df7[actors_occurence_df7['startYear'] != \"\\\\N\"]\n",
    "# Garder les colonnes primaryName et startYear pour alléger le dataset\n",
    "actors_occurence_df9 = actors_occurence_df8[[\"primaryName\", \"startYear\"]]\n",
    "# Reset de l'index\n",
    "actors_occurence_df10 = actors_occurence_df9.reset_index(drop=True)"
   ]
  },
  {
   "cell_type": "code",
   "execution_count": 17,
   "metadata": {},
   "outputs": [
    {
     "name": "stdout",
     "output_type": "stream",
     "text": [
      "1930 - 1940\n"
     ]
    }
   ],
   "source": [
    "# étape 2 : création d'une fonction pour transformer une date en décennie\n",
    "def find_decade(year):\n",
    "    decade1 = (year // 10 * 10)\n",
    "    decade2 = (year // 10 * 10) + 10\n",
    "    return str(decade1) + \" - \" + str(decade2)\n",
    "\n",
    "print(find_decade(1934))\n"
   ]
  },
  {
   "cell_type": "code",
   "execution_count": 130,
   "metadata": {},
   "outputs": [],
   "source": [
    "# étape 3 : application de la fonction\n",
    "actors_occurence_df11 = actors_occurence_df10.astype({\"startYear\": int})\n",
    "actors_occurence_df11[\"startYear\"] = actors_occurence_df11[\"startYear\"].apply(find_decade)"
   ]
  },
  {
   "cell_type": "code",
   "execution_count": 131,
   "metadata": {},
   "outputs": [],
   "source": [
    "# étape 4 : reset de l'index\n",
    "actors_occurence_df11.reset_index(inplace=True)"
   ]
  },
  {
   "cell_type": "code",
   "execution_count": 132,
   "metadata": {},
   "outputs": [
    {
     "data": {
      "text/html": [
       "<div>\n",
       "<style scoped>\n",
       "    .dataframe tbody tr th:only-of-type {\n",
       "        vertical-align: middle;\n",
       "    }\n",
       "\n",
       "    .dataframe tbody tr th {\n",
       "        vertical-align: top;\n",
       "    }\n",
       "\n",
       "    .dataframe thead th {\n",
       "        text-align: right;\n",
       "    }\n",
       "</style>\n",
       "<table border=\"1\" class=\"dataframe\">\n",
       "  <thead>\n",
       "    <tr style=\"text-align: right;\">\n",
       "      <th></th>\n",
       "      <th></th>\n",
       "      <th>count</th>\n",
       "    </tr>\n",
       "    <tr>\n",
       "      <th>startYear</th>\n",
       "      <th>primaryName</th>\n",
       "      <th></th>\n",
       "    </tr>\n",
       "  </thead>\n",
       "  <tbody>\n",
       "    <tr>\n",
       "      <th rowspan=\"3\" valign=\"top\">1890 - 1900</th>\n",
       "      <th>Blanche Bayliss</th>\n",
       "      <td>1</td>\n",
       "    </tr>\n",
       "    <tr>\n",
       "      <th>Chauncey Depew</th>\n",
       "      <td>1</td>\n",
       "    </tr>\n",
       "    <tr>\n",
       "      <th>William Courtenay</th>\n",
       "      <td>1</td>\n",
       "    </tr>\n",
       "    <tr>\n",
       "      <th rowspan=\"2\" valign=\"top\">1900 - 1910</th>\n",
       "      <th>Adelaide Fitz-Allen</th>\n",
       "      <td>1</td>\n",
       "    </tr>\n",
       "    <tr>\n",
       "      <th>Alexandre Arquillière</th>\n",
       "      <td>1</td>\n",
       "    </tr>\n",
       "  </tbody>\n",
       "</table>\n",
       "</div>"
      ],
      "text/plain": [
       "                                   count\n",
       "startYear   primaryName                 \n",
       "1890 - 1900 Blanche Bayliss            1\n",
       "            Chauncey Depew             1\n",
       "            William Courtenay          1\n",
       "1900 - 1910 Adelaide Fitz-Allen        1\n",
       "            Alexandre Arquillière      1"
      ]
     },
     "execution_count": 132,
     "metadata": {},
     "output_type": "execute_result"
    }
   ],
   "source": [
    "# étape 5 : groupby sur la startYear et primaryName\n",
    "df_grouped_notreset  = pd.DataFrame({'count' : actors_occurence_df11.groupby(['startYear', 'primaryName'] ).size()})\n",
    "df_grouped_notreset.head()"
   ]
  },
  {
   "cell_type": "code",
   "execution_count": 133,
   "metadata": {},
   "outputs": [
    {
     "data": {
      "text/html": [
       "<div>\n",
       "<style scoped>\n",
       "    .dataframe tbody tr th:only-of-type {\n",
       "        vertical-align: middle;\n",
       "    }\n",
       "\n",
       "    .dataframe tbody tr th {\n",
       "        vertical-align: top;\n",
       "    }\n",
       "\n",
       "    .dataframe thead th {\n",
       "        text-align: right;\n",
       "    }\n",
       "</style>\n",
       "<table border=\"1\" class=\"dataframe\">\n",
       "  <thead>\n",
       "    <tr style=\"text-align: right;\">\n",
       "      <th></th>\n",
       "      <th></th>\n",
       "      <th>count</th>\n",
       "    </tr>\n",
       "    <tr>\n",
       "      <th>startYear</th>\n",
       "      <th>primaryName</th>\n",
       "      <th></th>\n",
       "    </tr>\n",
       "  </thead>\n",
       "  <tbody>\n",
       "    <tr>\n",
       "      <th rowspan=\"5\" valign=\"top\">2020 - 2030</th>\n",
       "      <th>Eric Roberts</th>\n",
       "      <td>30</td>\n",
       "    </tr>\n",
       "    <tr>\n",
       "      <th>Ross K. Foad</th>\n",
       "      <td>24</td>\n",
       "    </tr>\n",
       "    <tr>\n",
       "      <th>Simon Hill</th>\n",
       "      <td>24</td>\n",
       "    </tr>\n",
       "    <tr>\n",
       "      <th>Cascade Nerida</th>\n",
       "      <td>15</td>\n",
       "    </tr>\n",
       "    <tr>\n",
       "      <th>Shawn C. Phillips</th>\n",
       "      <td>15</td>\n",
       "    </tr>\n",
       "  </tbody>\n",
       "</table>\n",
       "</div>"
      ],
      "text/plain": [
       "                               count\n",
       "startYear   primaryName             \n",
       "2020 - 2030 Eric Roberts          30\n",
       "            Ross K. Foad          24\n",
       "            Simon Hill            24\n",
       "            Cascade Nerida        15\n",
       "            Shawn C. Phillips     15"
      ]
     },
     "execution_count": 133,
     "metadata": {},
     "output_type": "execute_result"
    }
   ],
   "source": [
    "# étape 6 : placer les résultats du count du plus haut au plus bas\n",
    "df_grouped_notreset_sorted=df_grouped_notreset.sort_values(['startYear', 'count'], ascending=False)\n",
    "df_grouped_notreset_sorted.head()"
   ]
  },
  {
   "cell_type": "code",
   "execution_count": 134,
   "metadata": {},
   "outputs": [
    {
     "data": {
      "text/plain": [
       "startYear    primaryName          \n",
       "1890 - 1900  Blanche Bayliss          1\n",
       "             Chauncey Depew           1\n",
       "             William Courtenay        1\n",
       "1900 - 1910  Adelaide Fitz-Allen      1\n",
       "             Alexandre Arquillière    1\n",
       "dtype: int64"
      ]
     },
     "execution_count": 134,
     "metadata": {},
     "output_type": "execute_result"
    }
   ],
   "source": [
    "groupedDf = actors_occurence_df11.groupby(['startYear', 'primaryName'] ).size()\n",
    "groupedDf.head()"
   ]
  },
  {
   "cell_type": "code",
   "execution_count": 135,
   "metadata": {},
   "outputs": [],
   "source": [
    "# étape 7 : Récupérer uniquement les 5 plus hautes valeur de la colonne count\n",
    "df_final  = pd.DataFrame({'count' : groupedDf.groupby(level='startYear').nlargest(5).reset_index(level=0, drop=True)})"
   ]
  },
  {
   "cell_type": "code",
   "execution_count": 136,
   "metadata": {},
   "outputs": [],
   "source": [
    "df_final.reset_index(inplace=True)\n",
    "df_final[\"test\"] = df_final.index"
   ]
  },
  {
   "cell_type": "code",
   "execution_count": 137,
   "metadata": {},
   "outputs": [],
   "source": [
    "df_final2 = df_final.tail(60)"
   ]
  },
  {
   "cell_type": "code",
   "execution_count": 6,
   "metadata": {},
   "outputs": [
    {
     "data": {
      "text/html": [
       "<div>\n",
       "<style scoped>\n",
       "    .dataframe tbody tr th:only-of-type {\n",
       "        vertical-align: middle;\n",
       "    }\n",
       "\n",
       "    .dataframe tbody tr th {\n",
       "        vertical-align: top;\n",
       "    }\n",
       "\n",
       "    .dataframe thead th {\n",
       "        text-align: right;\n",
       "    }\n",
       "</style>\n",
       "<table border=\"1\" class=\"dataframe\">\n",
       "  <thead>\n",
       "    <tr style=\"text-align: right;\">\n",
       "      <th></th>\n",
       "      <th>startYear</th>\n",
       "      <th>primaryName</th>\n",
       "      <th>count</th>\n",
       "      <th>test</th>\n",
       "      <th>rank</th>\n",
       "    </tr>\n",
       "  </thead>\n",
       "  <tbody>\n",
       "    <tr>\n",
       "      <th>0</th>\n",
       "      <td>1910 - 1920</td>\n",
       "      <td>Theodore Roberts</td>\n",
       "      <td>46</td>\n",
       "      <td>8</td>\n",
       "      <td>5.0</td>\n",
       "    </tr>\n",
       "    <tr>\n",
       "      <th>1</th>\n",
       "      <td>1910 - 1920</td>\n",
       "      <td>Lon Chaney</td>\n",
       "      <td>41</td>\n",
       "      <td>9</td>\n",
       "      <td>4.0</td>\n",
       "    </tr>\n",
       "    <tr>\n",
       "      <th>2</th>\n",
       "      <td>1910 - 1920</td>\n",
       "      <td>Charles Ray</td>\n",
       "      <td>40</td>\n",
       "      <td>10</td>\n",
       "      <td>1.0</td>\n",
       "    </tr>\n",
       "    <tr>\n",
       "      <th>3</th>\n",
       "      <td>1910 - 1920</td>\n",
       "      <td>Wallace Reid</td>\n",
       "      <td>40</td>\n",
       "      <td>11</td>\n",
       "      <td>2.0</td>\n",
       "    </tr>\n",
       "    <tr>\n",
       "      <th>4</th>\n",
       "      <td>1910 - 1920</td>\n",
       "      <td>William S. Hart</td>\n",
       "      <td>40</td>\n",
       "      <td>12</td>\n",
       "      <td>3.0</td>\n",
       "    </tr>\n",
       "  </tbody>\n",
       "</table>\n",
       "</div>"
      ],
      "text/plain": [
       "     startYear       primaryName  count  test  rank\n",
       "0  1910 - 1920  Theodore Roberts     46     8   5.0\n",
       "1  1910 - 1920        Lon Chaney     41     9   4.0\n",
       "2  1910 - 1920       Charles Ray     40    10   1.0\n",
       "3  1910 - 1920      Wallace Reid     40    11   2.0\n",
       "4  1910 - 1920   William S. Hart     40    12   3.0"
      ]
     },
     "execution_count": 6,
     "metadata": {},
     "output_type": "execute_result"
    }
   ],
   "source": [
    "acteur_par_periode['rank'] = acteur_par_periode.groupby('startYear')['count'].rank(method = 'first')\n",
    "acteur_par_periode.style.background_gradient(subset=pd.IndexSlice[:, ['rank']])\n",
    "acteur_par_periode.head(5)"
   ]
  },
  {
   "cell_type": "code",
   "execution_count": 7,
   "metadata": {},
   "outputs": [],
   "source": [
    "# # Etape 8 : Sauvegarde du dataframe\n",
    "acteur_par_periode.to_csv(r'C:\\Users\\Berenger\\Desktop\\projet abc\\acteur_par_periode.csv', index = False, header = True)"
   ]
  },
  {
   "cell_type": "code",
   "execution_count": 8,
   "metadata": {},
   "outputs": [
    {
     "data": {
      "text/html": [
       "<div>\n",
       "<style scoped>\n",
       "    .dataframe tbody tr th:only-of-type {\n",
       "        vertical-align: middle;\n",
       "    }\n",
       "\n",
       "    .dataframe tbody tr th {\n",
       "        vertical-align: top;\n",
       "    }\n",
       "\n",
       "    .dataframe thead th {\n",
       "        text-align: right;\n",
       "    }\n",
       "</style>\n",
       "<table border=\"1\" class=\"dataframe\">\n",
       "  <thead>\n",
       "    <tr style=\"text-align: right;\">\n",
       "      <th></th>\n",
       "      <th>startYear</th>\n",
       "      <th>primaryName</th>\n",
       "      <th>count</th>\n",
       "      <th>test</th>\n",
       "      <th>rank</th>\n",
       "    </tr>\n",
       "  </thead>\n",
       "  <tbody>\n",
       "    <tr>\n",
       "      <th>0</th>\n",
       "      <td>1910 - 1920</td>\n",
       "      <td>Theodore Roberts</td>\n",
       "      <td>46</td>\n",
       "      <td>8</td>\n",
       "      <td>5.0</td>\n",
       "    </tr>\n",
       "    <tr>\n",
       "      <th>1</th>\n",
       "      <td>1910 - 1920</td>\n",
       "      <td>Lon Chaney</td>\n",
       "      <td>41</td>\n",
       "      <td>9</td>\n",
       "      <td>4.0</td>\n",
       "    </tr>\n",
       "    <tr>\n",
       "      <th>2</th>\n",
       "      <td>1910 - 1920</td>\n",
       "      <td>Charles Ray</td>\n",
       "      <td>40</td>\n",
       "      <td>10</td>\n",
       "      <td>1.0</td>\n",
       "    </tr>\n",
       "    <tr>\n",
       "      <th>3</th>\n",
       "      <td>1910 - 1920</td>\n",
       "      <td>Wallace Reid</td>\n",
       "      <td>40</td>\n",
       "      <td>11</td>\n",
       "      <td>2.0</td>\n",
       "    </tr>\n",
       "    <tr>\n",
       "      <th>4</th>\n",
       "      <td>1910 - 1920</td>\n",
       "      <td>William S. Hart</td>\n",
       "      <td>40</td>\n",
       "      <td>12</td>\n",
       "      <td>3.0</td>\n",
       "    </tr>\n",
       "  </tbody>\n",
       "</table>\n",
       "</div>"
      ],
      "text/plain": [
       "     startYear       primaryName  count  test  rank\n",
       "0  1910 - 1920  Theodore Roberts     46     8   5.0\n",
       "1  1910 - 1920        Lon Chaney     41     9   4.0\n",
       "2  1910 - 1920       Charles Ray     40    10   1.0\n",
       "3  1910 - 1920      Wallace Reid     40    11   2.0\n",
       "4  1910 - 1920   William S. Hart     40    12   3.0"
      ]
     },
     "execution_count": 8,
     "metadata": {},
     "output_type": "execute_result"
    }
   ],
   "source": [
    "# # Etape 9 : Chargement du dataframe\n",
    "acteur_par_periode = pd.read_csv(r\"C:\\Users\\Berenger\\Desktop\\projet abc\\acteur_par_periode.csv\")\n",
    "acteur_par_periode.head()"
   ]
  },
  {
   "cell_type": "code",
   "execution_count": 6,
   "metadata": {},
   "outputs": [
    {
     "data": {
      "application/vnd.plotly.v1+json": {
       "config": {
        "plotlyServerURL": "https://plot.ly"
       },
       "data": [
        {
         "alignmentgroup": "True",
         "hovertemplate": "Acteurs=%{text}<br>Période=1910 - 1920<br>count=%{x}<br>rank=%{y}<extra></extra>",
         "legendgroup": "Theodore Roberts",
         "marker": {
          "color": "#636efa",
          "pattern": {
           "shape": ""
          }
         },
         "name": "Theodore Roberts",
         "offsetgroup": "Theodore Roberts",
         "orientation": "h",
         "showlegend": true,
         "text": [
          "Theodore Roberts"
         ],
         "textfont": {
          "size": 12
         },
         "textposition": "outside",
         "type": "bar",
         "x": [
          46
         ],
         "xaxis": "x",
         "y": [
          5
         ],
         "yaxis": "y"
        },
        {
         "alignmentgroup": "True",
         "hovertemplate": "Acteurs=%{text}<br>Période=1910 - 1920<br>count=%{x}<br>rank=%{y}<extra></extra>",
         "legendgroup": "Lon Chaney",
         "marker": {
          "color": "#EF553B",
          "pattern": {
           "shape": ""
          }
         },
         "name": "Lon Chaney",
         "offsetgroup": "Lon Chaney",
         "orientation": "h",
         "showlegend": true,
         "text": [
          "Lon Chaney"
         ],
         "textfont": {
          "size": 12
         },
         "textposition": "outside",
         "type": "bar",
         "x": [
          41
         ],
         "xaxis": "x",
         "y": [
          4
         ],
         "yaxis": "y"
        },
        {
         "alignmentgroup": "True",
         "hovertemplate": "Acteurs=%{text}<br>Période=1910 - 1920<br>count=%{x}<br>rank=%{y}<extra></extra>",
         "legendgroup": "Charles Ray",
         "marker": {
          "color": "#00cc96",
          "pattern": {
           "shape": ""
          }
         },
         "name": "Charles Ray",
         "offsetgroup": "Charles Ray",
         "orientation": "h",
         "showlegend": true,
         "text": [
          "Charles Ray"
         ],
         "textfont": {
          "size": 12
         },
         "textposition": "outside",
         "type": "bar",
         "x": [
          40
         ],
         "xaxis": "x",
         "y": [
          1
         ],
         "yaxis": "y"
        },
        {
         "alignmentgroup": "True",
         "hovertemplate": "Acteurs=%{text}<br>Période=1910 - 1920<br>count=%{x}<br>rank=%{y}<extra></extra>",
         "legendgroup": "Wallace Reid",
         "marker": {
          "color": "#ab63fa",
          "pattern": {
           "shape": ""
          }
         },
         "name": "Wallace Reid",
         "offsetgroup": "Wallace Reid",
         "orientation": "h",
         "showlegend": true,
         "text": [
          "Wallace Reid"
         ],
         "textfont": {
          "size": 12
         },
         "textposition": "outside",
         "type": "bar",
         "x": [
          40
         ],
         "xaxis": "x",
         "y": [
          2
         ],
         "yaxis": "y"
        },
        {
         "alignmentgroup": "True",
         "hovertemplate": "Acteurs=%{text}<br>Période=1910 - 1920<br>count=%{x}<br>rank=%{y}<extra></extra>",
         "legendgroup": "William S. Hart",
         "marker": {
          "color": "#FFA15A",
          "pattern": {
           "shape": ""
          }
         },
         "name": "William S. Hart",
         "offsetgroup": "William S. Hart",
         "orientation": "h",
         "showlegend": true,
         "text": [
          "William S. Hart"
         ],
         "textfont": {
          "size": 12
         },
         "textposition": "outside",
         "type": "bar",
         "x": [
          40
         ],
         "xaxis": "x",
         "y": [
          3
         ],
         "yaxis": "y"
        }
       ],
       "frames": [
        {
         "data": [
          {
           "alignmentgroup": "True",
           "hovertemplate": "Acteurs=%{text}<br>Période=1910 - 1920<br>count=%{x}<br>rank=%{y}<extra></extra>",
           "legendgroup": "Theodore Roberts",
           "marker": {
            "color": "#636efa",
            "pattern": {
             "shape": ""
            }
           },
           "name": "Theodore Roberts",
           "offsetgroup": "Theodore Roberts",
           "orientation": "h",
           "showlegend": true,
           "text": [
            "Theodore Roberts"
           ],
           "textposition": "auto",
           "type": "bar",
           "x": [
            46
           ],
           "xaxis": "x",
           "y": [
            5
           ],
           "yaxis": "y"
          },
          {
           "alignmentgroup": "True",
           "hovertemplate": "Acteurs=%{text}<br>Période=1910 - 1920<br>count=%{x}<br>rank=%{y}<extra></extra>",
           "legendgroup": "Lon Chaney",
           "marker": {
            "color": "#EF553B",
            "pattern": {
             "shape": ""
            }
           },
           "name": "Lon Chaney",
           "offsetgroup": "Lon Chaney",
           "orientation": "h",
           "showlegend": true,
           "text": [
            "Lon Chaney"
           ],
           "textposition": "auto",
           "type": "bar",
           "x": [
            41
           ],
           "xaxis": "x",
           "y": [
            4
           ],
           "yaxis": "y"
          },
          {
           "alignmentgroup": "True",
           "hovertemplate": "Acteurs=%{text}<br>Période=1910 - 1920<br>count=%{x}<br>rank=%{y}<extra></extra>",
           "legendgroup": "Charles Ray",
           "marker": {
            "color": "#00cc96",
            "pattern": {
             "shape": ""
            }
           },
           "name": "Charles Ray",
           "offsetgroup": "Charles Ray",
           "orientation": "h",
           "showlegend": true,
           "text": [
            "Charles Ray"
           ],
           "textposition": "auto",
           "type": "bar",
           "x": [
            40
           ],
           "xaxis": "x",
           "y": [
            1
           ],
           "yaxis": "y"
          },
          {
           "alignmentgroup": "True",
           "hovertemplate": "Acteurs=%{text}<br>Période=1910 - 1920<br>count=%{x}<br>rank=%{y}<extra></extra>",
           "legendgroup": "Wallace Reid",
           "marker": {
            "color": "#ab63fa",
            "pattern": {
             "shape": ""
            }
           },
           "name": "Wallace Reid",
           "offsetgroup": "Wallace Reid",
           "orientation": "h",
           "showlegend": true,
           "text": [
            "Wallace Reid"
           ],
           "textposition": "auto",
           "type": "bar",
           "x": [
            40
           ],
           "xaxis": "x",
           "y": [
            2
           ],
           "yaxis": "y"
          },
          {
           "alignmentgroup": "True",
           "hovertemplate": "Acteurs=%{text}<br>Période=1910 - 1920<br>count=%{x}<br>rank=%{y}<extra></extra>",
           "legendgroup": "William S. Hart",
           "marker": {
            "color": "#FFA15A",
            "pattern": {
             "shape": ""
            }
           },
           "name": "William S. Hart",
           "offsetgroup": "William S. Hart",
           "orientation": "h",
           "showlegend": true,
           "text": [
            "William S. Hart"
           ],
           "textposition": "auto",
           "type": "bar",
           "x": [
            40
           ],
           "xaxis": "x",
           "y": [
            3
           ],
           "yaxis": "y"
          }
         ],
         "name": "1910 - 1920"
        },
        {
         "data": [
          {
           "alignmentgroup": "True",
           "hovertemplate": "Acteurs=%{text}<br>Période=1920 - 1930<br>count=%{x}<br>rank=%{y}<extra></extra>",
           "legendgroup": "Hoot Gibson",
           "marker": {
            "color": "#19d3f3",
            "pattern": {
             "shape": ""
            }
           },
           "name": "Hoot Gibson",
           "offsetgroup": "Hoot Gibson",
           "orientation": "h",
           "showlegend": true,
           "text": [
            "Hoot Gibson"
           ],
           "textposition": "auto",
           "type": "bar",
           "x": [
            64
           ],
           "xaxis": "x",
           "y": [
            5
           ],
           "yaxis": "y"
          },
          {
           "alignmentgroup": "True",
           "hovertemplate": "Acteurs=%{text}<br>Période=1920 - 1930<br>count=%{x}<br>rank=%{y}<extra></extra>",
           "legendgroup": "Buck Jones",
           "marker": {
            "color": "#FF6692",
            "pattern": {
             "shape": ""
            }
           },
           "name": "Buck Jones",
           "offsetgroup": "Buck Jones",
           "orientation": "h",
           "showlegend": true,
           "text": [
            "Buck Jones"
           ],
           "textposition": "auto",
           "type": "bar",
           "x": [
            63
           ],
           "xaxis": "x",
           "y": [
            4
           ],
           "yaxis": "y"
          },
          {
           "alignmentgroup": "True",
           "hovertemplate": "Acteurs=%{text}<br>Période=1920 - 1930<br>count=%{x}<br>rank=%{y}<extra></extra>",
           "legendgroup": "Noah Beery",
           "marker": {
            "color": "#B6E880",
            "pattern": {
             "shape": ""
            }
           },
           "name": "Noah Beery",
           "offsetgroup": "Noah Beery",
           "orientation": "h",
           "showlegend": true,
           "text": [
            "Noah Beery"
           ],
           "textposition": "auto",
           "type": "bar",
           "x": [
            58
           ],
           "xaxis": "x",
           "y": [
            2
           ],
           "yaxis": "y"
          },
          {
           "alignmentgroup": "True",
           "hovertemplate": "Acteurs=%{text}<br>Période=1920 - 1930<br>count=%{x}<br>rank=%{y}<extra></extra>",
           "legendgroup": "Patsy Ruth Miller",
           "marker": {
            "color": "#FF97FF",
            "pattern": {
             "shape": ""
            }
           },
           "name": "Patsy Ruth Miller",
           "offsetgroup": "Patsy Ruth Miller",
           "orientation": "h",
           "showlegend": true,
           "text": [
            "Patsy Ruth Miller"
           ],
           "textposition": "auto",
           "type": "bar",
           "x": [
            58
           ],
           "xaxis": "x",
           "y": [
            3
           ],
           "yaxis": "y"
          },
          {
           "alignmentgroup": "True",
           "hovertemplate": "Acteurs=%{text}<br>Période=1920 - 1930<br>count=%{x}<br>rank=%{y}<extra></extra>",
           "legendgroup": "George Fawcett",
           "marker": {
            "color": "#FECB52",
            "pattern": {
             "shape": ""
            }
           },
           "name": "George Fawcett",
           "offsetgroup": "George Fawcett",
           "orientation": "h",
           "showlegend": true,
           "text": [
            "George Fawcett"
           ],
           "textposition": "auto",
           "type": "bar",
           "x": [
            55
           ],
           "xaxis": "x",
           "y": [
            1
           ],
           "yaxis": "y"
          }
         ],
         "name": "1920 - 1930"
        },
        {
         "data": [
          {
           "alignmentgroup": "True",
           "hovertemplate": "Acteurs=%{text}<br>Période=1930 - 1940<br>count=%{x}<br>rank=%{y}<extra></extra>",
           "legendgroup": "Buck Jones",
           "marker": {
            "color": "#FF6692",
            "pattern": {
             "shape": ""
            }
           },
           "name": "Buck Jones",
           "offsetgroup": "Buck Jones",
           "orientation": "h",
           "showlegend": true,
           "text": [
            "Buck Jones"
           ],
           "textposition": "auto",
           "type": "bar",
           "x": [
            62
           ],
           "xaxis": "x",
           "y": [
            4
           ],
           "yaxis": "y"
          },
          {
           "alignmentgroup": "True",
           "hovertemplate": "Acteurs=%{text}<br>Période=1930 - 1940<br>count=%{x}<br>rank=%{y}<extra></extra>",
           "legendgroup": "Bob Steele",
           "marker": {
            "color": "#636efa",
            "pattern": {
             "shape": ""
            }
           },
           "name": "Bob Steele",
           "offsetgroup": "Bob Steele",
           "orientation": "h",
           "showlegend": true,
           "text": [
            "Bob Steele"
           ],
           "textposition": "auto",
           "type": "bar",
           "x": [
            66
           ],
           "xaxis": "x",
           "y": [
            5
           ],
           "yaxis": "y"
          },
          {
           "alignmentgroup": "True",
           "hovertemplate": "Acteurs=%{text}<br>Période=1930 - 1940<br>count=%{x}<br>rank=%{y}<extra></extra>",
           "legendgroup": "Zasu Pitts",
           "marker": {
            "color": "#EF553B",
            "pattern": {
             "shape": ""
            }
           },
           "name": "Zasu Pitts",
           "offsetgroup": "Zasu Pitts",
           "orientation": "h",
           "showlegend": true,
           "text": [
            "Zasu Pitts"
           ],
           "textposition": "auto",
           "type": "bar",
           "x": [
            60
           ],
           "xaxis": "x",
           "y": [
            3
           ],
           "yaxis": "y"
          },
          {
           "alignmentgroup": "True",
           "hovertemplate": "Acteurs=%{text}<br>Période=1930 - 1940<br>count=%{x}<br>rank=%{y}<extra></extra>",
           "legendgroup": "George 'Gabby' Hayes",
           "marker": {
            "color": "#00cc96",
            "pattern": {
             "shape": ""
            }
           },
           "name": "George 'Gabby' Hayes",
           "offsetgroup": "George 'Gabby' Hayes",
           "orientation": "h",
           "showlegend": true,
           "text": [
            "George 'Gabby' Hayes"
           ],
           "textposition": "auto",
           "type": "bar",
           "x": [
            59
           ],
           "xaxis": "x",
           "y": [
            2
           ],
           "yaxis": "y"
          },
          {
           "alignmentgroup": "True",
           "hovertemplate": "Acteurs=%{text}<br>Période=1930 - 1940<br>count=%{x}<br>rank=%{y}<extra></extra>",
           "legendgroup": "Charles Starrett",
           "marker": {
            "color": "#ab63fa",
            "pattern": {
             "shape": ""
            }
           },
           "name": "Charles Starrett",
           "offsetgroup": "Charles Starrett",
           "orientation": "h",
           "showlegend": true,
           "text": [
            "Charles Starrett"
           ],
           "textposition": "auto",
           "type": "bar",
           "x": [
            58
           ],
           "xaxis": "x",
           "y": [
            1
           ],
           "yaxis": "y"
          }
         ],
         "name": "1930 - 1940"
        },
        {
         "data": [
          {
           "alignmentgroup": "True",
           "hovertemplate": "Acteurs=%{text}<br>Période=1940 - 1950<br>count=%{x}<br>rank=%{y}<extra></extra>",
           "legendgroup": "Charles Starrett",
           "marker": {
            "color": "#ab63fa",
            "pattern": {
             "shape": ""
            }
           },
           "name": "Charles Starrett",
           "offsetgroup": "Charles Starrett",
           "orientation": "h",
           "showlegend": true,
           "text": [
            "Charles Starrett"
           ],
           "textposition": "auto",
           "type": "bar",
           "x": [
            77
           ],
           "xaxis": "x",
           "y": [
            3
           ],
           "yaxis": "y"
          },
          {
           "alignmentgroup": "True",
           "hovertemplate": "Acteurs=%{text}<br>Période=1940 - 1950<br>count=%{x}<br>rank=%{y}<extra></extra>",
           "legendgroup": "Al St. John",
           "marker": {
            "color": "#FFA15A",
            "pattern": {
             "shape": ""
            }
           },
           "name": "Al St. John",
           "offsetgroup": "Al St. John",
           "orientation": "h",
           "showlegend": true,
           "text": [
            "Al St. John"
           ],
           "textposition": "auto",
           "type": "bar",
           "x": [
            79
           ],
           "xaxis": "x",
           "y": [
            5
           ],
           "yaxis": "y"
          },
          {
           "alignmentgroup": "True",
           "hovertemplate": "Acteurs=%{text}<br>Période=1940 - 1950<br>count=%{x}<br>rank=%{y}<extra></extra>",
           "legendgroup": "Johnny Mack Brown",
           "marker": {
            "color": "#19d3f3",
            "pattern": {
             "shape": ""
            }
           },
           "name": "Johnny Mack Brown",
           "offsetgroup": "Johnny Mack Brown",
           "orientation": "h",
           "showlegend": true,
           "text": [
            "Johnny Mack Brown"
           ],
           "textposition": "auto",
           "type": "bar",
           "x": [
            77
           ],
           "xaxis": "x",
           "y": [
            4
           ],
           "yaxis": "y"
          },
          {
           "alignmentgroup": "True",
           "hovertemplate": "Acteurs=%{text}<br>Période=1940 - 1950<br>count=%{x}<br>rank=%{y}<extra></extra>",
           "legendgroup": "Raymond Hatton",
           "marker": {
            "color": "#FF6692",
            "pattern": {
             "shape": ""
            }
           },
           "name": "Raymond Hatton",
           "offsetgroup": "Raymond Hatton",
           "orientation": "h",
           "showlegend": true,
           "text": [
            "Raymond Hatton"
           ],
           "textposition": "auto",
           "type": "bar",
           "x": [
            64
           ],
           "xaxis": "x",
           "y": [
            2
           ],
           "yaxis": "y"
          },
          {
           "alignmentgroup": "True",
           "hovertemplate": "Acteurs=%{text}<br>Période=1940 - 1950<br>count=%{x}<br>rank=%{y}<extra></extra>",
           "legendgroup": "Roy Rogers",
           "marker": {
            "color": "#B6E880",
            "pattern": {
             "shape": ""
            }
           },
           "name": "Roy Rogers",
           "offsetgroup": "Roy Rogers",
           "orientation": "h",
           "showlegend": true,
           "text": [
            "Roy Rogers"
           ],
           "textposition": "auto",
           "type": "bar",
           "x": [
            62
           ],
           "xaxis": "x",
           "y": [
            1
           ],
           "yaxis": "y"
          }
         ],
         "name": "1940 - 1950"
        },
        {
         "data": [
          {
           "alignmentgroup": "True",
           "hovertemplate": "Acteurs=%{text}<br>Période=1950 - 1960<br>count=%{x}<br>rank=%{y}<extra></extra>",
           "legendgroup": "Toshirô Mifune",
           "marker": {
            "color": "#FF97FF",
            "pattern": {
             "shape": ""
            }
           },
           "name": "Toshirô Mifune",
           "offsetgroup": "Toshirô Mifune",
           "orientation": "h",
           "showlegend": true,
           "text": [
            "Toshirô Mifune"
           ],
           "textposition": "auto",
           "type": "bar",
           "x": [
            49
           ],
           "xaxis": "x",
           "y": [
            5
           ],
           "yaxis": "y"
          },
          {
           "alignmentgroup": "True",
           "hovertemplate": "Acteurs=%{text}<br>Période=1950 - 1960<br>count=%{x}<br>rank=%{y}<extra></extra>",
           "legendgroup": "Paul Hörbiger",
           "marker": {
            "color": "#FECB52",
            "pattern": {
             "shape": ""
            }
           },
           "name": "Paul Hörbiger",
           "offsetgroup": "Paul Hörbiger",
           "orientation": "h",
           "showlegend": true,
           "text": [
            "Paul Hörbiger"
           ],
           "textposition": "auto",
           "type": "bar",
           "x": [
            48
           ],
           "xaxis": "x",
           "y": [
            4
           ],
           "yaxis": "y"
          },
          {
           "alignmentgroup": "True",
           "hovertemplate": "Acteurs=%{text}<br>Période=1950 - 1960<br>count=%{x}<br>rank=%{y}<extra></extra>",
           "legendgroup": "Luis Aguilar",
           "marker": {
            "color": "#636efa",
            "pattern": {
             "shape": ""
            }
           },
           "name": "Luis Aguilar",
           "offsetgroup": "Luis Aguilar",
           "orientation": "h",
           "showlegend": true,
           "text": [
            "Luis Aguilar"
           ],
           "textposition": "auto",
           "type": "bar",
           "x": [
            46
           ],
           "xaxis": "x",
           "y": [
            3
           ],
           "yaxis": "y"
          },
          {
           "alignmentgroup": "True",
           "hovertemplate": "Acteurs=%{text}<br>Période=1950 - 1960<br>count=%{x}<br>rank=%{y}<extra></extra>",
           "legendgroup": "Andrés Soler",
           "marker": {
            "color": "#EF553B",
            "pattern": {
             "shape": ""
            }
           },
           "name": "Andrés Soler",
           "offsetgroup": "Andrés Soler",
           "orientation": "h",
           "showlegend": true,
           "text": [
            "Andrés Soler"
           ],
           "textposition": "auto",
           "type": "bar",
           "x": [
            45
           ],
           "xaxis": "x",
           "y": [
            2
           ],
           "yaxis": "y"
          },
          {
           "alignmentgroup": "True",
           "hovertemplate": "Acteurs=%{text}<br>Période=1950 - 1960<br>count=%{x}<br>rank=%{y}<extra></extra>",
           "legendgroup": "Alberto Sordi",
           "marker": {
            "color": "#00cc96",
            "pattern": {
             "shape": ""
            }
           },
           "name": "Alberto Sordi",
           "offsetgroup": "Alberto Sordi",
           "orientation": "h",
           "showlegend": true,
           "text": [
            "Alberto Sordi"
           ],
           "textposition": "auto",
           "type": "bar",
           "x": [
            43
           ],
           "xaxis": "x",
           "y": [
            1
           ],
           "yaxis": "y"
          }
         ],
         "name": "1950 - 1960"
        },
        {
         "data": [
          {
           "alignmentgroup": "True",
           "hovertemplate": "Acteurs=%{text}<br>Période=1960 - 1970<br>count=%{x}<br>rank=%{y}<extra></extra>",
           "legendgroup": "Türkan Soray",
           "marker": {
            "color": "#ab63fa",
            "pattern": {
             "shape": ""
            }
           },
           "name": "Türkan Soray",
           "offsetgroup": "Türkan Soray",
           "orientation": "h",
           "showlegend": true,
           "text": [
            "Türkan Soray"
           ],
           "textposition": "auto",
           "type": "bar",
           "x": [
            73
           ],
           "xaxis": "x",
           "y": [
            5
           ],
           "yaxis": "y"
          },
          {
           "alignmentgroup": "True",
           "hovertemplate": "Acteurs=%{text}<br>Période=1960 - 1970<br>count=%{x}<br>rank=%{y}<extra></extra>",
           "legendgroup": "Sadri Alisik",
           "marker": {
            "color": "#FFA15A",
            "pattern": {
             "shape": ""
            }
           },
           "name": "Sadri Alisik",
           "offsetgroup": "Sadri Alisik",
           "orientation": "h",
           "showlegend": true,
           "text": [
            "Sadri Alisik"
           ],
           "textposition": "auto",
           "type": "bar",
           "x": [
            70
           ],
           "xaxis": "x",
           "y": [
            4
           ],
           "yaxis": "y"
          },
          {
           "alignmentgroup": "True",
           "hovertemplate": "Acteurs=%{text}<br>Période=1960 - 1970<br>count=%{x}<br>rank=%{y}<extra></extra>",
           "legendgroup": "Cüneyt Arkin",
           "marker": {
            "color": "#19d3f3",
            "pattern": {
             "shape": ""
            }
           },
           "name": "Cüneyt Arkin",
           "offsetgroup": "Cüneyt Arkin",
           "orientation": "h",
           "showlegend": true,
           "text": [
            "Cüneyt Arkin"
           ],
           "textposition": "auto",
           "type": "bar",
           "x": [
            68
           ],
           "xaxis": "x",
           "y": [
            3
           ],
           "yaxis": "y"
          },
          {
           "alignmentgroup": "True",
           "hovertemplate": "Acteurs=%{text}<br>Période=1960 - 1970<br>count=%{x}<br>rank=%{y}<extra></extra>",
           "legendgroup": "Dionysis Papagiannopoulos",
           "marker": {
            "color": "#FF6692",
            "pattern": {
             "shape": ""
            }
           },
           "name": "Dionysis Papagiannopoulos",
           "offsetgroup": "Dionysis Papagiannopoulos",
           "orientation": "h",
           "showlegend": true,
           "text": [
            "Dionysis Papagiannopoulos"
           ],
           "textposition": "auto",
           "type": "bar",
           "x": [
            63
           ],
           "xaxis": "x",
           "y": [
            2
           ],
           "yaxis": "y"
          },
          {
           "alignmentgroup": "True",
           "hovertemplate": "Acteurs=%{text}<br>Période=1960 - 1970<br>count=%{x}<br>rank=%{y}<extra></extra>",
           "legendgroup": "Shintarô Katsu",
           "marker": {
            "color": "#B6E880",
            "pattern": {
             "shape": ""
            }
           },
           "name": "Shintarô Katsu",
           "offsetgroup": "Shintarô Katsu",
           "orientation": "h",
           "showlegend": true,
           "text": [
            "Shintarô Katsu"
           ],
           "textposition": "auto",
           "type": "bar",
           "x": [
            59
           ],
           "xaxis": "x",
           "y": [
            1
           ],
           "yaxis": "y"
          }
         ],
         "name": "1960 - 1970"
        },
        {
         "data": [
          {
           "alignmentgroup": "True",
           "hovertemplate": "Acteurs=%{text}<br>Période=1970 - 1980<br>count=%{x}<br>rank=%{y}<extra></extra>",
           "legendgroup": "Cüneyt Arkin",
           "marker": {
            "color": "#19d3f3",
            "pattern": {
             "shape": ""
            }
           },
           "name": "Cüneyt Arkin",
           "offsetgroup": "Cüneyt Arkin",
           "orientation": "h",
           "showlegend": true,
           "text": [
            "Cüneyt Arkin"
           ],
           "textposition": "auto",
           "type": "bar",
           "x": [
            94
           ],
           "xaxis": "x",
           "y": [
            5
           ],
           "yaxis": "y"
          },
          {
           "alignmentgroup": "True",
           "hovertemplate": "Acteurs=%{text}<br>Période=1970 - 1980<br>count=%{x}<br>rank=%{y}<extra></extra>",
           "legendgroup": "Jamie Gillis",
           "marker": {
            "color": "#FF97FF",
            "pattern": {
             "shape": ""
            }
           },
           "name": "Jamie Gillis",
           "offsetgroup": "Jamie Gillis",
           "orientation": "h",
           "showlegend": true,
           "text": [
            "Jamie Gillis"
           ],
           "textposition": "auto",
           "type": "bar",
           "x": [
            81
           ],
           "xaxis": "x",
           "y": [
            4
           ],
           "yaxis": "y"
          },
          {
           "alignmentgroup": "True",
           "hovertemplate": "Acteurs=%{text}<br>Période=1970 - 1980<br>count=%{x}<br>rank=%{y}<extra></extra>",
           "legendgroup": "John Holmes",
           "marker": {
            "color": "#FECB52",
            "pattern": {
             "shape": ""
            }
           },
           "name": "John Holmes",
           "offsetgroup": "John Holmes",
           "orientation": "h",
           "showlegend": true,
           "text": [
            "John Holmes"
           ],
           "textposition": "auto",
           "type": "bar",
           "x": [
            79
           ],
           "xaxis": "x",
           "y": [
            2
           ],
           "yaxis": "y"
          },
          {
           "alignmentgroup": "True",
           "hovertemplate": "Acteurs=%{text}<br>Période=1970 - 1980<br>count=%{x}<br>rank=%{y}<extra></extra>",
           "legendgroup": "Ric Lutze",
           "marker": {
            "color": "#636efa",
            "pattern": {
             "shape": ""
            }
           },
           "name": "Ric Lutze",
           "offsetgroup": "Ric Lutze",
           "orientation": "h",
           "showlegend": true,
           "text": [
            "Ric Lutze"
           ],
           "textposition": "auto",
           "type": "bar",
           "x": [
            79
           ],
           "xaxis": "x",
           "y": [
            3
           ],
           "yaxis": "y"
          },
          {
           "alignmentgroup": "True",
           "hovertemplate": "Acteurs=%{text}<br>Période=1970 - 1980<br>count=%{x}<br>rank=%{y}<extra></extra>",
           "legendgroup": "Junko Miyashita",
           "marker": {
            "color": "#EF553B",
            "pattern": {
             "shape": ""
            }
           },
           "name": "Junko Miyashita",
           "offsetgroup": "Junko Miyashita",
           "orientation": "h",
           "showlegend": true,
           "text": [
            "Junko Miyashita"
           ],
           "textposition": "auto",
           "type": "bar",
           "x": [
            75
           ],
           "xaxis": "x",
           "y": [
            1
           ],
           "yaxis": "y"
          }
         ],
         "name": "1970 - 1980"
        },
        {
         "data": [
          {
           "alignmentgroup": "True",
           "hovertemplate": "Acteurs=%{text}<br>Période=1980 - 1990<br>count=%{x}<br>rank=%{y}<extra></extra>",
           "legendgroup": "Mohanlal",
           "marker": {
            "color": "#00cc96",
            "pattern": {
             "shape": ""
            }
           },
           "name": "Mohanlal",
           "offsetgroup": "Mohanlal",
           "orientation": "h",
           "showlegend": true,
           "text": [
            "Mohanlal"
           ],
           "textposition": "auto",
           "type": "bar",
           "x": [
            101
           ],
           "xaxis": "x",
           "y": [
            5
           ],
           "yaxis": "y"
          },
          {
           "alignmentgroup": "True",
           "hovertemplate": "Acteurs=%{text}<br>Période=1980 - 1990<br>count=%{x}<br>rank=%{y}<extra></extra>",
           "legendgroup": "Mammootty",
           "marker": {
            "color": "#ab63fa",
            "pattern": {
             "shape": ""
            }
           },
           "name": "Mammootty",
           "offsetgroup": "Mammootty",
           "orientation": "h",
           "showlegend": true,
           "text": [
            "Mammootty"
           ],
           "textposition": "auto",
           "type": "bar",
           "x": [
            98
           ],
           "xaxis": "x",
           "y": [
            4
           ],
           "yaxis": "y"
          },
          {
           "alignmentgroup": "True",
           "hovertemplate": "Acteurs=%{text}<br>Période=1980 - 1990<br>count=%{x}<br>rank=%{y}<extra></extra>",
           "legendgroup": "Mithun Chakraborty",
           "marker": {
            "color": "#FFA15A",
            "pattern": {
             "shape": ""
            }
           },
           "name": "Mithun Chakraborty",
           "offsetgroup": "Mithun Chakraborty",
           "orientation": "h",
           "showlegend": true,
           "text": [
            "Mithun Chakraborty"
           ],
           "textposition": "auto",
           "type": "bar",
           "x": [
            75
           ],
           "xaxis": "x",
           "y": [
            3
           ],
           "yaxis": "y"
          },
          {
           "alignmentgroup": "True",
           "hovertemplate": "Acteurs=%{text}<br>Période=1980 - 1990<br>count=%{x}<br>rank=%{y}<extra></extra>",
           "legendgroup": "Ron Jeremy",
           "marker": {
            "color": "#19d3f3",
            "pattern": {
             "shape": ""
            }
           },
           "name": "Ron Jeremy",
           "offsetgroup": "Ron Jeremy",
           "orientation": "h",
           "showlegend": true,
           "text": [
            "Ron Jeremy"
           ],
           "textposition": "auto",
           "type": "bar",
           "x": [
            68
           ],
           "xaxis": "x",
           "y": [
            2
           ],
           "yaxis": "y"
          },
          {
           "alignmentgroup": "True",
           "hovertemplate": "Acteurs=%{text}<br>Période=1980 - 1990<br>count=%{x}<br>rank=%{y}<extra></extra>",
           "legendgroup": "Eric Edwards",
           "marker": {
            "color": "#FF6692",
            "pattern": {
             "shape": ""
            }
           },
           "name": "Eric Edwards",
           "offsetgroup": "Eric Edwards",
           "orientation": "h",
           "showlegend": true,
           "text": [
            "Eric Edwards"
           ],
           "textposition": "auto",
           "type": "bar",
           "x": [
            66
           ],
           "xaxis": "x",
           "y": [
            1
           ],
           "yaxis": "y"
          }
         ],
         "name": "1980 - 1990"
        },
        {
         "data": [
          {
           "alignmentgroup": "True",
           "hovertemplate": "Acteurs=%{text}<br>Période=1990 - 2000<br>count=%{x}<br>rank=%{y}<extra></extra>",
           "legendgroup": "Mohanlal",
           "marker": {
            "color": "#00cc96",
            "pattern": {
             "shape": ""
            }
           },
           "name": "Mohanlal",
           "offsetgroup": "Mohanlal",
           "orientation": "h",
           "showlegend": true,
           "text": [
            "Mohanlal"
           ],
           "textposition": "auto",
           "type": "bar",
           "x": [
            55
           ],
           "xaxis": "x",
           "y": [
            4
           ],
           "yaxis": "y"
          },
          {
           "alignmentgroup": "True",
           "hovertemplate": "Acteurs=%{text}<br>Période=1990 - 2000<br>count=%{x}<br>rank=%{y}<extra></extra>",
           "legendgroup": "Mithun Chakraborty",
           "marker": {
            "color": "#FFA15A",
            "pattern": {
             "shape": ""
            }
           },
           "name": "Mithun Chakraborty",
           "offsetgroup": "Mithun Chakraborty",
           "orientation": "h",
           "showlegend": true,
           "text": [
            "Mithun Chakraborty"
           ],
           "textposition": "auto",
           "type": "bar",
           "x": [
            55
           ],
           "xaxis": "x",
           "y": [
            3
           ],
           "yaxis": "y"
          },
          {
           "alignmentgroup": "True",
           "hovertemplate": "Acteurs=%{text}<br>Période=1990 - 2000<br>count=%{x}<br>rank=%{y}<extra></extra>",
           "legendgroup": "Simon Yam",
           "marker": {
            "color": "#B6E880",
            "pattern": {
             "shape": ""
            }
           },
           "name": "Simon Yam",
           "offsetgroup": "Simon Yam",
           "orientation": "h",
           "showlegend": true,
           "text": [
            "Simon Yam"
           ],
           "textposition": "auto",
           "type": "bar",
           "x": [
            57
           ],
           "xaxis": "x",
           "y": [
            5
           ],
           "yaxis": "y"
          },
          {
           "alignmentgroup": "True",
           "hovertemplate": "Acteurs=%{text}<br>Période=1990 - 2000<br>count=%{x}<br>rank=%{y}<extra></extra>",
           "legendgroup": "Andy Lau",
           "marker": {
            "color": "#FF97FF",
            "pattern": {
             "shape": ""
            }
           },
           "name": "Andy Lau",
           "offsetgroup": "Andy Lau",
           "orientation": "h",
           "showlegend": true,
           "text": [
            "Andy Lau"
           ],
           "textposition": "auto",
           "type": "bar",
           "x": [
            54
           ],
           "xaxis": "x",
           "y": [
            2
           ],
           "yaxis": "y"
          },
          {
           "alignmentgroup": "True",
           "hovertemplate": "Acteurs=%{text}<br>Période=1990 - 2000<br>count=%{x}<br>rank=%{y}<extra></extra>",
           "legendgroup": "Anthony Chau-Sang Wong",
           "marker": {
            "color": "#FECB52",
            "pattern": {
             "shape": ""
            }
           },
           "name": "Anthony Chau-Sang Wong",
           "offsetgroup": "Anthony Chau-Sang Wong",
           "orientation": "h",
           "showlegend": true,
           "text": [
            "Anthony Chau-Sang Wong"
           ],
           "textposition": "auto",
           "type": "bar",
           "x": [
            53
           ],
           "xaxis": "x",
           "y": [
            1
           ],
           "yaxis": "y"
          }
         ],
         "name": "1990 - 2000"
        },
        {
         "data": [
          {
           "alignmentgroup": "True",
           "hovertemplate": "Acteurs=%{text}<br>Période=2000 - 2010<br>count=%{x}<br>rank=%{y}<extra></extra>",
           "legendgroup": "Seiji Nakamitsu",
           "marker": {
            "color": "#636efa",
            "pattern": {
             "shape": ""
            }
           },
           "name": "Seiji Nakamitsu",
           "offsetgroup": "Seiji Nakamitsu",
           "orientation": "h",
           "showlegend": true,
           "text": [
            "Seiji Nakamitsu"
           ],
           "textposition": "auto",
           "type": "bar",
           "x": [
            118
           ],
           "xaxis": "x",
           "y": [
            5
           ],
           "yaxis": "y"
          },
          {
           "alignmentgroup": "True",
           "hovertemplate": "Acteurs=%{text}<br>Période=2000 - 2010<br>count=%{x}<br>rank=%{y}<extra></extra>",
           "legendgroup": "Kyôko Kazama",
           "marker": {
            "color": "#EF553B",
            "pattern": {
             "shape": ""
            }
           },
           "name": "Kyôko Kazama",
           "offsetgroup": "Kyôko Kazama",
           "orientation": "h",
           "showlegend": true,
           "text": [
            "Kyôko Kazama"
           ],
           "textposition": "auto",
           "type": "bar",
           "x": [
            73
           ],
           "xaxis": "x",
           "y": [
            4
           ],
           "yaxis": "y"
          },
          {
           "alignmentgroup": "True",
           "hovertemplate": "Acteurs=%{text}<br>Période=2000 - 2010<br>count=%{x}<br>rank=%{y}<extra></extra>",
           "legendgroup": "Motoko Sasaki",
           "marker": {
            "color": "#00cc96",
            "pattern": {
             "shape": ""
            }
           },
           "name": "Motoko Sasaki",
           "offsetgroup": "Motoko Sasaki",
           "orientation": "h",
           "showlegend": true,
           "text": [
            "Motoko Sasaki"
           ],
           "textposition": "auto",
           "type": "bar",
           "x": [
            55
           ],
           "xaxis": "x",
           "y": [
            3
           ],
           "yaxis": "y"
          },
          {
           "alignmentgroup": "True",
           "hovertemplate": "Acteurs=%{text}<br>Période=2000 - 2010<br>count=%{x}<br>rank=%{y}<extra></extra>",
           "legendgroup": "Lemon Hanazawa",
           "marker": {
            "color": "#ab63fa",
            "pattern": {
             "shape": ""
            }
           },
           "name": "Lemon Hanazawa",
           "offsetgroup": "Lemon Hanazawa",
           "orientation": "h",
           "showlegend": true,
           "text": [
            "Lemon Hanazawa"
           ],
           "textposition": "auto",
           "type": "bar",
           "x": [
            51
           ],
           "xaxis": "x",
           "y": [
            2
           ],
           "yaxis": "y"
          },
          {
           "alignmentgroup": "True",
           "hovertemplate": "Acteurs=%{text}<br>Période=2000 - 2010<br>count=%{x}<br>rank=%{y}<extra></extra>",
           "legendgroup": "Prakash Raj",
           "marker": {
            "color": "#FFA15A",
            "pattern": {
             "shape": ""
            }
           },
           "name": "Prakash Raj",
           "offsetgroup": "Prakash Raj",
           "orientation": "h",
           "showlegend": true,
           "text": [
            "Prakash Raj"
           ],
           "textposition": "auto",
           "type": "bar",
           "x": [
            50
           ],
           "xaxis": "x",
           "y": [
            1
           ],
           "yaxis": "y"
          }
         ],
         "name": "2000 - 2010"
        },
        {
         "data": [
          {
           "alignmentgroup": "True",
           "hovertemplate": "Acteurs=%{text}<br>Période=2010 - 2020<br>count=%{x}<br>rank=%{y}<extra></extra>",
           "legendgroup": "Prakash Raj",
           "marker": {
            "color": "#FFA15A",
            "pattern": {
             "shape": ""
            }
           },
           "name": "Prakash Raj",
           "offsetgroup": "Prakash Raj",
           "orientation": "h",
           "showlegend": true,
           "text": [
            "Prakash Raj"
           ],
           "textposition": "auto",
           "type": "bar",
           "x": [
            63
           ],
           "xaxis": "x",
           "y": [
            3
           ],
           "yaxis": "y"
          },
          {
           "alignmentgroup": "True",
           "hovertemplate": "Acteurs=%{text}<br>Période=2010 - 2020<br>count=%{x}<br>rank=%{y}<extra></extra>",
           "legendgroup": "Eric Roberts",
           "marker": {
            "color": "#19d3f3",
            "pattern": {
             "shape": ""
            }
           },
           "name": "Eric Roberts",
           "offsetgroup": "Eric Roberts",
           "orientation": "h",
           "showlegend": true,
           "text": [
            "Eric Roberts"
           ],
           "textposition": "auto",
           "type": "bar",
           "x": [
            131
           ],
           "xaxis": "x",
           "y": [
            5
           ],
           "yaxis": "y"
          },
          {
           "alignmentgroup": "True",
           "hovertemplate": "Acteurs=%{text}<br>Période=2010 - 2020<br>count=%{x}<br>rank=%{y}<extra></extra>",
           "legendgroup": "Tom Sizemore",
           "marker": {
            "color": "#FF6692",
            "pattern": {
             "shape": ""
            }
           },
           "name": "Tom Sizemore",
           "offsetgroup": "Tom Sizemore",
           "orientation": "h",
           "showlegend": true,
           "text": [
            "Tom Sizemore"
           ],
           "textposition": "auto",
           "type": "bar",
           "x": [
            66
           ],
           "xaxis": "x",
           "y": [
            4
           ],
           "yaxis": "y"
          },
          {
           "alignmentgroup": "True",
           "hovertemplate": "Acteurs=%{text}<br>Période=2010 - 2020<br>count=%{x}<br>rank=%{y}<extra></extra>",
           "legendgroup": "Sergey A.",
           "marker": {
            "color": "#B6E880",
            "pattern": {
             "shape": ""
            }
           },
           "name": "Sergey A.",
           "offsetgroup": "Sergey A.",
           "orientation": "h",
           "showlegend": true,
           "text": [
            "Sergey A."
           ],
           "textposition": "auto",
           "type": "bar",
           "x": [
            60
           ],
           "xaxis": "x",
           "y": [
            2
           ],
           "yaxis": "y"
          },
          {
           "alignmentgroup": "True",
           "hovertemplate": "Acteurs=%{text}<br>Période=2010 - 2020<br>count=%{x}<br>rank=%{y}<extra></extra>",
           "legendgroup": "Danny Trejo",
           "marker": {
            "color": "#FF97FF",
            "pattern": {
             "shape": ""
            }
           },
           "name": "Danny Trejo",
           "offsetgroup": "Danny Trejo",
           "orientation": "h",
           "showlegend": true,
           "text": [
            "Danny Trejo"
           ],
           "textposition": "auto",
           "type": "bar",
           "x": [
            59
           ],
           "xaxis": "x",
           "y": [
            1
           ],
           "yaxis": "y"
          }
         ],
         "name": "2010 - 2020"
        },
        {
         "data": [
          {
           "alignmentgroup": "True",
           "hovertemplate": "Acteurs=%{text}<br>Période=2020 - 2030<br>count=%{x}<br>rank=%{y}<extra></extra>",
           "legendgroup": "Eric Roberts",
           "marker": {
            "color": "#19d3f3",
            "pattern": {
             "shape": ""
            }
           },
           "name": "Eric Roberts",
           "offsetgroup": "Eric Roberts",
           "orientation": "h",
           "showlegend": true,
           "text": [
            "Eric Roberts"
           ],
           "textposition": "auto",
           "type": "bar",
           "x": [
            30
           ],
           "xaxis": "x",
           "y": [
            5
           ],
           "yaxis": "y"
          },
          {
           "alignmentgroup": "True",
           "hovertemplate": "Acteurs=%{text}<br>Période=2020 - 2030<br>count=%{x}<br>rank=%{y}<extra></extra>",
           "legendgroup": "Ross K. Foad",
           "marker": {
            "color": "#FECB52",
            "pattern": {
             "shape": ""
            }
           },
           "name": "Ross K. Foad",
           "offsetgroup": "Ross K. Foad",
           "orientation": "h",
           "showlegend": true,
           "text": [
            "Ross K. Foad"
           ],
           "textposition": "auto",
           "type": "bar",
           "x": [
            24
           ],
           "xaxis": "x",
           "y": [
            3
           ],
           "yaxis": "y"
          },
          {
           "alignmentgroup": "True",
           "hovertemplate": "Acteurs=%{text}<br>Période=2020 - 2030<br>count=%{x}<br>rank=%{y}<extra></extra>",
           "legendgroup": "Simon Hill",
           "marker": {
            "color": "#636efa",
            "pattern": {
             "shape": ""
            }
           },
           "name": "Simon Hill",
           "offsetgroup": "Simon Hill",
           "orientation": "h",
           "showlegend": true,
           "text": [
            "Simon Hill"
           ],
           "textposition": "auto",
           "type": "bar",
           "x": [
            24
           ],
           "xaxis": "x",
           "y": [
            4
           ],
           "yaxis": "y"
          },
          {
           "alignmentgroup": "True",
           "hovertemplate": "Acteurs=%{text}<br>Période=2020 - 2030<br>count=%{x}<br>rank=%{y}<extra></extra>",
           "legendgroup": "Cascade Nerida",
           "marker": {
            "color": "#EF553B",
            "pattern": {
             "shape": ""
            }
           },
           "name": "Cascade Nerida",
           "offsetgroup": "Cascade Nerida",
           "orientation": "h",
           "showlegend": true,
           "text": [
            "Cascade Nerida"
           ],
           "textposition": "auto",
           "type": "bar",
           "x": [
            15
           ],
           "xaxis": "x",
           "y": [
            1
           ],
           "yaxis": "y"
          },
          {
           "alignmentgroup": "True",
           "hovertemplate": "Acteurs=%{text}<br>Période=2020 - 2030<br>count=%{x}<br>rank=%{y}<extra></extra>",
           "legendgroup": "Shawn C. Phillips",
           "marker": {
            "color": "#00cc96",
            "pattern": {
             "shape": ""
            }
           },
           "name": "Shawn C. Phillips",
           "offsetgroup": "Shawn C. Phillips",
           "orientation": "h",
           "showlegend": true,
           "text": [
            "Shawn C. Phillips"
           ],
           "textposition": "auto",
           "type": "bar",
           "x": [
            15
           ],
           "xaxis": "x",
           "y": [
            2
           ],
           "yaxis": "y"
          }
         ],
         "name": "2020 - 2030"
        }
       ],
       "layout": {
        "barmode": "relative",
        "height": 800,
        "legend": {
         "title": {
          "text": "Acteurs"
         },
         "tracegroupgap": 0
        },
        "showlegend": false,
        "sliders": [
         {
          "active": 0,
          "currentvalue": {
           "prefix": "Période="
          },
          "len": 0.9,
          "pad": {
           "b": 10,
           "t": 60
          },
          "steps": [
           {
            "args": [
             [
              "1910 - 1920"
             ],
             {
              "frame": {
               "duration": 0,
               "redraw": true
              },
              "fromcurrent": true,
              "mode": "immediate",
              "transition": {
               "duration": 0,
               "easing": "linear"
              }
             }
            ],
            "label": "1910 - 1920",
            "method": "animate"
           },
           {
            "args": [
             [
              "1920 - 1930"
             ],
             {
              "frame": {
               "duration": 0,
               "redraw": true
              },
              "fromcurrent": true,
              "mode": "immediate",
              "transition": {
               "duration": 0,
               "easing": "linear"
              }
             }
            ],
            "label": "1920 - 1930",
            "method": "animate"
           },
           {
            "args": [
             [
              "1930 - 1940"
             ],
             {
              "frame": {
               "duration": 0,
               "redraw": true
              },
              "fromcurrent": true,
              "mode": "immediate",
              "transition": {
               "duration": 0,
               "easing": "linear"
              }
             }
            ],
            "label": "1930 - 1940",
            "method": "animate"
           },
           {
            "args": [
             [
              "1940 - 1950"
             ],
             {
              "frame": {
               "duration": 0,
               "redraw": true
              },
              "fromcurrent": true,
              "mode": "immediate",
              "transition": {
               "duration": 0,
               "easing": "linear"
              }
             }
            ],
            "label": "1940 - 1950",
            "method": "animate"
           },
           {
            "args": [
             [
              "1950 - 1960"
             ],
             {
              "frame": {
               "duration": 0,
               "redraw": true
              },
              "fromcurrent": true,
              "mode": "immediate",
              "transition": {
               "duration": 0,
               "easing": "linear"
              }
             }
            ],
            "label": "1950 - 1960",
            "method": "animate"
           },
           {
            "args": [
             [
              "1960 - 1970"
             ],
             {
              "frame": {
               "duration": 0,
               "redraw": true
              },
              "fromcurrent": true,
              "mode": "immediate",
              "transition": {
               "duration": 0,
               "easing": "linear"
              }
             }
            ],
            "label": "1960 - 1970",
            "method": "animate"
           },
           {
            "args": [
             [
              "1970 - 1980"
             ],
             {
              "frame": {
               "duration": 0,
               "redraw": true
              },
              "fromcurrent": true,
              "mode": "immediate",
              "transition": {
               "duration": 0,
               "easing": "linear"
              }
             }
            ],
            "label": "1970 - 1980",
            "method": "animate"
           },
           {
            "args": [
             [
              "1980 - 1990"
             ],
             {
              "frame": {
               "duration": 0,
               "redraw": true
              },
              "fromcurrent": true,
              "mode": "immediate",
              "transition": {
               "duration": 0,
               "easing": "linear"
              }
             }
            ],
            "label": "1980 - 1990",
            "method": "animate"
           },
           {
            "args": [
             [
              "1990 - 2000"
             ],
             {
              "frame": {
               "duration": 0,
               "redraw": true
              },
              "fromcurrent": true,
              "mode": "immediate",
              "transition": {
               "duration": 0,
               "easing": "linear"
              }
             }
            ],
            "label": "1990 - 2000",
            "method": "animate"
           },
           {
            "args": [
             [
              "2000 - 2010"
             ],
             {
              "frame": {
               "duration": 0,
               "redraw": true
              },
              "fromcurrent": true,
              "mode": "immediate",
              "transition": {
               "duration": 0,
               "easing": "linear"
              }
             }
            ],
            "label": "2000 - 2010",
            "method": "animate"
           },
           {
            "args": [
             [
              "2010 - 2020"
             ],
             {
              "frame": {
               "duration": 0,
               "redraw": true
              },
              "fromcurrent": true,
              "mode": "immediate",
              "transition": {
               "duration": 0,
               "easing": "linear"
              }
             }
            ],
            "label": "2010 - 2020",
            "method": "animate"
           },
           {
            "args": [
             [
              "2020 - 2030"
             ],
             {
              "frame": {
               "duration": 0,
               "redraw": true
              },
              "fromcurrent": true,
              "mode": "immediate",
              "transition": {
               "duration": 0,
               "easing": "linear"
              }
             }
            ],
            "label": "2020 - 2030",
            "method": "animate"
           }
          ],
          "x": 0.1,
          "xanchor": "left",
          "y": 0,
          "yanchor": "top"
         }
        ],
        "template": {
         "data": {
          "bar": [
           {
            "error_x": {
             "color": "#2a3f5f"
            },
            "error_y": {
             "color": "#2a3f5f"
            },
            "marker": {
             "line": {
              "color": "#E5ECF6",
              "width": 0.5
             },
             "pattern": {
              "fillmode": "overlay",
              "size": 10,
              "solidity": 0.2
             }
            },
            "type": "bar"
           }
          ],
          "barpolar": [
           {
            "marker": {
             "line": {
              "color": "#E5ECF6",
              "width": 0.5
             },
             "pattern": {
              "fillmode": "overlay",
              "size": 10,
              "solidity": 0.2
             }
            },
            "type": "barpolar"
           }
          ],
          "carpet": [
           {
            "aaxis": {
             "endlinecolor": "#2a3f5f",
             "gridcolor": "white",
             "linecolor": "white",
             "minorgridcolor": "white",
             "startlinecolor": "#2a3f5f"
            },
            "baxis": {
             "endlinecolor": "#2a3f5f",
             "gridcolor": "white",
             "linecolor": "white",
             "minorgridcolor": "white",
             "startlinecolor": "#2a3f5f"
            },
            "type": "carpet"
           }
          ],
          "choropleth": [
           {
            "colorbar": {
             "outlinewidth": 0,
             "ticks": ""
            },
            "type": "choropleth"
           }
          ],
          "contour": [
           {
            "colorbar": {
             "outlinewidth": 0,
             "ticks": ""
            },
            "colorscale": [
             [
              0,
              "#0d0887"
             ],
             [
              0.1111111111111111,
              "#46039f"
             ],
             [
              0.2222222222222222,
              "#7201a8"
             ],
             [
              0.3333333333333333,
              "#9c179e"
             ],
             [
              0.4444444444444444,
              "#bd3786"
             ],
             [
              0.5555555555555556,
              "#d8576b"
             ],
             [
              0.6666666666666666,
              "#ed7953"
             ],
             [
              0.7777777777777778,
              "#fb9f3a"
             ],
             [
              0.8888888888888888,
              "#fdca26"
             ],
             [
              1,
              "#f0f921"
             ]
            ],
            "type": "contour"
           }
          ],
          "contourcarpet": [
           {
            "colorbar": {
             "outlinewidth": 0,
             "ticks": ""
            },
            "type": "contourcarpet"
           }
          ],
          "heatmap": [
           {
            "colorbar": {
             "outlinewidth": 0,
             "ticks": ""
            },
            "colorscale": [
             [
              0,
              "#0d0887"
             ],
             [
              0.1111111111111111,
              "#46039f"
             ],
             [
              0.2222222222222222,
              "#7201a8"
             ],
             [
              0.3333333333333333,
              "#9c179e"
             ],
             [
              0.4444444444444444,
              "#bd3786"
             ],
             [
              0.5555555555555556,
              "#d8576b"
             ],
             [
              0.6666666666666666,
              "#ed7953"
             ],
             [
              0.7777777777777778,
              "#fb9f3a"
             ],
             [
              0.8888888888888888,
              "#fdca26"
             ],
             [
              1,
              "#f0f921"
             ]
            ],
            "type": "heatmap"
           }
          ],
          "heatmapgl": [
           {
            "colorbar": {
             "outlinewidth": 0,
             "ticks": ""
            },
            "colorscale": [
             [
              0,
              "#0d0887"
             ],
             [
              0.1111111111111111,
              "#46039f"
             ],
             [
              0.2222222222222222,
              "#7201a8"
             ],
             [
              0.3333333333333333,
              "#9c179e"
             ],
             [
              0.4444444444444444,
              "#bd3786"
             ],
             [
              0.5555555555555556,
              "#d8576b"
             ],
             [
              0.6666666666666666,
              "#ed7953"
             ],
             [
              0.7777777777777778,
              "#fb9f3a"
             ],
             [
              0.8888888888888888,
              "#fdca26"
             ],
             [
              1,
              "#f0f921"
             ]
            ],
            "type": "heatmapgl"
           }
          ],
          "histogram": [
           {
            "marker": {
             "pattern": {
              "fillmode": "overlay",
              "size": 10,
              "solidity": 0.2
             }
            },
            "type": "histogram"
           }
          ],
          "histogram2d": [
           {
            "colorbar": {
             "outlinewidth": 0,
             "ticks": ""
            },
            "colorscale": [
             [
              0,
              "#0d0887"
             ],
             [
              0.1111111111111111,
              "#46039f"
             ],
             [
              0.2222222222222222,
              "#7201a8"
             ],
             [
              0.3333333333333333,
              "#9c179e"
             ],
             [
              0.4444444444444444,
              "#bd3786"
             ],
             [
              0.5555555555555556,
              "#d8576b"
             ],
             [
              0.6666666666666666,
              "#ed7953"
             ],
             [
              0.7777777777777778,
              "#fb9f3a"
             ],
             [
              0.8888888888888888,
              "#fdca26"
             ],
             [
              1,
              "#f0f921"
             ]
            ],
            "type": "histogram2d"
           }
          ],
          "histogram2dcontour": [
           {
            "colorbar": {
             "outlinewidth": 0,
             "ticks": ""
            },
            "colorscale": [
             [
              0,
              "#0d0887"
             ],
             [
              0.1111111111111111,
              "#46039f"
             ],
             [
              0.2222222222222222,
              "#7201a8"
             ],
             [
              0.3333333333333333,
              "#9c179e"
             ],
             [
              0.4444444444444444,
              "#bd3786"
             ],
             [
              0.5555555555555556,
              "#d8576b"
             ],
             [
              0.6666666666666666,
              "#ed7953"
             ],
             [
              0.7777777777777778,
              "#fb9f3a"
             ],
             [
              0.8888888888888888,
              "#fdca26"
             ],
             [
              1,
              "#f0f921"
             ]
            ],
            "type": "histogram2dcontour"
           }
          ],
          "mesh3d": [
           {
            "colorbar": {
             "outlinewidth": 0,
             "ticks": ""
            },
            "type": "mesh3d"
           }
          ],
          "parcoords": [
           {
            "line": {
             "colorbar": {
              "outlinewidth": 0,
              "ticks": ""
             }
            },
            "type": "parcoords"
           }
          ],
          "pie": [
           {
            "automargin": true,
            "type": "pie"
           }
          ],
          "scatter": [
           {
            "marker": {
             "colorbar": {
              "outlinewidth": 0,
              "ticks": ""
             }
            },
            "type": "scatter"
           }
          ],
          "scatter3d": [
           {
            "line": {
             "colorbar": {
              "outlinewidth": 0,
              "ticks": ""
             }
            },
            "marker": {
             "colorbar": {
              "outlinewidth": 0,
              "ticks": ""
             }
            },
            "type": "scatter3d"
           }
          ],
          "scattercarpet": [
           {
            "marker": {
             "colorbar": {
              "outlinewidth": 0,
              "ticks": ""
             }
            },
            "type": "scattercarpet"
           }
          ],
          "scattergeo": [
           {
            "marker": {
             "colorbar": {
              "outlinewidth": 0,
              "ticks": ""
             }
            },
            "type": "scattergeo"
           }
          ],
          "scattergl": [
           {
            "marker": {
             "colorbar": {
              "outlinewidth": 0,
              "ticks": ""
             }
            },
            "type": "scattergl"
           }
          ],
          "scattermapbox": [
           {
            "marker": {
             "colorbar": {
              "outlinewidth": 0,
              "ticks": ""
             }
            },
            "type": "scattermapbox"
           }
          ],
          "scatterpolar": [
           {
            "marker": {
             "colorbar": {
              "outlinewidth": 0,
              "ticks": ""
             }
            },
            "type": "scatterpolar"
           }
          ],
          "scatterpolargl": [
           {
            "marker": {
             "colorbar": {
              "outlinewidth": 0,
              "ticks": ""
             }
            },
            "type": "scatterpolargl"
           }
          ],
          "scatterternary": [
           {
            "marker": {
             "colorbar": {
              "outlinewidth": 0,
              "ticks": ""
             }
            },
            "type": "scatterternary"
           }
          ],
          "surface": [
           {
            "colorbar": {
             "outlinewidth": 0,
             "ticks": ""
            },
            "colorscale": [
             [
              0,
              "#0d0887"
             ],
             [
              0.1111111111111111,
              "#46039f"
             ],
             [
              0.2222222222222222,
              "#7201a8"
             ],
             [
              0.3333333333333333,
              "#9c179e"
             ],
             [
              0.4444444444444444,
              "#bd3786"
             ],
             [
              0.5555555555555556,
              "#d8576b"
             ],
             [
              0.6666666666666666,
              "#ed7953"
             ],
             [
              0.7777777777777778,
              "#fb9f3a"
             ],
             [
              0.8888888888888888,
              "#fdca26"
             ],
             [
              1,
              "#f0f921"
             ]
            ],
            "type": "surface"
           }
          ],
          "table": [
           {
            "cells": {
             "fill": {
              "color": "#EBF0F8"
             },
             "line": {
              "color": "white"
             }
            },
            "header": {
             "fill": {
              "color": "#C8D4E3"
             },
             "line": {
              "color": "white"
             }
            },
            "type": "table"
           }
          ]
         },
         "layout": {
          "annotationdefaults": {
           "arrowcolor": "#2a3f5f",
           "arrowhead": 0,
           "arrowwidth": 1
          },
          "autotypenumbers": "strict",
          "coloraxis": {
           "colorbar": {
            "outlinewidth": 0,
            "ticks": ""
           }
          },
          "colorscale": {
           "diverging": [
            [
             0,
             "#8e0152"
            ],
            [
             0.1,
             "#c51b7d"
            ],
            [
             0.2,
             "#de77ae"
            ],
            [
             0.3,
             "#f1b6da"
            ],
            [
             0.4,
             "#fde0ef"
            ],
            [
             0.5,
             "#f7f7f7"
            ],
            [
             0.6,
             "#e6f5d0"
            ],
            [
             0.7,
             "#b8e186"
            ],
            [
             0.8,
             "#7fbc41"
            ],
            [
             0.9,
             "#4d9221"
            ],
            [
             1,
             "#276419"
            ]
           ],
           "sequential": [
            [
             0,
             "#0d0887"
            ],
            [
             0.1111111111111111,
             "#46039f"
            ],
            [
             0.2222222222222222,
             "#7201a8"
            ],
            [
             0.3333333333333333,
             "#9c179e"
            ],
            [
             0.4444444444444444,
             "#bd3786"
            ],
            [
             0.5555555555555556,
             "#d8576b"
            ],
            [
             0.6666666666666666,
             "#ed7953"
            ],
            [
             0.7777777777777778,
             "#fb9f3a"
            ],
            [
             0.8888888888888888,
             "#fdca26"
            ],
            [
             1,
             "#f0f921"
            ]
           ],
           "sequentialminus": [
            [
             0,
             "#0d0887"
            ],
            [
             0.1111111111111111,
             "#46039f"
            ],
            [
             0.2222222222222222,
             "#7201a8"
            ],
            [
             0.3333333333333333,
             "#9c179e"
            ],
            [
             0.4444444444444444,
             "#bd3786"
            ],
            [
             0.5555555555555556,
             "#d8576b"
            ],
            [
             0.6666666666666666,
             "#ed7953"
            ],
            [
             0.7777777777777778,
             "#fb9f3a"
            ],
            [
             0.8888888888888888,
             "#fdca26"
            ],
            [
             1,
             "#f0f921"
            ]
           ]
          },
          "colorway": [
           "#636efa",
           "#EF553B",
           "#00cc96",
           "#ab63fa",
           "#FFA15A",
           "#19d3f3",
           "#FF6692",
           "#B6E880",
           "#FF97FF",
           "#FECB52"
          ],
          "font": {
           "color": "#2a3f5f"
          },
          "geo": {
           "bgcolor": "white",
           "lakecolor": "white",
           "landcolor": "#E5ECF6",
           "showlakes": true,
           "showland": true,
           "subunitcolor": "white"
          },
          "hoverlabel": {
           "align": "left"
          },
          "hovermode": "closest",
          "mapbox": {
           "style": "light"
          },
          "paper_bgcolor": "white",
          "plot_bgcolor": "#E5ECF6",
          "polar": {
           "angularaxis": {
            "gridcolor": "white",
            "linecolor": "white",
            "ticks": ""
           },
           "bgcolor": "#E5ECF6",
           "radialaxis": {
            "gridcolor": "white",
            "linecolor": "white",
            "ticks": ""
           }
          },
          "scene": {
           "xaxis": {
            "backgroundcolor": "#E5ECF6",
            "gridcolor": "white",
            "gridwidth": 2,
            "linecolor": "white",
            "showbackground": true,
            "ticks": "",
            "zerolinecolor": "white"
           },
           "yaxis": {
            "backgroundcolor": "#E5ECF6",
            "gridcolor": "white",
            "gridwidth": 2,
            "linecolor": "white",
            "showbackground": true,
            "ticks": "",
            "zerolinecolor": "white"
           },
           "zaxis": {
            "backgroundcolor": "#E5ECF6",
            "gridcolor": "white",
            "gridwidth": 2,
            "linecolor": "white",
            "showbackground": true,
            "ticks": "",
            "zerolinecolor": "white"
           }
          },
          "shapedefaults": {
           "line": {
            "color": "#2a3f5f"
           }
          },
          "ternary": {
           "aaxis": {
            "gridcolor": "white",
            "linecolor": "white",
            "ticks": ""
           },
           "baxis": {
            "gridcolor": "white",
            "linecolor": "white",
            "ticks": ""
           },
           "bgcolor": "#E5ECF6",
           "caxis": {
            "gridcolor": "white",
            "linecolor": "white",
            "ticks": ""
           }
          },
          "title": {
           "x": 0.05
          },
          "xaxis": {
           "automargin": true,
           "gridcolor": "white",
           "linecolor": "white",
           "ticks": "",
           "title": {
            "standoff": 15
           },
           "zerolinecolor": "white",
           "zerolinewidth": 2
          },
          "yaxis": {
           "automargin": true,
           "gridcolor": "white",
           "linecolor": "white",
           "ticks": "",
           "title": {
            "standoff": 15
           },
           "zerolinecolor": "white",
           "zerolinewidth": 2
          }
         }
        },
        "title": {
         "text": "Quels sont les acteurs les plus présents par périodes ?",
         "x": 0.5
        },
        "updatemenus": [
         {
          "buttons": [
           {
            "args": [
             null,
             {
              "frame": {
               "duration": 1000,
               "redraw": true
              },
              "fromcurrent": true,
              "mode": "immediate",
              "transition": {
               "duration": 500,
               "easing": "linear"
              }
             }
            ],
            "label": "&#9654;",
            "method": "animate"
           },
           {
            "args": [
             [
              null
             ],
             {
              "frame": {
               "duration": 0,
               "redraw": true
              },
              "fromcurrent": true,
              "mode": "immediate",
              "transition": {
               "duration": 0,
               "easing": "linear"
              }
             }
            ],
            "label": "&#9724;",
            "method": "animate"
           }
          ],
          "direction": "left",
          "pad": {
           "r": 10,
           "t": 70
          },
          "showactive": false,
          "type": "buttons",
          "x": 0.1,
          "xanchor": "right",
          "y": 0,
          "yanchor": "top"
         }
        ],
        "width": 1300,
        "xaxis": {
         "anchor": "y",
         "domain": [
          0,
          1
         ],
         "range": [
          0,
          150
         ],
         "title": {
          "text": "count"
         }
        },
        "yaxis": {
         "anchor": "x",
         "domain": [
          0,
          1
         ],
         "range": [
          0,
          6
         ],
         "title": {
          "text": "rank"
         }
        }
       }
      }
     },
     "metadata": {},
     "output_type": "display_data"
    }
   ],
   "source": [
    "fig = px.bar(acteur_par_periode, x = 'count', y=\"rank\", text ='primaryName', color = 'primaryName',\n",
    "    title = 'Quels sont les acteurs les plus présents par périodes ?',\n",
    "    labels = {'startYear': 'Période', 'primaryName': 'Acteurs'},\n",
    "    orientation='h',\n",
    "    animation_frame=\"startYear\",\n",
    "    range_x=[0,150],\n",
    "    range_y=[0,6],\n",
    "    width=1300, height=800)\n",
    " \n",
    "fig.update_traces(textfont_size=12, textposition='outside')\n",
    "fig.update_layout()\n",
    "fig.layout.updatemenus[0].buttons[0].args[1][\"frame\"][\"duration\"] = 1000\n",
    "\n",
    "fig.update_layout(showlegend=False, title_x=0.5)"
   ]
  },
  {
   "cell_type": "code",
   "execution_count": 7,
   "metadata": {},
   "outputs": [
    {
     "data": {
      "application/vnd.plotly.v1+json": {
       "config": {
        "plotlyServerURL": "https://plot.ly"
       },
       "data": [
        {
         "alignmentgroup": "True",
         "hovertemplate": "Acteurs=%{text}<br>Période=%{x}<br>count=%{y}<extra></extra>",
         "legendgroup": "Theodore Roberts",
         "marker": {
          "color": "#636efa",
          "pattern": {
           "shape": ""
          }
         },
         "name": "Theodore Roberts",
         "offsetgroup": "Theodore Roberts",
         "orientation": "v",
         "showlegend": true,
         "text": [
          "Theodore Roberts"
         ],
         "textfont": {
          "size": 12
         },
         "textposition": "outside",
         "type": "bar",
         "x": [
          "1910 - 1920"
         ],
         "xaxis": "x",
         "y": [
          46
         ],
         "yaxis": "y"
        },
        {
         "alignmentgroup": "True",
         "hovertemplate": "Acteurs=%{text}<br>Période=%{x}<br>count=%{y}<extra></extra>",
         "legendgroup": "Lon Chaney",
         "marker": {
          "color": "#EF553B",
          "pattern": {
           "shape": ""
          }
         },
         "name": "Lon Chaney",
         "offsetgroup": "Lon Chaney",
         "orientation": "v",
         "showlegend": true,
         "text": [
          "Lon Chaney"
         ],
         "textfont": {
          "size": 12
         },
         "textposition": "outside",
         "type": "bar",
         "x": [
          "1910 - 1920"
         ],
         "xaxis": "x",
         "y": [
          41
         ],
         "yaxis": "y"
        },
        {
         "alignmentgroup": "True",
         "hovertemplate": "Acteurs=%{text}<br>Période=%{x}<br>count=%{y}<extra></extra>",
         "legendgroup": "Charles Ray",
         "marker": {
          "color": "#00cc96",
          "pattern": {
           "shape": ""
          }
         },
         "name": "Charles Ray",
         "offsetgroup": "Charles Ray",
         "orientation": "v",
         "showlegend": true,
         "text": [
          "Charles Ray"
         ],
         "textfont": {
          "size": 12
         },
         "textposition": "outside",
         "type": "bar",
         "x": [
          "1910 - 1920"
         ],
         "xaxis": "x",
         "y": [
          40
         ],
         "yaxis": "y"
        },
        {
         "alignmentgroup": "True",
         "hovertemplate": "Acteurs=%{text}<br>Période=%{x}<br>count=%{y}<extra></extra>",
         "legendgroup": "Wallace Reid",
         "marker": {
          "color": "#ab63fa",
          "pattern": {
           "shape": ""
          }
         },
         "name": "Wallace Reid",
         "offsetgroup": "Wallace Reid",
         "orientation": "v",
         "showlegend": true,
         "text": [
          "Wallace Reid"
         ],
         "textfont": {
          "size": 12
         },
         "textposition": "outside",
         "type": "bar",
         "x": [
          "1910 - 1920"
         ],
         "xaxis": "x",
         "y": [
          40
         ],
         "yaxis": "y"
        },
        {
         "alignmentgroup": "True",
         "hovertemplate": "Acteurs=%{text}<br>Période=%{x}<br>count=%{y}<extra></extra>",
         "legendgroup": "William S. Hart",
         "marker": {
          "color": "#FFA15A",
          "pattern": {
           "shape": ""
          }
         },
         "name": "William S. Hart",
         "offsetgroup": "William S. Hart",
         "orientation": "v",
         "showlegend": true,
         "text": [
          "William S. Hart"
         ],
         "textfont": {
          "size": 12
         },
         "textposition": "outside",
         "type": "bar",
         "x": [
          "1910 - 1920"
         ],
         "xaxis": "x",
         "y": [
          40
         ],
         "yaxis": "y"
        },
        {
         "alignmentgroup": "True",
         "hovertemplate": "Acteurs=%{text}<br>Période=%{x}<br>count=%{y}<extra></extra>",
         "legendgroup": "Hoot Gibson",
         "marker": {
          "color": "#19d3f3",
          "pattern": {
           "shape": ""
          }
         },
         "name": "Hoot Gibson",
         "offsetgroup": "Hoot Gibson",
         "orientation": "v",
         "showlegend": true,
         "text": [
          "Hoot Gibson"
         ],
         "textfont": {
          "size": 12
         },
         "textposition": "outside",
         "type": "bar",
         "x": [
          "1920 - 1930"
         ],
         "xaxis": "x",
         "y": [
          64
         ],
         "yaxis": "y"
        },
        {
         "alignmentgroup": "True",
         "hovertemplate": "Acteurs=%{text}<br>Période=%{x}<br>count=%{y}<extra></extra>",
         "legendgroup": "Buck Jones",
         "marker": {
          "color": "#FF6692",
          "pattern": {
           "shape": ""
          }
         },
         "name": "Buck Jones",
         "offsetgroup": "Buck Jones",
         "orientation": "v",
         "showlegend": true,
         "text": [
          "Buck Jones",
          "Buck Jones"
         ],
         "textfont": {
          "size": 12
         },
         "textposition": "outside",
         "type": "bar",
         "x": [
          "1920 - 1930",
          "1930 - 1940"
         ],
         "xaxis": "x",
         "y": [
          63,
          62
         ],
         "yaxis": "y"
        },
        {
         "alignmentgroup": "True",
         "hovertemplate": "Acteurs=%{text}<br>Période=%{x}<br>count=%{y}<extra></extra>",
         "legendgroup": "Noah Beery",
         "marker": {
          "color": "#B6E880",
          "pattern": {
           "shape": ""
          }
         },
         "name": "Noah Beery",
         "offsetgroup": "Noah Beery",
         "orientation": "v",
         "showlegend": true,
         "text": [
          "Noah Beery"
         ],
         "textfont": {
          "size": 12
         },
         "textposition": "outside",
         "type": "bar",
         "x": [
          "1920 - 1930"
         ],
         "xaxis": "x",
         "y": [
          58
         ],
         "yaxis": "y"
        },
        {
         "alignmentgroup": "True",
         "hovertemplate": "Acteurs=%{text}<br>Période=%{x}<br>count=%{y}<extra></extra>",
         "legendgroup": "Patsy Ruth Miller",
         "marker": {
          "color": "#FF97FF",
          "pattern": {
           "shape": ""
          }
         },
         "name": "Patsy Ruth Miller",
         "offsetgroup": "Patsy Ruth Miller",
         "orientation": "v",
         "showlegend": true,
         "text": [
          "Patsy Ruth Miller"
         ],
         "textfont": {
          "size": 12
         },
         "textposition": "outside",
         "type": "bar",
         "x": [
          "1920 - 1930"
         ],
         "xaxis": "x",
         "y": [
          58
         ],
         "yaxis": "y"
        },
        {
         "alignmentgroup": "True",
         "hovertemplate": "Acteurs=%{text}<br>Période=%{x}<br>count=%{y}<extra></extra>",
         "legendgroup": "George Fawcett",
         "marker": {
          "color": "#FECB52",
          "pattern": {
           "shape": ""
          }
         },
         "name": "George Fawcett",
         "offsetgroup": "George Fawcett",
         "orientation": "v",
         "showlegend": true,
         "text": [
          "George Fawcett"
         ],
         "textfont": {
          "size": 12
         },
         "textposition": "outside",
         "type": "bar",
         "x": [
          "1920 - 1930"
         ],
         "xaxis": "x",
         "y": [
          55
         ],
         "yaxis": "y"
        },
        {
         "alignmentgroup": "True",
         "hovertemplate": "Acteurs=%{text}<br>Période=%{x}<br>count=%{y}<extra></extra>",
         "legendgroup": "Bob Steele",
         "marker": {
          "color": "#636efa",
          "pattern": {
           "shape": ""
          }
         },
         "name": "Bob Steele",
         "offsetgroup": "Bob Steele",
         "orientation": "v",
         "showlegend": true,
         "text": [
          "Bob Steele"
         ],
         "textfont": {
          "size": 12
         },
         "textposition": "outside",
         "type": "bar",
         "x": [
          "1930 - 1940"
         ],
         "xaxis": "x",
         "y": [
          66
         ],
         "yaxis": "y"
        },
        {
         "alignmentgroup": "True",
         "hovertemplate": "Acteurs=%{text}<br>Période=%{x}<br>count=%{y}<extra></extra>",
         "legendgroup": "Zasu Pitts",
         "marker": {
          "color": "#EF553B",
          "pattern": {
           "shape": ""
          }
         },
         "name": "Zasu Pitts",
         "offsetgroup": "Zasu Pitts",
         "orientation": "v",
         "showlegend": true,
         "text": [
          "Zasu Pitts"
         ],
         "textfont": {
          "size": 12
         },
         "textposition": "outside",
         "type": "bar",
         "x": [
          "1930 - 1940"
         ],
         "xaxis": "x",
         "y": [
          60
         ],
         "yaxis": "y"
        },
        {
         "alignmentgroup": "True",
         "hovertemplate": "Acteurs=%{text}<br>Période=%{x}<br>count=%{y}<extra></extra>",
         "legendgroup": "George 'Gabby' Hayes",
         "marker": {
          "color": "#00cc96",
          "pattern": {
           "shape": ""
          }
         },
         "name": "George 'Gabby' Hayes",
         "offsetgroup": "George 'Gabby' Hayes",
         "orientation": "v",
         "showlegend": true,
         "text": [
          "George 'Gabby' Hayes"
         ],
         "textfont": {
          "size": 12
         },
         "textposition": "outside",
         "type": "bar",
         "x": [
          "1930 - 1940"
         ],
         "xaxis": "x",
         "y": [
          59
         ],
         "yaxis": "y"
        },
        {
         "alignmentgroup": "True",
         "hovertemplate": "Acteurs=%{text}<br>Période=%{x}<br>count=%{y}<extra></extra>",
         "legendgroup": "Charles Starrett",
         "marker": {
          "color": "#ab63fa",
          "pattern": {
           "shape": ""
          }
         },
         "name": "Charles Starrett",
         "offsetgroup": "Charles Starrett",
         "orientation": "v",
         "showlegend": true,
         "text": [
          "Charles Starrett",
          "Charles Starrett"
         ],
         "textfont": {
          "size": 12
         },
         "textposition": "outside",
         "type": "bar",
         "x": [
          "1930 - 1940",
          "1940 - 1950"
         ],
         "xaxis": "x",
         "y": [
          58,
          77
         ],
         "yaxis": "y"
        },
        {
         "alignmentgroup": "True",
         "hovertemplate": "Acteurs=%{text}<br>Période=%{x}<br>count=%{y}<extra></extra>",
         "legendgroup": "Al St. John",
         "marker": {
          "color": "#FFA15A",
          "pattern": {
           "shape": ""
          }
         },
         "name": "Al St. John",
         "offsetgroup": "Al St. John",
         "orientation": "v",
         "showlegend": true,
         "text": [
          "Al St. John"
         ],
         "textfont": {
          "size": 12
         },
         "textposition": "outside",
         "type": "bar",
         "x": [
          "1940 - 1950"
         ],
         "xaxis": "x",
         "y": [
          79
         ],
         "yaxis": "y"
        },
        {
         "alignmentgroup": "True",
         "hovertemplate": "Acteurs=%{text}<br>Période=%{x}<br>count=%{y}<extra></extra>",
         "legendgroup": "Johnny Mack Brown",
         "marker": {
          "color": "#19d3f3",
          "pattern": {
           "shape": ""
          }
         },
         "name": "Johnny Mack Brown",
         "offsetgroup": "Johnny Mack Brown",
         "orientation": "v",
         "showlegend": true,
         "text": [
          "Johnny Mack Brown"
         ],
         "textfont": {
          "size": 12
         },
         "textposition": "outside",
         "type": "bar",
         "x": [
          "1940 - 1950"
         ],
         "xaxis": "x",
         "y": [
          77
         ],
         "yaxis": "y"
        },
        {
         "alignmentgroup": "True",
         "hovertemplate": "Acteurs=%{text}<br>Période=%{x}<br>count=%{y}<extra></extra>",
         "legendgroup": "Raymond Hatton",
         "marker": {
          "color": "#FF6692",
          "pattern": {
           "shape": ""
          }
         },
         "name": "Raymond Hatton",
         "offsetgroup": "Raymond Hatton",
         "orientation": "v",
         "showlegend": true,
         "text": [
          "Raymond Hatton"
         ],
         "textfont": {
          "size": 12
         },
         "textposition": "outside",
         "type": "bar",
         "x": [
          "1940 - 1950"
         ],
         "xaxis": "x",
         "y": [
          64
         ],
         "yaxis": "y"
        },
        {
         "alignmentgroup": "True",
         "hovertemplate": "Acteurs=%{text}<br>Période=%{x}<br>count=%{y}<extra></extra>",
         "legendgroup": "Roy Rogers",
         "marker": {
          "color": "#B6E880",
          "pattern": {
           "shape": ""
          }
         },
         "name": "Roy Rogers",
         "offsetgroup": "Roy Rogers",
         "orientation": "v",
         "showlegend": true,
         "text": [
          "Roy Rogers"
         ],
         "textfont": {
          "size": 12
         },
         "textposition": "outside",
         "type": "bar",
         "x": [
          "1940 - 1950"
         ],
         "xaxis": "x",
         "y": [
          62
         ],
         "yaxis": "y"
        },
        {
         "alignmentgroup": "True",
         "hovertemplate": "Acteurs=%{text}<br>Période=%{x}<br>count=%{y}<extra></extra>",
         "legendgroup": "Toshirô Mifune",
         "marker": {
          "color": "#FF97FF",
          "pattern": {
           "shape": ""
          }
         },
         "name": "Toshirô Mifune",
         "offsetgroup": "Toshirô Mifune",
         "orientation": "v",
         "showlegend": true,
         "text": [
          "Toshirô Mifune"
         ],
         "textfont": {
          "size": 12
         },
         "textposition": "outside",
         "type": "bar",
         "x": [
          "1950 - 1960"
         ],
         "xaxis": "x",
         "y": [
          49
         ],
         "yaxis": "y"
        },
        {
         "alignmentgroup": "True",
         "hovertemplate": "Acteurs=%{text}<br>Période=%{x}<br>count=%{y}<extra></extra>",
         "legendgroup": "Paul Hörbiger",
         "marker": {
          "color": "#FECB52",
          "pattern": {
           "shape": ""
          }
         },
         "name": "Paul Hörbiger",
         "offsetgroup": "Paul Hörbiger",
         "orientation": "v",
         "showlegend": true,
         "text": [
          "Paul Hörbiger"
         ],
         "textfont": {
          "size": 12
         },
         "textposition": "outside",
         "type": "bar",
         "x": [
          "1950 - 1960"
         ],
         "xaxis": "x",
         "y": [
          48
         ],
         "yaxis": "y"
        },
        {
         "alignmentgroup": "True",
         "hovertemplate": "Acteurs=%{text}<br>Période=%{x}<br>count=%{y}<extra></extra>",
         "legendgroup": "Luis Aguilar",
         "marker": {
          "color": "#636efa",
          "pattern": {
           "shape": ""
          }
         },
         "name": "Luis Aguilar",
         "offsetgroup": "Luis Aguilar",
         "orientation": "v",
         "showlegend": true,
         "text": [
          "Luis Aguilar"
         ],
         "textfont": {
          "size": 12
         },
         "textposition": "outside",
         "type": "bar",
         "x": [
          "1950 - 1960"
         ],
         "xaxis": "x",
         "y": [
          46
         ],
         "yaxis": "y"
        },
        {
         "alignmentgroup": "True",
         "hovertemplate": "Acteurs=%{text}<br>Période=%{x}<br>count=%{y}<extra></extra>",
         "legendgroup": "Andrés Soler",
         "marker": {
          "color": "#EF553B",
          "pattern": {
           "shape": ""
          }
         },
         "name": "Andrés Soler",
         "offsetgroup": "Andrés Soler",
         "orientation": "v",
         "showlegend": true,
         "text": [
          "Andrés Soler"
         ],
         "textfont": {
          "size": 12
         },
         "textposition": "outside",
         "type": "bar",
         "x": [
          "1950 - 1960"
         ],
         "xaxis": "x",
         "y": [
          45
         ],
         "yaxis": "y"
        },
        {
         "alignmentgroup": "True",
         "hovertemplate": "Acteurs=%{text}<br>Période=%{x}<br>count=%{y}<extra></extra>",
         "legendgroup": "Alberto Sordi",
         "marker": {
          "color": "#00cc96",
          "pattern": {
           "shape": ""
          }
         },
         "name": "Alberto Sordi",
         "offsetgroup": "Alberto Sordi",
         "orientation": "v",
         "showlegend": true,
         "text": [
          "Alberto Sordi"
         ],
         "textfont": {
          "size": 12
         },
         "textposition": "outside",
         "type": "bar",
         "x": [
          "1950 - 1960"
         ],
         "xaxis": "x",
         "y": [
          43
         ],
         "yaxis": "y"
        },
        {
         "alignmentgroup": "True",
         "hovertemplate": "Acteurs=%{text}<br>Période=%{x}<br>count=%{y}<extra></extra>",
         "legendgroup": "Türkan Soray",
         "marker": {
          "color": "#ab63fa",
          "pattern": {
           "shape": ""
          }
         },
         "name": "Türkan Soray",
         "offsetgroup": "Türkan Soray",
         "orientation": "v",
         "showlegend": true,
         "text": [
          "Türkan Soray"
         ],
         "textfont": {
          "size": 12
         },
         "textposition": "outside",
         "type": "bar",
         "x": [
          "1960 - 1970"
         ],
         "xaxis": "x",
         "y": [
          73
         ],
         "yaxis": "y"
        },
        {
         "alignmentgroup": "True",
         "hovertemplate": "Acteurs=%{text}<br>Période=%{x}<br>count=%{y}<extra></extra>",
         "legendgroup": "Sadri Alisik",
         "marker": {
          "color": "#FFA15A",
          "pattern": {
           "shape": ""
          }
         },
         "name": "Sadri Alisik",
         "offsetgroup": "Sadri Alisik",
         "orientation": "v",
         "showlegend": true,
         "text": [
          "Sadri Alisik"
         ],
         "textfont": {
          "size": 12
         },
         "textposition": "outside",
         "type": "bar",
         "x": [
          "1960 - 1970"
         ],
         "xaxis": "x",
         "y": [
          70
         ],
         "yaxis": "y"
        },
        {
         "alignmentgroup": "True",
         "hovertemplate": "Acteurs=%{text}<br>Période=%{x}<br>count=%{y}<extra></extra>",
         "legendgroup": "Cüneyt Arkin",
         "marker": {
          "color": "#19d3f3",
          "pattern": {
           "shape": ""
          }
         },
         "name": "Cüneyt Arkin",
         "offsetgroup": "Cüneyt Arkin",
         "orientation": "v",
         "showlegend": true,
         "text": [
          "Cüneyt Arkin",
          "Cüneyt Arkin"
         ],
         "textfont": {
          "size": 12
         },
         "textposition": "outside",
         "type": "bar",
         "x": [
          "1960 - 1970",
          "1970 - 1980"
         ],
         "xaxis": "x",
         "y": [
          68,
          94
         ],
         "yaxis": "y"
        },
        {
         "alignmentgroup": "True",
         "hovertemplate": "Acteurs=%{text}<br>Période=%{x}<br>count=%{y}<extra></extra>",
         "legendgroup": "Dionysis Papagiannopoulos",
         "marker": {
          "color": "#FF6692",
          "pattern": {
           "shape": ""
          }
         },
         "name": "Dionysis Papagiannopoulos",
         "offsetgroup": "Dionysis Papagiannopoulos",
         "orientation": "v",
         "showlegend": true,
         "text": [
          "Dionysis Papagiannopoulos"
         ],
         "textfont": {
          "size": 12
         },
         "textposition": "outside",
         "type": "bar",
         "x": [
          "1960 - 1970"
         ],
         "xaxis": "x",
         "y": [
          63
         ],
         "yaxis": "y"
        },
        {
         "alignmentgroup": "True",
         "hovertemplate": "Acteurs=%{text}<br>Période=%{x}<br>count=%{y}<extra></extra>",
         "legendgroup": "Shintarô Katsu",
         "marker": {
          "color": "#B6E880",
          "pattern": {
           "shape": ""
          }
         },
         "name": "Shintarô Katsu",
         "offsetgroup": "Shintarô Katsu",
         "orientation": "v",
         "showlegend": true,
         "text": [
          "Shintarô Katsu"
         ],
         "textfont": {
          "size": 12
         },
         "textposition": "outside",
         "type": "bar",
         "x": [
          "1960 - 1970"
         ],
         "xaxis": "x",
         "y": [
          59
         ],
         "yaxis": "y"
        },
        {
         "alignmentgroup": "True",
         "hovertemplate": "Acteurs=%{text}<br>Période=%{x}<br>count=%{y}<extra></extra>",
         "legendgroup": "Jamie Gillis",
         "marker": {
          "color": "#FF97FF",
          "pattern": {
           "shape": ""
          }
         },
         "name": "Jamie Gillis",
         "offsetgroup": "Jamie Gillis",
         "orientation": "v",
         "showlegend": true,
         "text": [
          "Jamie Gillis"
         ],
         "textfont": {
          "size": 12
         },
         "textposition": "outside",
         "type": "bar",
         "x": [
          "1970 - 1980"
         ],
         "xaxis": "x",
         "y": [
          81
         ],
         "yaxis": "y"
        },
        {
         "alignmentgroup": "True",
         "hovertemplate": "Acteurs=%{text}<br>Période=%{x}<br>count=%{y}<extra></extra>",
         "legendgroup": "John Holmes",
         "marker": {
          "color": "#FECB52",
          "pattern": {
           "shape": ""
          }
         },
         "name": "John Holmes",
         "offsetgroup": "John Holmes",
         "orientation": "v",
         "showlegend": true,
         "text": [
          "John Holmes"
         ],
         "textfont": {
          "size": 12
         },
         "textposition": "outside",
         "type": "bar",
         "x": [
          "1970 - 1980"
         ],
         "xaxis": "x",
         "y": [
          79
         ],
         "yaxis": "y"
        },
        {
         "alignmentgroup": "True",
         "hovertemplate": "Acteurs=%{text}<br>Période=%{x}<br>count=%{y}<extra></extra>",
         "legendgroup": "Ric Lutze",
         "marker": {
          "color": "#636efa",
          "pattern": {
           "shape": ""
          }
         },
         "name": "Ric Lutze",
         "offsetgroup": "Ric Lutze",
         "orientation": "v",
         "showlegend": true,
         "text": [
          "Ric Lutze"
         ],
         "textfont": {
          "size": 12
         },
         "textposition": "outside",
         "type": "bar",
         "x": [
          "1970 - 1980"
         ],
         "xaxis": "x",
         "y": [
          79
         ],
         "yaxis": "y"
        },
        {
         "alignmentgroup": "True",
         "hovertemplate": "Acteurs=%{text}<br>Période=%{x}<br>count=%{y}<extra></extra>",
         "legendgroup": "Junko Miyashita",
         "marker": {
          "color": "#EF553B",
          "pattern": {
           "shape": ""
          }
         },
         "name": "Junko Miyashita",
         "offsetgroup": "Junko Miyashita",
         "orientation": "v",
         "showlegend": true,
         "text": [
          "Junko Miyashita"
         ],
         "textfont": {
          "size": 12
         },
         "textposition": "outside",
         "type": "bar",
         "x": [
          "1970 - 1980"
         ],
         "xaxis": "x",
         "y": [
          75
         ],
         "yaxis": "y"
        },
        {
         "alignmentgroup": "True",
         "hovertemplate": "Acteurs=%{text}<br>Période=%{x}<br>count=%{y}<extra></extra>",
         "legendgroup": "Mohanlal",
         "marker": {
          "color": "#00cc96",
          "pattern": {
           "shape": ""
          }
         },
         "name": "Mohanlal",
         "offsetgroup": "Mohanlal",
         "orientation": "v",
         "showlegend": true,
         "text": [
          "Mohanlal",
          "Mohanlal"
         ],
         "textfont": {
          "size": 12
         },
         "textposition": "outside",
         "type": "bar",
         "x": [
          "1980 - 1990",
          "1990 - 2000"
         ],
         "xaxis": "x",
         "y": [
          101,
          55
         ],
         "yaxis": "y"
        },
        {
         "alignmentgroup": "True",
         "hovertemplate": "Acteurs=%{text}<br>Période=%{x}<br>count=%{y}<extra></extra>",
         "legendgroup": "Mammootty",
         "marker": {
          "color": "#ab63fa",
          "pattern": {
           "shape": ""
          }
         },
         "name": "Mammootty",
         "offsetgroup": "Mammootty",
         "orientation": "v",
         "showlegend": true,
         "text": [
          "Mammootty"
         ],
         "textfont": {
          "size": 12
         },
         "textposition": "outside",
         "type": "bar",
         "x": [
          "1980 - 1990"
         ],
         "xaxis": "x",
         "y": [
          98
         ],
         "yaxis": "y"
        },
        {
         "alignmentgroup": "True",
         "hovertemplate": "Acteurs=%{text}<br>Période=%{x}<br>count=%{y}<extra></extra>",
         "legendgroup": "Mithun Chakraborty",
         "marker": {
          "color": "#FFA15A",
          "pattern": {
           "shape": ""
          }
         },
         "name": "Mithun Chakraborty",
         "offsetgroup": "Mithun Chakraborty",
         "orientation": "v",
         "showlegend": true,
         "text": [
          "Mithun Chakraborty",
          "Mithun Chakraborty"
         ],
         "textfont": {
          "size": 12
         },
         "textposition": "outside",
         "type": "bar",
         "x": [
          "1980 - 1990",
          "1990 - 2000"
         ],
         "xaxis": "x",
         "y": [
          75,
          55
         ],
         "yaxis": "y"
        },
        {
         "alignmentgroup": "True",
         "hovertemplate": "Acteurs=%{text}<br>Période=%{x}<br>count=%{y}<extra></extra>",
         "legendgroup": "Ron Jeremy",
         "marker": {
          "color": "#19d3f3",
          "pattern": {
           "shape": ""
          }
         },
         "name": "Ron Jeremy",
         "offsetgroup": "Ron Jeremy",
         "orientation": "v",
         "showlegend": true,
         "text": [
          "Ron Jeremy"
         ],
         "textfont": {
          "size": 12
         },
         "textposition": "outside",
         "type": "bar",
         "x": [
          "1980 - 1990"
         ],
         "xaxis": "x",
         "y": [
          68
         ],
         "yaxis": "y"
        },
        {
         "alignmentgroup": "True",
         "hovertemplate": "Acteurs=%{text}<br>Période=%{x}<br>count=%{y}<extra></extra>",
         "legendgroup": "Eric Edwards",
         "marker": {
          "color": "#FF6692",
          "pattern": {
           "shape": ""
          }
         },
         "name": "Eric Edwards",
         "offsetgroup": "Eric Edwards",
         "orientation": "v",
         "showlegend": true,
         "text": [
          "Eric Edwards"
         ],
         "textfont": {
          "size": 12
         },
         "textposition": "outside",
         "type": "bar",
         "x": [
          "1980 - 1990"
         ],
         "xaxis": "x",
         "y": [
          66
         ],
         "yaxis": "y"
        },
        {
         "alignmentgroup": "True",
         "hovertemplate": "Acteurs=%{text}<br>Période=%{x}<br>count=%{y}<extra></extra>",
         "legendgroup": "Simon Yam",
         "marker": {
          "color": "#B6E880",
          "pattern": {
           "shape": ""
          }
         },
         "name": "Simon Yam",
         "offsetgroup": "Simon Yam",
         "orientation": "v",
         "showlegend": true,
         "text": [
          "Simon Yam"
         ],
         "textfont": {
          "size": 12
         },
         "textposition": "outside",
         "type": "bar",
         "x": [
          "1990 - 2000"
         ],
         "xaxis": "x",
         "y": [
          57
         ],
         "yaxis": "y"
        },
        {
         "alignmentgroup": "True",
         "hovertemplate": "Acteurs=%{text}<br>Période=%{x}<br>count=%{y}<extra></extra>",
         "legendgroup": "Andy Lau",
         "marker": {
          "color": "#FF97FF",
          "pattern": {
           "shape": ""
          }
         },
         "name": "Andy Lau",
         "offsetgroup": "Andy Lau",
         "orientation": "v",
         "showlegend": true,
         "text": [
          "Andy Lau"
         ],
         "textfont": {
          "size": 12
         },
         "textposition": "outside",
         "type": "bar",
         "x": [
          "1990 - 2000"
         ],
         "xaxis": "x",
         "y": [
          54
         ],
         "yaxis": "y"
        },
        {
         "alignmentgroup": "True",
         "hovertemplate": "Acteurs=%{text}<br>Période=%{x}<br>count=%{y}<extra></extra>",
         "legendgroup": "Anthony Chau-Sang Wong",
         "marker": {
          "color": "#FECB52",
          "pattern": {
           "shape": ""
          }
         },
         "name": "Anthony Chau-Sang Wong",
         "offsetgroup": "Anthony Chau-Sang Wong",
         "orientation": "v",
         "showlegend": true,
         "text": [
          "Anthony Chau-Sang Wong"
         ],
         "textfont": {
          "size": 12
         },
         "textposition": "outside",
         "type": "bar",
         "x": [
          "1990 - 2000"
         ],
         "xaxis": "x",
         "y": [
          53
         ],
         "yaxis": "y"
        },
        {
         "alignmentgroup": "True",
         "hovertemplate": "Acteurs=%{text}<br>Période=%{x}<br>count=%{y}<extra></extra>",
         "legendgroup": "Seiji Nakamitsu",
         "marker": {
          "color": "#636efa",
          "pattern": {
           "shape": ""
          }
         },
         "name": "Seiji Nakamitsu",
         "offsetgroup": "Seiji Nakamitsu",
         "orientation": "v",
         "showlegend": true,
         "text": [
          "Seiji Nakamitsu"
         ],
         "textfont": {
          "size": 12
         },
         "textposition": "outside",
         "type": "bar",
         "x": [
          "2000 - 2010"
         ],
         "xaxis": "x",
         "y": [
          118
         ],
         "yaxis": "y"
        },
        {
         "alignmentgroup": "True",
         "hovertemplate": "Acteurs=%{text}<br>Période=%{x}<br>count=%{y}<extra></extra>",
         "legendgroup": "Kyôko Kazama",
         "marker": {
          "color": "#EF553B",
          "pattern": {
           "shape": ""
          }
         },
         "name": "Kyôko Kazama",
         "offsetgroup": "Kyôko Kazama",
         "orientation": "v",
         "showlegend": true,
         "text": [
          "Kyôko Kazama"
         ],
         "textfont": {
          "size": 12
         },
         "textposition": "outside",
         "type": "bar",
         "x": [
          "2000 - 2010"
         ],
         "xaxis": "x",
         "y": [
          73
         ],
         "yaxis": "y"
        },
        {
         "alignmentgroup": "True",
         "hovertemplate": "Acteurs=%{text}<br>Période=%{x}<br>count=%{y}<extra></extra>",
         "legendgroup": "Motoko Sasaki",
         "marker": {
          "color": "#00cc96",
          "pattern": {
           "shape": ""
          }
         },
         "name": "Motoko Sasaki",
         "offsetgroup": "Motoko Sasaki",
         "orientation": "v",
         "showlegend": true,
         "text": [
          "Motoko Sasaki"
         ],
         "textfont": {
          "size": 12
         },
         "textposition": "outside",
         "type": "bar",
         "x": [
          "2000 - 2010"
         ],
         "xaxis": "x",
         "y": [
          55
         ],
         "yaxis": "y"
        },
        {
         "alignmentgroup": "True",
         "hovertemplate": "Acteurs=%{text}<br>Période=%{x}<br>count=%{y}<extra></extra>",
         "legendgroup": "Lemon Hanazawa",
         "marker": {
          "color": "#ab63fa",
          "pattern": {
           "shape": ""
          }
         },
         "name": "Lemon Hanazawa",
         "offsetgroup": "Lemon Hanazawa",
         "orientation": "v",
         "showlegend": true,
         "text": [
          "Lemon Hanazawa"
         ],
         "textfont": {
          "size": 12
         },
         "textposition": "outside",
         "type": "bar",
         "x": [
          "2000 - 2010"
         ],
         "xaxis": "x",
         "y": [
          51
         ],
         "yaxis": "y"
        },
        {
         "alignmentgroup": "True",
         "hovertemplate": "Acteurs=%{text}<br>Période=%{x}<br>count=%{y}<extra></extra>",
         "legendgroup": "Prakash Raj",
         "marker": {
          "color": "#FFA15A",
          "pattern": {
           "shape": ""
          }
         },
         "name": "Prakash Raj",
         "offsetgroup": "Prakash Raj",
         "orientation": "v",
         "showlegend": true,
         "text": [
          "Prakash Raj",
          "Prakash Raj"
         ],
         "textfont": {
          "size": 12
         },
         "textposition": "outside",
         "type": "bar",
         "x": [
          "2000 - 2010",
          "2010 - 2020"
         ],
         "xaxis": "x",
         "y": [
          50,
          63
         ],
         "yaxis": "y"
        },
        {
         "alignmentgroup": "True",
         "hovertemplate": "Acteurs=%{text}<br>Période=%{x}<br>count=%{y}<extra></extra>",
         "legendgroup": "Eric Roberts",
         "marker": {
          "color": "#19d3f3",
          "pattern": {
           "shape": ""
          }
         },
         "name": "Eric Roberts",
         "offsetgroup": "Eric Roberts",
         "orientation": "v",
         "showlegend": true,
         "text": [
          "Eric Roberts",
          "Eric Roberts"
         ],
         "textfont": {
          "size": 12
         },
         "textposition": "outside",
         "type": "bar",
         "x": [
          "2010 - 2020",
          "2020 - 2030"
         ],
         "xaxis": "x",
         "y": [
          131,
          30
         ],
         "yaxis": "y"
        },
        {
         "alignmentgroup": "True",
         "hovertemplate": "Acteurs=%{text}<br>Période=%{x}<br>count=%{y}<extra></extra>",
         "legendgroup": "Tom Sizemore",
         "marker": {
          "color": "#FF6692",
          "pattern": {
           "shape": ""
          }
         },
         "name": "Tom Sizemore",
         "offsetgroup": "Tom Sizemore",
         "orientation": "v",
         "showlegend": true,
         "text": [
          "Tom Sizemore"
         ],
         "textfont": {
          "size": 12
         },
         "textposition": "outside",
         "type": "bar",
         "x": [
          "2010 - 2020"
         ],
         "xaxis": "x",
         "y": [
          66
         ],
         "yaxis": "y"
        },
        {
         "alignmentgroup": "True",
         "hovertemplate": "Acteurs=%{text}<br>Période=%{x}<br>count=%{y}<extra></extra>",
         "legendgroup": "Sergey A.",
         "marker": {
          "color": "#B6E880",
          "pattern": {
           "shape": ""
          }
         },
         "name": "Sergey A.",
         "offsetgroup": "Sergey A.",
         "orientation": "v",
         "showlegend": true,
         "text": [
          "Sergey A."
         ],
         "textfont": {
          "size": 12
         },
         "textposition": "outside",
         "type": "bar",
         "x": [
          "2010 - 2020"
         ],
         "xaxis": "x",
         "y": [
          60
         ],
         "yaxis": "y"
        },
        {
         "alignmentgroup": "True",
         "hovertemplate": "Acteurs=%{text}<br>Période=%{x}<br>count=%{y}<extra></extra>",
         "legendgroup": "Danny Trejo",
         "marker": {
          "color": "#FF97FF",
          "pattern": {
           "shape": ""
          }
         },
         "name": "Danny Trejo",
         "offsetgroup": "Danny Trejo",
         "orientation": "v",
         "showlegend": true,
         "text": [
          "Danny Trejo"
         ],
         "textfont": {
          "size": 12
         },
         "textposition": "outside",
         "type": "bar",
         "x": [
          "2010 - 2020"
         ],
         "xaxis": "x",
         "y": [
          59
         ],
         "yaxis": "y"
        },
        {
         "alignmentgroup": "True",
         "hovertemplate": "Acteurs=%{text}<br>Période=%{x}<br>count=%{y}<extra></extra>",
         "legendgroup": "Ross K. Foad",
         "marker": {
          "color": "#FECB52",
          "pattern": {
           "shape": ""
          }
         },
         "name": "Ross K. Foad",
         "offsetgroup": "Ross K. Foad",
         "orientation": "v",
         "showlegend": true,
         "text": [
          "Ross K. Foad"
         ],
         "textfont": {
          "size": 12
         },
         "textposition": "outside",
         "type": "bar",
         "x": [
          "2020 - 2030"
         ],
         "xaxis": "x",
         "y": [
          24
         ],
         "yaxis": "y"
        },
        {
         "alignmentgroup": "True",
         "hovertemplate": "Acteurs=%{text}<br>Période=%{x}<br>count=%{y}<extra></extra>",
         "legendgroup": "Simon Hill",
         "marker": {
          "color": "#636efa",
          "pattern": {
           "shape": ""
          }
         },
         "name": "Simon Hill",
         "offsetgroup": "Simon Hill",
         "orientation": "v",
         "showlegend": true,
         "text": [
          "Simon Hill"
         ],
         "textfont": {
          "size": 12
         },
         "textposition": "outside",
         "type": "bar",
         "x": [
          "2020 - 2030"
         ],
         "xaxis": "x",
         "y": [
          24
         ],
         "yaxis": "y"
        },
        {
         "alignmentgroup": "True",
         "hovertemplate": "Acteurs=%{text}<br>Période=%{x}<br>count=%{y}<extra></extra>",
         "legendgroup": "Cascade Nerida",
         "marker": {
          "color": "#EF553B",
          "pattern": {
           "shape": ""
          }
         },
         "name": "Cascade Nerida",
         "offsetgroup": "Cascade Nerida",
         "orientation": "v",
         "showlegend": true,
         "text": [
          "Cascade Nerida"
         ],
         "textfont": {
          "size": 12
         },
         "textposition": "outside",
         "type": "bar",
         "x": [
          "2020 - 2030"
         ],
         "xaxis": "x",
         "y": [
          15
         ],
         "yaxis": "y"
        },
        {
         "alignmentgroup": "True",
         "hovertemplate": "Acteurs=%{text}<br>Période=%{x}<br>count=%{y}<extra></extra>",
         "legendgroup": "Shawn C. Phillips",
         "marker": {
          "color": "#00cc96",
          "pattern": {
           "shape": ""
          }
         },
         "name": "Shawn C. Phillips",
         "offsetgroup": "Shawn C. Phillips",
         "orientation": "v",
         "showlegend": true,
         "text": [
          "Shawn C. Phillips"
         ],
         "textfont": {
          "size": 12
         },
         "textposition": "outside",
         "type": "bar",
         "x": [
          "2020 - 2030"
         ],
         "xaxis": "x",
         "y": [
          15
         ],
         "yaxis": "y"
        }
       ],
       "layout": {
        "barmode": "relative",
        "height": 800,
        "legend": {
         "title": {
          "text": "Acteurs"
         },
         "tracegroupgap": 0
        },
        "showlegend": false,
        "template": {
         "data": {
          "bar": [
           {
            "error_x": {
             "color": "#2a3f5f"
            },
            "error_y": {
             "color": "#2a3f5f"
            },
            "marker": {
             "line": {
              "color": "#E5ECF6",
              "width": 0.5
             },
             "pattern": {
              "fillmode": "overlay",
              "size": 10,
              "solidity": 0.2
             }
            },
            "type": "bar"
           }
          ],
          "barpolar": [
           {
            "marker": {
             "line": {
              "color": "#E5ECF6",
              "width": 0.5
             },
             "pattern": {
              "fillmode": "overlay",
              "size": 10,
              "solidity": 0.2
             }
            },
            "type": "barpolar"
           }
          ],
          "carpet": [
           {
            "aaxis": {
             "endlinecolor": "#2a3f5f",
             "gridcolor": "white",
             "linecolor": "white",
             "minorgridcolor": "white",
             "startlinecolor": "#2a3f5f"
            },
            "baxis": {
             "endlinecolor": "#2a3f5f",
             "gridcolor": "white",
             "linecolor": "white",
             "minorgridcolor": "white",
             "startlinecolor": "#2a3f5f"
            },
            "type": "carpet"
           }
          ],
          "choropleth": [
           {
            "colorbar": {
             "outlinewidth": 0,
             "ticks": ""
            },
            "type": "choropleth"
           }
          ],
          "contour": [
           {
            "colorbar": {
             "outlinewidth": 0,
             "ticks": ""
            },
            "colorscale": [
             [
              0,
              "#0d0887"
             ],
             [
              0.1111111111111111,
              "#46039f"
             ],
             [
              0.2222222222222222,
              "#7201a8"
             ],
             [
              0.3333333333333333,
              "#9c179e"
             ],
             [
              0.4444444444444444,
              "#bd3786"
             ],
             [
              0.5555555555555556,
              "#d8576b"
             ],
             [
              0.6666666666666666,
              "#ed7953"
             ],
             [
              0.7777777777777778,
              "#fb9f3a"
             ],
             [
              0.8888888888888888,
              "#fdca26"
             ],
             [
              1,
              "#f0f921"
             ]
            ],
            "type": "contour"
           }
          ],
          "contourcarpet": [
           {
            "colorbar": {
             "outlinewidth": 0,
             "ticks": ""
            },
            "type": "contourcarpet"
           }
          ],
          "heatmap": [
           {
            "colorbar": {
             "outlinewidth": 0,
             "ticks": ""
            },
            "colorscale": [
             [
              0,
              "#0d0887"
             ],
             [
              0.1111111111111111,
              "#46039f"
             ],
             [
              0.2222222222222222,
              "#7201a8"
             ],
             [
              0.3333333333333333,
              "#9c179e"
             ],
             [
              0.4444444444444444,
              "#bd3786"
             ],
             [
              0.5555555555555556,
              "#d8576b"
             ],
             [
              0.6666666666666666,
              "#ed7953"
             ],
             [
              0.7777777777777778,
              "#fb9f3a"
             ],
             [
              0.8888888888888888,
              "#fdca26"
             ],
             [
              1,
              "#f0f921"
             ]
            ],
            "type": "heatmap"
           }
          ],
          "heatmapgl": [
           {
            "colorbar": {
             "outlinewidth": 0,
             "ticks": ""
            },
            "colorscale": [
             [
              0,
              "#0d0887"
             ],
             [
              0.1111111111111111,
              "#46039f"
             ],
             [
              0.2222222222222222,
              "#7201a8"
             ],
             [
              0.3333333333333333,
              "#9c179e"
             ],
             [
              0.4444444444444444,
              "#bd3786"
             ],
             [
              0.5555555555555556,
              "#d8576b"
             ],
             [
              0.6666666666666666,
              "#ed7953"
             ],
             [
              0.7777777777777778,
              "#fb9f3a"
             ],
             [
              0.8888888888888888,
              "#fdca26"
             ],
             [
              1,
              "#f0f921"
             ]
            ],
            "type": "heatmapgl"
           }
          ],
          "histogram": [
           {
            "marker": {
             "pattern": {
              "fillmode": "overlay",
              "size": 10,
              "solidity": 0.2
             }
            },
            "type": "histogram"
           }
          ],
          "histogram2d": [
           {
            "colorbar": {
             "outlinewidth": 0,
             "ticks": ""
            },
            "colorscale": [
             [
              0,
              "#0d0887"
             ],
             [
              0.1111111111111111,
              "#46039f"
             ],
             [
              0.2222222222222222,
              "#7201a8"
             ],
             [
              0.3333333333333333,
              "#9c179e"
             ],
             [
              0.4444444444444444,
              "#bd3786"
             ],
             [
              0.5555555555555556,
              "#d8576b"
             ],
             [
              0.6666666666666666,
              "#ed7953"
             ],
             [
              0.7777777777777778,
              "#fb9f3a"
             ],
             [
              0.8888888888888888,
              "#fdca26"
             ],
             [
              1,
              "#f0f921"
             ]
            ],
            "type": "histogram2d"
           }
          ],
          "histogram2dcontour": [
           {
            "colorbar": {
             "outlinewidth": 0,
             "ticks": ""
            },
            "colorscale": [
             [
              0,
              "#0d0887"
             ],
             [
              0.1111111111111111,
              "#46039f"
             ],
             [
              0.2222222222222222,
              "#7201a8"
             ],
             [
              0.3333333333333333,
              "#9c179e"
             ],
             [
              0.4444444444444444,
              "#bd3786"
             ],
             [
              0.5555555555555556,
              "#d8576b"
             ],
             [
              0.6666666666666666,
              "#ed7953"
             ],
             [
              0.7777777777777778,
              "#fb9f3a"
             ],
             [
              0.8888888888888888,
              "#fdca26"
             ],
             [
              1,
              "#f0f921"
             ]
            ],
            "type": "histogram2dcontour"
           }
          ],
          "mesh3d": [
           {
            "colorbar": {
             "outlinewidth": 0,
             "ticks": ""
            },
            "type": "mesh3d"
           }
          ],
          "parcoords": [
           {
            "line": {
             "colorbar": {
              "outlinewidth": 0,
              "ticks": ""
             }
            },
            "type": "parcoords"
           }
          ],
          "pie": [
           {
            "automargin": true,
            "type": "pie"
           }
          ],
          "scatter": [
           {
            "marker": {
             "colorbar": {
              "outlinewidth": 0,
              "ticks": ""
             }
            },
            "type": "scatter"
           }
          ],
          "scatter3d": [
           {
            "line": {
             "colorbar": {
              "outlinewidth": 0,
              "ticks": ""
             }
            },
            "marker": {
             "colorbar": {
              "outlinewidth": 0,
              "ticks": ""
             }
            },
            "type": "scatter3d"
           }
          ],
          "scattercarpet": [
           {
            "marker": {
             "colorbar": {
              "outlinewidth": 0,
              "ticks": ""
             }
            },
            "type": "scattercarpet"
           }
          ],
          "scattergeo": [
           {
            "marker": {
             "colorbar": {
              "outlinewidth": 0,
              "ticks": ""
             }
            },
            "type": "scattergeo"
           }
          ],
          "scattergl": [
           {
            "marker": {
             "colorbar": {
              "outlinewidth": 0,
              "ticks": ""
             }
            },
            "type": "scattergl"
           }
          ],
          "scattermapbox": [
           {
            "marker": {
             "colorbar": {
              "outlinewidth": 0,
              "ticks": ""
             }
            },
            "type": "scattermapbox"
           }
          ],
          "scatterpolar": [
           {
            "marker": {
             "colorbar": {
              "outlinewidth": 0,
              "ticks": ""
             }
            },
            "type": "scatterpolar"
           }
          ],
          "scatterpolargl": [
           {
            "marker": {
             "colorbar": {
              "outlinewidth": 0,
              "ticks": ""
             }
            },
            "type": "scatterpolargl"
           }
          ],
          "scatterternary": [
           {
            "marker": {
             "colorbar": {
              "outlinewidth": 0,
              "ticks": ""
             }
            },
            "type": "scatterternary"
           }
          ],
          "surface": [
           {
            "colorbar": {
             "outlinewidth": 0,
             "ticks": ""
            },
            "colorscale": [
             [
              0,
              "#0d0887"
             ],
             [
              0.1111111111111111,
              "#46039f"
             ],
             [
              0.2222222222222222,
              "#7201a8"
             ],
             [
              0.3333333333333333,
              "#9c179e"
             ],
             [
              0.4444444444444444,
              "#bd3786"
             ],
             [
              0.5555555555555556,
              "#d8576b"
             ],
             [
              0.6666666666666666,
              "#ed7953"
             ],
             [
              0.7777777777777778,
              "#fb9f3a"
             ],
             [
              0.8888888888888888,
              "#fdca26"
             ],
             [
              1,
              "#f0f921"
             ]
            ],
            "type": "surface"
           }
          ],
          "table": [
           {
            "cells": {
             "fill": {
              "color": "#EBF0F8"
             },
             "line": {
              "color": "white"
             }
            },
            "header": {
             "fill": {
              "color": "#C8D4E3"
             },
             "line": {
              "color": "white"
             }
            },
            "type": "table"
           }
          ]
         },
         "layout": {
          "annotationdefaults": {
           "arrowcolor": "#2a3f5f",
           "arrowhead": 0,
           "arrowwidth": 1
          },
          "autotypenumbers": "strict",
          "coloraxis": {
           "colorbar": {
            "outlinewidth": 0,
            "ticks": ""
           }
          },
          "colorscale": {
           "diverging": [
            [
             0,
             "#8e0152"
            ],
            [
             0.1,
             "#c51b7d"
            ],
            [
             0.2,
             "#de77ae"
            ],
            [
             0.3,
             "#f1b6da"
            ],
            [
             0.4,
             "#fde0ef"
            ],
            [
             0.5,
             "#f7f7f7"
            ],
            [
             0.6,
             "#e6f5d0"
            ],
            [
             0.7,
             "#b8e186"
            ],
            [
             0.8,
             "#7fbc41"
            ],
            [
             0.9,
             "#4d9221"
            ],
            [
             1,
             "#276419"
            ]
           ],
           "sequential": [
            [
             0,
             "#0d0887"
            ],
            [
             0.1111111111111111,
             "#46039f"
            ],
            [
             0.2222222222222222,
             "#7201a8"
            ],
            [
             0.3333333333333333,
             "#9c179e"
            ],
            [
             0.4444444444444444,
             "#bd3786"
            ],
            [
             0.5555555555555556,
             "#d8576b"
            ],
            [
             0.6666666666666666,
             "#ed7953"
            ],
            [
             0.7777777777777778,
             "#fb9f3a"
            ],
            [
             0.8888888888888888,
             "#fdca26"
            ],
            [
             1,
             "#f0f921"
            ]
           ],
           "sequentialminus": [
            [
             0,
             "#0d0887"
            ],
            [
             0.1111111111111111,
             "#46039f"
            ],
            [
             0.2222222222222222,
             "#7201a8"
            ],
            [
             0.3333333333333333,
             "#9c179e"
            ],
            [
             0.4444444444444444,
             "#bd3786"
            ],
            [
             0.5555555555555556,
             "#d8576b"
            ],
            [
             0.6666666666666666,
             "#ed7953"
            ],
            [
             0.7777777777777778,
             "#fb9f3a"
            ],
            [
             0.8888888888888888,
             "#fdca26"
            ],
            [
             1,
             "#f0f921"
            ]
           ]
          },
          "colorway": [
           "#636efa",
           "#EF553B",
           "#00cc96",
           "#ab63fa",
           "#FFA15A",
           "#19d3f3",
           "#FF6692",
           "#B6E880",
           "#FF97FF",
           "#FECB52"
          ],
          "font": {
           "color": "#2a3f5f"
          },
          "geo": {
           "bgcolor": "white",
           "lakecolor": "white",
           "landcolor": "#E5ECF6",
           "showlakes": true,
           "showland": true,
           "subunitcolor": "white"
          },
          "hoverlabel": {
           "align": "left"
          },
          "hovermode": "closest",
          "mapbox": {
           "style": "light"
          },
          "paper_bgcolor": "white",
          "plot_bgcolor": "#E5ECF6",
          "polar": {
           "angularaxis": {
            "gridcolor": "white",
            "linecolor": "white",
            "ticks": ""
           },
           "bgcolor": "#E5ECF6",
           "radialaxis": {
            "gridcolor": "white",
            "linecolor": "white",
            "ticks": ""
           }
          },
          "scene": {
           "xaxis": {
            "backgroundcolor": "#E5ECF6",
            "gridcolor": "white",
            "gridwidth": 2,
            "linecolor": "white",
            "showbackground": true,
            "ticks": "",
            "zerolinecolor": "white"
           },
           "yaxis": {
            "backgroundcolor": "#E5ECF6",
            "gridcolor": "white",
            "gridwidth": 2,
            "linecolor": "white",
            "showbackground": true,
            "ticks": "",
            "zerolinecolor": "white"
           },
           "zaxis": {
            "backgroundcolor": "#E5ECF6",
            "gridcolor": "white",
            "gridwidth": 2,
            "linecolor": "white",
            "showbackground": true,
            "ticks": "",
            "zerolinecolor": "white"
           }
          },
          "shapedefaults": {
           "line": {
            "color": "#2a3f5f"
           }
          },
          "ternary": {
           "aaxis": {
            "gridcolor": "white",
            "linecolor": "white",
            "ticks": ""
           },
           "baxis": {
            "gridcolor": "white",
            "linecolor": "white",
            "ticks": ""
           },
           "bgcolor": "#E5ECF6",
           "caxis": {
            "gridcolor": "white",
            "linecolor": "white",
            "ticks": ""
           }
          },
          "title": {
           "x": 0.05
          },
          "xaxis": {
           "automargin": true,
           "gridcolor": "white",
           "linecolor": "white",
           "ticks": "",
           "title": {
            "standoff": 15
           },
           "zerolinecolor": "white",
           "zerolinewidth": 2
          },
          "yaxis": {
           "automargin": true,
           "gridcolor": "white",
           "linecolor": "white",
           "ticks": "",
           "title": {
            "standoff": 15
           },
           "zerolinecolor": "white",
           "zerolinewidth": 2
          }
         }
        },
        "title": {
         "text": "Quels sont les acteurs les plus présents par périodes ?",
         "x": 0.5
        },
        "width": 1300,
        "xaxis": {
         "anchor": "y",
         "domain": [
          0,
          1
         ],
         "title": {
          "text": "Période"
         }
        },
        "yaxis": {
         "anchor": "x",
         "domain": [
          0,
          1
         ],
         "title": {
          "text": "count"
         }
        }
       }
      }
     },
     "metadata": {},
     "output_type": "display_data"
    }
   ],
   "source": [
    "# étape 8 : Visualisation\n",
    "fig = px.bar(acteur_par_periode, x=\"startYear\", y ='count', color = 'primaryName', text ='primaryName',\n",
    "    title = 'Quels sont les acteurs les plus présents par périodes ?',\n",
    "    labels = {'startYear': 'Période', 'primaryName': 'Acteurs'},\n",
    "    width=1300, height=800)\n",
    " \n",
    "fig.update_traces(textfont_size=12, textposition='outside')\n",
    "fig.update_layout()\n",
    "\n",
    "fig.update_layout(showlegend=False, title_x=0.5)"
   ]
  },
  {
   "cell_type": "code",
   "execution_count": 8,
   "metadata": {},
   "outputs": [
    {
     "data": {
      "application/vnd.plotly.v1+json": {
       "config": {
        "plotlyServerURL": "https://plot.ly"
       },
       "data": [
        {
         "alignmentgroup": "True",
         "hovertemplate": "Période=%{text}<br>Acteurs=%{x}<br>count=%{y}<extra></extra>",
         "legendgroup": "1910 - 1920",
         "marker": {
          "color": "#636efa",
          "pattern": {
           "shape": ""
          }
         },
         "name": "1910 - 1920",
         "offsetgroup": "1910 - 1920",
         "orientation": "v",
         "showlegend": true,
         "text": [
          "1910 - 1920",
          "1910 - 1920",
          "1910 - 1920",
          "1910 - 1920",
          "1910 - 1920"
         ],
         "textfont": {
          "size": 14
         },
         "textposition": "auto",
         "type": "bar",
         "x": [
          "Theodore Roberts",
          "Lon Chaney",
          "Charles Ray",
          "Wallace Reid",
          "William S. Hart"
         ],
         "xaxis": "x",
         "y": [
          46,
          41,
          40,
          40,
          40
         ],
         "yaxis": "y"
        },
        {
         "alignmentgroup": "True",
         "hovertemplate": "Période=%{text}<br>Acteurs=%{x}<br>count=%{y}<extra></extra>",
         "legendgroup": "1920 - 1930",
         "marker": {
          "color": "#EF553B",
          "pattern": {
           "shape": ""
          }
         },
         "name": "1920 - 1930",
         "offsetgroup": "1920 - 1930",
         "orientation": "v",
         "showlegend": true,
         "text": [
          "1920 - 1930",
          "1920 - 1930",
          "1920 - 1930",
          "1920 - 1930",
          "1920 - 1930"
         ],
         "textfont": {
          "size": 14
         },
         "textposition": "auto",
         "type": "bar",
         "x": [
          "Hoot Gibson",
          "Buck Jones",
          "Noah Beery",
          "Patsy Ruth Miller",
          "George Fawcett"
         ],
         "xaxis": "x",
         "y": [
          64,
          63,
          58,
          58,
          55
         ],
         "yaxis": "y"
        },
        {
         "alignmentgroup": "True",
         "hovertemplate": "Période=%{text}<br>Acteurs=%{x}<br>count=%{y}<extra></extra>",
         "legendgroup": "1930 - 1940",
         "marker": {
          "color": "#00cc96",
          "pattern": {
           "shape": ""
          }
         },
         "name": "1930 - 1940",
         "offsetgroup": "1930 - 1940",
         "orientation": "v",
         "showlegend": true,
         "text": [
          "1930 - 1940",
          "1930 - 1940",
          "1930 - 1940",
          "1930 - 1940",
          "1930 - 1940"
         ],
         "textfont": {
          "size": 14
         },
         "textposition": "auto",
         "type": "bar",
         "x": [
          "Bob Steele",
          "Buck Jones",
          "Zasu Pitts",
          "George 'Gabby' Hayes",
          "Charles Starrett"
         ],
         "xaxis": "x",
         "y": [
          66,
          62,
          60,
          59,
          58
         ],
         "yaxis": "y"
        },
        {
         "alignmentgroup": "True",
         "hovertemplate": "Période=%{text}<br>Acteurs=%{x}<br>count=%{y}<extra></extra>",
         "legendgroup": "1940 - 1950",
         "marker": {
          "color": "#ab63fa",
          "pattern": {
           "shape": ""
          }
         },
         "name": "1940 - 1950",
         "offsetgroup": "1940 - 1950",
         "orientation": "v",
         "showlegend": true,
         "text": [
          "1940 - 1950",
          "1940 - 1950",
          "1940 - 1950",
          "1940 - 1950",
          "1940 - 1950"
         ],
         "textfont": {
          "size": 14
         },
         "textposition": "auto",
         "type": "bar",
         "x": [
          "Al St. John",
          "Charles Starrett",
          "Johnny Mack Brown",
          "Raymond Hatton",
          "Roy Rogers"
         ],
         "xaxis": "x",
         "y": [
          79,
          77,
          77,
          64,
          62
         ],
         "yaxis": "y"
        },
        {
         "alignmentgroup": "True",
         "hovertemplate": "Période=%{text}<br>Acteurs=%{x}<br>count=%{y}<extra></extra>",
         "legendgroup": "1950 - 1960",
         "marker": {
          "color": "#FFA15A",
          "pattern": {
           "shape": ""
          }
         },
         "name": "1950 - 1960",
         "offsetgroup": "1950 - 1960",
         "orientation": "v",
         "showlegend": true,
         "text": [
          "1950 - 1960",
          "1950 - 1960",
          "1950 - 1960",
          "1950 - 1960",
          "1950 - 1960"
         ],
         "textfont": {
          "size": 14
         },
         "textposition": "auto",
         "type": "bar",
         "x": [
          "Toshirô Mifune",
          "Paul Hörbiger",
          "Luis Aguilar",
          "Andrés Soler",
          "Alberto Sordi"
         ],
         "xaxis": "x",
         "y": [
          49,
          48,
          46,
          45,
          43
         ],
         "yaxis": "y"
        },
        {
         "alignmentgroup": "True",
         "hovertemplate": "Période=%{text}<br>Acteurs=%{x}<br>count=%{y}<extra></extra>",
         "legendgroup": "1960 - 1970",
         "marker": {
          "color": "#19d3f3",
          "pattern": {
           "shape": ""
          }
         },
         "name": "1960 - 1970",
         "offsetgroup": "1960 - 1970",
         "orientation": "v",
         "showlegend": true,
         "text": [
          "1960 - 1970",
          "1960 - 1970",
          "1960 - 1970",
          "1960 - 1970",
          "1960 - 1970"
         ],
         "textfont": {
          "size": 14
         },
         "textposition": "auto",
         "type": "bar",
         "x": [
          "Türkan Soray",
          "Sadri Alisik",
          "Cüneyt Arkin",
          "Dionysis Papagiannopoulos",
          "Shintarô Katsu"
         ],
         "xaxis": "x",
         "y": [
          73,
          70,
          68,
          63,
          59
         ],
         "yaxis": "y"
        },
        {
         "alignmentgroup": "True",
         "hovertemplate": "Période=%{text}<br>Acteurs=%{x}<br>count=%{y}<extra></extra>",
         "legendgroup": "1970 - 1980",
         "marker": {
          "color": "#FF6692",
          "pattern": {
           "shape": ""
          }
         },
         "name": "1970 - 1980",
         "offsetgroup": "1970 - 1980",
         "orientation": "v",
         "showlegend": true,
         "text": [
          "1970 - 1980",
          "1970 - 1980",
          "1970 - 1980",
          "1970 - 1980",
          "1970 - 1980"
         ],
         "textfont": {
          "size": 14
         },
         "textposition": "auto",
         "type": "bar",
         "x": [
          "Cüneyt Arkin",
          "Jamie Gillis",
          "John Holmes",
          "Ric Lutze",
          "Junko Miyashita"
         ],
         "xaxis": "x",
         "y": [
          94,
          81,
          79,
          79,
          75
         ],
         "yaxis": "y"
        },
        {
         "alignmentgroup": "True",
         "hovertemplate": "Période=%{text}<br>Acteurs=%{x}<br>count=%{y}<extra></extra>",
         "legendgroup": "1980 - 1990",
         "marker": {
          "color": "#B6E880",
          "pattern": {
           "shape": ""
          }
         },
         "name": "1980 - 1990",
         "offsetgroup": "1980 - 1990",
         "orientation": "v",
         "showlegend": true,
         "text": [
          "1980 - 1990",
          "1980 - 1990",
          "1980 - 1990",
          "1980 - 1990",
          "1980 - 1990"
         ],
         "textfont": {
          "size": 14
         },
         "textposition": "auto",
         "type": "bar",
         "x": [
          "Mohanlal",
          "Mammootty",
          "Mithun Chakraborty",
          "Ron Jeremy",
          "Eric Edwards"
         ],
         "xaxis": "x",
         "y": [
          101,
          98,
          75,
          68,
          66
         ],
         "yaxis": "y"
        },
        {
         "alignmentgroup": "True",
         "hovertemplate": "Période=%{text}<br>Acteurs=%{x}<br>count=%{y}<extra></extra>",
         "legendgroup": "1990 - 2000",
         "marker": {
          "color": "#FF97FF",
          "pattern": {
           "shape": ""
          }
         },
         "name": "1990 - 2000",
         "offsetgroup": "1990 - 2000",
         "orientation": "v",
         "showlegend": true,
         "text": [
          "1990 - 2000",
          "1990 - 2000",
          "1990 - 2000",
          "1990 - 2000",
          "1990 - 2000"
         ],
         "textfont": {
          "size": 14
         },
         "textposition": "auto",
         "type": "bar",
         "x": [
          "Simon Yam",
          "Mithun Chakraborty",
          "Mohanlal",
          "Andy Lau",
          "Anthony Chau-Sang Wong"
         ],
         "xaxis": "x",
         "y": [
          57,
          55,
          55,
          54,
          53
         ],
         "yaxis": "y"
        },
        {
         "alignmentgroup": "True",
         "hovertemplate": "Période=%{text}<br>Acteurs=%{x}<br>count=%{y}<extra></extra>",
         "legendgroup": "2000 - 2010",
         "marker": {
          "color": "#FECB52",
          "pattern": {
           "shape": ""
          }
         },
         "name": "2000 - 2010",
         "offsetgroup": "2000 - 2010",
         "orientation": "v",
         "showlegend": true,
         "text": [
          "2000 - 2010",
          "2000 - 2010",
          "2000 - 2010",
          "2000 - 2010",
          "2000 - 2010"
         ],
         "textfont": {
          "size": 14
         },
         "textposition": "auto",
         "type": "bar",
         "x": [
          "Seiji Nakamitsu",
          "Kyôko Kazama",
          "Motoko Sasaki",
          "Lemon Hanazawa",
          "Prakash Raj"
         ],
         "xaxis": "x",
         "y": [
          118,
          73,
          55,
          51,
          50
         ],
         "yaxis": "y"
        },
        {
         "alignmentgroup": "True",
         "hovertemplate": "Période=%{text}<br>Acteurs=%{x}<br>count=%{y}<extra></extra>",
         "legendgroup": "2010 - 2020",
         "marker": {
          "color": "#636efa",
          "pattern": {
           "shape": ""
          }
         },
         "name": "2010 - 2020",
         "offsetgroup": "2010 - 2020",
         "orientation": "v",
         "showlegend": true,
         "text": [
          "2010 - 2020",
          "2010 - 2020",
          "2010 - 2020",
          "2010 - 2020",
          "2010 - 2020"
         ],
         "textfont": {
          "size": 14
         },
         "textposition": "auto",
         "type": "bar",
         "x": [
          "Eric Roberts",
          "Tom Sizemore",
          "Prakash Raj",
          "Sergey A.",
          "Danny Trejo"
         ],
         "xaxis": "x",
         "y": [
          131,
          66,
          63,
          60,
          59
         ],
         "yaxis": "y"
        },
        {
         "alignmentgroup": "True",
         "hovertemplate": "Période=%{text}<br>Acteurs=%{x}<br>count=%{y}<extra></extra>",
         "legendgroup": "2020 - 2030",
         "marker": {
          "color": "#EF553B",
          "pattern": {
           "shape": ""
          }
         },
         "name": "2020 - 2030",
         "offsetgroup": "2020 - 2030",
         "orientation": "v",
         "showlegend": true,
         "text": [
          "2020 - 2030",
          "2020 - 2030",
          "2020 - 2030",
          "2020 - 2030",
          "2020 - 2030"
         ],
         "textfont": {
          "size": 14
         },
         "textposition": "auto",
         "type": "bar",
         "x": [
          "Eric Roberts",
          "Ross K. Foad",
          "Simon Hill",
          "Cascade Nerida",
          "Shawn C. Phillips"
         ],
         "xaxis": "x",
         "y": [
          30,
          24,
          24,
          15,
          15
         ],
         "yaxis": "y"
        }
       ],
       "layout": {
        "barmode": "relative",
        "height": 900,
        "legend": {
         "title": {
          "text": "Période"
         },
         "tracegroupgap": 0
        },
        "showlegend": false,
        "template": {
         "data": {
          "bar": [
           {
            "error_x": {
             "color": "#2a3f5f"
            },
            "error_y": {
             "color": "#2a3f5f"
            },
            "marker": {
             "line": {
              "color": "#E5ECF6",
              "width": 0.5
             },
             "pattern": {
              "fillmode": "overlay",
              "size": 10,
              "solidity": 0.2
             }
            },
            "type": "bar"
           }
          ],
          "barpolar": [
           {
            "marker": {
             "line": {
              "color": "#E5ECF6",
              "width": 0.5
             },
             "pattern": {
              "fillmode": "overlay",
              "size": 10,
              "solidity": 0.2
             }
            },
            "type": "barpolar"
           }
          ],
          "carpet": [
           {
            "aaxis": {
             "endlinecolor": "#2a3f5f",
             "gridcolor": "white",
             "linecolor": "white",
             "minorgridcolor": "white",
             "startlinecolor": "#2a3f5f"
            },
            "baxis": {
             "endlinecolor": "#2a3f5f",
             "gridcolor": "white",
             "linecolor": "white",
             "minorgridcolor": "white",
             "startlinecolor": "#2a3f5f"
            },
            "type": "carpet"
           }
          ],
          "choropleth": [
           {
            "colorbar": {
             "outlinewidth": 0,
             "ticks": ""
            },
            "type": "choropleth"
           }
          ],
          "contour": [
           {
            "colorbar": {
             "outlinewidth": 0,
             "ticks": ""
            },
            "colorscale": [
             [
              0,
              "#0d0887"
             ],
             [
              0.1111111111111111,
              "#46039f"
             ],
             [
              0.2222222222222222,
              "#7201a8"
             ],
             [
              0.3333333333333333,
              "#9c179e"
             ],
             [
              0.4444444444444444,
              "#bd3786"
             ],
             [
              0.5555555555555556,
              "#d8576b"
             ],
             [
              0.6666666666666666,
              "#ed7953"
             ],
             [
              0.7777777777777778,
              "#fb9f3a"
             ],
             [
              0.8888888888888888,
              "#fdca26"
             ],
             [
              1,
              "#f0f921"
             ]
            ],
            "type": "contour"
           }
          ],
          "contourcarpet": [
           {
            "colorbar": {
             "outlinewidth": 0,
             "ticks": ""
            },
            "type": "contourcarpet"
           }
          ],
          "heatmap": [
           {
            "colorbar": {
             "outlinewidth": 0,
             "ticks": ""
            },
            "colorscale": [
             [
              0,
              "#0d0887"
             ],
             [
              0.1111111111111111,
              "#46039f"
             ],
             [
              0.2222222222222222,
              "#7201a8"
             ],
             [
              0.3333333333333333,
              "#9c179e"
             ],
             [
              0.4444444444444444,
              "#bd3786"
             ],
             [
              0.5555555555555556,
              "#d8576b"
             ],
             [
              0.6666666666666666,
              "#ed7953"
             ],
             [
              0.7777777777777778,
              "#fb9f3a"
             ],
             [
              0.8888888888888888,
              "#fdca26"
             ],
             [
              1,
              "#f0f921"
             ]
            ],
            "type": "heatmap"
           }
          ],
          "heatmapgl": [
           {
            "colorbar": {
             "outlinewidth": 0,
             "ticks": ""
            },
            "colorscale": [
             [
              0,
              "#0d0887"
             ],
             [
              0.1111111111111111,
              "#46039f"
             ],
             [
              0.2222222222222222,
              "#7201a8"
             ],
             [
              0.3333333333333333,
              "#9c179e"
             ],
             [
              0.4444444444444444,
              "#bd3786"
             ],
             [
              0.5555555555555556,
              "#d8576b"
             ],
             [
              0.6666666666666666,
              "#ed7953"
             ],
             [
              0.7777777777777778,
              "#fb9f3a"
             ],
             [
              0.8888888888888888,
              "#fdca26"
             ],
             [
              1,
              "#f0f921"
             ]
            ],
            "type": "heatmapgl"
           }
          ],
          "histogram": [
           {
            "marker": {
             "pattern": {
              "fillmode": "overlay",
              "size": 10,
              "solidity": 0.2
             }
            },
            "type": "histogram"
           }
          ],
          "histogram2d": [
           {
            "colorbar": {
             "outlinewidth": 0,
             "ticks": ""
            },
            "colorscale": [
             [
              0,
              "#0d0887"
             ],
             [
              0.1111111111111111,
              "#46039f"
             ],
             [
              0.2222222222222222,
              "#7201a8"
             ],
             [
              0.3333333333333333,
              "#9c179e"
             ],
             [
              0.4444444444444444,
              "#bd3786"
             ],
             [
              0.5555555555555556,
              "#d8576b"
             ],
             [
              0.6666666666666666,
              "#ed7953"
             ],
             [
              0.7777777777777778,
              "#fb9f3a"
             ],
             [
              0.8888888888888888,
              "#fdca26"
             ],
             [
              1,
              "#f0f921"
             ]
            ],
            "type": "histogram2d"
           }
          ],
          "histogram2dcontour": [
           {
            "colorbar": {
             "outlinewidth": 0,
             "ticks": ""
            },
            "colorscale": [
             [
              0,
              "#0d0887"
             ],
             [
              0.1111111111111111,
              "#46039f"
             ],
             [
              0.2222222222222222,
              "#7201a8"
             ],
             [
              0.3333333333333333,
              "#9c179e"
             ],
             [
              0.4444444444444444,
              "#bd3786"
             ],
             [
              0.5555555555555556,
              "#d8576b"
             ],
             [
              0.6666666666666666,
              "#ed7953"
             ],
             [
              0.7777777777777778,
              "#fb9f3a"
             ],
             [
              0.8888888888888888,
              "#fdca26"
             ],
             [
              1,
              "#f0f921"
             ]
            ],
            "type": "histogram2dcontour"
           }
          ],
          "mesh3d": [
           {
            "colorbar": {
             "outlinewidth": 0,
             "ticks": ""
            },
            "type": "mesh3d"
           }
          ],
          "parcoords": [
           {
            "line": {
             "colorbar": {
              "outlinewidth": 0,
              "ticks": ""
             }
            },
            "type": "parcoords"
           }
          ],
          "pie": [
           {
            "automargin": true,
            "type": "pie"
           }
          ],
          "scatter": [
           {
            "marker": {
             "colorbar": {
              "outlinewidth": 0,
              "ticks": ""
             }
            },
            "type": "scatter"
           }
          ],
          "scatter3d": [
           {
            "line": {
             "colorbar": {
              "outlinewidth": 0,
              "ticks": ""
             }
            },
            "marker": {
             "colorbar": {
              "outlinewidth": 0,
              "ticks": ""
             }
            },
            "type": "scatter3d"
           }
          ],
          "scattercarpet": [
           {
            "marker": {
             "colorbar": {
              "outlinewidth": 0,
              "ticks": ""
             }
            },
            "type": "scattercarpet"
           }
          ],
          "scattergeo": [
           {
            "marker": {
             "colorbar": {
              "outlinewidth": 0,
              "ticks": ""
             }
            },
            "type": "scattergeo"
           }
          ],
          "scattergl": [
           {
            "marker": {
             "colorbar": {
              "outlinewidth": 0,
              "ticks": ""
             }
            },
            "type": "scattergl"
           }
          ],
          "scattermapbox": [
           {
            "marker": {
             "colorbar": {
              "outlinewidth": 0,
              "ticks": ""
             }
            },
            "type": "scattermapbox"
           }
          ],
          "scatterpolar": [
           {
            "marker": {
             "colorbar": {
              "outlinewidth": 0,
              "ticks": ""
             }
            },
            "type": "scatterpolar"
           }
          ],
          "scatterpolargl": [
           {
            "marker": {
             "colorbar": {
              "outlinewidth": 0,
              "ticks": ""
             }
            },
            "type": "scatterpolargl"
           }
          ],
          "scatterternary": [
           {
            "marker": {
             "colorbar": {
              "outlinewidth": 0,
              "ticks": ""
             }
            },
            "type": "scatterternary"
           }
          ],
          "surface": [
           {
            "colorbar": {
             "outlinewidth": 0,
             "ticks": ""
            },
            "colorscale": [
             [
              0,
              "#0d0887"
             ],
             [
              0.1111111111111111,
              "#46039f"
             ],
             [
              0.2222222222222222,
              "#7201a8"
             ],
             [
              0.3333333333333333,
              "#9c179e"
             ],
             [
              0.4444444444444444,
              "#bd3786"
             ],
             [
              0.5555555555555556,
              "#d8576b"
             ],
             [
              0.6666666666666666,
              "#ed7953"
             ],
             [
              0.7777777777777778,
              "#fb9f3a"
             ],
             [
              0.8888888888888888,
              "#fdca26"
             ],
             [
              1,
              "#f0f921"
             ]
            ],
            "type": "surface"
           }
          ],
          "table": [
           {
            "cells": {
             "fill": {
              "color": "#EBF0F8"
             },
             "line": {
              "color": "white"
             }
            },
            "header": {
             "fill": {
              "color": "#C8D4E3"
             },
             "line": {
              "color": "white"
             }
            },
            "type": "table"
           }
          ]
         },
         "layout": {
          "annotationdefaults": {
           "arrowcolor": "#2a3f5f",
           "arrowhead": 0,
           "arrowwidth": 1
          },
          "autotypenumbers": "strict",
          "coloraxis": {
           "colorbar": {
            "outlinewidth": 0,
            "ticks": ""
           }
          },
          "colorscale": {
           "diverging": [
            [
             0,
             "#8e0152"
            ],
            [
             0.1,
             "#c51b7d"
            ],
            [
             0.2,
             "#de77ae"
            ],
            [
             0.3,
             "#f1b6da"
            ],
            [
             0.4,
             "#fde0ef"
            ],
            [
             0.5,
             "#f7f7f7"
            ],
            [
             0.6,
             "#e6f5d0"
            ],
            [
             0.7,
             "#b8e186"
            ],
            [
             0.8,
             "#7fbc41"
            ],
            [
             0.9,
             "#4d9221"
            ],
            [
             1,
             "#276419"
            ]
           ],
           "sequential": [
            [
             0,
             "#0d0887"
            ],
            [
             0.1111111111111111,
             "#46039f"
            ],
            [
             0.2222222222222222,
             "#7201a8"
            ],
            [
             0.3333333333333333,
             "#9c179e"
            ],
            [
             0.4444444444444444,
             "#bd3786"
            ],
            [
             0.5555555555555556,
             "#d8576b"
            ],
            [
             0.6666666666666666,
             "#ed7953"
            ],
            [
             0.7777777777777778,
             "#fb9f3a"
            ],
            [
             0.8888888888888888,
             "#fdca26"
            ],
            [
             1,
             "#f0f921"
            ]
           ],
           "sequentialminus": [
            [
             0,
             "#0d0887"
            ],
            [
             0.1111111111111111,
             "#46039f"
            ],
            [
             0.2222222222222222,
             "#7201a8"
            ],
            [
             0.3333333333333333,
             "#9c179e"
            ],
            [
             0.4444444444444444,
             "#bd3786"
            ],
            [
             0.5555555555555556,
             "#d8576b"
            ],
            [
             0.6666666666666666,
             "#ed7953"
            ],
            [
             0.7777777777777778,
             "#fb9f3a"
            ],
            [
             0.8888888888888888,
             "#fdca26"
            ],
            [
             1,
             "#f0f921"
            ]
           ]
          },
          "colorway": [
           "#636efa",
           "#EF553B",
           "#00cc96",
           "#ab63fa",
           "#FFA15A",
           "#19d3f3",
           "#FF6692",
           "#B6E880",
           "#FF97FF",
           "#FECB52"
          ],
          "font": {
           "color": "#2a3f5f"
          },
          "geo": {
           "bgcolor": "white",
           "lakecolor": "white",
           "landcolor": "#E5ECF6",
           "showlakes": true,
           "showland": true,
           "subunitcolor": "white"
          },
          "hoverlabel": {
           "align": "left"
          },
          "hovermode": "closest",
          "mapbox": {
           "style": "light"
          },
          "paper_bgcolor": "white",
          "plot_bgcolor": "#E5ECF6",
          "polar": {
           "angularaxis": {
            "gridcolor": "white",
            "linecolor": "white",
            "ticks": ""
           },
           "bgcolor": "#E5ECF6",
           "radialaxis": {
            "gridcolor": "white",
            "linecolor": "white",
            "ticks": ""
           }
          },
          "scene": {
           "xaxis": {
            "backgroundcolor": "#E5ECF6",
            "gridcolor": "white",
            "gridwidth": 2,
            "linecolor": "white",
            "showbackground": true,
            "ticks": "",
            "zerolinecolor": "white"
           },
           "yaxis": {
            "backgroundcolor": "#E5ECF6",
            "gridcolor": "white",
            "gridwidth": 2,
            "linecolor": "white",
            "showbackground": true,
            "ticks": "",
            "zerolinecolor": "white"
           },
           "zaxis": {
            "backgroundcolor": "#E5ECF6",
            "gridcolor": "white",
            "gridwidth": 2,
            "linecolor": "white",
            "showbackground": true,
            "ticks": "",
            "zerolinecolor": "white"
           }
          },
          "shapedefaults": {
           "line": {
            "color": "#2a3f5f"
           }
          },
          "ternary": {
           "aaxis": {
            "gridcolor": "white",
            "linecolor": "white",
            "ticks": ""
           },
           "baxis": {
            "gridcolor": "white",
            "linecolor": "white",
            "ticks": ""
           },
           "bgcolor": "#E5ECF6",
           "caxis": {
            "gridcolor": "white",
            "linecolor": "white",
            "ticks": ""
           }
          },
          "title": {
           "x": 0.05
          },
          "xaxis": {
           "automargin": true,
           "gridcolor": "white",
           "linecolor": "white",
           "ticks": "",
           "title": {
            "standoff": 15
           },
           "zerolinecolor": "white",
           "zerolinewidth": 2
          },
          "yaxis": {
           "automargin": true,
           "gridcolor": "white",
           "linecolor": "white",
           "ticks": "",
           "title": {
            "standoff": 15
           },
           "zerolinecolor": "white",
           "zerolinewidth": 2
          }
         }
        },
        "title": {
         "text": "Quels sont les acteurs les plus présents par périodes ?",
         "x": 0.5
        },
        "width": 1200,
        "xaxis": {
         "anchor": "y",
         "domain": [
          0,
          1
         ],
         "tickangle": 45,
         "title": {
          "text": "Acteurs"
         }
        },
        "yaxis": {
         "anchor": "x",
         "domain": [
          0,
          1
         ],
         "title": {
          "text": "count"
         }
        }
       }
      }
     },
     "metadata": {},
     "output_type": "display_data"
    }
   ],
   "source": [
    "fig = px.bar(acteur_par_periode, x=\"primaryName\", y ='count', color = 'startYear', text ='startYear',\n",
    "    title = 'Quels sont les acteurs les plus présents par périodes ?',\n",
    "    labels = {'startYear': 'Période', 'primaryName': 'Acteurs'},\n",
    "    width=1200, height=900)\n",
    " \n",
    "fig.update_traces(textfont_size=14)\n",
    "fig.update_xaxes(tickangle=45)\n",
    "\n",
    "fig.update_layout(showlegend=False, title_x=0.5)"
   ]
  },
  {
   "cell_type": "code",
   "execution_count": 91,
   "metadata": {},
   "outputs": [
    {
     "data": {
      "application/vnd.jupyter.widget-view+json": {
       "model_id": "6e28d8ae05dd4f2e8c64899150760c9e",
       "version_major": 2,
       "version_minor": 0
      },
      "text/plain": [
       "interactive(children=(Dropdown(description='decade', options=('1920 - 1930', '1930 - 1940', '1940 - 1950'), va…"
      ]
     },
     "metadata": {},
     "output_type": "display_data"
    },
    {
     "data": {
      "text/plain": [
       "<function __main__.change_df(decade)>"
      ]
     },
     "execution_count": 91,
     "metadata": {},
     "output_type": "execute_result"
    }
   ],
   "source": [
    "\n",
    "\n",
    "\n",
    "\n",
    "def change_df(decade):\n",
    "    \"\"\"\n",
    "    Print the current widget value in short sentence\n",
    "    \"\"\"\n",
    "\n",
    "    #print(f'the choosen df is {decade}')\n",
    "    if decade == \"1920 - 1930\":\n",
    "\n",
    "    else:\n",
    "        print (\"not lol\")\n",
    "\n",
    "widgets.interact(change_df, decade=[\"1920 - 1930\", \"1930 - 1940\", \"1940 - 1950\"])"
   ]
  },
  {
   "cell_type": "code",
   "execution_count": 50,
   "metadata": {},
   "outputs": [
    {
     "data": {
      "application/vnd.jupyter.widget-view+json": {
       "model_id": "8b9185bc0c3a47f6a4c20a26f5d34b26",
       "version_major": 2,
       "version_minor": 0
      },
      "text/plain": [
       "interactive(children=(Dropdown(description='decade', options=('1920 - 1930', '1930 - 1940', '1940 - 1950'), va…"
      ]
     },
     "metadata": {},
     "output_type": "display_data"
    },
    {
     "data": {
      "text/plain": [
       "<function __main__.change_df(decade)>"
      ]
     },
     "execution_count": 50,
     "metadata": {},
     "output_type": "execute_result"
    }
   ],
   "source": [
    "def change_df(decade):\n",
    "    \"\"\"\n",
    "    Print the current widget value in short sentence\n",
    "    \"\"\"\n",
    "    print(f'the choosen df is {decade}')\n",
    "\n",
    "widgets.interact(change_df, decade=[\"1920 - 1930\", \"1930 - 1940\", \"1940 - 1950\"])\n"
   ]
  },
  {
   "cell_type": "code",
   "execution_count": 9,
   "metadata": {},
   "outputs": [
    {
     "data": {
      "application/vnd.plotly.v1+json": {
       "config": {
        "plotlyServerURL": "https://plot.ly"
       },
       "data": [
        {
         "alignmentgroup": "True",
         "hovertemplate": "Acteurs=%{text}<br>Période=%{x}<br>count=%{y}<extra></extra>",
         "legendgroup": "Theodore Roberts",
         "marker": {
          "color": "#636efa",
          "pattern": {
           "shape": ""
          }
         },
         "name": "Theodore Roberts",
         "offsetgroup": "Theodore Roberts",
         "orientation": "v",
         "showlegend": true,
         "text": [
          "Theodore Roberts"
         ],
         "textfont": {
          "size": 14
         },
         "textposition": "auto",
         "type": "bar",
         "x": [
          "1910 - 1920"
         ],
         "xaxis": "x",
         "y": [
          46
         ],
         "yaxis": "y"
        },
        {
         "alignmentgroup": "True",
         "hovertemplate": "Acteurs=%{text}<br>Période=%{x}<br>count=%{y}<extra></extra>",
         "legendgroup": "Lon Chaney",
         "marker": {
          "color": "#EF553B",
          "pattern": {
           "shape": ""
          }
         },
         "name": "Lon Chaney",
         "offsetgroup": "Lon Chaney",
         "orientation": "v",
         "showlegend": true,
         "text": [
          "Lon Chaney"
         ],
         "textfont": {
          "size": 14
         },
         "textposition": "auto",
         "type": "bar",
         "x": [
          "1910 - 1920"
         ],
         "xaxis": "x",
         "y": [
          41
         ],
         "yaxis": "y"
        },
        {
         "alignmentgroup": "True",
         "hovertemplate": "Acteurs=%{text}<br>Période=%{x}<br>count=%{y}<extra></extra>",
         "legendgroup": "Charles Ray",
         "marker": {
          "color": "#00cc96",
          "pattern": {
           "shape": ""
          }
         },
         "name": "Charles Ray",
         "offsetgroup": "Charles Ray",
         "orientation": "v",
         "showlegend": true,
         "text": [
          "Charles Ray"
         ],
         "textfont": {
          "size": 14
         },
         "textposition": "auto",
         "type": "bar",
         "x": [
          "1910 - 1920"
         ],
         "xaxis": "x",
         "y": [
          40
         ],
         "yaxis": "y"
        },
        {
         "alignmentgroup": "True",
         "hovertemplate": "Acteurs=%{text}<br>Période=%{x}<br>count=%{y}<extra></extra>",
         "legendgroup": "Wallace Reid",
         "marker": {
          "color": "#ab63fa",
          "pattern": {
           "shape": ""
          }
         },
         "name": "Wallace Reid",
         "offsetgroup": "Wallace Reid",
         "orientation": "v",
         "showlegend": true,
         "text": [
          "Wallace Reid"
         ],
         "textfont": {
          "size": 14
         },
         "textposition": "auto",
         "type": "bar",
         "x": [
          "1910 - 1920"
         ],
         "xaxis": "x",
         "y": [
          40
         ],
         "yaxis": "y"
        },
        {
         "alignmentgroup": "True",
         "hovertemplate": "Acteurs=%{text}<br>Période=%{x}<br>count=%{y}<extra></extra>",
         "legendgroup": "William S. Hart",
         "marker": {
          "color": "#FFA15A",
          "pattern": {
           "shape": ""
          }
         },
         "name": "William S. Hart",
         "offsetgroup": "William S. Hart",
         "orientation": "v",
         "showlegend": true,
         "text": [
          "William S. Hart"
         ],
         "textfont": {
          "size": 14
         },
         "textposition": "auto",
         "type": "bar",
         "x": [
          "1910 - 1920"
         ],
         "xaxis": "x",
         "y": [
          40
         ],
         "yaxis": "y"
        },
        {
         "alignmentgroup": "True",
         "hovertemplate": "Acteurs=%{text}<br>Période=%{x}<br>count=%{y}<extra></extra>",
         "legendgroup": "Hoot Gibson",
         "marker": {
          "color": "#19d3f3",
          "pattern": {
           "shape": ""
          }
         },
         "name": "Hoot Gibson",
         "offsetgroup": "Hoot Gibson",
         "orientation": "v",
         "showlegend": true,
         "text": [
          "Hoot Gibson"
         ],
         "textfont": {
          "size": 14
         },
         "textposition": "auto",
         "type": "bar",
         "x": [
          "1920 - 1930"
         ],
         "xaxis": "x",
         "y": [
          64
         ],
         "yaxis": "y"
        },
        {
         "alignmentgroup": "True",
         "hovertemplate": "Acteurs=%{text}<br>Période=%{x}<br>count=%{y}<extra></extra>",
         "legendgroup": "Buck Jones",
         "marker": {
          "color": "#FF6692",
          "pattern": {
           "shape": ""
          }
         },
         "name": "Buck Jones",
         "offsetgroup": "Buck Jones",
         "orientation": "v",
         "showlegend": true,
         "text": [
          "Buck Jones",
          "Buck Jones"
         ],
         "textfont": {
          "size": 14
         },
         "textposition": "auto",
         "type": "bar",
         "x": [
          "1920 - 1930",
          "1930 - 1940"
         ],
         "xaxis": "x",
         "y": [
          63,
          62
         ],
         "yaxis": "y"
        },
        {
         "alignmentgroup": "True",
         "hovertemplate": "Acteurs=%{text}<br>Période=%{x}<br>count=%{y}<extra></extra>",
         "legendgroup": "Noah Beery",
         "marker": {
          "color": "#B6E880",
          "pattern": {
           "shape": ""
          }
         },
         "name": "Noah Beery",
         "offsetgroup": "Noah Beery",
         "orientation": "v",
         "showlegend": true,
         "text": [
          "Noah Beery"
         ],
         "textfont": {
          "size": 14
         },
         "textposition": "auto",
         "type": "bar",
         "x": [
          "1920 - 1930"
         ],
         "xaxis": "x",
         "y": [
          58
         ],
         "yaxis": "y"
        },
        {
         "alignmentgroup": "True",
         "hovertemplate": "Acteurs=%{text}<br>Période=%{x}<br>count=%{y}<extra></extra>",
         "legendgroup": "Patsy Ruth Miller",
         "marker": {
          "color": "#FF97FF",
          "pattern": {
           "shape": ""
          }
         },
         "name": "Patsy Ruth Miller",
         "offsetgroup": "Patsy Ruth Miller",
         "orientation": "v",
         "showlegend": true,
         "text": [
          "Patsy Ruth Miller"
         ],
         "textfont": {
          "size": 14
         },
         "textposition": "auto",
         "type": "bar",
         "x": [
          "1920 - 1930"
         ],
         "xaxis": "x",
         "y": [
          58
         ],
         "yaxis": "y"
        },
        {
         "alignmentgroup": "True",
         "hovertemplate": "Acteurs=%{text}<br>Période=%{x}<br>count=%{y}<extra></extra>",
         "legendgroup": "George Fawcett",
         "marker": {
          "color": "#FECB52",
          "pattern": {
           "shape": ""
          }
         },
         "name": "George Fawcett",
         "offsetgroup": "George Fawcett",
         "orientation": "v",
         "showlegend": true,
         "text": [
          "George Fawcett"
         ],
         "textfont": {
          "size": 14
         },
         "textposition": "auto",
         "type": "bar",
         "x": [
          "1920 - 1930"
         ],
         "xaxis": "x",
         "y": [
          55
         ],
         "yaxis": "y"
        },
        {
         "alignmentgroup": "True",
         "hovertemplate": "Acteurs=%{text}<br>Période=%{x}<br>count=%{y}<extra></extra>",
         "legendgroup": "Bob Steele",
         "marker": {
          "color": "#636efa",
          "pattern": {
           "shape": ""
          }
         },
         "name": "Bob Steele",
         "offsetgroup": "Bob Steele",
         "orientation": "v",
         "showlegend": true,
         "text": [
          "Bob Steele"
         ],
         "textfont": {
          "size": 14
         },
         "textposition": "auto",
         "type": "bar",
         "x": [
          "1930 - 1940"
         ],
         "xaxis": "x",
         "y": [
          66
         ],
         "yaxis": "y"
        },
        {
         "alignmentgroup": "True",
         "hovertemplate": "Acteurs=%{text}<br>Période=%{x}<br>count=%{y}<extra></extra>",
         "legendgroup": "Zasu Pitts",
         "marker": {
          "color": "#EF553B",
          "pattern": {
           "shape": ""
          }
         },
         "name": "Zasu Pitts",
         "offsetgroup": "Zasu Pitts",
         "orientation": "v",
         "showlegend": true,
         "text": [
          "Zasu Pitts"
         ],
         "textfont": {
          "size": 14
         },
         "textposition": "auto",
         "type": "bar",
         "x": [
          "1930 - 1940"
         ],
         "xaxis": "x",
         "y": [
          60
         ],
         "yaxis": "y"
        },
        {
         "alignmentgroup": "True",
         "hovertemplate": "Acteurs=%{text}<br>Période=%{x}<br>count=%{y}<extra></extra>",
         "legendgroup": "George 'Gabby' Hayes",
         "marker": {
          "color": "#00cc96",
          "pattern": {
           "shape": ""
          }
         },
         "name": "George 'Gabby' Hayes",
         "offsetgroup": "George 'Gabby' Hayes",
         "orientation": "v",
         "showlegend": true,
         "text": [
          "George 'Gabby' Hayes"
         ],
         "textfont": {
          "size": 14
         },
         "textposition": "auto",
         "type": "bar",
         "x": [
          "1930 - 1940"
         ],
         "xaxis": "x",
         "y": [
          59
         ],
         "yaxis": "y"
        },
        {
         "alignmentgroup": "True",
         "hovertemplate": "Acteurs=%{text}<br>Période=%{x}<br>count=%{y}<extra></extra>",
         "legendgroup": "Charles Starrett",
         "marker": {
          "color": "#ab63fa",
          "pattern": {
           "shape": ""
          }
         },
         "name": "Charles Starrett",
         "offsetgroup": "Charles Starrett",
         "orientation": "v",
         "showlegend": true,
         "text": [
          "Charles Starrett",
          "Charles Starrett"
         ],
         "textfont": {
          "size": 14
         },
         "textposition": "auto",
         "type": "bar",
         "x": [
          "1930 - 1940",
          "1940 - 1950"
         ],
         "xaxis": "x",
         "y": [
          58,
          77
         ],
         "yaxis": "y"
        },
        {
         "alignmentgroup": "True",
         "hovertemplate": "Acteurs=%{text}<br>Période=%{x}<br>count=%{y}<extra></extra>",
         "legendgroup": "Al St. John",
         "marker": {
          "color": "#FFA15A",
          "pattern": {
           "shape": ""
          }
         },
         "name": "Al St. John",
         "offsetgroup": "Al St. John",
         "orientation": "v",
         "showlegend": true,
         "text": [
          "Al St. John"
         ],
         "textfont": {
          "size": 14
         },
         "textposition": "auto",
         "type": "bar",
         "x": [
          "1940 - 1950"
         ],
         "xaxis": "x",
         "y": [
          79
         ],
         "yaxis": "y"
        },
        {
         "alignmentgroup": "True",
         "hovertemplate": "Acteurs=%{text}<br>Période=%{x}<br>count=%{y}<extra></extra>",
         "legendgroup": "Johnny Mack Brown",
         "marker": {
          "color": "#19d3f3",
          "pattern": {
           "shape": ""
          }
         },
         "name": "Johnny Mack Brown",
         "offsetgroup": "Johnny Mack Brown",
         "orientation": "v",
         "showlegend": true,
         "text": [
          "Johnny Mack Brown"
         ],
         "textfont": {
          "size": 14
         },
         "textposition": "auto",
         "type": "bar",
         "x": [
          "1940 - 1950"
         ],
         "xaxis": "x",
         "y": [
          77
         ],
         "yaxis": "y"
        },
        {
         "alignmentgroup": "True",
         "hovertemplate": "Acteurs=%{text}<br>Période=%{x}<br>count=%{y}<extra></extra>",
         "legendgroup": "Raymond Hatton",
         "marker": {
          "color": "#FF6692",
          "pattern": {
           "shape": ""
          }
         },
         "name": "Raymond Hatton",
         "offsetgroup": "Raymond Hatton",
         "orientation": "v",
         "showlegend": true,
         "text": [
          "Raymond Hatton"
         ],
         "textfont": {
          "size": 14
         },
         "textposition": "auto",
         "type": "bar",
         "x": [
          "1940 - 1950"
         ],
         "xaxis": "x",
         "y": [
          64
         ],
         "yaxis": "y"
        },
        {
         "alignmentgroup": "True",
         "hovertemplate": "Acteurs=%{text}<br>Période=%{x}<br>count=%{y}<extra></extra>",
         "legendgroup": "Roy Rogers",
         "marker": {
          "color": "#B6E880",
          "pattern": {
           "shape": ""
          }
         },
         "name": "Roy Rogers",
         "offsetgroup": "Roy Rogers",
         "orientation": "v",
         "showlegend": true,
         "text": [
          "Roy Rogers"
         ],
         "textfont": {
          "size": 14
         },
         "textposition": "auto",
         "type": "bar",
         "x": [
          "1940 - 1950"
         ],
         "xaxis": "x",
         "y": [
          62
         ],
         "yaxis": "y"
        },
        {
         "alignmentgroup": "True",
         "hovertemplate": "Acteurs=%{text}<br>Période=%{x}<br>count=%{y}<extra></extra>",
         "legendgroup": "Toshirô Mifune",
         "marker": {
          "color": "#FF97FF",
          "pattern": {
           "shape": ""
          }
         },
         "name": "Toshirô Mifune",
         "offsetgroup": "Toshirô Mifune",
         "orientation": "v",
         "showlegend": true,
         "text": [
          "Toshirô Mifune"
         ],
         "textfont": {
          "size": 14
         },
         "textposition": "auto",
         "type": "bar",
         "x": [
          "1950 - 1960"
         ],
         "xaxis": "x",
         "y": [
          49
         ],
         "yaxis": "y"
        },
        {
         "alignmentgroup": "True",
         "hovertemplate": "Acteurs=%{text}<br>Période=%{x}<br>count=%{y}<extra></extra>",
         "legendgroup": "Paul Hörbiger",
         "marker": {
          "color": "#FECB52",
          "pattern": {
           "shape": ""
          }
         },
         "name": "Paul Hörbiger",
         "offsetgroup": "Paul Hörbiger",
         "orientation": "v",
         "showlegend": true,
         "text": [
          "Paul Hörbiger"
         ],
         "textfont": {
          "size": 14
         },
         "textposition": "auto",
         "type": "bar",
         "x": [
          "1950 - 1960"
         ],
         "xaxis": "x",
         "y": [
          48
         ],
         "yaxis": "y"
        },
        {
         "alignmentgroup": "True",
         "hovertemplate": "Acteurs=%{text}<br>Période=%{x}<br>count=%{y}<extra></extra>",
         "legendgroup": "Luis Aguilar",
         "marker": {
          "color": "#636efa",
          "pattern": {
           "shape": ""
          }
         },
         "name": "Luis Aguilar",
         "offsetgroup": "Luis Aguilar",
         "orientation": "v",
         "showlegend": true,
         "text": [
          "Luis Aguilar"
         ],
         "textfont": {
          "size": 14
         },
         "textposition": "auto",
         "type": "bar",
         "x": [
          "1950 - 1960"
         ],
         "xaxis": "x",
         "y": [
          46
         ],
         "yaxis": "y"
        },
        {
         "alignmentgroup": "True",
         "hovertemplate": "Acteurs=%{text}<br>Période=%{x}<br>count=%{y}<extra></extra>",
         "legendgroup": "Andrés Soler",
         "marker": {
          "color": "#EF553B",
          "pattern": {
           "shape": ""
          }
         },
         "name": "Andrés Soler",
         "offsetgroup": "Andrés Soler",
         "orientation": "v",
         "showlegend": true,
         "text": [
          "Andrés Soler"
         ],
         "textfont": {
          "size": 14
         },
         "textposition": "auto",
         "type": "bar",
         "x": [
          "1950 - 1960"
         ],
         "xaxis": "x",
         "y": [
          45
         ],
         "yaxis": "y"
        },
        {
         "alignmentgroup": "True",
         "hovertemplate": "Acteurs=%{text}<br>Période=%{x}<br>count=%{y}<extra></extra>",
         "legendgroup": "Alberto Sordi",
         "marker": {
          "color": "#00cc96",
          "pattern": {
           "shape": ""
          }
         },
         "name": "Alberto Sordi",
         "offsetgroup": "Alberto Sordi",
         "orientation": "v",
         "showlegend": true,
         "text": [
          "Alberto Sordi"
         ],
         "textfont": {
          "size": 14
         },
         "textposition": "auto",
         "type": "bar",
         "x": [
          "1950 - 1960"
         ],
         "xaxis": "x",
         "y": [
          43
         ],
         "yaxis": "y"
        },
        {
         "alignmentgroup": "True",
         "hovertemplate": "Acteurs=%{text}<br>Période=%{x}<br>count=%{y}<extra></extra>",
         "legendgroup": "Türkan Soray",
         "marker": {
          "color": "#ab63fa",
          "pattern": {
           "shape": ""
          }
         },
         "name": "Türkan Soray",
         "offsetgroup": "Türkan Soray",
         "orientation": "v",
         "showlegend": true,
         "text": [
          "Türkan Soray"
         ],
         "textfont": {
          "size": 14
         },
         "textposition": "auto",
         "type": "bar",
         "x": [
          "1960 - 1970"
         ],
         "xaxis": "x",
         "y": [
          73
         ],
         "yaxis": "y"
        },
        {
         "alignmentgroup": "True",
         "hovertemplate": "Acteurs=%{text}<br>Période=%{x}<br>count=%{y}<extra></extra>",
         "legendgroup": "Sadri Alisik",
         "marker": {
          "color": "#FFA15A",
          "pattern": {
           "shape": ""
          }
         },
         "name": "Sadri Alisik",
         "offsetgroup": "Sadri Alisik",
         "orientation": "v",
         "showlegend": true,
         "text": [
          "Sadri Alisik"
         ],
         "textfont": {
          "size": 14
         },
         "textposition": "auto",
         "type": "bar",
         "x": [
          "1960 - 1970"
         ],
         "xaxis": "x",
         "y": [
          70
         ],
         "yaxis": "y"
        },
        {
         "alignmentgroup": "True",
         "hovertemplate": "Acteurs=%{text}<br>Période=%{x}<br>count=%{y}<extra></extra>",
         "legendgroup": "Cüneyt Arkin",
         "marker": {
          "color": "#19d3f3",
          "pattern": {
           "shape": ""
          }
         },
         "name": "Cüneyt Arkin",
         "offsetgroup": "Cüneyt Arkin",
         "orientation": "v",
         "showlegend": true,
         "text": [
          "Cüneyt Arkin",
          "Cüneyt Arkin"
         ],
         "textfont": {
          "size": 14
         },
         "textposition": "auto",
         "type": "bar",
         "x": [
          "1960 - 1970",
          "1970 - 1980"
         ],
         "xaxis": "x",
         "y": [
          68,
          94
         ],
         "yaxis": "y"
        },
        {
         "alignmentgroup": "True",
         "hovertemplate": "Acteurs=%{text}<br>Période=%{x}<br>count=%{y}<extra></extra>",
         "legendgroup": "Dionysis Papagiannopoulos",
         "marker": {
          "color": "#FF6692",
          "pattern": {
           "shape": ""
          }
         },
         "name": "Dionysis Papagiannopoulos",
         "offsetgroup": "Dionysis Papagiannopoulos",
         "orientation": "v",
         "showlegend": true,
         "text": [
          "Dionysis Papagiannopoulos"
         ],
         "textfont": {
          "size": 14
         },
         "textposition": "auto",
         "type": "bar",
         "x": [
          "1960 - 1970"
         ],
         "xaxis": "x",
         "y": [
          63
         ],
         "yaxis": "y"
        },
        {
         "alignmentgroup": "True",
         "hovertemplate": "Acteurs=%{text}<br>Période=%{x}<br>count=%{y}<extra></extra>",
         "legendgroup": "Shintarô Katsu",
         "marker": {
          "color": "#B6E880",
          "pattern": {
           "shape": ""
          }
         },
         "name": "Shintarô Katsu",
         "offsetgroup": "Shintarô Katsu",
         "orientation": "v",
         "showlegend": true,
         "text": [
          "Shintarô Katsu"
         ],
         "textfont": {
          "size": 14
         },
         "textposition": "auto",
         "type": "bar",
         "x": [
          "1960 - 1970"
         ],
         "xaxis": "x",
         "y": [
          59
         ],
         "yaxis": "y"
        },
        {
         "alignmentgroup": "True",
         "hovertemplate": "Acteurs=%{text}<br>Période=%{x}<br>count=%{y}<extra></extra>",
         "legendgroup": "Jamie Gillis",
         "marker": {
          "color": "#FF97FF",
          "pattern": {
           "shape": ""
          }
         },
         "name": "Jamie Gillis",
         "offsetgroup": "Jamie Gillis",
         "orientation": "v",
         "showlegend": true,
         "text": [
          "Jamie Gillis"
         ],
         "textfont": {
          "size": 14
         },
         "textposition": "auto",
         "type": "bar",
         "x": [
          "1970 - 1980"
         ],
         "xaxis": "x",
         "y": [
          81
         ],
         "yaxis": "y"
        },
        {
         "alignmentgroup": "True",
         "hovertemplate": "Acteurs=%{text}<br>Période=%{x}<br>count=%{y}<extra></extra>",
         "legendgroup": "John Holmes",
         "marker": {
          "color": "#FECB52",
          "pattern": {
           "shape": ""
          }
         },
         "name": "John Holmes",
         "offsetgroup": "John Holmes",
         "orientation": "v",
         "showlegend": true,
         "text": [
          "John Holmes"
         ],
         "textfont": {
          "size": 14
         },
         "textposition": "auto",
         "type": "bar",
         "x": [
          "1970 - 1980"
         ],
         "xaxis": "x",
         "y": [
          79
         ],
         "yaxis": "y"
        },
        {
         "alignmentgroup": "True",
         "hovertemplate": "Acteurs=%{text}<br>Période=%{x}<br>count=%{y}<extra></extra>",
         "legendgroup": "Ric Lutze",
         "marker": {
          "color": "#636efa",
          "pattern": {
           "shape": ""
          }
         },
         "name": "Ric Lutze",
         "offsetgroup": "Ric Lutze",
         "orientation": "v",
         "showlegend": true,
         "text": [
          "Ric Lutze"
         ],
         "textfont": {
          "size": 14
         },
         "textposition": "auto",
         "type": "bar",
         "x": [
          "1970 - 1980"
         ],
         "xaxis": "x",
         "y": [
          79
         ],
         "yaxis": "y"
        },
        {
         "alignmentgroup": "True",
         "hovertemplate": "Acteurs=%{text}<br>Période=%{x}<br>count=%{y}<extra></extra>",
         "legendgroup": "Junko Miyashita",
         "marker": {
          "color": "#EF553B",
          "pattern": {
           "shape": ""
          }
         },
         "name": "Junko Miyashita",
         "offsetgroup": "Junko Miyashita",
         "orientation": "v",
         "showlegend": true,
         "text": [
          "Junko Miyashita"
         ],
         "textfont": {
          "size": 14
         },
         "textposition": "auto",
         "type": "bar",
         "x": [
          "1970 - 1980"
         ],
         "xaxis": "x",
         "y": [
          75
         ],
         "yaxis": "y"
        },
        {
         "alignmentgroup": "True",
         "hovertemplate": "Acteurs=%{text}<br>Période=%{x}<br>count=%{y}<extra></extra>",
         "legendgroup": "Mohanlal",
         "marker": {
          "color": "#00cc96",
          "pattern": {
           "shape": ""
          }
         },
         "name": "Mohanlal",
         "offsetgroup": "Mohanlal",
         "orientation": "v",
         "showlegend": true,
         "text": [
          "Mohanlal",
          "Mohanlal"
         ],
         "textfont": {
          "size": 14
         },
         "textposition": "auto",
         "type": "bar",
         "x": [
          "1980 - 1990",
          "1990 - 2000"
         ],
         "xaxis": "x",
         "y": [
          101,
          55
         ],
         "yaxis": "y"
        },
        {
         "alignmentgroup": "True",
         "hovertemplate": "Acteurs=%{text}<br>Période=%{x}<br>count=%{y}<extra></extra>",
         "legendgroup": "Mammootty",
         "marker": {
          "color": "#ab63fa",
          "pattern": {
           "shape": ""
          }
         },
         "name": "Mammootty",
         "offsetgroup": "Mammootty",
         "orientation": "v",
         "showlegend": true,
         "text": [
          "Mammootty"
         ],
         "textfont": {
          "size": 14
         },
         "textposition": "auto",
         "type": "bar",
         "x": [
          "1980 - 1990"
         ],
         "xaxis": "x",
         "y": [
          98
         ],
         "yaxis": "y"
        },
        {
         "alignmentgroup": "True",
         "hovertemplate": "Acteurs=%{text}<br>Période=%{x}<br>count=%{y}<extra></extra>",
         "legendgroup": "Mithun Chakraborty",
         "marker": {
          "color": "#FFA15A",
          "pattern": {
           "shape": ""
          }
         },
         "name": "Mithun Chakraborty",
         "offsetgroup": "Mithun Chakraborty",
         "orientation": "v",
         "showlegend": true,
         "text": [
          "Mithun Chakraborty",
          "Mithun Chakraborty"
         ],
         "textfont": {
          "size": 14
         },
         "textposition": "auto",
         "type": "bar",
         "x": [
          "1980 - 1990",
          "1990 - 2000"
         ],
         "xaxis": "x",
         "y": [
          75,
          55
         ],
         "yaxis": "y"
        },
        {
         "alignmentgroup": "True",
         "hovertemplate": "Acteurs=%{text}<br>Période=%{x}<br>count=%{y}<extra></extra>",
         "legendgroup": "Ron Jeremy",
         "marker": {
          "color": "#19d3f3",
          "pattern": {
           "shape": ""
          }
         },
         "name": "Ron Jeremy",
         "offsetgroup": "Ron Jeremy",
         "orientation": "v",
         "showlegend": true,
         "text": [
          "Ron Jeremy"
         ],
         "textfont": {
          "size": 14
         },
         "textposition": "auto",
         "type": "bar",
         "x": [
          "1980 - 1990"
         ],
         "xaxis": "x",
         "y": [
          68
         ],
         "yaxis": "y"
        },
        {
         "alignmentgroup": "True",
         "hovertemplate": "Acteurs=%{text}<br>Période=%{x}<br>count=%{y}<extra></extra>",
         "legendgroup": "Eric Edwards",
         "marker": {
          "color": "#FF6692",
          "pattern": {
           "shape": ""
          }
         },
         "name": "Eric Edwards",
         "offsetgroup": "Eric Edwards",
         "orientation": "v",
         "showlegend": true,
         "text": [
          "Eric Edwards"
         ],
         "textfont": {
          "size": 14
         },
         "textposition": "auto",
         "type": "bar",
         "x": [
          "1980 - 1990"
         ],
         "xaxis": "x",
         "y": [
          66
         ],
         "yaxis": "y"
        },
        {
         "alignmentgroup": "True",
         "hovertemplate": "Acteurs=%{text}<br>Période=%{x}<br>count=%{y}<extra></extra>",
         "legendgroup": "Simon Yam",
         "marker": {
          "color": "#B6E880",
          "pattern": {
           "shape": ""
          }
         },
         "name": "Simon Yam",
         "offsetgroup": "Simon Yam",
         "orientation": "v",
         "showlegend": true,
         "text": [
          "Simon Yam"
         ],
         "textfont": {
          "size": 14
         },
         "textposition": "auto",
         "type": "bar",
         "x": [
          "1990 - 2000"
         ],
         "xaxis": "x",
         "y": [
          57
         ],
         "yaxis": "y"
        },
        {
         "alignmentgroup": "True",
         "hovertemplate": "Acteurs=%{text}<br>Période=%{x}<br>count=%{y}<extra></extra>",
         "legendgroup": "Andy Lau",
         "marker": {
          "color": "#FF97FF",
          "pattern": {
           "shape": ""
          }
         },
         "name": "Andy Lau",
         "offsetgroup": "Andy Lau",
         "orientation": "v",
         "showlegend": true,
         "text": [
          "Andy Lau"
         ],
         "textfont": {
          "size": 14
         },
         "textposition": "auto",
         "type": "bar",
         "x": [
          "1990 - 2000"
         ],
         "xaxis": "x",
         "y": [
          54
         ],
         "yaxis": "y"
        },
        {
         "alignmentgroup": "True",
         "hovertemplate": "Acteurs=%{text}<br>Période=%{x}<br>count=%{y}<extra></extra>",
         "legendgroup": "Anthony Chau-Sang Wong",
         "marker": {
          "color": "#FECB52",
          "pattern": {
           "shape": ""
          }
         },
         "name": "Anthony Chau-Sang Wong",
         "offsetgroup": "Anthony Chau-Sang Wong",
         "orientation": "v",
         "showlegend": true,
         "text": [
          "Anthony Chau-Sang Wong"
         ],
         "textfont": {
          "size": 14
         },
         "textposition": "auto",
         "type": "bar",
         "x": [
          "1990 - 2000"
         ],
         "xaxis": "x",
         "y": [
          53
         ],
         "yaxis": "y"
        },
        {
         "alignmentgroup": "True",
         "hovertemplate": "Acteurs=%{text}<br>Période=%{x}<br>count=%{y}<extra></extra>",
         "legendgroup": "Seiji Nakamitsu",
         "marker": {
          "color": "#636efa",
          "pattern": {
           "shape": ""
          }
         },
         "name": "Seiji Nakamitsu",
         "offsetgroup": "Seiji Nakamitsu",
         "orientation": "v",
         "showlegend": true,
         "text": [
          "Seiji Nakamitsu"
         ],
         "textfont": {
          "size": 14
         },
         "textposition": "auto",
         "type": "bar",
         "x": [
          "2000 - 2010"
         ],
         "xaxis": "x",
         "y": [
          118
         ],
         "yaxis": "y"
        },
        {
         "alignmentgroup": "True",
         "hovertemplate": "Acteurs=%{text}<br>Période=%{x}<br>count=%{y}<extra></extra>",
         "legendgroup": "Kyôko Kazama",
         "marker": {
          "color": "#EF553B",
          "pattern": {
           "shape": ""
          }
         },
         "name": "Kyôko Kazama",
         "offsetgroup": "Kyôko Kazama",
         "orientation": "v",
         "showlegend": true,
         "text": [
          "Kyôko Kazama"
         ],
         "textfont": {
          "size": 14
         },
         "textposition": "auto",
         "type": "bar",
         "x": [
          "2000 - 2010"
         ],
         "xaxis": "x",
         "y": [
          73
         ],
         "yaxis": "y"
        },
        {
         "alignmentgroup": "True",
         "hovertemplate": "Acteurs=%{text}<br>Période=%{x}<br>count=%{y}<extra></extra>",
         "legendgroup": "Motoko Sasaki",
         "marker": {
          "color": "#00cc96",
          "pattern": {
           "shape": ""
          }
         },
         "name": "Motoko Sasaki",
         "offsetgroup": "Motoko Sasaki",
         "orientation": "v",
         "showlegend": true,
         "text": [
          "Motoko Sasaki"
         ],
         "textfont": {
          "size": 14
         },
         "textposition": "auto",
         "type": "bar",
         "x": [
          "2000 - 2010"
         ],
         "xaxis": "x",
         "y": [
          55
         ],
         "yaxis": "y"
        },
        {
         "alignmentgroup": "True",
         "hovertemplate": "Acteurs=%{text}<br>Période=%{x}<br>count=%{y}<extra></extra>",
         "legendgroup": "Lemon Hanazawa",
         "marker": {
          "color": "#ab63fa",
          "pattern": {
           "shape": ""
          }
         },
         "name": "Lemon Hanazawa",
         "offsetgroup": "Lemon Hanazawa",
         "orientation": "v",
         "showlegend": true,
         "text": [
          "Lemon Hanazawa"
         ],
         "textfont": {
          "size": 14
         },
         "textposition": "auto",
         "type": "bar",
         "x": [
          "2000 - 2010"
         ],
         "xaxis": "x",
         "y": [
          51
         ],
         "yaxis": "y"
        },
        {
         "alignmentgroup": "True",
         "hovertemplate": "Acteurs=%{text}<br>Période=%{x}<br>count=%{y}<extra></extra>",
         "legendgroup": "Prakash Raj",
         "marker": {
          "color": "#FFA15A",
          "pattern": {
           "shape": ""
          }
         },
         "name": "Prakash Raj",
         "offsetgroup": "Prakash Raj",
         "orientation": "v",
         "showlegend": true,
         "text": [
          "Prakash Raj",
          "Prakash Raj"
         ],
         "textfont": {
          "size": 14
         },
         "textposition": "auto",
         "type": "bar",
         "x": [
          "2000 - 2010",
          "2010 - 2020"
         ],
         "xaxis": "x",
         "y": [
          50,
          63
         ],
         "yaxis": "y"
        },
        {
         "alignmentgroup": "True",
         "hovertemplate": "Acteurs=%{text}<br>Période=%{x}<br>count=%{y}<extra></extra>",
         "legendgroup": "Eric Roberts",
         "marker": {
          "color": "#19d3f3",
          "pattern": {
           "shape": ""
          }
         },
         "name": "Eric Roberts",
         "offsetgroup": "Eric Roberts",
         "orientation": "v",
         "showlegend": true,
         "text": [
          "Eric Roberts",
          "Eric Roberts"
         ],
         "textfont": {
          "size": 14
         },
         "textposition": "auto",
         "type": "bar",
         "x": [
          "2010 - 2020",
          "2020 - 2030"
         ],
         "xaxis": "x",
         "y": [
          131,
          30
         ],
         "yaxis": "y"
        },
        {
         "alignmentgroup": "True",
         "hovertemplate": "Acteurs=%{text}<br>Période=%{x}<br>count=%{y}<extra></extra>",
         "legendgroup": "Tom Sizemore",
         "marker": {
          "color": "#FF6692",
          "pattern": {
           "shape": ""
          }
         },
         "name": "Tom Sizemore",
         "offsetgroup": "Tom Sizemore",
         "orientation": "v",
         "showlegend": true,
         "text": [
          "Tom Sizemore"
         ],
         "textfont": {
          "size": 14
         },
         "textposition": "auto",
         "type": "bar",
         "x": [
          "2010 - 2020"
         ],
         "xaxis": "x",
         "y": [
          66
         ],
         "yaxis": "y"
        },
        {
         "alignmentgroup": "True",
         "hovertemplate": "Acteurs=%{text}<br>Période=%{x}<br>count=%{y}<extra></extra>",
         "legendgroup": "Sergey A.",
         "marker": {
          "color": "#B6E880",
          "pattern": {
           "shape": ""
          }
         },
         "name": "Sergey A.",
         "offsetgroup": "Sergey A.",
         "orientation": "v",
         "showlegend": true,
         "text": [
          "Sergey A."
         ],
         "textfont": {
          "size": 14
         },
         "textposition": "auto",
         "type": "bar",
         "x": [
          "2010 - 2020"
         ],
         "xaxis": "x",
         "y": [
          60
         ],
         "yaxis": "y"
        },
        {
         "alignmentgroup": "True",
         "hovertemplate": "Acteurs=%{text}<br>Période=%{x}<br>count=%{y}<extra></extra>",
         "legendgroup": "Danny Trejo",
         "marker": {
          "color": "#FF97FF",
          "pattern": {
           "shape": ""
          }
         },
         "name": "Danny Trejo",
         "offsetgroup": "Danny Trejo",
         "orientation": "v",
         "showlegend": true,
         "text": [
          "Danny Trejo"
         ],
         "textfont": {
          "size": 14
         },
         "textposition": "auto",
         "type": "bar",
         "x": [
          "2010 - 2020"
         ],
         "xaxis": "x",
         "y": [
          59
         ],
         "yaxis": "y"
        },
        {
         "alignmentgroup": "True",
         "hovertemplate": "Acteurs=%{text}<br>Période=%{x}<br>count=%{y}<extra></extra>",
         "legendgroup": "Ross K. Foad",
         "marker": {
          "color": "#FECB52",
          "pattern": {
           "shape": ""
          }
         },
         "name": "Ross K. Foad",
         "offsetgroup": "Ross K. Foad",
         "orientation": "v",
         "showlegend": true,
         "text": [
          "Ross K. Foad"
         ],
         "textfont": {
          "size": 14
         },
         "textposition": "auto",
         "type": "bar",
         "x": [
          "2020 - 2030"
         ],
         "xaxis": "x",
         "y": [
          24
         ],
         "yaxis": "y"
        },
        {
         "alignmentgroup": "True",
         "hovertemplate": "Acteurs=%{text}<br>Période=%{x}<br>count=%{y}<extra></extra>",
         "legendgroup": "Simon Hill",
         "marker": {
          "color": "#636efa",
          "pattern": {
           "shape": ""
          }
         },
         "name": "Simon Hill",
         "offsetgroup": "Simon Hill",
         "orientation": "v",
         "showlegend": true,
         "text": [
          "Simon Hill"
         ],
         "textfont": {
          "size": 14
         },
         "textposition": "auto",
         "type": "bar",
         "x": [
          "2020 - 2030"
         ],
         "xaxis": "x",
         "y": [
          24
         ],
         "yaxis": "y"
        },
        {
         "alignmentgroup": "True",
         "hovertemplate": "Acteurs=%{text}<br>Période=%{x}<br>count=%{y}<extra></extra>",
         "legendgroup": "Cascade Nerida",
         "marker": {
          "color": "#EF553B",
          "pattern": {
           "shape": ""
          }
         },
         "name": "Cascade Nerida",
         "offsetgroup": "Cascade Nerida",
         "orientation": "v",
         "showlegend": true,
         "text": [
          "Cascade Nerida"
         ],
         "textfont": {
          "size": 14
         },
         "textposition": "auto",
         "type": "bar",
         "x": [
          "2020 - 2030"
         ],
         "xaxis": "x",
         "y": [
          15
         ],
         "yaxis": "y"
        },
        {
         "alignmentgroup": "True",
         "hovertemplate": "Acteurs=%{text}<br>Période=%{x}<br>count=%{y}<extra></extra>",
         "legendgroup": "Shawn C. Phillips",
         "marker": {
          "color": "#00cc96",
          "pattern": {
           "shape": ""
          }
         },
         "name": "Shawn C. Phillips",
         "offsetgroup": "Shawn C. Phillips",
         "orientation": "v",
         "showlegend": true,
         "text": [
          "Shawn C. Phillips"
         ],
         "textfont": {
          "size": 14
         },
         "textposition": "auto",
         "type": "bar",
         "x": [
          "2020 - 2030"
         ],
         "xaxis": "x",
         "y": [
          15
         ],
         "yaxis": "y"
        }
       ],
       "layout": {
        "barmode": "relative",
        "height": 900,
        "legend": {
         "title": {
          "text": "Acteurs"
         },
         "tracegroupgap": 0
        },
        "showlegend": false,
        "template": {
         "data": {
          "bar": [
           {
            "error_x": {
             "color": "#2a3f5f"
            },
            "error_y": {
             "color": "#2a3f5f"
            },
            "marker": {
             "line": {
              "color": "#E5ECF6",
              "width": 0.5
             },
             "pattern": {
              "fillmode": "overlay",
              "size": 10,
              "solidity": 0.2
             }
            },
            "type": "bar"
           }
          ],
          "barpolar": [
           {
            "marker": {
             "line": {
              "color": "#E5ECF6",
              "width": 0.5
             },
             "pattern": {
              "fillmode": "overlay",
              "size": 10,
              "solidity": 0.2
             }
            },
            "type": "barpolar"
           }
          ],
          "carpet": [
           {
            "aaxis": {
             "endlinecolor": "#2a3f5f",
             "gridcolor": "white",
             "linecolor": "white",
             "minorgridcolor": "white",
             "startlinecolor": "#2a3f5f"
            },
            "baxis": {
             "endlinecolor": "#2a3f5f",
             "gridcolor": "white",
             "linecolor": "white",
             "minorgridcolor": "white",
             "startlinecolor": "#2a3f5f"
            },
            "type": "carpet"
           }
          ],
          "choropleth": [
           {
            "colorbar": {
             "outlinewidth": 0,
             "ticks": ""
            },
            "type": "choropleth"
           }
          ],
          "contour": [
           {
            "colorbar": {
             "outlinewidth": 0,
             "ticks": ""
            },
            "colorscale": [
             [
              0,
              "#0d0887"
             ],
             [
              0.1111111111111111,
              "#46039f"
             ],
             [
              0.2222222222222222,
              "#7201a8"
             ],
             [
              0.3333333333333333,
              "#9c179e"
             ],
             [
              0.4444444444444444,
              "#bd3786"
             ],
             [
              0.5555555555555556,
              "#d8576b"
             ],
             [
              0.6666666666666666,
              "#ed7953"
             ],
             [
              0.7777777777777778,
              "#fb9f3a"
             ],
             [
              0.8888888888888888,
              "#fdca26"
             ],
             [
              1,
              "#f0f921"
             ]
            ],
            "type": "contour"
           }
          ],
          "contourcarpet": [
           {
            "colorbar": {
             "outlinewidth": 0,
             "ticks": ""
            },
            "type": "contourcarpet"
           }
          ],
          "heatmap": [
           {
            "colorbar": {
             "outlinewidth": 0,
             "ticks": ""
            },
            "colorscale": [
             [
              0,
              "#0d0887"
             ],
             [
              0.1111111111111111,
              "#46039f"
             ],
             [
              0.2222222222222222,
              "#7201a8"
             ],
             [
              0.3333333333333333,
              "#9c179e"
             ],
             [
              0.4444444444444444,
              "#bd3786"
             ],
             [
              0.5555555555555556,
              "#d8576b"
             ],
             [
              0.6666666666666666,
              "#ed7953"
             ],
             [
              0.7777777777777778,
              "#fb9f3a"
             ],
             [
              0.8888888888888888,
              "#fdca26"
             ],
             [
              1,
              "#f0f921"
             ]
            ],
            "type": "heatmap"
           }
          ],
          "heatmapgl": [
           {
            "colorbar": {
             "outlinewidth": 0,
             "ticks": ""
            },
            "colorscale": [
             [
              0,
              "#0d0887"
             ],
             [
              0.1111111111111111,
              "#46039f"
             ],
             [
              0.2222222222222222,
              "#7201a8"
             ],
             [
              0.3333333333333333,
              "#9c179e"
             ],
             [
              0.4444444444444444,
              "#bd3786"
             ],
             [
              0.5555555555555556,
              "#d8576b"
             ],
             [
              0.6666666666666666,
              "#ed7953"
             ],
             [
              0.7777777777777778,
              "#fb9f3a"
             ],
             [
              0.8888888888888888,
              "#fdca26"
             ],
             [
              1,
              "#f0f921"
             ]
            ],
            "type": "heatmapgl"
           }
          ],
          "histogram": [
           {
            "marker": {
             "pattern": {
              "fillmode": "overlay",
              "size": 10,
              "solidity": 0.2
             }
            },
            "type": "histogram"
           }
          ],
          "histogram2d": [
           {
            "colorbar": {
             "outlinewidth": 0,
             "ticks": ""
            },
            "colorscale": [
             [
              0,
              "#0d0887"
             ],
             [
              0.1111111111111111,
              "#46039f"
             ],
             [
              0.2222222222222222,
              "#7201a8"
             ],
             [
              0.3333333333333333,
              "#9c179e"
             ],
             [
              0.4444444444444444,
              "#bd3786"
             ],
             [
              0.5555555555555556,
              "#d8576b"
             ],
             [
              0.6666666666666666,
              "#ed7953"
             ],
             [
              0.7777777777777778,
              "#fb9f3a"
             ],
             [
              0.8888888888888888,
              "#fdca26"
             ],
             [
              1,
              "#f0f921"
             ]
            ],
            "type": "histogram2d"
           }
          ],
          "histogram2dcontour": [
           {
            "colorbar": {
             "outlinewidth": 0,
             "ticks": ""
            },
            "colorscale": [
             [
              0,
              "#0d0887"
             ],
             [
              0.1111111111111111,
              "#46039f"
             ],
             [
              0.2222222222222222,
              "#7201a8"
             ],
             [
              0.3333333333333333,
              "#9c179e"
             ],
             [
              0.4444444444444444,
              "#bd3786"
             ],
             [
              0.5555555555555556,
              "#d8576b"
             ],
             [
              0.6666666666666666,
              "#ed7953"
             ],
             [
              0.7777777777777778,
              "#fb9f3a"
             ],
             [
              0.8888888888888888,
              "#fdca26"
             ],
             [
              1,
              "#f0f921"
             ]
            ],
            "type": "histogram2dcontour"
           }
          ],
          "mesh3d": [
           {
            "colorbar": {
             "outlinewidth": 0,
             "ticks": ""
            },
            "type": "mesh3d"
           }
          ],
          "parcoords": [
           {
            "line": {
             "colorbar": {
              "outlinewidth": 0,
              "ticks": ""
             }
            },
            "type": "parcoords"
           }
          ],
          "pie": [
           {
            "automargin": true,
            "type": "pie"
           }
          ],
          "scatter": [
           {
            "marker": {
             "colorbar": {
              "outlinewidth": 0,
              "ticks": ""
             }
            },
            "type": "scatter"
           }
          ],
          "scatter3d": [
           {
            "line": {
             "colorbar": {
              "outlinewidth": 0,
              "ticks": ""
             }
            },
            "marker": {
             "colorbar": {
              "outlinewidth": 0,
              "ticks": ""
             }
            },
            "type": "scatter3d"
           }
          ],
          "scattercarpet": [
           {
            "marker": {
             "colorbar": {
              "outlinewidth": 0,
              "ticks": ""
             }
            },
            "type": "scattercarpet"
           }
          ],
          "scattergeo": [
           {
            "marker": {
             "colorbar": {
              "outlinewidth": 0,
              "ticks": ""
             }
            },
            "type": "scattergeo"
           }
          ],
          "scattergl": [
           {
            "marker": {
             "colorbar": {
              "outlinewidth": 0,
              "ticks": ""
             }
            },
            "type": "scattergl"
           }
          ],
          "scattermapbox": [
           {
            "marker": {
             "colorbar": {
              "outlinewidth": 0,
              "ticks": ""
             }
            },
            "type": "scattermapbox"
           }
          ],
          "scatterpolar": [
           {
            "marker": {
             "colorbar": {
              "outlinewidth": 0,
              "ticks": ""
             }
            },
            "type": "scatterpolar"
           }
          ],
          "scatterpolargl": [
           {
            "marker": {
             "colorbar": {
              "outlinewidth": 0,
              "ticks": ""
             }
            },
            "type": "scatterpolargl"
           }
          ],
          "scatterternary": [
           {
            "marker": {
             "colorbar": {
              "outlinewidth": 0,
              "ticks": ""
             }
            },
            "type": "scatterternary"
           }
          ],
          "surface": [
           {
            "colorbar": {
             "outlinewidth": 0,
             "ticks": ""
            },
            "colorscale": [
             [
              0,
              "#0d0887"
             ],
             [
              0.1111111111111111,
              "#46039f"
             ],
             [
              0.2222222222222222,
              "#7201a8"
             ],
             [
              0.3333333333333333,
              "#9c179e"
             ],
             [
              0.4444444444444444,
              "#bd3786"
             ],
             [
              0.5555555555555556,
              "#d8576b"
             ],
             [
              0.6666666666666666,
              "#ed7953"
             ],
             [
              0.7777777777777778,
              "#fb9f3a"
             ],
             [
              0.8888888888888888,
              "#fdca26"
             ],
             [
              1,
              "#f0f921"
             ]
            ],
            "type": "surface"
           }
          ],
          "table": [
           {
            "cells": {
             "fill": {
              "color": "#EBF0F8"
             },
             "line": {
              "color": "white"
             }
            },
            "header": {
             "fill": {
              "color": "#C8D4E3"
             },
             "line": {
              "color": "white"
             }
            },
            "type": "table"
           }
          ]
         },
         "layout": {
          "annotationdefaults": {
           "arrowcolor": "#2a3f5f",
           "arrowhead": 0,
           "arrowwidth": 1
          },
          "autotypenumbers": "strict",
          "coloraxis": {
           "colorbar": {
            "outlinewidth": 0,
            "ticks": ""
           }
          },
          "colorscale": {
           "diverging": [
            [
             0,
             "#8e0152"
            ],
            [
             0.1,
             "#c51b7d"
            ],
            [
             0.2,
             "#de77ae"
            ],
            [
             0.3,
             "#f1b6da"
            ],
            [
             0.4,
             "#fde0ef"
            ],
            [
             0.5,
             "#f7f7f7"
            ],
            [
             0.6,
             "#e6f5d0"
            ],
            [
             0.7,
             "#b8e186"
            ],
            [
             0.8,
             "#7fbc41"
            ],
            [
             0.9,
             "#4d9221"
            ],
            [
             1,
             "#276419"
            ]
           ],
           "sequential": [
            [
             0,
             "#0d0887"
            ],
            [
             0.1111111111111111,
             "#46039f"
            ],
            [
             0.2222222222222222,
             "#7201a8"
            ],
            [
             0.3333333333333333,
             "#9c179e"
            ],
            [
             0.4444444444444444,
             "#bd3786"
            ],
            [
             0.5555555555555556,
             "#d8576b"
            ],
            [
             0.6666666666666666,
             "#ed7953"
            ],
            [
             0.7777777777777778,
             "#fb9f3a"
            ],
            [
             0.8888888888888888,
             "#fdca26"
            ],
            [
             1,
             "#f0f921"
            ]
           ],
           "sequentialminus": [
            [
             0,
             "#0d0887"
            ],
            [
             0.1111111111111111,
             "#46039f"
            ],
            [
             0.2222222222222222,
             "#7201a8"
            ],
            [
             0.3333333333333333,
             "#9c179e"
            ],
            [
             0.4444444444444444,
             "#bd3786"
            ],
            [
             0.5555555555555556,
             "#d8576b"
            ],
            [
             0.6666666666666666,
             "#ed7953"
            ],
            [
             0.7777777777777778,
             "#fb9f3a"
            ],
            [
             0.8888888888888888,
             "#fdca26"
            ],
            [
             1,
             "#f0f921"
            ]
           ]
          },
          "colorway": [
           "#636efa",
           "#EF553B",
           "#00cc96",
           "#ab63fa",
           "#FFA15A",
           "#19d3f3",
           "#FF6692",
           "#B6E880",
           "#FF97FF",
           "#FECB52"
          ],
          "font": {
           "color": "#2a3f5f"
          },
          "geo": {
           "bgcolor": "white",
           "lakecolor": "white",
           "landcolor": "#E5ECF6",
           "showlakes": true,
           "showland": true,
           "subunitcolor": "white"
          },
          "hoverlabel": {
           "align": "left"
          },
          "hovermode": "closest",
          "mapbox": {
           "style": "light"
          },
          "paper_bgcolor": "white",
          "plot_bgcolor": "#E5ECF6",
          "polar": {
           "angularaxis": {
            "gridcolor": "white",
            "linecolor": "white",
            "ticks": ""
           },
           "bgcolor": "#E5ECF6",
           "radialaxis": {
            "gridcolor": "white",
            "linecolor": "white",
            "ticks": ""
           }
          },
          "scene": {
           "xaxis": {
            "backgroundcolor": "#E5ECF6",
            "gridcolor": "white",
            "gridwidth": 2,
            "linecolor": "white",
            "showbackground": true,
            "ticks": "",
            "zerolinecolor": "white"
           },
           "yaxis": {
            "backgroundcolor": "#E5ECF6",
            "gridcolor": "white",
            "gridwidth": 2,
            "linecolor": "white",
            "showbackground": true,
            "ticks": "",
            "zerolinecolor": "white"
           },
           "zaxis": {
            "backgroundcolor": "#E5ECF6",
            "gridcolor": "white",
            "gridwidth": 2,
            "linecolor": "white",
            "showbackground": true,
            "ticks": "",
            "zerolinecolor": "white"
           }
          },
          "shapedefaults": {
           "line": {
            "color": "#2a3f5f"
           }
          },
          "ternary": {
           "aaxis": {
            "gridcolor": "white",
            "linecolor": "white",
            "ticks": ""
           },
           "baxis": {
            "gridcolor": "white",
            "linecolor": "white",
            "ticks": ""
           },
           "bgcolor": "#E5ECF6",
           "caxis": {
            "gridcolor": "white",
            "linecolor": "white",
            "ticks": ""
           }
          },
          "title": {
           "x": 0.05
          },
          "xaxis": {
           "automargin": true,
           "gridcolor": "white",
           "linecolor": "white",
           "ticks": "",
           "title": {
            "standoff": 15
           },
           "zerolinecolor": "white",
           "zerolinewidth": 2
          },
          "yaxis": {
           "automargin": true,
           "gridcolor": "white",
           "linecolor": "white",
           "ticks": "",
           "title": {
            "standoff": 15
           },
           "zerolinecolor": "white",
           "zerolinewidth": 2
          }
         }
        },
        "title": {
         "text": "Quels sont les acteurs les plus présents par périodes ?",
         "x": 0.5
        },
        "width": 1200,
        "xaxis": {
         "anchor": "y",
         "domain": [
          0,
          1
         ],
         "tickangle": 45,
         "title": {
          "text": "Période"
         }
        },
        "yaxis": {
         "anchor": "x",
         "domain": [
          0,
          1
         ],
         "title": {
          "text": "count"
         }
        }
       }
      }
     },
     "metadata": {},
     "output_type": "display_data"
    }
   ],
   "source": [
    "fig = px.bar(acteur_par_periode, x=\"startYear\", y ='count', color = 'primaryName', text ='primaryName',\n",
    "    title = 'Quels sont les acteurs les plus présents par périodes ?',\n",
    "    labels = {'startYear': 'Période', 'primaryName': 'Acteurs'},\n",
    "    width=1200, height=900)\n",
    " \n",
    "fig.update_traces(textfont_size=14)\n",
    "fig.update_xaxes(tickangle=45)\n",
    "\n",
    "fig.update_layout(showlegend=False, title_x=0.5)"
   ]
  },
  {
   "cell_type": "code",
   "execution_count": 58,
   "metadata": {},
   "outputs": [
    {
     "data": {
      "application/vnd.jupyter.widget-view+json": {
       "model_id": "7a911b4278494b2381307bd48328519e",
       "version_major": 2,
       "version_minor": 0
      },
      "text/plain": [
       "HBox(children=(VBox(children=(Label(value='Left'), Button(description='1910 - 1920', style=ButtonStyle()), But…"
      ]
     },
     "metadata": {},
     "output_type": "display_data"
    }
   ],
   "source": [
    "def make_boxes():\n",
    "    vbox1 = widgets.VBox([widgets.Label('Left'), b1, b2])\n",
    "    vbox2 = widgets.VBox([widgets.Label('Right'), dropdown, radiobuttons])\n",
    "    return vbox1, vbox2\n",
    " \n",
    "vbox1, vbox2 = make_boxes()\n",
    " \n",
    "widgets.HBox([vbox1, vbox2])\n",
    "\n"
   ]
  },
  {
   "cell_type": "code",
   "execution_count": 95,
   "metadata": {},
   "outputs": [
    {
     "data": {
      "application/vnd.jupyter.widget-view+json": {
       "model_id": "1a7bdb2c0bda4f5d92205821077dac45",
       "version_major": 2,
       "version_minor": 0
      },
      "text/plain": [
       "HBox(children=(VBox(children=(Button(description='1910 - 1920', style=ButtonStyle()), Button(description='1920…"
      ]
     },
     "metadata": {},
     "output_type": "display_data"
    }
   ],
   "source": [
    "\n",
    "\n",
    "b1 = widgets.Button(description='1910 - 1920')\n",
    "b2 = widgets.Button(description='1920 - 1930')\n",
    "b3 = widgets.Button(description='1930 - 1940')\n",
    "b4 = widgets.Button(description='1930 - 1940')\n",
    "b5 = widgets.Button(description='1940 - 1950')\n",
    "b6 = widgets.Button(description='1950 - 1960')\n",
    "b7 = widgets.Button(description='1960 - 1970')\n",
    "b8 = widgets.Button(description='1970 - 1980')\n",
    "b9 = widgets.Button(description='1980 - 1990')\n",
    "b10 = widgets.Button(description='1990 - 2000')\n",
    "b11 = widgets.Button(description='2000 - 2010')\n",
    "b12 = widgets.Button(description='2010 - 2020')\n",
    "b13 = widgets.Button(description='2020 - 2030')\n",
    "\n",
    "def make_boxes():\n",
    "    vbox1 = widgets.VBox([b1, b2, b3, b4, b5, b6, b7, b8, b9, b10, b11, b12, b13])\n",
    "    return vbox1\n",
    " \n",
    "vbox1 = make_boxes()\n",
    " \n",
    "widgets.HBox([vbox1])\n",
    "\n",
    "\n",
    "\n",
    "\n",
    "\n"
   ]
  },
  {
   "cell_type": "code",
   "execution_count": 51,
   "metadata": {},
   "outputs": [
    {
     "data": {
      "application/vnd.jupyter.widget-view+json": {
       "model_id": "338c93aa5dcf4eb1a14eb8ff598a9b36",
       "version_major": 2,
       "version_minor": 0
      },
      "text/plain": [
       "interactive(children=(Dropdown(description='decade', options=('1920 - 1930', '1930 - 1940', '1940 - 1950'), va…"
      ]
     },
     "metadata": {},
     "output_type": "display_data"
    },
    {
     "data": {
      "text/plain": [
       "<function __main__.change_df(decade)>"
      ]
     },
     "execution_count": 51,
     "metadata": {},
     "output_type": "execute_result"
    }
   ],
   "source": [
    "def change_df(decade):\n",
    "    \"\"\"\n",
    "    Print the current widget value in short sentence\n",
    "    \"\"\"\n",
    "    print(f'the choosen df is {decade}')\n",
    "\n"
   ]
  },
  {
   "cell_type": "markdown",
   "metadata": {},
   "source": [
    "# <span style=\"color:orange\">La durée moyenne des films s'allonge ou se raccourcit avec les années ?</span> "
   ]
  },
  {
   "cell_type": "code",
   "execution_count": 12,
   "metadata": {},
   "outputs": [
    {
     "data": {
      "text/html": [
       "<div>\n",
       "<style scoped>\n",
       "    .dataframe tbody tr th:only-of-type {\n",
       "        vertical-align: middle;\n",
       "    }\n",
       "\n",
       "    .dataframe tbody tr th {\n",
       "        vertical-align: top;\n",
       "    }\n",
       "\n",
       "    .dataframe thead th {\n",
       "        text-align: right;\n",
       "    }\n",
       "</style>\n",
       "<table border=\"1\" class=\"dataframe\">\n",
       "  <thead>\n",
       "    <tr style=\"text-align: right;\">\n",
       "      <th></th>\n",
       "      <th>tconst</th>\n",
       "      <th>titleType</th>\n",
       "      <th>primaryTitle</th>\n",
       "      <th>originalTitle</th>\n",
       "      <th>isAdult</th>\n",
       "      <th>startYear</th>\n",
       "      <th>endYear</th>\n",
       "      <th>runtimeMinutes</th>\n",
       "      <th>genres</th>\n",
       "    </tr>\n",
       "  </thead>\n",
       "  <tbody>\n",
       "    <tr>\n",
       "      <th>0</th>\n",
       "      <td>tt0000001</td>\n",
       "      <td>short</td>\n",
       "      <td>Carmencita</td>\n",
       "      <td>Carmencita</td>\n",
       "      <td>0</td>\n",
       "      <td>1894</td>\n",
       "      <td>\\N</td>\n",
       "      <td>1</td>\n",
       "      <td>Documentary,Short</td>\n",
       "    </tr>\n",
       "  </tbody>\n",
       "</table>\n",
       "</div>"
      ],
      "text/plain": [
       "      tconst titleType primaryTitle originalTitle isAdult startYear endYear  \\\n",
       "0  tt0000001     short   Carmencita    Carmencita       0      1894      \\N   \n",
       "\n",
       "  runtimeMinutes             genres  \n",
       "0              1  Documentary,Short  "
      ]
     },
     "execution_count": 12,
     "metadata": {},
     "output_type": "execute_result"
    }
   ],
   "source": [
    "basics_df.head(1)"
   ]
  },
  {
   "cell_type": "code",
   "execution_count": 13,
   "metadata": {},
   "outputs": [],
   "source": [
    "basics_df_average1 = basics_df[[\"titleType\", \"startYear\", \"runtimeMinutes\"]]\n",
    "basics_df_average2 = basics_df_average1.loc[(basics_df_average1['titleType'] == \"movie\") & (basics_df_average1['runtimeMinutes'] != \"\\\\N\") & (basics_df_average1['startYear'] != \"\\\\N\")]\n",
    "basics_df_average3 = basics_df_average2[[\"startYear\", \"runtimeMinutes\"]]"
   ]
  },
  {
   "cell_type": "code",
   "execution_count": 14,
   "metadata": {},
   "outputs": [
    {
     "data": {
      "text/html": [
       "<div>\n",
       "<style scoped>\n",
       "    .dataframe tbody tr th:only-of-type {\n",
       "        vertical-align: middle;\n",
       "    }\n",
       "\n",
       "    .dataframe tbody tr th {\n",
       "        vertical-align: top;\n",
       "    }\n",
       "\n",
       "    .dataframe thead th {\n",
       "        text-align: right;\n",
       "    }\n",
       "</style>\n",
       "<table border=\"1\" class=\"dataframe\">\n",
       "  <thead>\n",
       "    <tr style=\"text-align: right;\">\n",
       "      <th></th>\n",
       "      <th>startYear</th>\n",
       "      <th>runtimeMinutes</th>\n",
       "    </tr>\n",
       "  </thead>\n",
       "  <tbody>\n",
       "    <tr>\n",
       "      <th>498</th>\n",
       "      <td>1905</td>\n",
       "      <td>100</td>\n",
       "    </tr>\n",
       "    <tr>\n",
       "      <th>570</th>\n",
       "      <td>1906</td>\n",
       "      <td>70</td>\n",
       "    </tr>\n",
       "    <tr>\n",
       "      <th>587</th>\n",
       "      <td>1907</td>\n",
       "      <td>90</td>\n",
       "    </tr>\n",
       "    <tr>\n",
       "      <th>672</th>\n",
       "      <td>1908</td>\n",
       "      <td>120</td>\n",
       "    </tr>\n",
       "    <tr>\n",
       "      <th>1172</th>\n",
       "      <td>1910</td>\n",
       "      <td>58</td>\n",
       "    </tr>\n",
       "    <tr>\n",
       "      <th>1246</th>\n",
       "      <td>1910</td>\n",
       "      <td>45</td>\n",
       "    </tr>\n",
       "    <tr>\n",
       "      <th>1273</th>\n",
       "      <td>1909</td>\n",
       "      <td>50</td>\n",
       "    </tr>\n",
       "    <tr>\n",
       "      <th>1485</th>\n",
       "      <td>1911</td>\n",
       "      <td>51</td>\n",
       "    </tr>\n",
       "    <tr>\n",
       "      <th>1578</th>\n",
       "      <td>1911</td>\n",
       "      <td>52</td>\n",
       "    </tr>\n",
       "    <tr>\n",
       "      <th>1616</th>\n",
       "      <td>1911</td>\n",
       "      <td>45</td>\n",
       "    </tr>\n",
       "  </tbody>\n",
       "</table>\n",
       "</div>"
      ],
      "text/plain": [
       "     startYear runtimeMinutes\n",
       "498       1905            100\n",
       "570       1906             70\n",
       "587       1907             90\n",
       "672       1908            120\n",
       "1172      1910             58\n",
       "1246      1910             45\n",
       "1273      1909             50\n",
       "1485      1911             51\n",
       "1578      1911             52\n",
       "1616      1911             45"
      ]
     },
     "execution_count": 14,
     "metadata": {},
     "output_type": "execute_result"
    }
   ],
   "source": [
    "basics_df_average3.head(10)"
   ]
  },
  {
   "cell_type": "code",
   "execution_count": 15,
   "metadata": {},
   "outputs": [],
   "source": [
    "basics_df_average4 = basics_df_average3.astype({\"startYear\": int})\n",
    "basics_df_average5 = basics_df_average4.astype({\"runtimeMinutes\": int})"
   ]
  },
  {
   "cell_type": "code",
   "execution_count": 19,
   "metadata": {},
   "outputs": [
    {
     "name": "stdout",
     "output_type": "stream",
     "text": [
      "1930 - 1940\n"
     ]
    }
   ],
   "source": [
    "# étape 2 : création d'une fonction pour transformer une date en décennie\n",
    "def find_decade2(year):\n",
    "    decade1 = (year // 10 * 10)\n",
    "    decade2 = (year // 10 * 10) + 10\n",
    "    return str(decade1) + \" - \" + str(decade2)\n",
    "\n",
    "print(find_decade(1934))"
   ]
  },
  {
   "cell_type": "code",
   "execution_count": 20,
   "metadata": {},
   "outputs": [],
   "source": [
    "basics_df_average5[\"startYear\"] = basics_df_average5[\"startYear\"].apply(find_decade2)"
   ]
  },
  {
   "cell_type": "code",
   "execution_count": 41,
   "metadata": {},
   "outputs": [
    {
     "data": {
      "text/html": [
       "<div>\n",
       "<style scoped>\n",
       "    .dataframe tbody tr th:only-of-type {\n",
       "        vertical-align: middle;\n",
       "    }\n",
       "\n",
       "    .dataframe tbody tr th {\n",
       "        vertical-align: top;\n",
       "    }\n",
       "\n",
       "    .dataframe thead th {\n",
       "        text-align: right;\n",
       "    }\n",
       "</style>\n",
       "<table border=\"1\" class=\"dataframe\">\n",
       "  <thead>\n",
       "    <tr style=\"text-align: right;\">\n",
       "      <th></th>\n",
       "      <th>startYear</th>\n",
       "      <th>runtimeMinutes</th>\n",
       "    </tr>\n",
       "  </thead>\n",
       "  <tbody>\n",
       "    <tr>\n",
       "      <th>8359700</th>\n",
       "      <td>2010 - 2020</td>\n",
       "      <td>74</td>\n",
       "    </tr>\n",
       "    <tr>\n",
       "      <th>8359715</th>\n",
       "      <td>2020 - 2030</td>\n",
       "      <td>96</td>\n",
       "    </tr>\n",
       "    <tr>\n",
       "      <th>8359937</th>\n",
       "      <td>2010 - 2020</td>\n",
       "      <td>70</td>\n",
       "    </tr>\n",
       "    <tr>\n",
       "      <th>8360129</th>\n",
       "      <td>2010 - 2020</td>\n",
       "      <td>97</td>\n",
       "    </tr>\n",
       "    <tr>\n",
       "      <th>8360165</th>\n",
       "      <td>1990 - 2000</td>\n",
       "      <td>96</td>\n",
       "    </tr>\n",
       "    <tr>\n",
       "      <th>8360218</th>\n",
       "      <td>1990 - 2000</td>\n",
       "      <td>250</td>\n",
       "    </tr>\n",
       "    <tr>\n",
       "      <th>8360248</th>\n",
       "      <td>1990 - 2000</td>\n",
       "      <td>108</td>\n",
       "    </tr>\n",
       "    <tr>\n",
       "      <th>8360251</th>\n",
       "      <td>2010 - 2020</td>\n",
       "      <td>94</td>\n",
       "    </tr>\n",
       "    <tr>\n",
       "      <th>8360265</th>\n",
       "      <td>2010 - 2020</td>\n",
       "      <td>72</td>\n",
       "    </tr>\n",
       "    <tr>\n",
       "      <th>8360266</th>\n",
       "      <td>1990 - 2000</td>\n",
       "      <td>45</td>\n",
       "    </tr>\n",
       "    <tr>\n",
       "      <th>8360270</th>\n",
       "      <td>2010 - 2020</td>\n",
       "      <td>51</td>\n",
       "    </tr>\n",
       "    <tr>\n",
       "      <th>8360277</th>\n",
       "      <td>2010 - 2020</td>\n",
       "      <td>84</td>\n",
       "    </tr>\n",
       "    <tr>\n",
       "      <th>8360279</th>\n",
       "      <td>2020 - 2030</td>\n",
       "      <td>90</td>\n",
       "    </tr>\n",
       "    <tr>\n",
       "      <th>8360318</th>\n",
       "      <td>2020 - 2030</td>\n",
       "      <td>84</td>\n",
       "    </tr>\n",
       "    <tr>\n",
       "      <th>8360363</th>\n",
       "      <td>2020 - 2030</td>\n",
       "      <td>92</td>\n",
       "    </tr>\n",
       "    <tr>\n",
       "      <th>8360448</th>\n",
       "      <td>2010 - 2020</td>\n",
       "      <td>123</td>\n",
       "    </tr>\n",
       "    <tr>\n",
       "      <th>8360489</th>\n",
       "      <td>2010 - 2020</td>\n",
       "      <td>57</td>\n",
       "    </tr>\n",
       "    <tr>\n",
       "      <th>8360516</th>\n",
       "      <td>2000 - 2010</td>\n",
       "      <td>100</td>\n",
       "    </tr>\n",
       "    <tr>\n",
       "      <th>8360539</th>\n",
       "      <td>2010 - 2020</td>\n",
       "      <td>116</td>\n",
       "    </tr>\n",
       "    <tr>\n",
       "      <th>8360550</th>\n",
       "      <td>2010 - 2020</td>\n",
       "      <td>49</td>\n",
       "    </tr>\n",
       "  </tbody>\n",
       "</table>\n",
       "</div>"
      ],
      "text/plain": [
       "           startYear  runtimeMinutes\n",
       "8359700  2010 - 2020              74\n",
       "8359715  2020 - 2030              96\n",
       "8359937  2010 - 2020              70\n",
       "8360129  2010 - 2020              97\n",
       "8360165  1990 - 2000              96\n",
       "8360218  1990 - 2000             250\n",
       "8360248  1990 - 2000             108\n",
       "8360251  2010 - 2020              94\n",
       "8360265  2010 - 2020              72\n",
       "8360266  1990 - 2000              45\n",
       "8360270  2010 - 2020              51\n",
       "8360277  2010 - 2020              84\n",
       "8360279  2020 - 2030              90\n",
       "8360318  2020 - 2030              84\n",
       "8360363  2020 - 2030              92\n",
       "8360448  2010 - 2020             123\n",
       "8360489  2010 - 2020              57\n",
       "8360516  2000 - 2010             100\n",
       "8360539  2010 - 2020             116\n",
       "8360550  2010 - 2020              49"
      ]
     },
     "execution_count": 41,
     "metadata": {},
     "output_type": "execute_result"
    }
   ],
   "source": [
    "basics_df_average5.tail(20)"
   ]
  },
  {
   "cell_type": "code",
   "execution_count": 21,
   "metadata": {},
   "outputs": [],
   "source": [
    "#basics_df_average6  = pd.DataFrame({'count' : basics_df_average5.groupby(['startYear', 'runtimeMinutes'] ).size()})\n",
    "#basics_df_average6 = basics_df_average5.groupby(['startYear', 'runtimeMinutes']).mean()\n",
    "basics_df_average6 = basics_df_average5.groupby(['startYear']).mean()"
   ]
  },
  {
   "cell_type": "code",
   "execution_count": 22,
   "metadata": {},
   "outputs": [],
   "source": [
    "basics_df_average6.reset_index(inplace=True)"
   ]
  },
  {
   "cell_type": "code",
   "execution_count": 23,
   "metadata": {},
   "outputs": [
    {
     "data": {
      "text/html": [
       "<div>\n",
       "<style scoped>\n",
       "    .dataframe tbody tr th:only-of-type {\n",
       "        vertical-align: middle;\n",
       "    }\n",
       "\n",
       "    .dataframe tbody tr th {\n",
       "        vertical-align: top;\n",
       "    }\n",
       "\n",
       "    .dataframe thead th {\n",
       "        text-align: right;\n",
       "    }\n",
       "</style>\n",
       "<table border=\"1\" class=\"dataframe\">\n",
       "  <thead>\n",
       "    <tr style=\"text-align: right;\">\n",
       "      <th></th>\n",
       "      <th>startYear</th>\n",
       "      <th>runtimeMinutes</th>\n",
       "    </tr>\n",
       "  </thead>\n",
       "  <tbody>\n",
       "    <tr>\n",
       "      <th>0</th>\n",
       "      <td>1890 - 1900</td>\n",
       "      <td>98</td>\n",
       "    </tr>\n",
       "    <tr>\n",
       "      <th>1</th>\n",
       "      <td>1900 - 1910</td>\n",
       "      <td>69</td>\n",
       "    </tr>\n",
       "    <tr>\n",
       "      <th>2</th>\n",
       "      <td>1910 - 1920</td>\n",
       "      <td>64</td>\n",
       "    </tr>\n",
       "    <tr>\n",
       "      <th>3</th>\n",
       "      <td>1920 - 1930</td>\n",
       "      <td>72</td>\n",
       "    </tr>\n",
       "    <tr>\n",
       "      <th>4</th>\n",
       "      <td>1930 - 1940</td>\n",
       "      <td>81</td>\n",
       "    </tr>\n",
       "    <tr>\n",
       "      <th>5</th>\n",
       "      <td>1940 - 1950</td>\n",
       "      <td>86</td>\n",
       "    </tr>\n",
       "    <tr>\n",
       "      <th>6</th>\n",
       "      <td>1950 - 1960</td>\n",
       "      <td>91</td>\n",
       "    </tr>\n",
       "    <tr>\n",
       "      <th>7</th>\n",
       "      <td>1960 - 1970</td>\n",
       "      <td>93</td>\n",
       "    </tr>\n",
       "    <tr>\n",
       "      <th>8</th>\n",
       "      <td>1970 - 1980</td>\n",
       "      <td>90</td>\n",
       "    </tr>\n",
       "    <tr>\n",
       "      <th>9</th>\n",
       "      <td>1980 - 1990</td>\n",
       "      <td>91</td>\n",
       "    </tr>\n",
       "    <tr>\n",
       "      <th>10</th>\n",
       "      <td>1990 - 2000</td>\n",
       "      <td>92</td>\n",
       "    </tr>\n",
       "    <tr>\n",
       "      <th>11</th>\n",
       "      <td>2000 - 2010</td>\n",
       "      <td>89</td>\n",
       "    </tr>\n",
       "    <tr>\n",
       "      <th>12</th>\n",
       "      <td>2010 - 2020</td>\n",
       "      <td>89</td>\n",
       "    </tr>\n",
       "    <tr>\n",
       "      <th>13</th>\n",
       "      <td>2020 - 2030</td>\n",
       "      <td>92</td>\n",
       "    </tr>\n",
       "  </tbody>\n",
       "</table>\n",
       "</div>"
      ],
      "text/plain": [
       "      startYear  runtimeMinutes\n",
       "0   1890 - 1900              98\n",
       "1   1900 - 1910              69\n",
       "2   1910 - 1920              64\n",
       "3   1920 - 1930              72\n",
       "4   1930 - 1940              81\n",
       "5   1940 - 1950              86\n",
       "6   1950 - 1960              91\n",
       "7   1960 - 1970              93\n",
       "8   1970 - 1980              90\n",
       "9   1980 - 1990              91\n",
       "10  1990 - 2000              92\n",
       "11  2000 - 2010              89\n",
       "12  2010 - 2020              89\n",
       "13  2020 - 2030              92"
      ]
     },
     "execution_count": 23,
     "metadata": {},
     "output_type": "execute_result"
    }
   ],
   "source": [
    "basics_df_average7 = basics_df_average6.astype({\"runtimeMinutes\": int})\n",
    "basics_df_average7"
   ]
  },
  {
   "cell_type": "code",
   "execution_count": 26,
   "metadata": {},
   "outputs": [],
   "source": [
    "# # Etape 8 : Sauvegarde du dataframe\n",
    "basics_df_average7.to_csv(r'C:\\Users\\Berenger\\Desktop\\projet abc\\duree_film.csv', index = False, header = True)"
   ]
  },
  {
   "cell_type": "code",
   "execution_count": 51,
   "metadata": {},
   "outputs": [
    {
     "data": {
      "text/html": [
       "<div>\n",
       "<style scoped>\n",
       "    .dataframe tbody tr th:only-of-type {\n",
       "        vertical-align: middle;\n",
       "    }\n",
       "\n",
       "    .dataframe tbody tr th {\n",
       "        vertical-align: top;\n",
       "    }\n",
       "\n",
       "    .dataframe thead th {\n",
       "        text-align: right;\n",
       "    }\n",
       "</style>\n",
       "<table border=\"1\" class=\"dataframe\">\n",
       "  <thead>\n",
       "    <tr style=\"text-align: right;\">\n",
       "      <th></th>\n",
       "      <th>startYear</th>\n",
       "      <th>runtimeMinutes</th>\n",
       "    </tr>\n",
       "  </thead>\n",
       "  <tbody>\n",
       "    <tr>\n",
       "      <th>0</th>\n",
       "      <td>1890 - 1900</td>\n",
       "      <td>98</td>\n",
       "    </tr>\n",
       "    <tr>\n",
       "      <th>1</th>\n",
       "      <td>1900 - 1910</td>\n",
       "      <td>69</td>\n",
       "    </tr>\n",
       "    <tr>\n",
       "      <th>2</th>\n",
       "      <td>1910 - 1920</td>\n",
       "      <td>64</td>\n",
       "    </tr>\n",
       "    <tr>\n",
       "      <th>3</th>\n",
       "      <td>1920 - 1930</td>\n",
       "      <td>72</td>\n",
       "    </tr>\n",
       "    <tr>\n",
       "      <th>4</th>\n",
       "      <td>1930 - 1940</td>\n",
       "      <td>81</td>\n",
       "    </tr>\n",
       "  </tbody>\n",
       "</table>\n",
       "</div>"
      ],
      "text/plain": [
       "     startYear  runtimeMinutes\n",
       "0  1890 - 1900              98\n",
       "1  1900 - 1910              69\n",
       "2  1910 - 1920              64\n",
       "3  1920 - 1930              72\n",
       "4  1930 - 1940              81"
      ]
     },
     "execution_count": 51,
     "metadata": {},
     "output_type": "execute_result"
    }
   ],
   "source": [
    "# # Etape 9 : Chargement du dataframe\n",
    "duree_film = pd.read_csv(r\"C:\\Users\\Berenger\\Desktop\\projet abc\\duree_film.csv\")\n",
    "duree_film.head()"
   ]
  },
  {
   "cell_type": "code",
   "execution_count": 52,
   "metadata": {},
   "outputs": [
    {
     "data": {
      "application/vnd.plotly.v1+json": {
       "config": {
        "plotlyServerURL": "https://plot.ly"
       },
       "data": [
        {
         "hovertemplate": "Périodes=%{x}<br>Minutes=%{y}<extra></extra>",
         "legendgroup": "",
         "line": {
          "color": "#636efa",
          "dash": "solid"
         },
         "marker": {
          "symbol": "circle"
         },
         "mode": "lines+markers",
         "name": "",
         "orientation": "v",
         "showlegend": false,
         "type": "scatter",
         "x": [
          "1890 - 1900",
          "1900 - 1910",
          "1910 - 1920",
          "1920 - 1930",
          "1930 - 1940",
          "1940 - 1950",
          "1950 - 1960",
          "1960 - 1970",
          "1970 - 1980",
          "1980 - 1990",
          "1990 - 2000",
          "2000 - 2010",
          "2010 - 2020",
          "2020 - 2030"
         ],
         "xaxis": "x",
         "y": [
          98,
          69,
          64,
          72,
          81,
          86,
          91,
          93,
          90,
          91,
          92,
          89,
          89,
          92
         ],
         "yaxis": "y"
        }
       ],
       "layout": {
        "legend": {
         "tracegroupgap": 0
        },
        "showlegend": false,
        "template": {
         "data": {
          "bar": [
           {
            "error_x": {
             "color": "#2a3f5f"
            },
            "error_y": {
             "color": "#2a3f5f"
            },
            "marker": {
             "line": {
              "color": "#E5ECF6",
              "width": 0.5
             },
             "pattern": {
              "fillmode": "overlay",
              "size": 10,
              "solidity": 0.2
             }
            },
            "type": "bar"
           }
          ],
          "barpolar": [
           {
            "marker": {
             "line": {
              "color": "#E5ECF6",
              "width": 0.5
             },
             "pattern": {
              "fillmode": "overlay",
              "size": 10,
              "solidity": 0.2
             }
            },
            "type": "barpolar"
           }
          ],
          "carpet": [
           {
            "aaxis": {
             "endlinecolor": "#2a3f5f",
             "gridcolor": "white",
             "linecolor": "white",
             "minorgridcolor": "white",
             "startlinecolor": "#2a3f5f"
            },
            "baxis": {
             "endlinecolor": "#2a3f5f",
             "gridcolor": "white",
             "linecolor": "white",
             "minorgridcolor": "white",
             "startlinecolor": "#2a3f5f"
            },
            "type": "carpet"
           }
          ],
          "choropleth": [
           {
            "colorbar": {
             "outlinewidth": 0,
             "ticks": ""
            },
            "type": "choropleth"
           }
          ],
          "contour": [
           {
            "colorbar": {
             "outlinewidth": 0,
             "ticks": ""
            },
            "colorscale": [
             [
              0,
              "#0d0887"
             ],
             [
              0.1111111111111111,
              "#46039f"
             ],
             [
              0.2222222222222222,
              "#7201a8"
             ],
             [
              0.3333333333333333,
              "#9c179e"
             ],
             [
              0.4444444444444444,
              "#bd3786"
             ],
             [
              0.5555555555555556,
              "#d8576b"
             ],
             [
              0.6666666666666666,
              "#ed7953"
             ],
             [
              0.7777777777777778,
              "#fb9f3a"
             ],
             [
              0.8888888888888888,
              "#fdca26"
             ],
             [
              1,
              "#f0f921"
             ]
            ],
            "type": "contour"
           }
          ],
          "contourcarpet": [
           {
            "colorbar": {
             "outlinewidth": 0,
             "ticks": ""
            },
            "type": "contourcarpet"
           }
          ],
          "heatmap": [
           {
            "colorbar": {
             "outlinewidth": 0,
             "ticks": ""
            },
            "colorscale": [
             [
              0,
              "#0d0887"
             ],
             [
              0.1111111111111111,
              "#46039f"
             ],
             [
              0.2222222222222222,
              "#7201a8"
             ],
             [
              0.3333333333333333,
              "#9c179e"
             ],
             [
              0.4444444444444444,
              "#bd3786"
             ],
             [
              0.5555555555555556,
              "#d8576b"
             ],
             [
              0.6666666666666666,
              "#ed7953"
             ],
             [
              0.7777777777777778,
              "#fb9f3a"
             ],
             [
              0.8888888888888888,
              "#fdca26"
             ],
             [
              1,
              "#f0f921"
             ]
            ],
            "type": "heatmap"
           }
          ],
          "heatmapgl": [
           {
            "colorbar": {
             "outlinewidth": 0,
             "ticks": ""
            },
            "colorscale": [
             [
              0,
              "#0d0887"
             ],
             [
              0.1111111111111111,
              "#46039f"
             ],
             [
              0.2222222222222222,
              "#7201a8"
             ],
             [
              0.3333333333333333,
              "#9c179e"
             ],
             [
              0.4444444444444444,
              "#bd3786"
             ],
             [
              0.5555555555555556,
              "#d8576b"
             ],
             [
              0.6666666666666666,
              "#ed7953"
             ],
             [
              0.7777777777777778,
              "#fb9f3a"
             ],
             [
              0.8888888888888888,
              "#fdca26"
             ],
             [
              1,
              "#f0f921"
             ]
            ],
            "type": "heatmapgl"
           }
          ],
          "histogram": [
           {
            "marker": {
             "pattern": {
              "fillmode": "overlay",
              "size": 10,
              "solidity": 0.2
             }
            },
            "type": "histogram"
           }
          ],
          "histogram2d": [
           {
            "colorbar": {
             "outlinewidth": 0,
             "ticks": ""
            },
            "colorscale": [
             [
              0,
              "#0d0887"
             ],
             [
              0.1111111111111111,
              "#46039f"
             ],
             [
              0.2222222222222222,
              "#7201a8"
             ],
             [
              0.3333333333333333,
              "#9c179e"
             ],
             [
              0.4444444444444444,
              "#bd3786"
             ],
             [
              0.5555555555555556,
              "#d8576b"
             ],
             [
              0.6666666666666666,
              "#ed7953"
             ],
             [
              0.7777777777777778,
              "#fb9f3a"
             ],
             [
              0.8888888888888888,
              "#fdca26"
             ],
             [
              1,
              "#f0f921"
             ]
            ],
            "type": "histogram2d"
           }
          ],
          "histogram2dcontour": [
           {
            "colorbar": {
             "outlinewidth": 0,
             "ticks": ""
            },
            "colorscale": [
             [
              0,
              "#0d0887"
             ],
             [
              0.1111111111111111,
              "#46039f"
             ],
             [
              0.2222222222222222,
              "#7201a8"
             ],
             [
              0.3333333333333333,
              "#9c179e"
             ],
             [
              0.4444444444444444,
              "#bd3786"
             ],
             [
              0.5555555555555556,
              "#d8576b"
             ],
             [
              0.6666666666666666,
              "#ed7953"
             ],
             [
              0.7777777777777778,
              "#fb9f3a"
             ],
             [
              0.8888888888888888,
              "#fdca26"
             ],
             [
              1,
              "#f0f921"
             ]
            ],
            "type": "histogram2dcontour"
           }
          ],
          "mesh3d": [
           {
            "colorbar": {
             "outlinewidth": 0,
             "ticks": ""
            },
            "type": "mesh3d"
           }
          ],
          "parcoords": [
           {
            "line": {
             "colorbar": {
              "outlinewidth": 0,
              "ticks": ""
             }
            },
            "type": "parcoords"
           }
          ],
          "pie": [
           {
            "automargin": true,
            "type": "pie"
           }
          ],
          "scatter": [
           {
            "marker": {
             "colorbar": {
              "outlinewidth": 0,
              "ticks": ""
             }
            },
            "type": "scatter"
           }
          ],
          "scatter3d": [
           {
            "line": {
             "colorbar": {
              "outlinewidth": 0,
              "ticks": ""
             }
            },
            "marker": {
             "colorbar": {
              "outlinewidth": 0,
              "ticks": ""
             }
            },
            "type": "scatter3d"
           }
          ],
          "scattercarpet": [
           {
            "marker": {
             "colorbar": {
              "outlinewidth": 0,
              "ticks": ""
             }
            },
            "type": "scattercarpet"
           }
          ],
          "scattergeo": [
           {
            "marker": {
             "colorbar": {
              "outlinewidth": 0,
              "ticks": ""
             }
            },
            "type": "scattergeo"
           }
          ],
          "scattergl": [
           {
            "marker": {
             "colorbar": {
              "outlinewidth": 0,
              "ticks": ""
             }
            },
            "type": "scattergl"
           }
          ],
          "scattermapbox": [
           {
            "marker": {
             "colorbar": {
              "outlinewidth": 0,
              "ticks": ""
             }
            },
            "type": "scattermapbox"
           }
          ],
          "scatterpolar": [
           {
            "marker": {
             "colorbar": {
              "outlinewidth": 0,
              "ticks": ""
             }
            },
            "type": "scatterpolar"
           }
          ],
          "scatterpolargl": [
           {
            "marker": {
             "colorbar": {
              "outlinewidth": 0,
              "ticks": ""
             }
            },
            "type": "scatterpolargl"
           }
          ],
          "scatterternary": [
           {
            "marker": {
             "colorbar": {
              "outlinewidth": 0,
              "ticks": ""
             }
            },
            "type": "scatterternary"
           }
          ],
          "surface": [
           {
            "colorbar": {
             "outlinewidth": 0,
             "ticks": ""
            },
            "colorscale": [
             [
              0,
              "#0d0887"
             ],
             [
              0.1111111111111111,
              "#46039f"
             ],
             [
              0.2222222222222222,
              "#7201a8"
             ],
             [
              0.3333333333333333,
              "#9c179e"
             ],
             [
              0.4444444444444444,
              "#bd3786"
             ],
             [
              0.5555555555555556,
              "#d8576b"
             ],
             [
              0.6666666666666666,
              "#ed7953"
             ],
             [
              0.7777777777777778,
              "#fb9f3a"
             ],
             [
              0.8888888888888888,
              "#fdca26"
             ],
             [
              1,
              "#f0f921"
             ]
            ],
            "type": "surface"
           }
          ],
          "table": [
           {
            "cells": {
             "fill": {
              "color": "#EBF0F8"
             },
             "line": {
              "color": "white"
             }
            },
            "header": {
             "fill": {
              "color": "#C8D4E3"
             },
             "line": {
              "color": "white"
             }
            },
            "type": "table"
           }
          ]
         },
         "layout": {
          "annotationdefaults": {
           "arrowcolor": "#2a3f5f",
           "arrowhead": 0,
           "arrowwidth": 1
          },
          "autotypenumbers": "strict",
          "coloraxis": {
           "colorbar": {
            "outlinewidth": 0,
            "ticks": ""
           }
          },
          "colorscale": {
           "diverging": [
            [
             0,
             "#8e0152"
            ],
            [
             0.1,
             "#c51b7d"
            ],
            [
             0.2,
             "#de77ae"
            ],
            [
             0.3,
             "#f1b6da"
            ],
            [
             0.4,
             "#fde0ef"
            ],
            [
             0.5,
             "#f7f7f7"
            ],
            [
             0.6,
             "#e6f5d0"
            ],
            [
             0.7,
             "#b8e186"
            ],
            [
             0.8,
             "#7fbc41"
            ],
            [
             0.9,
             "#4d9221"
            ],
            [
             1,
             "#276419"
            ]
           ],
           "sequential": [
            [
             0,
             "#0d0887"
            ],
            [
             0.1111111111111111,
             "#46039f"
            ],
            [
             0.2222222222222222,
             "#7201a8"
            ],
            [
             0.3333333333333333,
             "#9c179e"
            ],
            [
             0.4444444444444444,
             "#bd3786"
            ],
            [
             0.5555555555555556,
             "#d8576b"
            ],
            [
             0.6666666666666666,
             "#ed7953"
            ],
            [
             0.7777777777777778,
             "#fb9f3a"
            ],
            [
             0.8888888888888888,
             "#fdca26"
            ],
            [
             1,
             "#f0f921"
            ]
           ],
           "sequentialminus": [
            [
             0,
             "#0d0887"
            ],
            [
             0.1111111111111111,
             "#46039f"
            ],
            [
             0.2222222222222222,
             "#7201a8"
            ],
            [
             0.3333333333333333,
             "#9c179e"
            ],
            [
             0.4444444444444444,
             "#bd3786"
            ],
            [
             0.5555555555555556,
             "#d8576b"
            ],
            [
             0.6666666666666666,
             "#ed7953"
            ],
            [
             0.7777777777777778,
             "#fb9f3a"
            ],
            [
             0.8888888888888888,
             "#fdca26"
            ],
            [
             1,
             "#f0f921"
            ]
           ]
          },
          "colorway": [
           "#636efa",
           "#EF553B",
           "#00cc96",
           "#ab63fa",
           "#FFA15A",
           "#19d3f3",
           "#FF6692",
           "#B6E880",
           "#FF97FF",
           "#FECB52"
          ],
          "font": {
           "color": "#2a3f5f"
          },
          "geo": {
           "bgcolor": "white",
           "lakecolor": "white",
           "landcolor": "#E5ECF6",
           "showlakes": true,
           "showland": true,
           "subunitcolor": "white"
          },
          "hoverlabel": {
           "align": "left"
          },
          "hovermode": "closest",
          "mapbox": {
           "style": "light"
          },
          "paper_bgcolor": "white",
          "plot_bgcolor": "#E5ECF6",
          "polar": {
           "angularaxis": {
            "gridcolor": "white",
            "linecolor": "white",
            "ticks": ""
           },
           "bgcolor": "#E5ECF6",
           "radialaxis": {
            "gridcolor": "white",
            "linecolor": "white",
            "ticks": ""
           }
          },
          "scene": {
           "xaxis": {
            "backgroundcolor": "#E5ECF6",
            "gridcolor": "white",
            "gridwidth": 2,
            "linecolor": "white",
            "showbackground": true,
            "ticks": "",
            "zerolinecolor": "white"
           },
           "yaxis": {
            "backgroundcolor": "#E5ECF6",
            "gridcolor": "white",
            "gridwidth": 2,
            "linecolor": "white",
            "showbackground": true,
            "ticks": "",
            "zerolinecolor": "white"
           },
           "zaxis": {
            "backgroundcolor": "#E5ECF6",
            "gridcolor": "white",
            "gridwidth": 2,
            "linecolor": "white",
            "showbackground": true,
            "ticks": "",
            "zerolinecolor": "white"
           }
          },
          "shapedefaults": {
           "line": {
            "color": "#2a3f5f"
           }
          },
          "ternary": {
           "aaxis": {
            "gridcolor": "white",
            "linecolor": "white",
            "ticks": ""
           },
           "baxis": {
            "gridcolor": "white",
            "linecolor": "white",
            "ticks": ""
           },
           "bgcolor": "#E5ECF6",
           "caxis": {
            "gridcolor": "white",
            "linecolor": "white",
            "ticks": ""
           }
          },
          "title": {
           "x": 0.05
          },
          "xaxis": {
           "automargin": true,
           "gridcolor": "white",
           "linecolor": "white",
           "ticks": "",
           "title": {
            "standoff": 15
           },
           "zerolinecolor": "white",
           "zerolinewidth": 2
          },
          "yaxis": {
           "automargin": true,
           "gridcolor": "white",
           "linecolor": "white",
           "ticks": "",
           "title": {
            "standoff": 15
           },
           "zerolinecolor": "white",
           "zerolinewidth": 2
          }
         }
        },
        "title": {
         "text": "La durée moyenne des films s'allonge ou se raccourcit avec les années ?",
         "x": 0.5
        },
        "xaxis": {
         "anchor": "y",
         "domain": [
          0,
          1
         ],
         "tickangle": 20,
         "title": {
          "text": "Périodes"
         }
        },
        "yaxis": {
         "anchor": "x",
         "domain": [
          0,
          1
         ],
         "title": {
          "text": "Minutes"
         }
        }
       }
      }
     },
     "metadata": {},
     "output_type": "display_data"
    }
   ],
   "source": [
    "fig = px.line(duree_film, x=\"startYear\", y=\"runtimeMinutes\", \n",
    "title=\"La durée moyenne des films s'allonge ou se raccourcit avec les années ?\",\n",
    "labels = {'startYear': 'Périodes', 'runtimeMinutes': 'Minutes'},\n",
    "markers=True) \n",
    "fig.update_xaxes(tickangle=20)\n",
    "\n",
    "fig.update_layout(showlegend=False, title_x=0.5)"
   ]
  },
  {
   "cell_type": "markdown",
   "metadata": {},
   "source": [
    "# <span style=\"color:orange\">Les acteurs de série sont-ils les mêmes qu’au cinéma ?</span> "
   ]
  },
  {
   "cell_type": "code",
   "execution_count": null,
   "metadata": {},
   "outputs": [],
   "source": [
    "# # Etape 9 : Chargement du dataframe\n",
    "acteurs_occurences = pd.read_csv(r\"C:\\Users\\Berenger\\Desktop\\projet abc\\acteurs_occurences.csv\")"
   ]
  },
  {
   "cell_type": "code",
   "execution_count": 84,
   "metadata": {},
   "outputs": [],
   "source": [
    "# Nettoyage de la Database\n",
    "name_df2 = name_df[[\"nconst\", \"primaryName\"]]\n",
    "# Etape 4 : set index puis merge\n",
    "# Set index on nconst for Database name and Database actors_occurence_df2 to prepare a merge\n",
    "name_df3 = name_df2.set_index('nconst')\n",
    "actors_occurence_df3 = actors_occurence_df2.set_index('nconst')\n",
    "# Merge to link first name with nconst\n",
    "actors_occurence_df4 = pd.merge(name_df3, actors_occurence_df3, how='inner', left_index=True, right_index=True)"
   ]
  },
  {
   "cell_type": "code",
   "execution_count": 89,
   "metadata": {},
   "outputs": [],
   "source": [
    "# Etape 5 : Nettoyage pour retirer les oeuvres très courtes comme les cartoons de quelques minutes pour lesquelles les acteurs font seulement les voix\n",
    "actors_occurence_df5 = actors_occurence_df4[actors_occurence_df4['runtimeMinutes'] != '\\\\N']"
   ]
  },
  {
   "cell_type": "code",
   "execution_count": 90,
   "metadata": {},
   "outputs": [
    {
     "data": {
      "text/html": [
       "<div>\n",
       "<style scoped>\n",
       "    .dataframe tbody tr th:only-of-type {\n",
       "        vertical-align: middle;\n",
       "    }\n",
       "\n",
       "    .dataframe tbody tr th {\n",
       "        vertical-align: top;\n",
       "    }\n",
       "\n",
       "    .dataframe thead th {\n",
       "        text-align: right;\n",
       "    }\n",
       "</style>\n",
       "<table border=\"1\" class=\"dataframe\">\n",
       "  <thead>\n",
       "    <tr style=\"text-align: right;\">\n",
       "      <th></th>\n",
       "      <th>primaryName</th>\n",
       "      <th>titleType</th>\n",
       "      <th>startYear</th>\n",
       "      <th>runtimeMinutes</th>\n",
       "      <th>genres</th>\n",
       "      <th>category</th>\n",
       "      <th>characters</th>\n",
       "    </tr>\n",
       "    <tr>\n",
       "      <th>nconst</th>\n",
       "      <th></th>\n",
       "      <th></th>\n",
       "      <th></th>\n",
       "      <th></th>\n",
       "      <th></th>\n",
       "      <th></th>\n",
       "      <th></th>\n",
       "    </tr>\n",
       "  </thead>\n",
       "  <tbody>\n",
       "    <tr>\n",
       "      <th>nm0000001</th>\n",
       "      <td>Fred Astaire</td>\n",
       "      <td>tvSeries</td>\n",
       "      <td>1968</td>\n",
       "      <td>51</td>\n",
       "      <td>Action,Adventure,Crime</td>\n",
       "      <td>actor</td>\n",
       "      <td>[\"Alistair Mundy\",\"The Panther\"]</td>\n",
       "    </tr>\n",
       "    <tr>\n",
       "      <th>nm0000001</th>\n",
       "      <td>Fred Astaire</td>\n",
       "      <td>tvEpisode</td>\n",
       "      <td>1962</td>\n",
       "      <td>60</td>\n",
       "      <td>Drama</td>\n",
       "      <td>actor</td>\n",
       "      <td>[\"Ted Miller\"]</td>\n",
       "    </tr>\n",
       "    <tr>\n",
       "      <th>nm0000001</th>\n",
       "      <td>Fred Astaire</td>\n",
       "      <td>tvEpisode</td>\n",
       "      <td>1962</td>\n",
       "      <td>60</td>\n",
       "      <td>Drama</td>\n",
       "      <td>actor</td>\n",
       "      <td>[\"Ivor St. George\"]</td>\n",
       "    </tr>\n",
       "    <tr>\n",
       "      <th>nm0000001</th>\n",
       "      <td>Fred Astaire</td>\n",
       "      <td>tvEpisode</td>\n",
       "      <td>1962</td>\n",
       "      <td>60</td>\n",
       "      <td>Drama</td>\n",
       "      <td>actor</td>\n",
       "      <td>[\"Andrew E. Whitbeck\"]</td>\n",
       "    </tr>\n",
       "    <tr>\n",
       "      <th>nm0000001</th>\n",
       "      <td>Fred Astaire</td>\n",
       "      <td>tvEpisode</td>\n",
       "      <td>1964</td>\n",
       "      <td>60</td>\n",
       "      <td>Adventure,Comedy,Crime</td>\n",
       "      <td>actor</td>\n",
       "      <td>[\"Fred Addams\"]</td>\n",
       "    </tr>\n",
       "    <tr>\n",
       "      <th>...</th>\n",
       "      <td>...</td>\n",
       "      <td>...</td>\n",
       "      <td>...</td>\n",
       "      <td>...</td>\n",
       "      <td>...</td>\n",
       "      <td>...</td>\n",
       "      <td>...</td>\n",
       "    </tr>\n",
       "    <tr>\n",
       "      <th>nm9993408</th>\n",
       "      <td>Mark Case</td>\n",
       "      <td>tvEpisode</td>\n",
       "      <td>1976</td>\n",
       "      <td>25</td>\n",
       "      <td>Drama,Family</td>\n",
       "      <td>actor</td>\n",
       "      <td>[\"Peter\"]</td>\n",
       "    </tr>\n",
       "    <tr>\n",
       "      <th>nm9993409</th>\n",
       "      <td>Tamsin Mitchell</td>\n",
       "      <td>tvEpisode</td>\n",
       "      <td>1976</td>\n",
       "      <td>25</td>\n",
       "      <td>Drama,Family</td>\n",
       "      <td>actress</td>\n",
       "      <td>[\"Wendy Carveth\"]</td>\n",
       "    </tr>\n",
       "    <tr>\n",
       "      <th>nm9993447</th>\n",
       "      <td>Ruxandra Colhon</td>\n",
       "      <td>tvSeries</td>\n",
       "      <td>2013</td>\n",
       "      <td>30</td>\n",
       "      <td>Talk-Show</td>\n",
       "      <td>actor</td>\n",
       "      <td>[\"Host\"]</td>\n",
       "    </tr>\n",
       "    <tr>\n",
       "      <th>nm9993636</th>\n",
       "      <td>Adam French</td>\n",
       "      <td>tvSeries</td>\n",
       "      <td>\\N</td>\n",
       "      <td>60</td>\n",
       "      <td>Drama</td>\n",
       "      <td>actor</td>\n",
       "      <td>[\"Danny Boy\"]</td>\n",
       "    </tr>\n",
       "    <tr>\n",
       "      <th>nm9993636</th>\n",
       "      <td>Adam French</td>\n",
       "      <td>tvSeries</td>\n",
       "      <td>2019</td>\n",
       "      <td>30</td>\n",
       "      <td>Comedy</td>\n",
       "      <td>actor</td>\n",
       "      <td>[\"Various Characters\"]</td>\n",
       "    </tr>\n",
       "  </tbody>\n",
       "</table>\n",
       "<p>2910863 rows × 7 columns</p>\n",
       "</div>"
      ],
      "text/plain": [
       "               primaryName  titleType startYear runtimeMinutes  \\\n",
       "nconst                                                           \n",
       "nm0000001     Fred Astaire   tvSeries      1968             51   \n",
       "nm0000001     Fred Astaire  tvEpisode      1962             60   \n",
       "nm0000001     Fred Astaire  tvEpisode      1962             60   \n",
       "nm0000001     Fred Astaire  tvEpisode      1962             60   \n",
       "nm0000001     Fred Astaire  tvEpisode      1964             60   \n",
       "...                    ...        ...       ...            ...   \n",
       "nm9993408        Mark Case  tvEpisode      1976             25   \n",
       "nm9993409  Tamsin Mitchell  tvEpisode      1976             25   \n",
       "nm9993447  Ruxandra Colhon   tvSeries      2013             30   \n",
       "nm9993636      Adam French   tvSeries        \\N             60   \n",
       "nm9993636      Adam French   tvSeries      2019             30   \n",
       "\n",
       "                           genres category                        characters  \n",
       "nconst                                                                        \n",
       "nm0000001  Action,Adventure,Crime    actor  [\"Alistair Mundy\",\"The Panther\"]  \n",
       "nm0000001                   Drama    actor                    [\"Ted Miller\"]  \n",
       "nm0000001                   Drama    actor               [\"Ivor St. George\"]  \n",
       "nm0000001                   Drama    actor            [\"Andrew E. Whitbeck\"]  \n",
       "nm0000001  Adventure,Comedy,Crime    actor                   [\"Fred Addams\"]  \n",
       "...                           ...      ...                               ...  \n",
       "nm9993408            Drama,Family    actor                         [\"Peter\"]  \n",
       "nm9993409            Drama,Family  actress                 [\"Wendy Carveth\"]  \n",
       "nm9993447               Talk-Show    actor                          [\"Host\"]  \n",
       "nm9993636                   Drama    actor                     [\"Danny Boy\"]  \n",
       "nm9993636                  Comedy    actor            [\"Various Characters\"]  \n",
       "\n",
       "[2910863 rows x 7 columns]"
      ]
     },
     "execution_count": 90,
     "metadata": {},
     "output_type": "execute_result"
    }
   ],
   "source": [
    "actors_occurence_df5"
   ]
  },
  {
   "cell_type": "code",
   "execution_count": 91,
   "metadata": {},
   "outputs": [],
   "source": [
    "# Etape 6 : Value_counts pour trouver les acteurs les plus présents\n",
    "actors_occurence_df8 = actors_occurence_df5['primaryName'].value_counts()\n",
    "actors_occurence_df9 = actors_occurence_df8.head(20)"
   ]
  },
  {
   "cell_type": "code",
   "execution_count": 92,
   "metadata": {},
   "outputs": [],
   "source": [
    "# Etape 7 : transformation d'une série en dataframe puis reset de l'index\n",
    "actors_occurence_df10 = pd.DataFrame(actors_occurence_df9)\n",
    "actors_occurence_df10.reset_index(inplace=True)"
   ]
  },
  {
   "cell_type": "code",
   "execution_count": 94,
   "metadata": {},
   "outputs": [],
   "source": [
    "# Etape 8 : Sauvegarde du dataframe\n",
    "actors_occurence_df10.to_csv(r'C:\\Users\\Berenger\\Desktop\\projet abc\\presence_acteurs_series.csv', index = False, header = True)"
   ]
  },
  {
   "cell_type": "code",
   "execution_count": 96,
   "metadata": {},
   "outputs": [
    {
     "data": {
      "text/html": [
       "<div>\n",
       "<style scoped>\n",
       "    .dataframe tbody tr th:only-of-type {\n",
       "        vertical-align: middle;\n",
       "    }\n",
       "\n",
       "    .dataframe tbody tr th {\n",
       "        vertical-align: top;\n",
       "    }\n",
       "\n",
       "    .dataframe thead th {\n",
       "        text-align: right;\n",
       "    }\n",
       "</style>\n",
       "<table border=\"1\" class=\"dataframe\">\n",
       "  <thead>\n",
       "    <tr style=\"text-align: right;\">\n",
       "      <th></th>\n",
       "      <th>index</th>\n",
       "      <th>primaryName</th>\n",
       "    </tr>\n",
       "  </thead>\n",
       "  <tbody>\n",
       "    <tr>\n",
       "      <th>0</th>\n",
       "      <td>Ray Meagher</td>\n",
       "      <td>3373</td>\n",
       "    </tr>\n",
       "    <tr>\n",
       "      <th>1</th>\n",
       "      <td>Jacqueline Andere</td>\n",
       "      <td>2241</td>\n",
       "    </tr>\n",
       "    <tr>\n",
       "      <th>2</th>\n",
       "      <td>Héctor Bonilla</td>\n",
       "      <td>2055</td>\n",
       "    </tr>\n",
       "    <tr>\n",
       "      <th>3</th>\n",
       "      <td>Kaneta Kimotsuki</td>\n",
       "      <td>1946</td>\n",
       "    </tr>\n",
       "    <tr>\n",
       "      <th>4</th>\n",
       "      <td>Lynne McGranger</td>\n",
       "      <td>1921</td>\n",
       "    </tr>\n",
       "    <tr>\n",
       "      <th>5</th>\n",
       "      <td>Edith González</td>\n",
       "      <td>1901</td>\n",
       "    </tr>\n",
       "    <tr>\n",
       "      <th>6</th>\n",
       "      <td>César Évora</td>\n",
       "      <td>1895</td>\n",
       "    </tr>\n",
       "    <tr>\n",
       "      <th>7</th>\n",
       "      <td>Arturo Peniche</td>\n",
       "      <td>1870</td>\n",
       "    </tr>\n",
       "    <tr>\n",
       "      <th>8</th>\n",
       "      <td>Noriko Ohara</td>\n",
       "      <td>1845</td>\n",
       "    </tr>\n",
       "    <tr>\n",
       "      <th>9</th>\n",
       "      <td>Nobuyo Ôyama</td>\n",
       "      <td>1807</td>\n",
       "    </tr>\n",
       "    <tr>\n",
       "      <th>10</th>\n",
       "      <td>Kazuya Tatekabe</td>\n",
       "      <td>1803</td>\n",
       "    </tr>\n",
       "    <tr>\n",
       "      <th>11</th>\n",
       "      <td>Michiko Nomura</td>\n",
       "      <td>1803</td>\n",
       "    </tr>\n",
       "    <tr>\n",
       "      <th>12</th>\n",
       "      <td>Meizhen Chen</td>\n",
       "      <td>1795</td>\n",
       "    </tr>\n",
       "    <tr>\n",
       "      <th>13</th>\n",
       "      <td>Humberto Zurita</td>\n",
       "      <td>1787</td>\n",
       "    </tr>\n",
       "    <tr>\n",
       "      <th>14</th>\n",
       "      <td>Angélica Aragón</td>\n",
       "      <td>1744</td>\n",
       "    </tr>\n",
       "    <tr>\n",
       "      <th>15</th>\n",
       "      <td>Dee Bradley Baker</td>\n",
       "      <td>1699</td>\n",
       "    </tr>\n",
       "    <tr>\n",
       "      <th>16</th>\n",
       "      <td>Lucía Méndez</td>\n",
       "      <td>1671</td>\n",
       "    </tr>\n",
       "    <tr>\n",
       "      <th>17</th>\n",
       "      <td>Andromeda Dunker</td>\n",
       "      <td>1661</td>\n",
       "    </tr>\n",
       "    <tr>\n",
       "      <th>18</th>\n",
       "      <td>Erika Buenfil</td>\n",
       "      <td>1638</td>\n",
       "    </tr>\n",
       "    <tr>\n",
       "      <th>19</th>\n",
       "      <td>Macdonald Carey</td>\n",
       "      <td>1604</td>\n",
       "    </tr>\n",
       "  </tbody>\n",
       "</table>\n",
       "</div>"
      ],
      "text/plain": [
       "                index  primaryName\n",
       "0         Ray Meagher         3373\n",
       "1   Jacqueline Andere         2241\n",
       "2      Héctor Bonilla         2055\n",
       "3    Kaneta Kimotsuki         1946\n",
       "4     Lynne McGranger         1921\n",
       "5      Edith González         1901\n",
       "6         César Évora         1895\n",
       "7      Arturo Peniche         1870\n",
       "8        Noriko Ohara         1845\n",
       "9        Nobuyo Ôyama         1807\n",
       "10    Kazuya Tatekabe         1803\n",
       "11     Michiko Nomura         1803\n",
       "12       Meizhen Chen         1795\n",
       "13    Humberto Zurita         1787\n",
       "14    Angélica Aragón         1744\n",
       "15  Dee Bradley Baker         1699\n",
       "16       Lucía Méndez         1671\n",
       "17   Andromeda Dunker         1661\n",
       "18      Erika Buenfil         1638\n",
       "19    Macdonald Carey         1604"
      ]
     },
     "execution_count": 96,
     "metadata": {},
     "output_type": "execute_result"
    }
   ],
   "source": [
    "# Etape 9 : Chargement du dataframe\n",
    "presence_acteurs_series = pd.read_csv(r\"C:\\Users\\Berenger\\Desktop\\projet abc\\presence_acteurs_series.csv\")\n",
    "presence_acteurs_series.head(20)"
   ]
  },
  {
   "cell_type": "code",
   "execution_count": 107,
   "metadata": {},
   "outputs": [
    {
     "data": {
      "text/html": [
       "<div>\n",
       "<style scoped>\n",
       "    .dataframe tbody tr th:only-of-type {\n",
       "        vertical-align: middle;\n",
       "    }\n",
       "\n",
       "    .dataframe tbody tr th {\n",
       "        vertical-align: top;\n",
       "    }\n",
       "\n",
       "    .dataframe thead th {\n",
       "        text-align: right;\n",
       "    }\n",
       "</style>\n",
       "<table border=\"1\" class=\"dataframe\">\n",
       "  <thead>\n",
       "    <tr style=\"text-align: right;\">\n",
       "      <th></th>\n",
       "      <th>acteurSeries</th>\n",
       "      <th>apparitionSeries</th>\n",
       "    </tr>\n",
       "  </thead>\n",
       "  <tbody>\n",
       "    <tr>\n",
       "      <th>0</th>\n",
       "      <td>Ray Meagher</td>\n",
       "      <td>3373</td>\n",
       "    </tr>\n",
       "    <tr>\n",
       "      <th>1</th>\n",
       "      <td>Jacqueline Andere</td>\n",
       "      <td>2241</td>\n",
       "    </tr>\n",
       "    <tr>\n",
       "      <th>2</th>\n",
       "      <td>Héctor Bonilla</td>\n",
       "      <td>2055</td>\n",
       "    </tr>\n",
       "    <tr>\n",
       "      <th>3</th>\n",
       "      <td>Kaneta Kimotsuki</td>\n",
       "      <td>1946</td>\n",
       "    </tr>\n",
       "    <tr>\n",
       "      <th>4</th>\n",
       "      <td>Lynne McGranger</td>\n",
       "      <td>1921</td>\n",
       "    </tr>\n",
       "    <tr>\n",
       "      <th>5</th>\n",
       "      <td>Edith González</td>\n",
       "      <td>1901</td>\n",
       "    </tr>\n",
       "    <tr>\n",
       "      <th>6</th>\n",
       "      <td>César Évora</td>\n",
       "      <td>1895</td>\n",
       "    </tr>\n",
       "    <tr>\n",
       "      <th>7</th>\n",
       "      <td>Arturo Peniche</td>\n",
       "      <td>1870</td>\n",
       "    </tr>\n",
       "    <tr>\n",
       "      <th>8</th>\n",
       "      <td>Noriko Ohara</td>\n",
       "      <td>1845</td>\n",
       "    </tr>\n",
       "    <tr>\n",
       "      <th>9</th>\n",
       "      <td>Nobuyo Ôyama</td>\n",
       "      <td>1807</td>\n",
       "    </tr>\n",
       "    <tr>\n",
       "      <th>10</th>\n",
       "      <td>Kazuya Tatekabe</td>\n",
       "      <td>1803</td>\n",
       "    </tr>\n",
       "    <tr>\n",
       "      <th>11</th>\n",
       "      <td>Michiko Nomura</td>\n",
       "      <td>1803</td>\n",
       "    </tr>\n",
       "    <tr>\n",
       "      <th>12</th>\n",
       "      <td>Meizhen Chen</td>\n",
       "      <td>1795</td>\n",
       "    </tr>\n",
       "    <tr>\n",
       "      <th>13</th>\n",
       "      <td>Humberto Zurita</td>\n",
       "      <td>1787</td>\n",
       "    </tr>\n",
       "    <tr>\n",
       "      <th>14</th>\n",
       "      <td>Angélica Aragón</td>\n",
       "      <td>1744</td>\n",
       "    </tr>\n",
       "    <tr>\n",
       "      <th>15</th>\n",
       "      <td>Dee Bradley Baker</td>\n",
       "      <td>1699</td>\n",
       "    </tr>\n",
       "    <tr>\n",
       "      <th>16</th>\n",
       "      <td>Lucía Méndez</td>\n",
       "      <td>1671</td>\n",
       "    </tr>\n",
       "    <tr>\n",
       "      <th>17</th>\n",
       "      <td>Andromeda Dunker</td>\n",
       "      <td>1661</td>\n",
       "    </tr>\n",
       "    <tr>\n",
       "      <th>18</th>\n",
       "      <td>Erika Buenfil</td>\n",
       "      <td>1638</td>\n",
       "    </tr>\n",
       "    <tr>\n",
       "      <th>19</th>\n",
       "      <td>Macdonald Carey</td>\n",
       "      <td>1604</td>\n",
       "    </tr>\n",
       "  </tbody>\n",
       "</table>\n",
       "</div>"
      ],
      "text/plain": [
       "         acteurSeries  apparitionSeries\n",
       "0         Ray Meagher              3373\n",
       "1   Jacqueline Andere              2241\n",
       "2      Héctor Bonilla              2055\n",
       "3    Kaneta Kimotsuki              1946\n",
       "4     Lynne McGranger              1921\n",
       "5      Edith González              1901\n",
       "6         César Évora              1895\n",
       "7      Arturo Peniche              1870\n",
       "8        Noriko Ohara              1845\n",
       "9        Nobuyo Ôyama              1807\n",
       "10    Kazuya Tatekabe              1803\n",
       "11     Michiko Nomura              1803\n",
       "12       Meizhen Chen              1795\n",
       "13    Humberto Zurita              1787\n",
       "14    Angélica Aragón              1744\n",
       "15  Dee Bradley Baker              1699\n",
       "16       Lucía Méndez              1671\n",
       "17   Andromeda Dunker              1661\n",
       "18      Erika Buenfil              1638\n",
       "19    Macdonald Carey              1604"
      ]
     },
     "execution_count": 107,
     "metadata": {},
     "output_type": "execute_result"
    }
   ],
   "source": [
    "presence_acteurs_series.rename(columns={'index': 'acteurSeries', 'primaryName': 'nombreApparition'}, inplace=True)\n",
    "presence_acteurs_series.head(20)"
   ]
  },
  {
   "cell_type": "code",
   "execution_count": 108,
   "metadata": {},
   "outputs": [
    {
     "data": {
      "text/html": [
       "<div>\n",
       "<style scoped>\n",
       "    .dataframe tbody tr th:only-of-type {\n",
       "        vertical-align: middle;\n",
       "    }\n",
       "\n",
       "    .dataframe tbody tr th {\n",
       "        vertical-align: top;\n",
       "    }\n",
       "\n",
       "    .dataframe thead th {\n",
       "        text-align: right;\n",
       "    }\n",
       "</style>\n",
       "<table border=\"1\" class=\"dataframe\">\n",
       "  <thead>\n",
       "    <tr style=\"text-align: right;\">\n",
       "      <th></th>\n",
       "      <th>acteurFilms</th>\n",
       "      <th>nombreApparition</th>\n",
       "    </tr>\n",
       "  </thead>\n",
       "  <tbody>\n",
       "    <tr>\n",
       "      <th>0</th>\n",
       "      <td>Mohanlal</td>\n",
       "      <td>236</td>\n",
       "    </tr>\n",
       "    <tr>\n",
       "      <th>1</th>\n",
       "      <td>Eric Roberts</td>\n",
       "      <td>227</td>\n",
       "    </tr>\n",
       "    <tr>\n",
       "      <th>2</th>\n",
       "      <td>Mammootty</td>\n",
       "      <td>224</td>\n",
       "    </tr>\n",
       "    <tr>\n",
       "      <th>3</th>\n",
       "      <td>Cüneyt Arkin</td>\n",
       "      <td>219</td>\n",
       "    </tr>\n",
       "    <tr>\n",
       "      <th>4</th>\n",
       "      <td>Raymond Hatton</td>\n",
       "      <td>202</td>\n",
       "    </tr>\n",
       "    <tr>\n",
       "      <th>5</th>\n",
       "      <td>Mithun Chakraborty</td>\n",
       "      <td>178</td>\n",
       "    </tr>\n",
       "    <tr>\n",
       "      <th>6</th>\n",
       "      <td>Seiji Nakamitsu</td>\n",
       "      <td>159</td>\n",
       "    </tr>\n",
       "    <tr>\n",
       "      <th>7</th>\n",
       "      <td>Amitabh Bachchan</td>\n",
       "      <td>158</td>\n",
       "    </tr>\n",
       "    <tr>\n",
       "      <th>8</th>\n",
       "      <td>Charles Starrett</td>\n",
       "      <td>157</td>\n",
       "    </tr>\n",
       "    <tr>\n",
       "      <th>9</th>\n",
       "      <td>Dharmendra</td>\n",
       "      <td>150</td>\n",
       "    </tr>\n",
       "    <tr>\n",
       "      <th>10</th>\n",
       "      <td>Johnny Mack Brown</td>\n",
       "      <td>150</td>\n",
       "    </tr>\n",
       "    <tr>\n",
       "      <th>11</th>\n",
       "      <td>Gérard Depardieu</td>\n",
       "      <td>148</td>\n",
       "    </tr>\n",
       "    <tr>\n",
       "      <th>12</th>\n",
       "      <td>Jack Holt</td>\n",
       "      <td>146</td>\n",
       "    </tr>\n",
       "    <tr>\n",
       "      <th>13</th>\n",
       "      <td>Jamie Gillis</td>\n",
       "      <td>145</td>\n",
       "    </tr>\n",
       "    <tr>\n",
       "      <th>14</th>\n",
       "      <td>Buck Jones</td>\n",
       "      <td>143</td>\n",
       "    </tr>\n",
       "    <tr>\n",
       "      <th>15</th>\n",
       "      <td>Ashok Kumar</td>\n",
       "      <td>142</td>\n",
       "    </tr>\n",
       "    <tr>\n",
       "      <th>16</th>\n",
       "      <td>Anupam Kher</td>\n",
       "      <td>141</td>\n",
       "    </tr>\n",
       "    <tr>\n",
       "      <th>17</th>\n",
       "      <td>John Wayne</td>\n",
       "      <td>140</td>\n",
       "    </tr>\n",
       "    <tr>\n",
       "      <th>18</th>\n",
       "      <td>Michael Madsen</td>\n",
       "      <td>138</td>\n",
       "    </tr>\n",
       "    <tr>\n",
       "      <th>19</th>\n",
       "      <td>Kamal Haasan</td>\n",
       "      <td>131</td>\n",
       "    </tr>\n",
       "  </tbody>\n",
       "</table>\n",
       "</div>"
      ],
      "text/plain": [
       "           acteurFilms  nombreApparition\n",
       "0             Mohanlal               236\n",
       "1         Eric Roberts               227\n",
       "2            Mammootty               224\n",
       "3         Cüneyt Arkin               219\n",
       "4       Raymond Hatton               202\n",
       "5   Mithun Chakraborty               178\n",
       "6      Seiji Nakamitsu               159\n",
       "7     Amitabh Bachchan               158\n",
       "8     Charles Starrett               157\n",
       "9           Dharmendra               150\n",
       "10   Johnny Mack Brown               150\n",
       "11    Gérard Depardieu               148\n",
       "12           Jack Holt               146\n",
       "13        Jamie Gillis               145\n",
       "14          Buck Jones               143\n",
       "15         Ashok Kumar               142\n",
       "16         Anupam Kher               141\n",
       "17          John Wayne               140\n",
       "18      Michael Madsen               138\n",
       "19        Kamal Haasan               131"
      ]
     },
     "execution_count": 108,
     "metadata": {},
     "output_type": "execute_result"
    }
   ],
   "source": [
    "presence_acteur.rename(columns={'acteurSeries': 'acteurFilms', 'apparitionSeries': 'nombreApparition'}, inplace=True)\n",
    "presence_acteur.head(20)"
   ]
  },
  {
   "cell_type": "code",
   "execution_count": 111,
   "metadata": {},
   "outputs": [],
   "source": [
    "presence_acteur[\"acteurSeries\"] = presence_acteurs_series[\"acteurSeries\"]\n",
    "presence_acteur[\"apparitionSeries\"] = presence_acteurs_series[\"apparitionSeries\"]\n",
    "presence_acteur_film_series = presence_acteur"
   ]
  },
  {
   "cell_type": "code",
   "execution_count": null,
   "metadata": {},
   "outputs": [],
   "source": [
    "presence_acteur_film_series"
   ]
  },
  {
   "cell_type": "code",
   "execution_count": 112,
   "metadata": {},
   "outputs": [],
   "source": [
    "# Etape 8 : Sauvegarde du dataframe\n",
    "presence_acteur_film_series.to_csv(r'C:\\Users\\Berenger\\Desktop\\projet abc\\presence_acteur_film_series.csv', index = False, header = True)"
   ]
  },
  {
   "cell_type": "code",
   "execution_count": 113,
   "metadata": {},
   "outputs": [
    {
     "data": {
      "text/html": [
       "<div>\n",
       "<style scoped>\n",
       "    .dataframe tbody tr th:only-of-type {\n",
       "        vertical-align: middle;\n",
       "    }\n",
       "\n",
       "    .dataframe tbody tr th {\n",
       "        vertical-align: top;\n",
       "    }\n",
       "\n",
       "    .dataframe thead th {\n",
       "        text-align: right;\n",
       "    }\n",
       "</style>\n",
       "<table border=\"1\" class=\"dataframe\">\n",
       "  <thead>\n",
       "    <tr style=\"text-align: right;\">\n",
       "      <th></th>\n",
       "      <th>acteurFilms</th>\n",
       "      <th>nombreApparition</th>\n",
       "      <th>acteurSeries</th>\n",
       "      <th>apparitionSeries</th>\n",
       "    </tr>\n",
       "  </thead>\n",
       "  <tbody>\n",
       "    <tr>\n",
       "      <th>0</th>\n",
       "      <td>Mohanlal</td>\n",
       "      <td>236</td>\n",
       "      <td>Ray Meagher</td>\n",
       "      <td>3373</td>\n",
       "    </tr>\n",
       "    <tr>\n",
       "      <th>1</th>\n",
       "      <td>Eric Roberts</td>\n",
       "      <td>227</td>\n",
       "      <td>Jacqueline Andere</td>\n",
       "      <td>2241</td>\n",
       "    </tr>\n",
       "    <tr>\n",
       "      <th>2</th>\n",
       "      <td>Mammootty</td>\n",
       "      <td>224</td>\n",
       "      <td>Héctor Bonilla</td>\n",
       "      <td>2055</td>\n",
       "    </tr>\n",
       "    <tr>\n",
       "      <th>3</th>\n",
       "      <td>Cüneyt Arkin</td>\n",
       "      <td>219</td>\n",
       "      <td>Kaneta Kimotsuki</td>\n",
       "      <td>1946</td>\n",
       "    </tr>\n",
       "    <tr>\n",
       "      <th>4</th>\n",
       "      <td>Raymond Hatton</td>\n",
       "      <td>202</td>\n",
       "      <td>Lynne McGranger</td>\n",
       "      <td>1921</td>\n",
       "    </tr>\n",
       "    <tr>\n",
       "      <th>5</th>\n",
       "      <td>Mithun Chakraborty</td>\n",
       "      <td>178</td>\n",
       "      <td>Edith González</td>\n",
       "      <td>1901</td>\n",
       "    </tr>\n",
       "    <tr>\n",
       "      <th>6</th>\n",
       "      <td>Seiji Nakamitsu</td>\n",
       "      <td>159</td>\n",
       "      <td>César Évora</td>\n",
       "      <td>1895</td>\n",
       "    </tr>\n",
       "    <tr>\n",
       "      <th>7</th>\n",
       "      <td>Amitabh Bachchan</td>\n",
       "      <td>158</td>\n",
       "      <td>Arturo Peniche</td>\n",
       "      <td>1870</td>\n",
       "    </tr>\n",
       "    <tr>\n",
       "      <th>8</th>\n",
       "      <td>Charles Starrett</td>\n",
       "      <td>157</td>\n",
       "      <td>Noriko Ohara</td>\n",
       "      <td>1845</td>\n",
       "    </tr>\n",
       "    <tr>\n",
       "      <th>9</th>\n",
       "      <td>Dharmendra</td>\n",
       "      <td>150</td>\n",
       "      <td>Nobuyo Ôyama</td>\n",
       "      <td>1807</td>\n",
       "    </tr>\n",
       "    <tr>\n",
       "      <th>10</th>\n",
       "      <td>Johnny Mack Brown</td>\n",
       "      <td>150</td>\n",
       "      <td>Kazuya Tatekabe</td>\n",
       "      <td>1803</td>\n",
       "    </tr>\n",
       "    <tr>\n",
       "      <th>11</th>\n",
       "      <td>Gérard Depardieu</td>\n",
       "      <td>148</td>\n",
       "      <td>Michiko Nomura</td>\n",
       "      <td>1803</td>\n",
       "    </tr>\n",
       "    <tr>\n",
       "      <th>12</th>\n",
       "      <td>Jack Holt</td>\n",
       "      <td>146</td>\n",
       "      <td>Meizhen Chen</td>\n",
       "      <td>1795</td>\n",
       "    </tr>\n",
       "    <tr>\n",
       "      <th>13</th>\n",
       "      <td>Jamie Gillis</td>\n",
       "      <td>145</td>\n",
       "      <td>Humberto Zurita</td>\n",
       "      <td>1787</td>\n",
       "    </tr>\n",
       "    <tr>\n",
       "      <th>14</th>\n",
       "      <td>Buck Jones</td>\n",
       "      <td>143</td>\n",
       "      <td>Angélica Aragón</td>\n",
       "      <td>1744</td>\n",
       "    </tr>\n",
       "    <tr>\n",
       "      <th>15</th>\n",
       "      <td>Ashok Kumar</td>\n",
       "      <td>142</td>\n",
       "      <td>Dee Bradley Baker</td>\n",
       "      <td>1699</td>\n",
       "    </tr>\n",
       "    <tr>\n",
       "      <th>16</th>\n",
       "      <td>Anupam Kher</td>\n",
       "      <td>141</td>\n",
       "      <td>Lucía Méndez</td>\n",
       "      <td>1671</td>\n",
       "    </tr>\n",
       "    <tr>\n",
       "      <th>17</th>\n",
       "      <td>John Wayne</td>\n",
       "      <td>140</td>\n",
       "      <td>Andromeda Dunker</td>\n",
       "      <td>1661</td>\n",
       "    </tr>\n",
       "    <tr>\n",
       "      <th>18</th>\n",
       "      <td>Michael Madsen</td>\n",
       "      <td>138</td>\n",
       "      <td>Erika Buenfil</td>\n",
       "      <td>1638</td>\n",
       "    </tr>\n",
       "    <tr>\n",
       "      <th>19</th>\n",
       "      <td>Kamal Haasan</td>\n",
       "      <td>131</td>\n",
       "      <td>Macdonald Carey</td>\n",
       "      <td>1604</td>\n",
       "    </tr>\n",
       "  </tbody>\n",
       "</table>\n",
       "</div>"
      ],
      "text/plain": [
       "           acteurFilms  nombreApparition       acteurSeries  apparitionSeries\n",
       "0             Mohanlal               236        Ray Meagher              3373\n",
       "1         Eric Roberts               227  Jacqueline Andere              2241\n",
       "2            Mammootty               224     Héctor Bonilla              2055\n",
       "3         Cüneyt Arkin               219   Kaneta Kimotsuki              1946\n",
       "4       Raymond Hatton               202    Lynne McGranger              1921\n",
       "5   Mithun Chakraborty               178     Edith González              1901\n",
       "6      Seiji Nakamitsu               159        César Évora              1895\n",
       "7     Amitabh Bachchan               158     Arturo Peniche              1870\n",
       "8     Charles Starrett               157       Noriko Ohara              1845\n",
       "9           Dharmendra               150       Nobuyo Ôyama              1807\n",
       "10   Johnny Mack Brown               150    Kazuya Tatekabe              1803\n",
       "11    Gérard Depardieu               148     Michiko Nomura              1803\n",
       "12           Jack Holt               146       Meizhen Chen              1795\n",
       "13        Jamie Gillis               145    Humberto Zurita              1787\n",
       "14          Buck Jones               143    Angélica Aragón              1744\n",
       "15         Ashok Kumar               142  Dee Bradley Baker              1699\n",
       "16         Anupam Kher               141       Lucía Méndez              1671\n",
       "17          John Wayne               140   Andromeda Dunker              1661\n",
       "18      Michael Madsen               138      Erika Buenfil              1638\n",
       "19        Kamal Haasan               131    Macdonald Carey              1604"
      ]
     },
     "execution_count": 113,
     "metadata": {},
     "output_type": "execute_result"
    }
   ],
   "source": [
    "presence_acteur_film_series = pd.read_csv(r\"C:\\Users\\Berenger\\Desktop\\projet abc\\presence_acteur_film_series.csv\")\n",
    "presence_acteur_film_series.head(20)"
   ]
  },
  {
   "cell_type": "markdown",
   "metadata": {},
   "source": [
    "# <span style=\"color:orange\">Les acteurs ont en moyenne quel âge ?</span> "
   ]
  },
  {
   "cell_type": "code",
   "execution_count": null,
   "metadata": {},
   "outputs": [],
   "source": [
    "# étape 1 : nettoyage de la Database\n",
    "principals_df2 = principals_df[[\"tconst\", \"nconst\", \"category\", \"characters\"]]\n",
    "principals_df3 = principals_df2[principals_df2['category'].str.contains('actor|actress') & (principals_df2['characters'] != '\\\\N')]\n",
    "principals_df4 = principals_df3[(principals_df3['characters'] != 'Narrator') & (principals_df3['characters'] != 'Various') & (principals_df3['characters'] != 'Additional Voices')]\n",
    "\n",
    "basics_df2 = basics_df[[\"tconst\", \"titleType\", \"startYear\", \"runtimeMinutes\", \"genres\"]]\n",
    "# étape 2 : set index puis merge\n",
    "# set index on tconst for basics and principal table\n",
    "basics_df3 = basics_df2.set_index('tconst')\n",
    "principals_df5 = principals_df4.set_index('tconst')\n",
    "# Merge de la table principals et basics afin de filtrer uniquement sur les movies et les shorts\n",
    "actors_occurence_df = pd.merge(basics_df3, principals_df5, how='inner', left_index=True, right_index=True)\n",
    "\n",
    "actors_occurence_df2 = actors_occurence_df[(actors_occurence_df['titleType'] == 'movie') | (actors_occurence_df['titleType'] == 'short')]\n",
    "name_df2 = name_df[[\"nconst\", \"primaryName\", \"birthYear\"]]\n",
    "name_df3 = name_df2.set_index('nconst')\n",
    "actors_occurence_df3 = actors_occurence_df2.set_index('nconst')\n",
    "# merge to link first name with nconst\n",
    "actors_occurence_df4 = pd.merge(name_df3, actors_occurence_df3, how='inner', left_index=True, right_index=True)\n",
    "\n",
    "actors_occurence_df5 = actors_occurence_df4[[\"birthYear\", \"startYear\", \"category\"]]\n",
    "actors_occurence_df6 = actors_occurence_df5.loc[(actors_occurence_df5['birthYear'] != \"\\\\N\") & (actors_occurence_df5['startYear'] != \"\\\\N\")]\n",
    "actors_occurence_df6"
   ]
  },
  {
   "cell_type": "code",
   "execution_count": null,
   "metadata": {},
   "outputs": [],
   "source": [
    "#sauvegarde du dataframe\n",
    "actors_occurence_df6.to_csv(r'C:\\Users\\Berenger\\Desktop\\projet abc\\moyenne_age_acteurs.csv', index = False, header = True)"
   ]
  },
  {
   "cell_type": "code",
   "execution_count": 4,
   "metadata": {},
   "outputs": [],
   "source": [
    "#chargement du dataframe\n",
    "moyenne_age = pd.read_csv(r\"C:\\Users\\Berenger\\Desktop\\projet abc\\moyenne_age_acteurs.csv\")"
   ]
  },
  {
   "cell_type": "code",
   "execution_count": 6,
   "metadata": {},
   "outputs": [
    {
     "data": {
      "text/plain": [
       "37.957760724284036"
      ]
     },
     "execution_count": 6,
     "metadata": {},
     "output_type": "execute_result"
    }
   ],
   "source": [
    "moyenne_age[\"age\"] = moyenne_age[\"startYear\"] - moyenne_age[\"birthYear\"]\n",
    "moyenne_age[\"age\"].mean()"
   ]
  },
  {
   "cell_type": "markdown",
   "metadata": {},
   "source": [
    "# <span style=\"color:orange\">Moyenne d'âge des acteurs/actrices, par sexe</span> "
   ]
  },
  {
   "cell_type": "code",
   "execution_count": 7,
   "metadata": {},
   "outputs": [
    {
     "data": {
      "text/plain": [
       "33.51685233480365"
      ]
     },
     "execution_count": 7,
     "metadata": {},
     "output_type": "execute_result"
    }
   ],
   "source": [
    "moyenne_age_femme = moyenne_age.loc[moyenne_age['category'] == \"actress\"]\n",
    "moyenne_age_femme[\"age\"].mean()\n",
    "\n"
   ]
  },
  {
   "cell_type": "code",
   "execution_count": 8,
   "metadata": {},
   "outputs": [
    {
     "data": {
      "text/plain": [
       "40.4562468111571"
      ]
     },
     "execution_count": 8,
     "metadata": {},
     "output_type": "execute_result"
    }
   ],
   "source": [
    "moyenne_age_homme = moyenne_age.loc[moyenne_age['category'] == \"actor\"]\n",
    "moyenne_age_homme[\"age\"].mean()"
   ]
  },
  {
   "cell_type": "markdown",
   "metadata": {},
   "source": [
    "# <span style=\"color:orange\">Quels sont les films les mieux notés ?</span> "
   ]
  },
  {
   "cell_type": "code",
   "execution_count": 114,
   "metadata": {},
   "outputs": [
    {
     "data": {
      "text/html": [
       "<div>\n",
       "<style scoped>\n",
       "    .dataframe tbody tr th:only-of-type {\n",
       "        vertical-align: middle;\n",
       "    }\n",
       "\n",
       "    .dataframe tbody tr th {\n",
       "        vertical-align: top;\n",
       "    }\n",
       "\n",
       "    .dataframe thead th {\n",
       "        text-align: right;\n",
       "    }\n",
       "</style>\n",
       "<table border=\"1\" class=\"dataframe\">\n",
       "  <thead>\n",
       "    <tr style=\"text-align: right;\">\n",
       "      <th></th>\n",
       "      <th>tconst</th>\n",
       "      <th>averageRating</th>\n",
       "      <th>numVotes</th>\n",
       "    </tr>\n",
       "  </thead>\n",
       "  <tbody>\n",
       "    <tr>\n",
       "      <th>11</th>\n",
       "      <td>tt0000012</td>\n",
       "      <td>7.4</td>\n",
       "      <td>11305</td>\n",
       "    </tr>\n",
       "    <tr>\n",
       "      <th>300</th>\n",
       "      <td>tt0000417</td>\n",
       "      <td>8.2</td>\n",
       "      <td>46833</td>\n",
       "    </tr>\n",
       "    <tr>\n",
       "      <th>310</th>\n",
       "      <td>tt0000439</td>\n",
       "      <td>7.3</td>\n",
       "      <td>18367</td>\n",
       "    </tr>\n",
       "    <tr>\n",
       "      <th>1598</th>\n",
       "      <td>tt0004972</td>\n",
       "      <td>6.2</td>\n",
       "      <td>23952</td>\n",
       "    </tr>\n",
       "    <tr>\n",
       "      <th>1991</th>\n",
       "      <td>tt0006864</td>\n",
       "      <td>7.7</td>\n",
       "      <td>15014</td>\n",
       "    </tr>\n",
       "    <tr>\n",
       "      <th>...</th>\n",
       "      <td>...</td>\n",
       "      <td>...</td>\n",
       "      <td>...</td>\n",
       "    </tr>\n",
       "    <tr>\n",
       "      <th>1198418</th>\n",
       "      <td>tt9898836</td>\n",
       "      <td>9.9</td>\n",
       "      <td>35027</td>\n",
       "    </tr>\n",
       "    <tr>\n",
       "      <th>1198420</th>\n",
       "      <td>tt9898858</td>\n",
       "      <td>5.1</td>\n",
       "      <td>12867</td>\n",
       "    </tr>\n",
       "    <tr>\n",
       "      <th>1198480</th>\n",
       "      <td>tt9900092</td>\n",
       "      <td>7.3</td>\n",
       "      <td>11721</td>\n",
       "    </tr>\n",
       "    <tr>\n",
       "      <th>1198526</th>\n",
       "      <td>tt9900782</td>\n",
       "      <td>8.5</td>\n",
       "      <td>17804</td>\n",
       "    </tr>\n",
       "    <tr>\n",
       "      <th>1198671</th>\n",
       "      <td>tt9906260</td>\n",
       "      <td>9.9</td>\n",
       "      <td>67087</td>\n",
       "    </tr>\n",
       "  </tbody>\n",
       "</table>\n",
       "<p>12041 rows × 3 columns</p>\n",
       "</div>"
      ],
      "text/plain": [
       "            tconst  averageRating  numVotes\n",
       "11       tt0000012            7.4     11305\n",
       "300      tt0000417            8.2     46833\n",
       "310      tt0000439            7.3     18367\n",
       "1598     tt0004972            6.2     23952\n",
       "1991     tt0006864            7.7     15014\n",
       "...            ...            ...       ...\n",
       "1198418  tt9898836            9.9     35027\n",
       "1198420  tt9898858            5.1     12867\n",
       "1198480  tt9900092            7.3     11721\n",
       "1198526  tt9900782            8.5     17804\n",
       "1198671  tt9906260            9.9     67087\n",
       "\n",
       "[12041 rows x 3 columns]"
      ]
     },
     "execution_count": 114,
     "metadata": {},
     "output_type": "execute_result"
    }
   ],
   "source": [
    "best_ratings = ratings_df.loc[ratings_df['numVotes'] >= 10000]\n",
    "best_ratings"
   ]
  },
  {
   "cell_type": "code",
   "execution_count": 115,
   "metadata": {},
   "outputs": [
    {
     "data": {
      "text/html": [
       "<div>\n",
       "<style scoped>\n",
       "    .dataframe tbody tr th:only-of-type {\n",
       "        vertical-align: middle;\n",
       "    }\n",
       "\n",
       "    .dataframe tbody tr th {\n",
       "        vertical-align: top;\n",
       "    }\n",
       "\n",
       "    .dataframe thead th {\n",
       "        text-align: right;\n",
       "    }\n",
       "</style>\n",
       "<table border=\"1\" class=\"dataframe\">\n",
       "  <thead>\n",
       "    <tr style=\"text-align: right;\">\n",
       "      <th></th>\n",
       "      <th>tconst</th>\n",
       "      <th>titleType</th>\n",
       "      <th>primaryTitle</th>\n",
       "      <th>originalTitle</th>\n",
       "      <th>isAdult</th>\n",
       "      <th>startYear</th>\n",
       "      <th>endYear</th>\n",
       "      <th>runtimeMinutes</th>\n",
       "      <th>genres</th>\n",
       "    </tr>\n",
       "  </thead>\n",
       "  <tbody>\n",
       "    <tr>\n",
       "      <th>0</th>\n",
       "      <td>tt0000001</td>\n",
       "      <td>short</td>\n",
       "      <td>Carmencita</td>\n",
       "      <td>Carmencita</td>\n",
       "      <td>0</td>\n",
       "      <td>1894</td>\n",
       "      <td>\\N</td>\n",
       "      <td>1</td>\n",
       "      <td>Documentary,Short</td>\n",
       "    </tr>\n",
       "    <tr>\n",
       "      <th>1</th>\n",
       "      <td>tt0000002</td>\n",
       "      <td>short</td>\n",
       "      <td>Le clown et ses chiens</td>\n",
       "      <td>Le clown et ses chiens</td>\n",
       "      <td>0</td>\n",
       "      <td>1892</td>\n",
       "      <td>\\N</td>\n",
       "      <td>5</td>\n",
       "      <td>Animation,Short</td>\n",
       "    </tr>\n",
       "    <tr>\n",
       "      <th>2</th>\n",
       "      <td>tt0000003</td>\n",
       "      <td>short</td>\n",
       "      <td>Pauvre Pierrot</td>\n",
       "      <td>Pauvre Pierrot</td>\n",
       "      <td>0</td>\n",
       "      <td>1892</td>\n",
       "      <td>\\N</td>\n",
       "      <td>4</td>\n",
       "      <td>Animation,Comedy,Romance</td>\n",
       "    </tr>\n",
       "    <tr>\n",
       "      <th>3</th>\n",
       "      <td>tt0000004</td>\n",
       "      <td>short</td>\n",
       "      <td>Un bon bock</td>\n",
       "      <td>Un bon bock</td>\n",
       "      <td>0</td>\n",
       "      <td>1892</td>\n",
       "      <td>\\N</td>\n",
       "      <td>12</td>\n",
       "      <td>Animation,Short</td>\n",
       "    </tr>\n",
       "    <tr>\n",
       "      <th>4</th>\n",
       "      <td>tt0000005</td>\n",
       "      <td>short</td>\n",
       "      <td>Blacksmith Scene</td>\n",
       "      <td>Blacksmith Scene</td>\n",
       "      <td>0</td>\n",
       "      <td>1893</td>\n",
       "      <td>\\N</td>\n",
       "      <td>1</td>\n",
       "      <td>Comedy,Short</td>\n",
       "    </tr>\n",
       "  </tbody>\n",
       "</table>\n",
       "</div>"
      ],
      "text/plain": [
       "      tconst titleType            primaryTitle           originalTitle  \\\n",
       "0  tt0000001     short              Carmencita              Carmencita   \n",
       "1  tt0000002     short  Le clown et ses chiens  Le clown et ses chiens   \n",
       "2  tt0000003     short          Pauvre Pierrot          Pauvre Pierrot   \n",
       "3  tt0000004     short             Un bon bock             Un bon bock   \n",
       "4  tt0000005     short        Blacksmith Scene        Blacksmith Scene   \n",
       "\n",
       "  isAdult startYear endYear runtimeMinutes                    genres  \n",
       "0       0      1894      \\N              1         Documentary,Short  \n",
       "1       0      1892      \\N              5           Animation,Short  \n",
       "2       0      1892      \\N              4  Animation,Comedy,Romance  \n",
       "3       0      1892      \\N             12           Animation,Short  \n",
       "4       0      1893      \\N              1              Comedy,Short  "
      ]
     },
     "execution_count": 115,
     "metadata": {},
     "output_type": "execute_result"
    }
   ],
   "source": [
    "basics_df.head()"
   ]
  },
  {
   "cell_type": "code",
   "execution_count": 116,
   "metadata": {},
   "outputs": [
    {
     "data": {
      "text/html": [
       "<div>\n",
       "<style scoped>\n",
       "    .dataframe tbody tr th:only-of-type {\n",
       "        vertical-align: middle;\n",
       "    }\n",
       "\n",
       "    .dataframe tbody tr th {\n",
       "        vertical-align: top;\n",
       "    }\n",
       "\n",
       "    .dataframe thead th {\n",
       "        text-align: right;\n",
       "    }\n",
       "</style>\n",
       "<table border=\"1\" class=\"dataframe\">\n",
       "  <thead>\n",
       "    <tr style=\"text-align: right;\">\n",
       "      <th></th>\n",
       "      <th>tconst</th>\n",
       "      <th>titleType</th>\n",
       "      <th>primaryTitle</th>\n",
       "      <th>startYear</th>\n",
       "      <th>genres</th>\n",
       "    </tr>\n",
       "  </thead>\n",
       "  <tbody>\n",
       "    <tr>\n",
       "      <th>0</th>\n",
       "      <td>tt0000001</td>\n",
       "      <td>short</td>\n",
       "      <td>Carmencita</td>\n",
       "      <td>1894</td>\n",
       "      <td>Documentary,Short</td>\n",
       "    </tr>\n",
       "    <tr>\n",
       "      <th>1</th>\n",
       "      <td>tt0000002</td>\n",
       "      <td>short</td>\n",
       "      <td>Le clown et ses chiens</td>\n",
       "      <td>1892</td>\n",
       "      <td>Animation,Short</td>\n",
       "    </tr>\n",
       "    <tr>\n",
       "      <th>2</th>\n",
       "      <td>tt0000003</td>\n",
       "      <td>short</td>\n",
       "      <td>Pauvre Pierrot</td>\n",
       "      <td>1892</td>\n",
       "      <td>Animation,Comedy,Romance</td>\n",
       "    </tr>\n",
       "    <tr>\n",
       "      <th>3</th>\n",
       "      <td>tt0000004</td>\n",
       "      <td>short</td>\n",
       "      <td>Un bon bock</td>\n",
       "      <td>1892</td>\n",
       "      <td>Animation,Short</td>\n",
       "    </tr>\n",
       "    <tr>\n",
       "      <th>4</th>\n",
       "      <td>tt0000005</td>\n",
       "      <td>short</td>\n",
       "      <td>Blacksmith Scene</td>\n",
       "      <td>1893</td>\n",
       "      <td>Comedy,Short</td>\n",
       "    </tr>\n",
       "    <tr>\n",
       "      <th>...</th>\n",
       "      <td>...</td>\n",
       "      <td>...</td>\n",
       "      <td>...</td>\n",
       "      <td>...</td>\n",
       "      <td>...</td>\n",
       "    </tr>\n",
       "    <tr>\n",
       "      <th>8364110</th>\n",
       "      <td>tt9916848</td>\n",
       "      <td>tvEpisode</td>\n",
       "      <td>Episode #3.17</td>\n",
       "      <td>2010</td>\n",
       "      <td>Action,Drama,Family</td>\n",
       "    </tr>\n",
       "    <tr>\n",
       "      <th>8364111</th>\n",
       "      <td>tt9916850</td>\n",
       "      <td>tvEpisode</td>\n",
       "      <td>Episode #3.19</td>\n",
       "      <td>2010</td>\n",
       "      <td>Action,Drama,Family</td>\n",
       "    </tr>\n",
       "    <tr>\n",
       "      <th>8364112</th>\n",
       "      <td>tt9916852</td>\n",
       "      <td>tvEpisode</td>\n",
       "      <td>Episode #3.20</td>\n",
       "      <td>2010</td>\n",
       "      <td>Action,Drama,Family</td>\n",
       "    </tr>\n",
       "    <tr>\n",
       "      <th>8364113</th>\n",
       "      <td>tt9916856</td>\n",
       "      <td>short</td>\n",
       "      <td>The Wind</td>\n",
       "      <td>2015</td>\n",
       "      <td>Short</td>\n",
       "    </tr>\n",
       "    <tr>\n",
       "      <th>8364114</th>\n",
       "      <td>tt9916880</td>\n",
       "      <td>tvEpisode</td>\n",
       "      <td>Horrid Henry Knows It All</td>\n",
       "      <td>2014</td>\n",
       "      <td>Adventure,Animation,Comedy</td>\n",
       "    </tr>\n",
       "  </tbody>\n",
       "</table>\n",
       "<p>8364115 rows × 5 columns</p>\n",
       "</div>"
      ],
      "text/plain": [
       "            tconst  titleType               primaryTitle startYear  \\\n",
       "0        tt0000001      short                 Carmencita      1894   \n",
       "1        tt0000002      short     Le clown et ses chiens      1892   \n",
       "2        tt0000003      short             Pauvre Pierrot      1892   \n",
       "3        tt0000004      short                Un bon bock      1892   \n",
       "4        tt0000005      short           Blacksmith Scene      1893   \n",
       "...            ...        ...                        ...       ...   \n",
       "8364110  tt9916848  tvEpisode              Episode #3.17      2010   \n",
       "8364111  tt9916850  tvEpisode              Episode #3.19      2010   \n",
       "8364112  tt9916852  tvEpisode              Episode #3.20      2010   \n",
       "8364113  tt9916856      short                   The Wind      2015   \n",
       "8364114  tt9916880  tvEpisode  Horrid Henry Knows It All      2014   \n",
       "\n",
       "                             genres  \n",
       "0                 Documentary,Short  \n",
       "1                   Animation,Short  \n",
       "2          Animation,Comedy,Romance  \n",
       "3                   Animation,Short  \n",
       "4                      Comedy,Short  \n",
       "...                             ...  \n",
       "8364110         Action,Drama,Family  \n",
       "8364111         Action,Drama,Family  \n",
       "8364112         Action,Drama,Family  \n",
       "8364113                       Short  \n",
       "8364114  Adventure,Animation,Comedy  \n",
       "\n",
       "[8364115 rows x 5 columns]"
      ]
     },
     "execution_count": 116,
     "metadata": {},
     "output_type": "execute_result"
    }
   ],
   "source": [
    "best_ratings_basics = basics_df[[\"tconst\", \"titleType\", \"primaryTitle\", \"startYear\", \"genres\"]]\n",
    "best_ratings_basics"
   ]
  },
  {
   "cell_type": "code",
   "execution_count": 117,
   "metadata": {},
   "outputs": [],
   "source": [
    "best_ratings_basics2 = best_ratings_basics.set_index('tconst')\n",
    "best_ratings2 = best_ratings.set_index('tconst')"
   ]
  },
  {
   "cell_type": "code",
   "execution_count": 118,
   "metadata": {},
   "outputs": [],
   "source": [
    "# \n",
    "best_ratings3 = pd.merge(best_ratings_basics2, best_ratings2, how='inner', left_index=True, right_index=True)"
   ]
  },
  {
   "cell_type": "code",
   "execution_count": 119,
   "metadata": {},
   "outputs": [
    {
     "data": {
      "text/html": [
       "<div>\n",
       "<style scoped>\n",
       "    .dataframe tbody tr th:only-of-type {\n",
       "        vertical-align: middle;\n",
       "    }\n",
       "\n",
       "    .dataframe tbody tr th {\n",
       "        vertical-align: top;\n",
       "    }\n",
       "\n",
       "    .dataframe thead th {\n",
       "        text-align: right;\n",
       "    }\n",
       "</style>\n",
       "<table border=\"1\" class=\"dataframe\">\n",
       "  <thead>\n",
       "    <tr style=\"text-align: right;\">\n",
       "      <th></th>\n",
       "      <th>titleType</th>\n",
       "      <th>primaryTitle</th>\n",
       "      <th>startYear</th>\n",
       "      <th>genres</th>\n",
       "      <th>averageRating</th>\n",
       "      <th>numVotes</th>\n",
       "    </tr>\n",
       "    <tr>\n",
       "      <th>tconst</th>\n",
       "      <th></th>\n",
       "      <th></th>\n",
       "      <th></th>\n",
       "      <th></th>\n",
       "      <th></th>\n",
       "      <th></th>\n",
       "    </tr>\n",
       "  </thead>\n",
       "  <tbody>\n",
       "    <tr>\n",
       "      <th>tt0004972</th>\n",
       "      <td>movie</td>\n",
       "      <td>The Birth of a Nation</td>\n",
       "      <td>1915</td>\n",
       "      <td>Drama,History,War</td>\n",
       "      <td>6.2</td>\n",
       "      <td>23952</td>\n",
       "    </tr>\n",
       "    <tr>\n",
       "      <th>tt0006864</th>\n",
       "      <td>movie</td>\n",
       "      <td>Intolerance</td>\n",
       "      <td>1916</td>\n",
       "      <td>Drama,History</td>\n",
       "      <td>7.7</td>\n",
       "      <td>15014</td>\n",
       "    </tr>\n",
       "    <tr>\n",
       "      <th>tt0009968</th>\n",
       "      <td>movie</td>\n",
       "      <td>Broken Blossoms</td>\n",
       "      <td>1919</td>\n",
       "      <td>Drama,Romance</td>\n",
       "      <td>7.3</td>\n",
       "      <td>10010</td>\n",
       "    </tr>\n",
       "    <tr>\n",
       "      <th>tt0010323</th>\n",
       "      <td>movie</td>\n",
       "      <td>The Cabinet of Dr. Caligari</td>\n",
       "      <td>1920</td>\n",
       "      <td>Fantasy,Horror,Mystery</td>\n",
       "      <td>8.1</td>\n",
       "      <td>60787</td>\n",
       "    </tr>\n",
       "    <tr>\n",
       "      <th>tt0012349</th>\n",
       "      <td>movie</td>\n",
       "      <td>The Kid</td>\n",
       "      <td>1921</td>\n",
       "      <td>Comedy,Drama,Family</td>\n",
       "      <td>8.3</td>\n",
       "      <td>120758</td>\n",
       "    </tr>\n",
       "    <tr>\n",
       "      <th>...</th>\n",
       "      <td>...</td>\n",
       "      <td>...</td>\n",
       "      <td>...</td>\n",
       "      <td>...</td>\n",
       "      <td>...</td>\n",
       "      <td>...</td>\n",
       "    </tr>\n",
       "    <tr>\n",
       "      <th>tt9860728</th>\n",
       "      <td>movie</td>\n",
       "      <td>Falling Inn Love</td>\n",
       "      <td>2019</td>\n",
       "      <td>Comedy,Romance</td>\n",
       "      <td>5.6</td>\n",
       "      <td>18062</td>\n",
       "    </tr>\n",
       "    <tr>\n",
       "      <th>tt9866072</th>\n",
       "      <td>movie</td>\n",
       "      <td>Holidate</td>\n",
       "      <td>2020</td>\n",
       "      <td>Comedy,Romance</td>\n",
       "      <td>6.1</td>\n",
       "      <td>53507</td>\n",
       "    </tr>\n",
       "    <tr>\n",
       "      <th>tt9893250</th>\n",
       "      <td>movie</td>\n",
       "      <td>I Care a Lot</td>\n",
       "      <td>2020</td>\n",
       "      <td>Comedy,Crime,Thriller</td>\n",
       "      <td>6.3</td>\n",
       "      <td>116546</td>\n",
       "    </tr>\n",
       "    <tr>\n",
       "      <th>tt9898858</th>\n",
       "      <td>movie</td>\n",
       "      <td>Coffee &amp; Kareem</td>\n",
       "      <td>2020</td>\n",
       "      <td>Action,Comedy,Crime</td>\n",
       "      <td>5.1</td>\n",
       "      <td>12867</td>\n",
       "    </tr>\n",
       "    <tr>\n",
       "      <th>tt9900782</th>\n",
       "      <td>movie</td>\n",
       "      <td>Kaithi</td>\n",
       "      <td>2019</td>\n",
       "      <td>Action,Crime,Thriller</td>\n",
       "      <td>8.5</td>\n",
       "      <td>17804</td>\n",
       "    </tr>\n",
       "  </tbody>\n",
       "</table>\n",
       "<p>9517 rows × 6 columns</p>\n",
       "</div>"
      ],
      "text/plain": [
       "          titleType                 primaryTitle startYear  \\\n",
       "tconst                                                       \n",
       "tt0004972     movie        The Birth of a Nation      1915   \n",
       "tt0006864     movie                  Intolerance      1916   \n",
       "tt0009968     movie              Broken Blossoms      1919   \n",
       "tt0010323     movie  The Cabinet of Dr. Caligari      1920   \n",
       "tt0012349     movie                      The Kid      1921   \n",
       "...             ...                          ...       ...   \n",
       "tt9860728     movie             Falling Inn Love      2019   \n",
       "tt9866072     movie                     Holidate      2020   \n",
       "tt9893250     movie                 I Care a Lot      2020   \n",
       "tt9898858     movie              Coffee & Kareem      2020   \n",
       "tt9900782     movie                       Kaithi      2019   \n",
       "\n",
       "                           genres  averageRating  numVotes  \n",
       "tconst                                                      \n",
       "tt0004972       Drama,History,War            6.2     23952  \n",
       "tt0006864           Drama,History            7.7     15014  \n",
       "tt0009968           Drama,Romance            7.3     10010  \n",
       "tt0010323  Fantasy,Horror,Mystery            8.1     60787  \n",
       "tt0012349     Comedy,Drama,Family            8.3    120758  \n",
       "...                           ...            ...       ...  \n",
       "tt9860728          Comedy,Romance            5.6     18062  \n",
       "tt9866072          Comedy,Romance            6.1     53507  \n",
       "tt9893250   Comedy,Crime,Thriller            6.3    116546  \n",
       "tt9898858     Action,Comedy,Crime            5.1     12867  \n",
       "tt9900782   Action,Crime,Thriller            8.5     17804  \n",
       "\n",
       "[9517 rows x 6 columns]"
      ]
     },
     "execution_count": 119,
     "metadata": {},
     "output_type": "execute_result"
    }
   ],
   "source": [
    "best_ratings4 = best_ratings3.loc[best_ratings3['titleType'] == \"movie\"]\n",
    "best_ratings4"
   ]
  },
  {
   "cell_type": "code",
   "execution_count": 120,
   "metadata": {},
   "outputs": [],
   "source": [
    "best_ratings5 = best_ratings4.sort_values(by=['averageRating'], ascending=False).head(20)"
   ]
  },
  {
   "cell_type": "code",
   "execution_count": 121,
   "metadata": {},
   "outputs": [
    {
     "data": {
      "text/html": [
       "<div>\n",
       "<style scoped>\n",
       "    .dataframe tbody tr th:only-of-type {\n",
       "        vertical-align: middle;\n",
       "    }\n",
       "\n",
       "    .dataframe tbody tr th {\n",
       "        vertical-align: top;\n",
       "    }\n",
       "\n",
       "    .dataframe thead th {\n",
       "        text-align: right;\n",
       "    }\n",
       "</style>\n",
       "<table border=\"1\" class=\"dataframe\">\n",
       "  <thead>\n",
       "    <tr style=\"text-align: right;\">\n",
       "      <th></th>\n",
       "      <th>titleType</th>\n",
       "      <th>primaryTitle</th>\n",
       "      <th>startYear</th>\n",
       "      <th>genres</th>\n",
       "      <th>averageRating</th>\n",
       "      <th>numVotes</th>\n",
       "    </tr>\n",
       "    <tr>\n",
       "      <th>tconst</th>\n",
       "      <th></th>\n",
       "      <th></th>\n",
       "      <th></th>\n",
       "      <th></th>\n",
       "      <th></th>\n",
       "      <th></th>\n",
       "    </tr>\n",
       "  </thead>\n",
       "  <tbody>\n",
       "    <tr>\n",
       "      <th>tt0252487</th>\n",
       "      <td>movie</td>\n",
       "      <td>The Chaos Class</td>\n",
       "      <td>1975</td>\n",
       "      <td>Comedy,Drama</td>\n",
       "      <td>9.3</td>\n",
       "      <td>39196</td>\n",
       "    </tr>\n",
       "    <tr>\n",
       "      <th>tt0111161</th>\n",
       "      <td>movie</td>\n",
       "      <td>The Shawshank Redemption</td>\n",
       "      <td>1994</td>\n",
       "      <td>Drama</td>\n",
       "      <td>9.3</td>\n",
       "      <td>2479369</td>\n",
       "    </tr>\n",
       "    <tr>\n",
       "      <th>tt0068646</th>\n",
       "      <td>movie</td>\n",
       "      <td>The Godfather</td>\n",
       "      <td>1972</td>\n",
       "      <td>Crime,Drama</td>\n",
       "      <td>9.2</td>\n",
       "      <td>1712575</td>\n",
       "    </tr>\n",
       "    <tr>\n",
       "      <th>tt10280296</th>\n",
       "      <td>movie</td>\n",
       "      <td>Sardar Udham</td>\n",
       "      <td>2021</td>\n",
       "      <td>Biography,Crime,Drama</td>\n",
       "      <td>9.1</td>\n",
       "      <td>21150</td>\n",
       "    </tr>\n",
       "    <tr>\n",
       "      <th>tt5354160</th>\n",
       "      <td>movie</td>\n",
       "      <td>Mirror Game</td>\n",
       "      <td>2016</td>\n",
       "      <td>Crime,Mystery,Thriller</td>\n",
       "      <td>9.1</td>\n",
       "      <td>25135</td>\n",
       "    </tr>\n",
       "    <tr>\n",
       "      <th>tt10189514</th>\n",
       "      <td>movie</td>\n",
       "      <td>Soorarai Pottru</td>\n",
       "      <td>2020</td>\n",
       "      <td>Drama</td>\n",
       "      <td>9.1</td>\n",
       "      <td>90750</td>\n",
       "    </tr>\n",
       "    <tr>\n",
       "      <th>tt2592910</th>\n",
       "      <td>movie</td>\n",
       "      <td>CM101MMXI Fundamentals</td>\n",
       "      <td>2013</td>\n",
       "      <td>Comedy,Documentary</td>\n",
       "      <td>9.1</td>\n",
       "      <td>44771</td>\n",
       "    </tr>\n",
       "    <tr>\n",
       "      <th>tt0468569</th>\n",
       "      <td>movie</td>\n",
       "      <td>The Dark Knight</td>\n",
       "      <td>2008</td>\n",
       "      <td>Action,Crime,Drama</td>\n",
       "      <td>9.0</td>\n",
       "      <td>2433653</td>\n",
       "    </tr>\n",
       "    <tr>\n",
       "      <th>tt0253828</th>\n",
       "      <td>movie</td>\n",
       "      <td>Tosun Pasa</td>\n",
       "      <td>1976</td>\n",
       "      <td>Comedy,History</td>\n",
       "      <td>9.0</td>\n",
       "      <td>22612</td>\n",
       "    </tr>\n",
       "    <tr>\n",
       "      <th>tt0050083</th>\n",
       "      <td>movie</td>\n",
       "      <td>12 Angry Men</td>\n",
       "      <td>1957</td>\n",
       "      <td>Crime,Drama</td>\n",
       "      <td>9.0</td>\n",
       "      <td>733855</td>\n",
       "    </tr>\n",
       "    <tr>\n",
       "      <th>tt0071562</th>\n",
       "      <td>movie</td>\n",
       "      <td>The Godfather: Part II</td>\n",
       "      <td>1974</td>\n",
       "      <td>Crime,Drama</td>\n",
       "      <td>9.0</td>\n",
       "      <td>1189595</td>\n",
       "    </tr>\n",
       "    <tr>\n",
       "      <th>tt11989890</th>\n",
       "      <td>movie</td>\n",
       "      <td>David Attenborough: A Life on Our Planet</td>\n",
       "      <td>2020</td>\n",
       "      <td>Biography,Documentary</td>\n",
       "      <td>9.0</td>\n",
       "      <td>29527</td>\n",
       "    </tr>\n",
       "    <tr>\n",
       "      <th>tt0084302</th>\n",
       "      <td>movie</td>\n",
       "      <td>The Marathon Family</td>\n",
       "      <td>1982</td>\n",
       "      <td>Comedy,Drama</td>\n",
       "      <td>8.9</td>\n",
       "      <td>15284</td>\n",
       "    </tr>\n",
       "    <tr>\n",
       "      <th>tt0167260</th>\n",
       "      <td>movie</td>\n",
       "      <td>The Lord of the Rings: The Return of the King</td>\n",
       "      <td>2003</td>\n",
       "      <td>Action,Adventure,Drama</td>\n",
       "      <td>8.9</td>\n",
       "      <td>1718127</td>\n",
       "    </tr>\n",
       "    <tr>\n",
       "      <th>tt0253779</th>\n",
       "      <td>movie</td>\n",
       "      <td>Süt Kardesler</td>\n",
       "      <td>1976</td>\n",
       "      <td>Comedy,Family,Mystery</td>\n",
       "      <td>8.9</td>\n",
       "      <td>19420</td>\n",
       "    </tr>\n",
       "    <tr>\n",
       "      <th>tt0110912</th>\n",
       "      <td>movie</td>\n",
       "      <td>Pulp Fiction</td>\n",
       "      <td>1994</td>\n",
       "      <td>Crime,Drama</td>\n",
       "      <td>8.9</td>\n",
       "      <td>1919104</td>\n",
       "    </tr>\n",
       "    <tr>\n",
       "      <th>tt0252488</th>\n",
       "      <td>movie</td>\n",
       "      <td>The Chaos Class Failed the Class</td>\n",
       "      <td>1976</td>\n",
       "      <td>Comedy</td>\n",
       "      <td>8.9</td>\n",
       "      <td>22801</td>\n",
       "    </tr>\n",
       "    <tr>\n",
       "      <th>tt5275892</th>\n",
       "      <td>movie</td>\n",
       "      <td>O.J.: Made in America</td>\n",
       "      <td>2016</td>\n",
       "      <td>Biography,Crime,Documentary</td>\n",
       "      <td>8.9</td>\n",
       "      <td>18819</td>\n",
       "    </tr>\n",
       "    <tr>\n",
       "      <th>tt0086935</th>\n",
       "      <td>movie</td>\n",
       "      <td>Balkan Spy</td>\n",
       "      <td>1984</td>\n",
       "      <td>Comedy,Drama</td>\n",
       "      <td>8.9</td>\n",
       "      <td>11059</td>\n",
       "    </tr>\n",
       "    <tr>\n",
       "      <th>tt0108052</th>\n",
       "      <td>movie</td>\n",
       "      <td>Schindler's List</td>\n",
       "      <td>1993</td>\n",
       "      <td>Biography,Drama,History</td>\n",
       "      <td>8.9</td>\n",
       "      <td>1272948</td>\n",
       "    </tr>\n",
       "  </tbody>\n",
       "</table>\n",
       "</div>"
      ],
      "text/plain": [
       "           titleType                                   primaryTitle startYear  \\\n",
       "tconst                                                                          \n",
       "tt0252487      movie                                The Chaos Class      1975   \n",
       "tt0111161      movie                       The Shawshank Redemption      1994   \n",
       "tt0068646      movie                                  The Godfather      1972   \n",
       "tt10280296     movie                                   Sardar Udham      2021   \n",
       "tt5354160      movie                                    Mirror Game      2016   \n",
       "tt10189514     movie                                Soorarai Pottru      2020   \n",
       "tt2592910      movie                         CM101MMXI Fundamentals      2013   \n",
       "tt0468569      movie                                The Dark Knight      2008   \n",
       "tt0253828      movie                                     Tosun Pasa      1976   \n",
       "tt0050083      movie                                   12 Angry Men      1957   \n",
       "tt0071562      movie                         The Godfather: Part II      1974   \n",
       "tt11989890     movie       David Attenborough: A Life on Our Planet      2020   \n",
       "tt0084302      movie                            The Marathon Family      1982   \n",
       "tt0167260      movie  The Lord of the Rings: The Return of the King      2003   \n",
       "tt0253779      movie                                  Süt Kardesler      1976   \n",
       "tt0110912      movie                                   Pulp Fiction      1994   \n",
       "tt0252488      movie               The Chaos Class Failed the Class      1976   \n",
       "tt5275892      movie                          O.J.: Made in America      2016   \n",
       "tt0086935      movie                                     Balkan Spy      1984   \n",
       "tt0108052      movie                               Schindler's List      1993   \n",
       "\n",
       "                                 genres  averageRating  numVotes  \n",
       "tconst                                                            \n",
       "tt0252487                  Comedy,Drama            9.3     39196  \n",
       "tt0111161                         Drama            9.3   2479369  \n",
       "tt0068646                   Crime,Drama            9.2   1712575  \n",
       "tt10280296        Biography,Crime,Drama            9.1     21150  \n",
       "tt5354160        Crime,Mystery,Thriller            9.1     25135  \n",
       "tt10189514                        Drama            9.1     90750  \n",
       "tt2592910            Comedy,Documentary            9.1     44771  \n",
       "tt0468569            Action,Crime,Drama            9.0   2433653  \n",
       "tt0253828                Comedy,History            9.0     22612  \n",
       "tt0050083                   Crime,Drama            9.0    733855  \n",
       "tt0071562                   Crime,Drama            9.0   1189595  \n",
       "tt11989890        Biography,Documentary            9.0     29527  \n",
       "tt0084302                  Comedy,Drama            8.9     15284  \n",
       "tt0167260        Action,Adventure,Drama            8.9   1718127  \n",
       "tt0253779         Comedy,Family,Mystery            8.9     19420  \n",
       "tt0110912                   Crime,Drama            8.9   1919104  \n",
       "tt0252488                        Comedy            8.9     22801  \n",
       "tt5275892   Biography,Crime,Documentary            8.9     18819  \n",
       "tt0086935                  Comedy,Drama            8.9     11059  \n",
       "tt0108052       Biography,Drama,History            8.9   1272948  "
      ]
     },
     "execution_count": 121,
     "metadata": {},
     "output_type": "execute_result"
    }
   ],
   "source": [
    "best_ratings5"
   ]
  },
  {
   "cell_type": "code",
   "execution_count": 122,
   "metadata": {},
   "outputs": [],
   "source": [
    "#sauvegarde du dataframe\n",
    "best_ratings5.to_csv(r'C:\\Users\\Berenger\\Desktop\\projet abc\\films_meilleures_notes.csv', index = True, header = True)"
   ]
  },
  {
   "cell_type": "code",
   "execution_count": 159,
   "metadata": {},
   "outputs": [],
   "source": [
    "#chargement du dataframe\n",
    "films_meilleures_notes = pd.read_csv(r\"C:\\Users\\Berenger\\Desktop\\projet abc\\films_meilleures_notes.csv\")"
   ]
  },
  {
   "cell_type": "code",
   "execution_count": 54,
   "metadata": {},
   "outputs": [
    {
     "data": {
      "application/vnd.plotly.v1+json": {
       "config": {
        "plotlyServerURL": "https://plot.ly"
       },
       "data": [
        {
         "alignmentgroup": "True",
         "hovertemplate": "=%{text}<extra></extra>",
         "legendgroup": "The Chaos Class",
         "marker": {
          "color": "#636efa",
          "pattern": {
           "shape": ""
          }
         },
         "name": "The Chaos Class",
         "offsetgroup": "The Chaos Class",
         "orientation": "h",
         "showlegend": true,
         "text": [
          9.3
         ],
         "textfont": {
          "size": 11
         },
         "textposition": "auto",
         "type": "bar",
         "x": [
          9.3
         ],
         "xaxis": "x",
         "y": [
          "The Chaos Class"
         ],
         "yaxis": "y"
        },
        {
         "alignmentgroup": "True",
         "hovertemplate": "=%{text}<extra></extra>",
         "legendgroup": "The Shawshank Redemption",
         "marker": {
          "color": "#EF553B",
          "pattern": {
           "shape": ""
          }
         },
         "name": "The Shawshank Redemption",
         "offsetgroup": "The Shawshank Redemption",
         "orientation": "h",
         "showlegend": true,
         "text": [
          9.3
         ],
         "textfont": {
          "size": 11
         },
         "textposition": "auto",
         "type": "bar",
         "x": [
          9.3
         ],
         "xaxis": "x",
         "y": [
          "The Shawshank Redemption"
         ],
         "yaxis": "y"
        },
        {
         "alignmentgroup": "True",
         "hovertemplate": "=%{text}<extra></extra>",
         "legendgroup": "The Godfather",
         "marker": {
          "color": "#00cc96",
          "pattern": {
           "shape": ""
          }
         },
         "name": "The Godfather",
         "offsetgroup": "The Godfather",
         "orientation": "h",
         "showlegend": true,
         "text": [
          9.2
         ],
         "textfont": {
          "size": 11
         },
         "textposition": "auto",
         "type": "bar",
         "x": [
          9.2
         ],
         "xaxis": "x",
         "y": [
          "The Godfather"
         ],
         "yaxis": "y"
        },
        {
         "alignmentgroup": "True",
         "hovertemplate": "=%{text}<extra></extra>",
         "legendgroup": "Sardar Udham",
         "marker": {
          "color": "#ab63fa",
          "pattern": {
           "shape": ""
          }
         },
         "name": "Sardar Udham",
         "offsetgroup": "Sardar Udham",
         "orientation": "h",
         "showlegend": true,
         "text": [
          9.1
         ],
         "textfont": {
          "size": 11
         },
         "textposition": "auto",
         "type": "bar",
         "x": [
          9.1
         ],
         "xaxis": "x",
         "y": [
          "Sardar Udham"
         ],
         "yaxis": "y"
        },
        {
         "alignmentgroup": "True",
         "hovertemplate": "=%{text}<extra></extra>",
         "legendgroup": "Mirror Game",
         "marker": {
          "color": "#FFA15A",
          "pattern": {
           "shape": ""
          }
         },
         "name": "Mirror Game",
         "offsetgroup": "Mirror Game",
         "orientation": "h",
         "showlegend": true,
         "text": [
          9.1
         ],
         "textfont": {
          "size": 11
         },
         "textposition": "auto",
         "type": "bar",
         "x": [
          9.1
         ],
         "xaxis": "x",
         "y": [
          "Mirror Game"
         ],
         "yaxis": "y"
        },
        {
         "alignmentgroup": "True",
         "hovertemplate": "=%{text}<extra></extra>",
         "legendgroup": "Soorarai Pottru",
         "marker": {
          "color": "#19d3f3",
          "pattern": {
           "shape": ""
          }
         },
         "name": "Soorarai Pottru",
         "offsetgroup": "Soorarai Pottru",
         "orientation": "h",
         "showlegend": true,
         "text": [
          9.1
         ],
         "textfont": {
          "size": 11
         },
         "textposition": "auto",
         "type": "bar",
         "x": [
          9.1
         ],
         "xaxis": "x",
         "y": [
          "Soorarai Pottru"
         ],
         "yaxis": "y"
        },
        {
         "alignmentgroup": "True",
         "hovertemplate": "=%{text}<extra></extra>",
         "legendgroup": "CM101MMXI Fundamentals",
         "marker": {
          "color": "#FF6692",
          "pattern": {
           "shape": ""
          }
         },
         "name": "CM101MMXI Fundamentals",
         "offsetgroup": "CM101MMXI Fundamentals",
         "orientation": "h",
         "showlegend": true,
         "text": [
          9.1
         ],
         "textfont": {
          "size": 11
         },
         "textposition": "auto",
         "type": "bar",
         "x": [
          9.1
         ],
         "xaxis": "x",
         "y": [
          "CM101MMXI Fundamentals"
         ],
         "yaxis": "y"
        },
        {
         "alignmentgroup": "True",
         "hovertemplate": "=%{text}<extra></extra>",
         "legendgroup": "The Dark Knight",
         "marker": {
          "color": "#B6E880",
          "pattern": {
           "shape": ""
          }
         },
         "name": "The Dark Knight",
         "offsetgroup": "The Dark Knight",
         "orientation": "h",
         "showlegend": true,
         "text": [
          9
         ],
         "textfont": {
          "size": 11
         },
         "textposition": "auto",
         "type": "bar",
         "x": [
          9
         ],
         "xaxis": "x",
         "y": [
          "The Dark Knight"
         ],
         "yaxis": "y"
        },
        {
         "alignmentgroup": "True",
         "hovertemplate": "=%{text}<extra></extra>",
         "legendgroup": "Tosun Pasa",
         "marker": {
          "color": "#FF97FF",
          "pattern": {
           "shape": ""
          }
         },
         "name": "Tosun Pasa",
         "offsetgroup": "Tosun Pasa",
         "orientation": "h",
         "showlegend": true,
         "text": [
          9
         ],
         "textfont": {
          "size": 11
         },
         "textposition": "auto",
         "type": "bar",
         "x": [
          9
         ],
         "xaxis": "x",
         "y": [
          "Tosun Pasa"
         ],
         "yaxis": "y"
        },
        {
         "alignmentgroup": "True",
         "hovertemplate": "=%{text}<extra></extra>",
         "legendgroup": "12 Angry Men",
         "marker": {
          "color": "#FECB52",
          "pattern": {
           "shape": ""
          }
         },
         "name": "12 Angry Men",
         "offsetgroup": "12 Angry Men",
         "orientation": "h",
         "showlegend": true,
         "text": [
          9
         ],
         "textfont": {
          "size": 11
         },
         "textposition": "auto",
         "type": "bar",
         "x": [
          9
         ],
         "xaxis": "x",
         "y": [
          "12 Angry Men"
         ],
         "yaxis": "y"
        },
        {
         "alignmentgroup": "True",
         "hovertemplate": "=%{text}<extra></extra>",
         "legendgroup": "The Godfather: Part II",
         "marker": {
          "color": "#636efa",
          "pattern": {
           "shape": ""
          }
         },
         "name": "The Godfather: Part II",
         "offsetgroup": "The Godfather: Part II",
         "orientation": "h",
         "showlegend": true,
         "text": [
          9
         ],
         "textfont": {
          "size": 11
         },
         "textposition": "auto",
         "type": "bar",
         "x": [
          9
         ],
         "xaxis": "x",
         "y": [
          "The Godfather: Part II"
         ],
         "yaxis": "y"
        },
        {
         "alignmentgroup": "True",
         "hovertemplate": "=%{text}<extra></extra>",
         "legendgroup": "David Attenborough: A Life on Our Planet",
         "marker": {
          "color": "#EF553B",
          "pattern": {
           "shape": ""
          }
         },
         "name": "David Attenborough: A Life on Our Planet",
         "offsetgroup": "David Attenborough: A Life on Our Planet",
         "orientation": "h",
         "showlegend": true,
         "text": [
          9
         ],
         "textfont": {
          "size": 11
         },
         "textposition": "auto",
         "type": "bar",
         "x": [
          9
         ],
         "xaxis": "x",
         "y": [
          "David Attenborough: A Life on Our Planet"
         ],
         "yaxis": "y"
        },
        {
         "alignmentgroup": "True",
         "hovertemplate": "=%{text}<extra></extra>",
         "legendgroup": "The Marathon Family",
         "marker": {
          "color": "#00cc96",
          "pattern": {
           "shape": ""
          }
         },
         "name": "The Marathon Family",
         "offsetgroup": "The Marathon Family",
         "orientation": "h",
         "showlegend": true,
         "text": [
          8.9
         ],
         "textfont": {
          "size": 11
         },
         "textposition": "auto",
         "type": "bar",
         "x": [
          8.9
         ],
         "xaxis": "x",
         "y": [
          "The Marathon Family"
         ],
         "yaxis": "y"
        },
        {
         "alignmentgroup": "True",
         "hovertemplate": "=%{text}<extra></extra>",
         "legendgroup": "The Lord of the Rings: The Return of the King",
         "marker": {
          "color": "#ab63fa",
          "pattern": {
           "shape": ""
          }
         },
         "name": "The Lord of the Rings: The Return of the King",
         "offsetgroup": "The Lord of the Rings: The Return of the King",
         "orientation": "h",
         "showlegend": true,
         "text": [
          8.9
         ],
         "textfont": {
          "size": 11
         },
         "textposition": "auto",
         "type": "bar",
         "x": [
          8.9
         ],
         "xaxis": "x",
         "y": [
          "The Lord of the Rings: The Return of the King"
         ],
         "yaxis": "y"
        },
        {
         "alignmentgroup": "True",
         "hovertemplate": "=%{text}<extra></extra>",
         "legendgroup": "Süt Kardesler",
         "marker": {
          "color": "#FFA15A",
          "pattern": {
           "shape": ""
          }
         },
         "name": "Süt Kardesler",
         "offsetgroup": "Süt Kardesler",
         "orientation": "h",
         "showlegend": true,
         "text": [
          8.9
         ],
         "textfont": {
          "size": 11
         },
         "textposition": "auto",
         "type": "bar",
         "x": [
          8.9
         ],
         "xaxis": "x",
         "y": [
          "Süt Kardesler"
         ],
         "yaxis": "y"
        },
        {
         "alignmentgroup": "True",
         "hovertemplate": "=%{text}<extra></extra>",
         "legendgroup": "Pulp Fiction",
         "marker": {
          "color": "#19d3f3",
          "pattern": {
           "shape": ""
          }
         },
         "name": "Pulp Fiction",
         "offsetgroup": "Pulp Fiction",
         "orientation": "h",
         "showlegend": true,
         "text": [
          8.9
         ],
         "textfont": {
          "size": 11
         },
         "textposition": "auto",
         "type": "bar",
         "x": [
          8.9
         ],
         "xaxis": "x",
         "y": [
          "Pulp Fiction"
         ],
         "yaxis": "y"
        },
        {
         "alignmentgroup": "True",
         "hovertemplate": "=%{text}<extra></extra>",
         "legendgroup": "The Chaos Class Failed the Class",
         "marker": {
          "color": "#FF6692",
          "pattern": {
           "shape": ""
          }
         },
         "name": "The Chaos Class Failed the Class",
         "offsetgroup": "The Chaos Class Failed the Class",
         "orientation": "h",
         "showlegend": true,
         "text": [
          8.9
         ],
         "textfont": {
          "size": 11
         },
         "textposition": "auto",
         "type": "bar",
         "x": [
          8.9
         ],
         "xaxis": "x",
         "y": [
          "The Chaos Class Failed the Class"
         ],
         "yaxis": "y"
        },
        {
         "alignmentgroup": "True",
         "hovertemplate": "=%{text}<extra></extra>",
         "legendgroup": "O.J.: Made in America",
         "marker": {
          "color": "#B6E880",
          "pattern": {
           "shape": ""
          }
         },
         "name": "O.J.: Made in America",
         "offsetgroup": "O.J.: Made in America",
         "orientation": "h",
         "showlegend": true,
         "text": [
          8.9
         ],
         "textfont": {
          "size": 11
         },
         "textposition": "auto",
         "type": "bar",
         "x": [
          8.9
         ],
         "xaxis": "x",
         "y": [
          "O.J.: Made in America"
         ],
         "yaxis": "y"
        },
        {
         "alignmentgroup": "True",
         "hovertemplate": "=%{text}<extra></extra>",
         "legendgroup": "Balkan Spy",
         "marker": {
          "color": "#FF97FF",
          "pattern": {
           "shape": ""
          }
         },
         "name": "Balkan Spy",
         "offsetgroup": "Balkan Spy",
         "orientation": "h",
         "showlegend": true,
         "text": [
          8.9
         ],
         "textfont": {
          "size": 11
         },
         "textposition": "auto",
         "type": "bar",
         "x": [
          8.9
         ],
         "xaxis": "x",
         "y": [
          "Balkan Spy"
         ],
         "yaxis": "y"
        },
        {
         "alignmentgroup": "True",
         "hovertemplate": "=%{text}<extra></extra>",
         "legendgroup": "Schindler's List",
         "marker": {
          "color": "#FECB52",
          "pattern": {
           "shape": ""
          }
         },
         "name": "Schindler's List",
         "offsetgroup": "Schindler's List",
         "orientation": "h",
         "showlegend": true,
         "text": [
          8.9
         ],
         "textfont": {
          "size": 11
         },
         "textposition": "auto",
         "type": "bar",
         "x": [
          8.9
         ],
         "xaxis": "x",
         "y": [
          "Schindler's List"
         ],
         "yaxis": "y"
        }
       ],
       "layout": {
        "barmode": "relative",
        "height": 700,
        "legend": {
         "title": {
          "text": ""
         },
         "tracegroupgap": 0
        },
        "showlegend": false,
        "template": {
         "data": {
          "bar": [
           {
            "error_x": {
             "color": "#2a3f5f"
            },
            "error_y": {
             "color": "#2a3f5f"
            },
            "marker": {
             "line": {
              "color": "#E5ECF6",
              "width": 0.5
             },
             "pattern": {
              "fillmode": "overlay",
              "size": 10,
              "solidity": 0.2
             }
            },
            "type": "bar"
           }
          ],
          "barpolar": [
           {
            "marker": {
             "line": {
              "color": "#E5ECF6",
              "width": 0.5
             },
             "pattern": {
              "fillmode": "overlay",
              "size": 10,
              "solidity": 0.2
             }
            },
            "type": "barpolar"
           }
          ],
          "carpet": [
           {
            "aaxis": {
             "endlinecolor": "#2a3f5f",
             "gridcolor": "white",
             "linecolor": "white",
             "minorgridcolor": "white",
             "startlinecolor": "#2a3f5f"
            },
            "baxis": {
             "endlinecolor": "#2a3f5f",
             "gridcolor": "white",
             "linecolor": "white",
             "minorgridcolor": "white",
             "startlinecolor": "#2a3f5f"
            },
            "type": "carpet"
           }
          ],
          "choropleth": [
           {
            "colorbar": {
             "outlinewidth": 0,
             "ticks": ""
            },
            "type": "choropleth"
           }
          ],
          "contour": [
           {
            "colorbar": {
             "outlinewidth": 0,
             "ticks": ""
            },
            "colorscale": [
             [
              0,
              "#0d0887"
             ],
             [
              0.1111111111111111,
              "#46039f"
             ],
             [
              0.2222222222222222,
              "#7201a8"
             ],
             [
              0.3333333333333333,
              "#9c179e"
             ],
             [
              0.4444444444444444,
              "#bd3786"
             ],
             [
              0.5555555555555556,
              "#d8576b"
             ],
             [
              0.6666666666666666,
              "#ed7953"
             ],
             [
              0.7777777777777778,
              "#fb9f3a"
             ],
             [
              0.8888888888888888,
              "#fdca26"
             ],
             [
              1,
              "#f0f921"
             ]
            ],
            "type": "contour"
           }
          ],
          "contourcarpet": [
           {
            "colorbar": {
             "outlinewidth": 0,
             "ticks": ""
            },
            "type": "contourcarpet"
           }
          ],
          "heatmap": [
           {
            "colorbar": {
             "outlinewidth": 0,
             "ticks": ""
            },
            "colorscale": [
             [
              0,
              "#0d0887"
             ],
             [
              0.1111111111111111,
              "#46039f"
             ],
             [
              0.2222222222222222,
              "#7201a8"
             ],
             [
              0.3333333333333333,
              "#9c179e"
             ],
             [
              0.4444444444444444,
              "#bd3786"
             ],
             [
              0.5555555555555556,
              "#d8576b"
             ],
             [
              0.6666666666666666,
              "#ed7953"
             ],
             [
              0.7777777777777778,
              "#fb9f3a"
             ],
             [
              0.8888888888888888,
              "#fdca26"
             ],
             [
              1,
              "#f0f921"
             ]
            ],
            "type": "heatmap"
           }
          ],
          "heatmapgl": [
           {
            "colorbar": {
             "outlinewidth": 0,
             "ticks": ""
            },
            "colorscale": [
             [
              0,
              "#0d0887"
             ],
             [
              0.1111111111111111,
              "#46039f"
             ],
             [
              0.2222222222222222,
              "#7201a8"
             ],
             [
              0.3333333333333333,
              "#9c179e"
             ],
             [
              0.4444444444444444,
              "#bd3786"
             ],
             [
              0.5555555555555556,
              "#d8576b"
             ],
             [
              0.6666666666666666,
              "#ed7953"
             ],
             [
              0.7777777777777778,
              "#fb9f3a"
             ],
             [
              0.8888888888888888,
              "#fdca26"
             ],
             [
              1,
              "#f0f921"
             ]
            ],
            "type": "heatmapgl"
           }
          ],
          "histogram": [
           {
            "marker": {
             "pattern": {
              "fillmode": "overlay",
              "size": 10,
              "solidity": 0.2
             }
            },
            "type": "histogram"
           }
          ],
          "histogram2d": [
           {
            "colorbar": {
             "outlinewidth": 0,
             "ticks": ""
            },
            "colorscale": [
             [
              0,
              "#0d0887"
             ],
             [
              0.1111111111111111,
              "#46039f"
             ],
             [
              0.2222222222222222,
              "#7201a8"
             ],
             [
              0.3333333333333333,
              "#9c179e"
             ],
             [
              0.4444444444444444,
              "#bd3786"
             ],
             [
              0.5555555555555556,
              "#d8576b"
             ],
             [
              0.6666666666666666,
              "#ed7953"
             ],
             [
              0.7777777777777778,
              "#fb9f3a"
             ],
             [
              0.8888888888888888,
              "#fdca26"
             ],
             [
              1,
              "#f0f921"
             ]
            ],
            "type": "histogram2d"
           }
          ],
          "histogram2dcontour": [
           {
            "colorbar": {
             "outlinewidth": 0,
             "ticks": ""
            },
            "colorscale": [
             [
              0,
              "#0d0887"
             ],
             [
              0.1111111111111111,
              "#46039f"
             ],
             [
              0.2222222222222222,
              "#7201a8"
             ],
             [
              0.3333333333333333,
              "#9c179e"
             ],
             [
              0.4444444444444444,
              "#bd3786"
             ],
             [
              0.5555555555555556,
              "#d8576b"
             ],
             [
              0.6666666666666666,
              "#ed7953"
             ],
             [
              0.7777777777777778,
              "#fb9f3a"
             ],
             [
              0.8888888888888888,
              "#fdca26"
             ],
             [
              1,
              "#f0f921"
             ]
            ],
            "type": "histogram2dcontour"
           }
          ],
          "mesh3d": [
           {
            "colorbar": {
             "outlinewidth": 0,
             "ticks": ""
            },
            "type": "mesh3d"
           }
          ],
          "parcoords": [
           {
            "line": {
             "colorbar": {
              "outlinewidth": 0,
              "ticks": ""
             }
            },
            "type": "parcoords"
           }
          ],
          "pie": [
           {
            "automargin": true,
            "type": "pie"
           }
          ],
          "scatter": [
           {
            "marker": {
             "colorbar": {
              "outlinewidth": 0,
              "ticks": ""
             }
            },
            "type": "scatter"
           }
          ],
          "scatter3d": [
           {
            "line": {
             "colorbar": {
              "outlinewidth": 0,
              "ticks": ""
             }
            },
            "marker": {
             "colorbar": {
              "outlinewidth": 0,
              "ticks": ""
             }
            },
            "type": "scatter3d"
           }
          ],
          "scattercarpet": [
           {
            "marker": {
             "colorbar": {
              "outlinewidth": 0,
              "ticks": ""
             }
            },
            "type": "scattercarpet"
           }
          ],
          "scattergeo": [
           {
            "marker": {
             "colorbar": {
              "outlinewidth": 0,
              "ticks": ""
             }
            },
            "type": "scattergeo"
           }
          ],
          "scattergl": [
           {
            "marker": {
             "colorbar": {
              "outlinewidth": 0,
              "ticks": ""
             }
            },
            "type": "scattergl"
           }
          ],
          "scattermapbox": [
           {
            "marker": {
             "colorbar": {
              "outlinewidth": 0,
              "ticks": ""
             }
            },
            "type": "scattermapbox"
           }
          ],
          "scatterpolar": [
           {
            "marker": {
             "colorbar": {
              "outlinewidth": 0,
              "ticks": ""
             }
            },
            "type": "scatterpolar"
           }
          ],
          "scatterpolargl": [
           {
            "marker": {
             "colorbar": {
              "outlinewidth": 0,
              "ticks": ""
             }
            },
            "type": "scatterpolargl"
           }
          ],
          "scatterternary": [
           {
            "marker": {
             "colorbar": {
              "outlinewidth": 0,
              "ticks": ""
             }
            },
            "type": "scatterternary"
           }
          ],
          "surface": [
           {
            "colorbar": {
             "outlinewidth": 0,
             "ticks": ""
            },
            "colorscale": [
             [
              0,
              "#0d0887"
             ],
             [
              0.1111111111111111,
              "#46039f"
             ],
             [
              0.2222222222222222,
              "#7201a8"
             ],
             [
              0.3333333333333333,
              "#9c179e"
             ],
             [
              0.4444444444444444,
              "#bd3786"
             ],
             [
              0.5555555555555556,
              "#d8576b"
             ],
             [
              0.6666666666666666,
              "#ed7953"
             ],
             [
              0.7777777777777778,
              "#fb9f3a"
             ],
             [
              0.8888888888888888,
              "#fdca26"
             ],
             [
              1,
              "#f0f921"
             ]
            ],
            "type": "surface"
           }
          ],
          "table": [
           {
            "cells": {
             "fill": {
              "color": "#EBF0F8"
             },
             "line": {
              "color": "white"
             }
            },
            "header": {
             "fill": {
              "color": "#C8D4E3"
             },
             "line": {
              "color": "white"
             }
            },
            "type": "table"
           }
          ]
         },
         "layout": {
          "annotationdefaults": {
           "arrowcolor": "#2a3f5f",
           "arrowhead": 0,
           "arrowwidth": 1
          },
          "autotypenumbers": "strict",
          "coloraxis": {
           "colorbar": {
            "outlinewidth": 0,
            "ticks": ""
           }
          },
          "colorscale": {
           "diverging": [
            [
             0,
             "#8e0152"
            ],
            [
             0.1,
             "#c51b7d"
            ],
            [
             0.2,
             "#de77ae"
            ],
            [
             0.3,
             "#f1b6da"
            ],
            [
             0.4,
             "#fde0ef"
            ],
            [
             0.5,
             "#f7f7f7"
            ],
            [
             0.6,
             "#e6f5d0"
            ],
            [
             0.7,
             "#b8e186"
            ],
            [
             0.8,
             "#7fbc41"
            ],
            [
             0.9,
             "#4d9221"
            ],
            [
             1,
             "#276419"
            ]
           ],
           "sequential": [
            [
             0,
             "#0d0887"
            ],
            [
             0.1111111111111111,
             "#46039f"
            ],
            [
             0.2222222222222222,
             "#7201a8"
            ],
            [
             0.3333333333333333,
             "#9c179e"
            ],
            [
             0.4444444444444444,
             "#bd3786"
            ],
            [
             0.5555555555555556,
             "#d8576b"
            ],
            [
             0.6666666666666666,
             "#ed7953"
            ],
            [
             0.7777777777777778,
             "#fb9f3a"
            ],
            [
             0.8888888888888888,
             "#fdca26"
            ],
            [
             1,
             "#f0f921"
            ]
           ],
           "sequentialminus": [
            [
             0,
             "#0d0887"
            ],
            [
             0.1111111111111111,
             "#46039f"
            ],
            [
             0.2222222222222222,
             "#7201a8"
            ],
            [
             0.3333333333333333,
             "#9c179e"
            ],
            [
             0.4444444444444444,
             "#bd3786"
            ],
            [
             0.5555555555555556,
             "#d8576b"
            ],
            [
             0.6666666666666666,
             "#ed7953"
            ],
            [
             0.7777777777777778,
             "#fb9f3a"
            ],
            [
             0.8888888888888888,
             "#fdca26"
            ],
            [
             1,
             "#f0f921"
            ]
           ]
          },
          "colorway": [
           "#636efa",
           "#EF553B",
           "#00cc96",
           "#ab63fa",
           "#FFA15A",
           "#19d3f3",
           "#FF6692",
           "#B6E880",
           "#FF97FF",
           "#FECB52"
          ],
          "font": {
           "color": "#2a3f5f"
          },
          "geo": {
           "bgcolor": "white",
           "lakecolor": "white",
           "landcolor": "#E5ECF6",
           "showlakes": true,
           "showland": true,
           "subunitcolor": "white"
          },
          "hoverlabel": {
           "align": "left"
          },
          "hovermode": "closest",
          "mapbox": {
           "style": "light"
          },
          "paper_bgcolor": "white",
          "plot_bgcolor": "#E5ECF6",
          "polar": {
           "angularaxis": {
            "gridcolor": "white",
            "linecolor": "white",
            "ticks": ""
           },
           "bgcolor": "#E5ECF6",
           "radialaxis": {
            "gridcolor": "white",
            "linecolor": "white",
            "ticks": ""
           }
          },
          "scene": {
           "xaxis": {
            "backgroundcolor": "#E5ECF6",
            "gridcolor": "white",
            "gridwidth": 2,
            "linecolor": "white",
            "showbackground": true,
            "ticks": "",
            "zerolinecolor": "white"
           },
           "yaxis": {
            "backgroundcolor": "#E5ECF6",
            "gridcolor": "white",
            "gridwidth": 2,
            "linecolor": "white",
            "showbackground": true,
            "ticks": "",
            "zerolinecolor": "white"
           },
           "zaxis": {
            "backgroundcolor": "#E5ECF6",
            "gridcolor": "white",
            "gridwidth": 2,
            "linecolor": "white",
            "showbackground": true,
            "ticks": "",
            "zerolinecolor": "white"
           }
          },
          "shapedefaults": {
           "line": {
            "color": "#2a3f5f"
           }
          },
          "ternary": {
           "aaxis": {
            "gridcolor": "white",
            "linecolor": "white",
            "ticks": ""
           },
           "baxis": {
            "gridcolor": "white",
            "linecolor": "white",
            "ticks": ""
           },
           "bgcolor": "#E5ECF6",
           "caxis": {
            "gridcolor": "white",
            "linecolor": "white",
            "ticks": ""
           }
          },
          "title": {
           "x": 0.05
          },
          "xaxis": {
           "automargin": true,
           "gridcolor": "white",
           "linecolor": "white",
           "ticks": "",
           "title": {
            "standoff": 15
           },
           "zerolinecolor": "white",
           "zerolinewidth": 2
          },
          "yaxis": {
           "automargin": true,
           "gridcolor": "white",
           "linecolor": "white",
           "ticks": "",
           "title": {
            "standoff": 15
           },
           "zerolinecolor": "white",
           "zerolinewidth": 2
          }
         }
        },
        "title": {
         "text": "Quels sont les films les mieux notés ?",
         "x": 0.5
        },
        "width": 1000,
        "xaxis": {
         "anchor": "y",
         "domain": [
          0,
          1
         ],
         "title": {
          "text": ""
         }
        },
        "yaxis": {
         "anchor": "x",
         "categoryarray": [
          "Schindler's List",
          "Balkan Spy",
          "O.J.: Made in America",
          "The Chaos Class Failed the Class",
          "Pulp Fiction",
          "Süt Kardesler",
          "The Lord of the Rings: The Return of the King",
          "The Marathon Family",
          "David Attenborough: A Life on Our Planet",
          "The Godfather: Part II",
          "12 Angry Men",
          "Tosun Pasa",
          "The Dark Knight",
          "CM101MMXI Fundamentals",
          "Soorarai Pottru",
          "Mirror Game",
          "Sardar Udham",
          "The Godfather",
          "The Shawshank Redemption",
          "The Chaos Class"
         ],
         "categoryorder": "array",
         "domain": [
          0,
          1
         ],
         "title": {
          "text": ""
         }
        }
       }
      }
     },
     "metadata": {},
     "output_type": "display_data"
    }
   ],
   "source": [
    "fig = px.bar(films_meilleures_notes.head(20), x=\"averageRating\", y ='primaryTitle', color = \"primaryTitle\", text ='averageRating',\n",
    "    title = 'Quels sont les films les mieux notés ?',\n",
    "    labels = {'averageRating': '', 'primaryTitle': ''},\n",
    "    width=1000, height=700)\n",
    " \n",
    "fig.update_traces(textfont_size=11)\n",
    "\n",
    "fig.update_layout(showlegend=False, title_x=0.5)\n",
    "fig.show()"
   ]
  },
  {
   "cell_type": "markdown",
   "metadata": {},
   "source": [
    "# <span style=\"color:orange\">Partagent-ils des caractéristiques communes ?</span> "
   ]
  },
  {
   "cell_type": "code",
   "execution_count": 10,
   "metadata": {},
   "outputs": [
    {
     "data": {
      "text/html": [
       "<div>\n",
       "<style scoped>\n",
       "    .dataframe tbody tr th:only-of-type {\n",
       "        vertical-align: middle;\n",
       "    }\n",
       "\n",
       "    .dataframe tbody tr th {\n",
       "        vertical-align: top;\n",
       "    }\n",
       "\n",
       "    .dataframe thead th {\n",
       "        text-align: right;\n",
       "    }\n",
       "</style>\n",
       "<table border=\"1\" class=\"dataframe\">\n",
       "  <thead>\n",
       "    <tr style=\"text-align: right;\">\n",
       "      <th></th>\n",
       "      <th>genres</th>\n",
       "      <th>genre1</th>\n",
       "      <th>genre2</th>\n",
       "      <th>genre3</th>\n",
       "    </tr>\n",
       "  </thead>\n",
       "  <tbody>\n",
       "    <tr>\n",
       "      <th>0</th>\n",
       "      <td>Comedy,Drama</td>\n",
       "      <td>Comedy</td>\n",
       "      <td>Drama</td>\n",
       "      <td>None</td>\n",
       "    </tr>\n",
       "    <tr>\n",
       "      <th>1</th>\n",
       "      <td>Drama</td>\n",
       "      <td>Drama</td>\n",
       "      <td>None</td>\n",
       "      <td>None</td>\n",
       "    </tr>\n",
       "    <tr>\n",
       "      <th>2</th>\n",
       "      <td>Crime,Drama</td>\n",
       "      <td>Crime</td>\n",
       "      <td>Drama</td>\n",
       "      <td>None</td>\n",
       "    </tr>\n",
       "    <tr>\n",
       "      <th>3</th>\n",
       "      <td>Biography,Crime,Drama</td>\n",
       "      <td>Biography</td>\n",
       "      <td>Crime</td>\n",
       "      <td>Drama</td>\n",
       "    </tr>\n",
       "    <tr>\n",
       "      <th>4</th>\n",
       "      <td>Crime,Mystery,Thriller</td>\n",
       "      <td>Crime</td>\n",
       "      <td>Mystery</td>\n",
       "      <td>Thriller</td>\n",
       "    </tr>\n",
       "  </tbody>\n",
       "</table>\n",
       "</div>"
      ],
      "text/plain": [
       "                   genres     genre1   genre2    genre3\n",
       "0            Comedy,Drama     Comedy    Drama      None\n",
       "1                   Drama      Drama     None      None\n",
       "2             Crime,Drama      Crime    Drama      None\n",
       "3   Biography,Crime,Drama  Biography    Crime     Drama\n",
       "4  Crime,Mystery,Thriller      Crime  Mystery  Thriller"
      ]
     },
     "execution_count": 10,
     "metadata": {},
     "output_type": "execute_result"
    }
   ],
   "source": [
    "films_meilleures_notes = pd.read_csv(r\"C:\\Users\\Berenger\\Desktop\\projet abc\\films_meilleures_notes.csv\")\n",
    "genres_df = films_meilleures_notes[['genres']]\n",
    "new = genres_df[\"genres\"].str.split(\",\", n = 1, expand = True)\n",
    "new2 = new[1].str.split(\",\", n = 1, expand = True)\n",
    "genres_df[\"genre1\"] = new[0]\n",
    "genres_df[\"genre2\"] = new2[0]\n",
    "genres_df[\"genre3\"] = new2[1]\n",
    "genres_df.head()"
   ]
  },
  {
   "cell_type": "code",
   "execution_count": 11,
   "metadata": {},
   "outputs": [
    {
     "data": {
      "text/plain": [
       "0          Comedy\n",
       "1           Drama\n",
       "2           Crime\n",
       "3       Biography\n",
       "4           Crime\n",
       "5           Drama\n",
       "6          Comedy\n",
       "7          Action\n",
       "8          Comedy\n",
       "9           Crime\n",
       "10          Crime\n",
       "11      Biography\n",
       "12         Comedy\n",
       "13         Action\n",
       "14         Comedy\n",
       "15          Crime\n",
       "16         Comedy\n",
       "17      Biography\n",
       "18         Comedy\n",
       "19      Biography\n",
       "0           Drama\n",
       "1            None\n",
       "2           Drama\n",
       "3           Crime\n",
       "4         Mystery\n",
       "5            None\n",
       "6     Documentary\n",
       "7           Crime\n",
       "8         History\n",
       "9           Drama\n",
       "10          Drama\n",
       "11    Documentary\n",
       "12          Drama\n",
       "13      Adventure\n",
       "14         Family\n",
       "15          Drama\n",
       "16           None\n",
       "17          Crime\n",
       "18          Drama\n",
       "19          Drama\n",
       "0            None\n",
       "1            None\n",
       "2            None\n",
       "3           Drama\n",
       "4        Thriller\n",
       "5            None\n",
       "6            None\n",
       "7           Drama\n",
       "8            None\n",
       "9            None\n",
       "10           None\n",
       "11           None\n",
       "12           None\n",
       "13          Drama\n",
       "14        Mystery\n",
       "15           None\n",
       "16           None\n",
       "17    Documentary\n",
       "18           None\n",
       "19        History\n",
       "dtype: object"
      ]
     },
     "execution_count": 11,
     "metadata": {},
     "output_type": "execute_result"
    }
   ],
   "source": [
    "new_df = pd.concat([genres_df[\"genre1\"], genres_df[\"genre2\"], genres_df[\"genre3\"]])\n",
    "new_df"
   ]
  },
  {
   "cell_type": "code",
   "execution_count": 12,
   "metadata": {},
   "outputs": [
    {
     "data": {
      "text/plain": [
       "Drama          29.5%\n",
       "Crime          18.2%\n",
       "Comedy         15.9%\n",
       "Biography       9.1%\n",
       "Documentary     6.8%\n",
       "Action          4.5%\n",
       "Mystery         4.5%\n",
       "History         4.5%\n",
       "Adventure       2.3%\n",
       "Family          2.3%\n",
       "Thriller        2.3%\n",
       "dtype: object"
      ]
     },
     "execution_count": 12,
     "metadata": {},
     "output_type": "execute_result"
    }
   ],
   "source": [
    "new_df2 = new_df.value_counts(normalize=True).mul(100).round(1).astype(str) + '%'\n",
    "new_df2"
   ]
  },
  {
   "cell_type": "code",
   "execution_count": 15,
   "metadata": {},
   "outputs": [
    {
     "data": {
      "text/html": [
       "<div>\n",
       "<style scoped>\n",
       "    .dataframe tbody tr th:only-of-type {\n",
       "        vertical-align: middle;\n",
       "    }\n",
       "\n",
       "    .dataframe tbody tr th {\n",
       "        vertical-align: top;\n",
       "    }\n",
       "\n",
       "    .dataframe thead th {\n",
       "        text-align: right;\n",
       "    }\n",
       "</style>\n",
       "<table border=\"1\" class=\"dataframe\">\n",
       "  <thead>\n",
       "    <tr style=\"text-align: right;\">\n",
       "      <th></th>\n",
       "      <th>index</th>\n",
       "      <th>0</th>\n",
       "    </tr>\n",
       "  </thead>\n",
       "  <tbody>\n",
       "    <tr>\n",
       "      <th>0</th>\n",
       "      <td>Drama</td>\n",
       "      <td>29.5%</td>\n",
       "    </tr>\n",
       "    <tr>\n",
       "      <th>1</th>\n",
       "      <td>Crime</td>\n",
       "      <td>18.2%</td>\n",
       "    </tr>\n",
       "    <tr>\n",
       "      <th>2</th>\n",
       "      <td>Comedy</td>\n",
       "      <td>15.9%</td>\n",
       "    </tr>\n",
       "    <tr>\n",
       "      <th>3</th>\n",
       "      <td>Biography</td>\n",
       "      <td>9.1%</td>\n",
       "    </tr>\n",
       "    <tr>\n",
       "      <th>4</th>\n",
       "      <td>Documentary</td>\n",
       "      <td>6.8%</td>\n",
       "    </tr>\n",
       "    <tr>\n",
       "      <th>5</th>\n",
       "      <td>Action</td>\n",
       "      <td>4.5%</td>\n",
       "    </tr>\n",
       "    <tr>\n",
       "      <th>6</th>\n",
       "      <td>Mystery</td>\n",
       "      <td>4.5%</td>\n",
       "    </tr>\n",
       "    <tr>\n",
       "      <th>7</th>\n",
       "      <td>History</td>\n",
       "      <td>4.5%</td>\n",
       "    </tr>\n",
       "    <tr>\n",
       "      <th>8</th>\n",
       "      <td>Adventure</td>\n",
       "      <td>2.3%</td>\n",
       "    </tr>\n",
       "    <tr>\n",
       "      <th>9</th>\n",
       "      <td>Family</td>\n",
       "      <td>2.3%</td>\n",
       "    </tr>\n",
       "    <tr>\n",
       "      <th>10</th>\n",
       "      <td>Thriller</td>\n",
       "      <td>2.3%</td>\n",
       "    </tr>\n",
       "  </tbody>\n",
       "</table>\n",
       "</div>"
      ],
      "text/plain": [
       "          index      0\n",
       "0         Drama  29.5%\n",
       "1         Crime  18.2%\n",
       "2        Comedy  15.9%\n",
       "3     Biography   9.1%\n",
       "4   Documentary   6.8%\n",
       "5        Action   4.5%\n",
       "6       Mystery   4.5%\n",
       "7       History   4.5%\n",
       "8     Adventure   2.3%\n",
       "9        Family   2.3%\n",
       "10     Thriller   2.3%"
      ]
     },
     "execution_count": 15,
     "metadata": {},
     "output_type": "execute_result"
    }
   ],
   "source": [
    "new_df3 = pd.DataFrame(new_df2)\n",
    "new_df3.reset_index(inplace=True)"
   ]
  },
  {
   "cell_type": "code",
   "execution_count": 35,
   "metadata": {},
   "outputs": [],
   "source": [
    "new_df3.rename(columns = {0 : \"genre_percent\", \"index\" : \"genre\"}, inplace=True)\n"
   ]
  },
  {
   "cell_type": "code",
   "execution_count": 37,
   "metadata": {},
   "outputs": [],
   "source": [
    "#sauvegarde du dataframe\n",
    "new_df3.to_csv(r'C:\\Users\\Berenger\\Desktop\\projet abc\\share_carac.csv', index = True, header = True)"
   ]
  },
  {
   "cell_type": "code",
   "execution_count": null,
   "metadata": {},
   "outputs": [],
   "source": [
    "# # Etape 9 : Chargement du dataframe\n",
    "new_df3 = pd.read_csv(r\"C:\\Users\\Berenger\\Desktop\\projet abc\\share_carac.csv\")\n",
    "new_df3.head()"
   ]
  },
  {
   "cell_type": "code",
   "execution_count": 36,
   "metadata": {},
   "outputs": [
    {
     "data": {
      "application/vnd.plotly.v1+json": {
       "config": {
        "plotlyServerURL": "https://plot.ly"
       },
       "data": [
        {
         "alignmentgroup": "True",
         "hovertemplate": "=%{text}<extra></extra>",
         "legendgroup": "29.5%",
         "marker": {
          "color": "#636efa",
          "pattern": {
           "shape": ""
          }
         },
         "name": "29.5%",
         "offsetgroup": "29.5%",
         "orientation": "v",
         "showlegend": true,
         "text": [
          "29.5%"
         ],
         "textfont": {
          "size": 14
         },
         "textposition": "auto",
         "type": "bar",
         "x": [
          "Drama"
         ],
         "xaxis": "x",
         "y": [
          "29.5%"
         ],
         "yaxis": "y"
        },
        {
         "alignmentgroup": "True",
         "hovertemplate": "=%{text}<extra></extra>",
         "legendgroup": "18.2%",
         "marker": {
          "color": "#EF553B",
          "pattern": {
           "shape": ""
          }
         },
         "name": "18.2%",
         "offsetgroup": "18.2%",
         "orientation": "v",
         "showlegend": true,
         "text": [
          "18.2%"
         ],
         "textfont": {
          "size": 14
         },
         "textposition": "auto",
         "type": "bar",
         "x": [
          "Crime"
         ],
         "xaxis": "x",
         "y": [
          "18.2%"
         ],
         "yaxis": "y"
        },
        {
         "alignmentgroup": "True",
         "hovertemplate": "=%{text}<extra></extra>",
         "legendgroup": "15.9%",
         "marker": {
          "color": "#00cc96",
          "pattern": {
           "shape": ""
          }
         },
         "name": "15.9%",
         "offsetgroup": "15.9%",
         "orientation": "v",
         "showlegend": true,
         "text": [
          "15.9%"
         ],
         "textfont": {
          "size": 14
         },
         "textposition": "auto",
         "type": "bar",
         "x": [
          "Comedy"
         ],
         "xaxis": "x",
         "y": [
          "15.9%"
         ],
         "yaxis": "y"
        },
        {
         "alignmentgroup": "True",
         "hovertemplate": "=%{text}<extra></extra>",
         "legendgroup": "9.1%",
         "marker": {
          "color": "#ab63fa",
          "pattern": {
           "shape": ""
          }
         },
         "name": "9.1%",
         "offsetgroup": "9.1%",
         "orientation": "v",
         "showlegend": true,
         "text": [
          "9.1%"
         ],
         "textfont": {
          "size": 14
         },
         "textposition": "auto",
         "type": "bar",
         "x": [
          "Biography"
         ],
         "xaxis": "x",
         "y": [
          "9.1%"
         ],
         "yaxis": "y"
        },
        {
         "alignmentgroup": "True",
         "hovertemplate": "=%{text}<extra></extra>",
         "legendgroup": "6.8%",
         "marker": {
          "color": "#FFA15A",
          "pattern": {
           "shape": ""
          }
         },
         "name": "6.8%",
         "offsetgroup": "6.8%",
         "orientation": "v",
         "showlegend": true,
         "text": [
          "6.8%"
         ],
         "textfont": {
          "size": 14
         },
         "textposition": "auto",
         "type": "bar",
         "x": [
          "Documentary"
         ],
         "xaxis": "x",
         "y": [
          "6.8%"
         ],
         "yaxis": "y"
        },
        {
         "alignmentgroup": "True",
         "hovertemplate": "=%{text}<extra></extra>",
         "legendgroup": "4.5%",
         "marker": {
          "color": "#19d3f3",
          "pattern": {
           "shape": ""
          }
         },
         "name": "4.5%",
         "offsetgroup": "4.5%",
         "orientation": "v",
         "showlegend": true,
         "text": [
          "4.5%",
          "4.5%",
          "4.5%"
         ],
         "textfont": {
          "size": 14
         },
         "textposition": "auto",
         "type": "bar",
         "x": [
          "Action",
          "Mystery",
          "History"
         ],
         "xaxis": "x",
         "y": [
          "4.5%",
          "4.5%",
          "4.5%"
         ],
         "yaxis": "y"
        },
        {
         "alignmentgroup": "True",
         "hovertemplate": "=%{text}<extra></extra>",
         "legendgroup": "2.3%",
         "marker": {
          "color": "#FF6692",
          "pattern": {
           "shape": ""
          }
         },
         "name": "2.3%",
         "offsetgroup": "2.3%",
         "orientation": "v",
         "showlegend": true,
         "text": [
          "2.3%",
          "2.3%",
          "2.3%"
         ],
         "textfont": {
          "size": 14
         },
         "textposition": "auto",
         "type": "bar",
         "x": [
          "Adventure",
          "Family",
          "Thriller"
         ],
         "xaxis": "x",
         "y": [
          "2.3%",
          "2.3%",
          "2.3%"
         ],
         "yaxis": "y"
        }
       ],
       "layout": {
        "barmode": "relative",
        "height": 700,
        "legend": {
         "title": {
          "text": ""
         },
         "tracegroupgap": 0
        },
        "showlegend": false,
        "template": {
         "data": {
          "bar": [
           {
            "error_x": {
             "color": "#2a3f5f"
            },
            "error_y": {
             "color": "#2a3f5f"
            },
            "marker": {
             "line": {
              "color": "#E5ECF6",
              "width": 0.5
             },
             "pattern": {
              "fillmode": "overlay",
              "size": 10,
              "solidity": 0.2
             }
            },
            "type": "bar"
           }
          ],
          "barpolar": [
           {
            "marker": {
             "line": {
              "color": "#E5ECF6",
              "width": 0.5
             },
             "pattern": {
              "fillmode": "overlay",
              "size": 10,
              "solidity": 0.2
             }
            },
            "type": "barpolar"
           }
          ],
          "carpet": [
           {
            "aaxis": {
             "endlinecolor": "#2a3f5f",
             "gridcolor": "white",
             "linecolor": "white",
             "minorgridcolor": "white",
             "startlinecolor": "#2a3f5f"
            },
            "baxis": {
             "endlinecolor": "#2a3f5f",
             "gridcolor": "white",
             "linecolor": "white",
             "minorgridcolor": "white",
             "startlinecolor": "#2a3f5f"
            },
            "type": "carpet"
           }
          ],
          "choropleth": [
           {
            "colorbar": {
             "outlinewidth": 0,
             "ticks": ""
            },
            "type": "choropleth"
           }
          ],
          "contour": [
           {
            "colorbar": {
             "outlinewidth": 0,
             "ticks": ""
            },
            "colorscale": [
             [
              0,
              "#0d0887"
             ],
             [
              0.1111111111111111,
              "#46039f"
             ],
             [
              0.2222222222222222,
              "#7201a8"
             ],
             [
              0.3333333333333333,
              "#9c179e"
             ],
             [
              0.4444444444444444,
              "#bd3786"
             ],
             [
              0.5555555555555556,
              "#d8576b"
             ],
             [
              0.6666666666666666,
              "#ed7953"
             ],
             [
              0.7777777777777778,
              "#fb9f3a"
             ],
             [
              0.8888888888888888,
              "#fdca26"
             ],
             [
              1,
              "#f0f921"
             ]
            ],
            "type": "contour"
           }
          ],
          "contourcarpet": [
           {
            "colorbar": {
             "outlinewidth": 0,
             "ticks": ""
            },
            "type": "contourcarpet"
           }
          ],
          "heatmap": [
           {
            "colorbar": {
             "outlinewidth": 0,
             "ticks": ""
            },
            "colorscale": [
             [
              0,
              "#0d0887"
             ],
             [
              0.1111111111111111,
              "#46039f"
             ],
             [
              0.2222222222222222,
              "#7201a8"
             ],
             [
              0.3333333333333333,
              "#9c179e"
             ],
             [
              0.4444444444444444,
              "#bd3786"
             ],
             [
              0.5555555555555556,
              "#d8576b"
             ],
             [
              0.6666666666666666,
              "#ed7953"
             ],
             [
              0.7777777777777778,
              "#fb9f3a"
             ],
             [
              0.8888888888888888,
              "#fdca26"
             ],
             [
              1,
              "#f0f921"
             ]
            ],
            "type": "heatmap"
           }
          ],
          "heatmapgl": [
           {
            "colorbar": {
             "outlinewidth": 0,
             "ticks": ""
            },
            "colorscale": [
             [
              0,
              "#0d0887"
             ],
             [
              0.1111111111111111,
              "#46039f"
             ],
             [
              0.2222222222222222,
              "#7201a8"
             ],
             [
              0.3333333333333333,
              "#9c179e"
             ],
             [
              0.4444444444444444,
              "#bd3786"
             ],
             [
              0.5555555555555556,
              "#d8576b"
             ],
             [
              0.6666666666666666,
              "#ed7953"
             ],
             [
              0.7777777777777778,
              "#fb9f3a"
             ],
             [
              0.8888888888888888,
              "#fdca26"
             ],
             [
              1,
              "#f0f921"
             ]
            ],
            "type": "heatmapgl"
           }
          ],
          "histogram": [
           {
            "marker": {
             "pattern": {
              "fillmode": "overlay",
              "size": 10,
              "solidity": 0.2
             }
            },
            "type": "histogram"
           }
          ],
          "histogram2d": [
           {
            "colorbar": {
             "outlinewidth": 0,
             "ticks": ""
            },
            "colorscale": [
             [
              0,
              "#0d0887"
             ],
             [
              0.1111111111111111,
              "#46039f"
             ],
             [
              0.2222222222222222,
              "#7201a8"
             ],
             [
              0.3333333333333333,
              "#9c179e"
             ],
             [
              0.4444444444444444,
              "#bd3786"
             ],
             [
              0.5555555555555556,
              "#d8576b"
             ],
             [
              0.6666666666666666,
              "#ed7953"
             ],
             [
              0.7777777777777778,
              "#fb9f3a"
             ],
             [
              0.8888888888888888,
              "#fdca26"
             ],
             [
              1,
              "#f0f921"
             ]
            ],
            "type": "histogram2d"
           }
          ],
          "histogram2dcontour": [
           {
            "colorbar": {
             "outlinewidth": 0,
             "ticks": ""
            },
            "colorscale": [
             [
              0,
              "#0d0887"
             ],
             [
              0.1111111111111111,
              "#46039f"
             ],
             [
              0.2222222222222222,
              "#7201a8"
             ],
             [
              0.3333333333333333,
              "#9c179e"
             ],
             [
              0.4444444444444444,
              "#bd3786"
             ],
             [
              0.5555555555555556,
              "#d8576b"
             ],
             [
              0.6666666666666666,
              "#ed7953"
             ],
             [
              0.7777777777777778,
              "#fb9f3a"
             ],
             [
              0.8888888888888888,
              "#fdca26"
             ],
             [
              1,
              "#f0f921"
             ]
            ],
            "type": "histogram2dcontour"
           }
          ],
          "mesh3d": [
           {
            "colorbar": {
             "outlinewidth": 0,
             "ticks": ""
            },
            "type": "mesh3d"
           }
          ],
          "parcoords": [
           {
            "line": {
             "colorbar": {
              "outlinewidth": 0,
              "ticks": ""
             }
            },
            "type": "parcoords"
           }
          ],
          "pie": [
           {
            "automargin": true,
            "type": "pie"
           }
          ],
          "scatter": [
           {
            "marker": {
             "colorbar": {
              "outlinewidth": 0,
              "ticks": ""
             }
            },
            "type": "scatter"
           }
          ],
          "scatter3d": [
           {
            "line": {
             "colorbar": {
              "outlinewidth": 0,
              "ticks": ""
             }
            },
            "marker": {
             "colorbar": {
              "outlinewidth": 0,
              "ticks": ""
             }
            },
            "type": "scatter3d"
           }
          ],
          "scattercarpet": [
           {
            "marker": {
             "colorbar": {
              "outlinewidth": 0,
              "ticks": ""
             }
            },
            "type": "scattercarpet"
           }
          ],
          "scattergeo": [
           {
            "marker": {
             "colorbar": {
              "outlinewidth": 0,
              "ticks": ""
             }
            },
            "type": "scattergeo"
           }
          ],
          "scattergl": [
           {
            "marker": {
             "colorbar": {
              "outlinewidth": 0,
              "ticks": ""
             }
            },
            "type": "scattergl"
           }
          ],
          "scattermapbox": [
           {
            "marker": {
             "colorbar": {
              "outlinewidth": 0,
              "ticks": ""
             }
            },
            "type": "scattermapbox"
           }
          ],
          "scatterpolar": [
           {
            "marker": {
             "colorbar": {
              "outlinewidth": 0,
              "ticks": ""
             }
            },
            "type": "scatterpolar"
           }
          ],
          "scatterpolargl": [
           {
            "marker": {
             "colorbar": {
              "outlinewidth": 0,
              "ticks": ""
             }
            },
            "type": "scatterpolargl"
           }
          ],
          "scatterternary": [
           {
            "marker": {
             "colorbar": {
              "outlinewidth": 0,
              "ticks": ""
             }
            },
            "type": "scatterternary"
           }
          ],
          "surface": [
           {
            "colorbar": {
             "outlinewidth": 0,
             "ticks": ""
            },
            "colorscale": [
             [
              0,
              "#0d0887"
             ],
             [
              0.1111111111111111,
              "#46039f"
             ],
             [
              0.2222222222222222,
              "#7201a8"
             ],
             [
              0.3333333333333333,
              "#9c179e"
             ],
             [
              0.4444444444444444,
              "#bd3786"
             ],
             [
              0.5555555555555556,
              "#d8576b"
             ],
             [
              0.6666666666666666,
              "#ed7953"
             ],
             [
              0.7777777777777778,
              "#fb9f3a"
             ],
             [
              0.8888888888888888,
              "#fdca26"
             ],
             [
              1,
              "#f0f921"
             ]
            ],
            "type": "surface"
           }
          ],
          "table": [
           {
            "cells": {
             "fill": {
              "color": "#EBF0F8"
             },
             "line": {
              "color": "white"
             }
            },
            "header": {
             "fill": {
              "color": "#C8D4E3"
             },
             "line": {
              "color": "white"
             }
            },
            "type": "table"
           }
          ]
         },
         "layout": {
          "annotationdefaults": {
           "arrowcolor": "#2a3f5f",
           "arrowhead": 0,
           "arrowwidth": 1
          },
          "autotypenumbers": "strict",
          "coloraxis": {
           "colorbar": {
            "outlinewidth": 0,
            "ticks": ""
           }
          },
          "colorscale": {
           "diverging": [
            [
             0,
             "#8e0152"
            ],
            [
             0.1,
             "#c51b7d"
            ],
            [
             0.2,
             "#de77ae"
            ],
            [
             0.3,
             "#f1b6da"
            ],
            [
             0.4,
             "#fde0ef"
            ],
            [
             0.5,
             "#f7f7f7"
            ],
            [
             0.6,
             "#e6f5d0"
            ],
            [
             0.7,
             "#b8e186"
            ],
            [
             0.8,
             "#7fbc41"
            ],
            [
             0.9,
             "#4d9221"
            ],
            [
             1,
             "#276419"
            ]
           ],
           "sequential": [
            [
             0,
             "#0d0887"
            ],
            [
             0.1111111111111111,
             "#46039f"
            ],
            [
             0.2222222222222222,
             "#7201a8"
            ],
            [
             0.3333333333333333,
             "#9c179e"
            ],
            [
             0.4444444444444444,
             "#bd3786"
            ],
            [
             0.5555555555555556,
             "#d8576b"
            ],
            [
             0.6666666666666666,
             "#ed7953"
            ],
            [
             0.7777777777777778,
             "#fb9f3a"
            ],
            [
             0.8888888888888888,
             "#fdca26"
            ],
            [
             1,
             "#f0f921"
            ]
           ],
           "sequentialminus": [
            [
             0,
             "#0d0887"
            ],
            [
             0.1111111111111111,
             "#46039f"
            ],
            [
             0.2222222222222222,
             "#7201a8"
            ],
            [
             0.3333333333333333,
             "#9c179e"
            ],
            [
             0.4444444444444444,
             "#bd3786"
            ],
            [
             0.5555555555555556,
             "#d8576b"
            ],
            [
             0.6666666666666666,
             "#ed7953"
            ],
            [
             0.7777777777777778,
             "#fb9f3a"
            ],
            [
             0.8888888888888888,
             "#fdca26"
            ],
            [
             1,
             "#f0f921"
            ]
           ]
          },
          "colorway": [
           "#636efa",
           "#EF553B",
           "#00cc96",
           "#ab63fa",
           "#FFA15A",
           "#19d3f3",
           "#FF6692",
           "#B6E880",
           "#FF97FF",
           "#FECB52"
          ],
          "font": {
           "color": "#2a3f5f"
          },
          "geo": {
           "bgcolor": "white",
           "lakecolor": "white",
           "landcolor": "#E5ECF6",
           "showlakes": true,
           "showland": true,
           "subunitcolor": "white"
          },
          "hoverlabel": {
           "align": "left"
          },
          "hovermode": "closest",
          "mapbox": {
           "style": "light"
          },
          "paper_bgcolor": "white",
          "plot_bgcolor": "#E5ECF6",
          "polar": {
           "angularaxis": {
            "gridcolor": "white",
            "linecolor": "white",
            "ticks": ""
           },
           "bgcolor": "#E5ECF6",
           "radialaxis": {
            "gridcolor": "white",
            "linecolor": "white",
            "ticks": ""
           }
          },
          "scene": {
           "xaxis": {
            "backgroundcolor": "#E5ECF6",
            "gridcolor": "white",
            "gridwidth": 2,
            "linecolor": "white",
            "showbackground": true,
            "ticks": "",
            "zerolinecolor": "white"
           },
           "yaxis": {
            "backgroundcolor": "#E5ECF6",
            "gridcolor": "white",
            "gridwidth": 2,
            "linecolor": "white",
            "showbackground": true,
            "ticks": "",
            "zerolinecolor": "white"
           },
           "zaxis": {
            "backgroundcolor": "#E5ECF6",
            "gridcolor": "white",
            "gridwidth": 2,
            "linecolor": "white",
            "showbackground": true,
            "ticks": "",
            "zerolinecolor": "white"
           }
          },
          "shapedefaults": {
           "line": {
            "color": "#2a3f5f"
           }
          },
          "ternary": {
           "aaxis": {
            "gridcolor": "white",
            "linecolor": "white",
            "ticks": ""
           },
           "baxis": {
            "gridcolor": "white",
            "linecolor": "white",
            "ticks": ""
           },
           "bgcolor": "#E5ECF6",
           "caxis": {
            "gridcolor": "white",
            "linecolor": "white",
            "ticks": ""
           }
          },
          "title": {
           "x": 0.05
          },
          "xaxis": {
           "automargin": true,
           "gridcolor": "white",
           "linecolor": "white",
           "ticks": "",
           "title": {
            "standoff": 15
           },
           "zerolinecolor": "white",
           "zerolinewidth": 2
          },
          "yaxis": {
           "automargin": true,
           "gridcolor": "white",
           "linecolor": "white",
           "ticks": "",
           "title": {
            "standoff": 15
           },
           "zerolinecolor": "white",
           "zerolinewidth": 2
          }
         }
        },
        "title": {
         "text": "Partagent-ils des caractéristiques communes ?",
         "x": 0.5
        },
        "width": 1000,
        "xaxis": {
         "anchor": "y",
         "domain": [
          0,
          1
         ],
         "title": {
          "text": ""
         }
        },
        "yaxis": {
         "anchor": "x",
         "categoryarray": [
          "2.3%",
          "4.5%",
          "6.8%",
          "9.1%",
          "15.9%",
          "18.2%",
          "29.5%"
         ],
         "categoryorder": "array",
         "domain": [
          0,
          1
         ],
         "title": {
          "text": ""
         },
         "visible": false
        }
       }
      }
     },
     "metadata": {},
     "output_type": "display_data"
    }
   ],
   "source": [
    "fig = px.bar(new_df3, x=\"genre\", y=\"genre_percent\", color = \"genre_percent\", text ='genre_percent',\n",
    "    title = 'Partagent-ils des caractéristiques communes ?',\n",
    "    labels = {'genre': '', 'genre_percent': ''},\n",
    "    width=1000, height=700)\n",
    "\n",
    "\n",
    "\n",
    "fig.update_traces(textfont_size=14)\n",
    "\n",
    "\n",
    "fig.update_layout(showlegend=False, title_x=0.5, yaxis={'visible': False})\n",
    "fig.show()\n",
    "\n",
    "\n",
    "\n",
    "    "
   ]
  },
  {
   "cell_type": "code",
   "execution_count": 69,
   "metadata": {},
   "outputs": [
    {
     "data": {
      "text/plain": [
       "1993.5"
      ]
     },
     "execution_count": 69,
     "metadata": {},
     "output_type": "execute_result"
    }
   ],
   "source": [
    "films_meilleures_notes[\"startYear\"].median()"
   ]
  },
  {
   "cell_type": "code",
   "execution_count": 97,
   "metadata": {},
   "outputs": [],
   "source": [
    "#merge_basics_principals_test5 = merge_basics_principals_test4.pivot(columns=\"startYear\")\n",
    "#merge_basics_principals_test6 = merge_basics_principals_test5.apply(pd.Series.value_counts)\n",
    "#merge_basics_principals_test7 = merge_basics_principals_test6.fillna(0)"
   ]
  },
  {
   "cell_type": "code",
   "execution_count": null,
   "metadata": {},
   "outputs": [],
   "source": [
    "#merge_basics_principals_test8 = merge_basics_principals_test7.transform(np.sort)\n",
    "#merge_basics_principals_test8.tail(60)"
   ]
  },
  {
   "cell_type": "code",
   "execution_count": 87,
   "metadata": {},
   "outputs": [],
   "source": [
    "#quelques tests\n",
    "\n",
    "#name_df6.loc[name_df6['primaryName'] == \"Nikita\"]\n",
    "\n",
    "#name_df6.loc[name_df6['primaryName'] == \"Brad Pitt\"]\n",
    "\n",
    "#principals_df.loc[(principals_df['nconst'] == \"nm0000093\") & (principals_df['category'] == \"actor\")]\n",
    "\n",
    "#principals_df[principals_df['category'].str.contains('actor|actress')]\n",
    "#principals_df['nconst'].value_counts()\n",
    "\n",
    "#name_df.loc[name_df['nconst'] == \"nm10120013\"]\n",
    "\n",
    "#principals_df2 = principals_df[principals_df['category'].str.contains('actor|actress')]\n",
    "\n",
    "#principals_df2['nconst'].value_counts()\n",
    "\n",
    "#principals_df.loc[principals_df['nconst'] == \"nm0000093\"]\n",
    "\n",
    "# name_df6['numberOfKnownForTitles'] = name_df6['knownForTitles'].str.count(\"tt\")\n",
    "# name_df6.sort_values(by=['numberOfKnownForTitles'], ascending=False).head(15)\n",
    "\n",
    "# name_df2 = name_df.dropna(axis=0)\n",
    "# name_df3 = name_df2[name_df2['primaryProfession'] != '\\\\N']\n",
    "# name_df4 = name_df3[name_df3['birthYear'] != '\\\\N']\n",
    "# name_df5 = name_df4[name_df4['knownForTitles'] != '\\\\N']\n",
    "# name_df6 = name_df5[name_df5['primaryProfession'].str.contains('actor|actress')]\n",
    "\n",
    "#akas_df2 = akas_df[(akas_df['region'] == 'FR') & (akas_df['title'] == 'Star Wars : Épisode VII - Le Réveil de la Force')]\n",
    "#akas_df2 = akas_df[akas_df['region'] == 'FR']\n",
    "#akas_df2 = akas_df[(akas_df['title'] == 'Mr. & Mrs. Smith') & (akas_df['region'] == 'FR')]\n",
    "#akas_df2 = akas_df[akas_df['titleId'] == 'tt0000001']\n",
    "#akas_df2 = akas_df[akas_df['title'] == 'Mr. & Mrs. Smith']\n",
    "\n",
    "#actors_occurence_df6.to_csv(r'C:\\Users\\Berenger\\Desktop\\projet abc\\moyenne_age_acteurs.csv', index = False, header = True)"
   ]
  }
 ],
 "metadata": {
  "interpreter": {
   "hash": "78b7e305d27bf9bc60ca6e97d3f20268b064d9f5fcf2d23d574a1486a0310c34"
  },
  "kernelspec": {
   "display_name": "Python 3.8.12 64-bit ('base': conda)",
   "name": "python3"
  },
  "language_info": {
   "codemirror_mode": {
    "name": "ipython",
    "version": 3
   },
   "file_extension": ".py",
   "mimetype": "text/x-python",
   "name": "python",
   "nbconvert_exporter": "python",
   "pygments_lexer": "ipython3",
   "version": "3.8.12"
  },
  "orig_nbformat": 4
 },
 "nbformat": 4,
 "nbformat_minor": 2
}
