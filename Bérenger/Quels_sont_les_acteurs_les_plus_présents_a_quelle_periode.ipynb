{
 "cells": [
  {
   "cell_type": "code",
   "execution_count": null,
   "metadata": {},
   "outputs": [],
   "source": [
    "import numpy as np\n",
    "import pandas as pd\n",
    "import matplotlib.pyplot as plt\n",
    "import datetime as dt\n",
    "from scipy import stats\n",
    "import chart_studio.plotly as py\n",
    "import plotly.express as px\n",
    "import cufflinks as cf\n",
    "import plotly.graph_objects as go\n",
    "import seaborn as sns\n",
    "import ipywidgets as widgets"
   ]
  },
  {
   "cell_type": "code",
   "execution_count": null,
   "metadata": {},
   "outputs": [],
   "source": [
    "# étape 1 : Nettoyage de la base de données pour retirer les titres qui n'ont pas de startYear\n",
    "actors_occurence_df8 = actors_occurence_df7[actors_occurence_df7['startYear'] != \"\\\\N\"]\n",
    "# Garder les colonnes primaryName et startYear pour alléger le dataset\n",
    "actors_occurence_df9 = actors_occurence_df8[[\"primaryName\", \"startYear\"]]\n",
    "# Reset de l'index\n",
    "actors_occurence_df10 = actors_occurence_df9.reset_index(drop=True)"
   ]
  },
  {
   "cell_type": "code",
   "execution_count": null,
   "metadata": {},
   "outputs": [],
   "source": [
    "# étape 2 : création d'une fonction pour transformer une date en décennie\n",
    "def find_decade(year):\n",
    "    decade1 = (year // 10 * 10)\n",
    "    decade2 = (year // 10 * 10) + 10\n",
    "    return str(decade1) + \" - \" + str(decade2)\n",
    "\n",
    "print(find_decade(1934))\n"
   ]
  },
  {
   "cell_type": "code",
   "execution_count": null,
   "metadata": {},
   "outputs": [],
   "source": [
    "# étape 3 : application de la fonction\n",
    "actors_occurence_df11 = actors_occurence_df10.astype({\"startYear\": int})\n",
    "actors_occurence_df11[\"startYear\"] = actors_occurence_df11[\"startYear\"].apply(find_decade)"
   ]
  },
  {
   "cell_type": "code",
   "execution_count": null,
   "metadata": {},
   "outputs": [],
   "source": [
    "# étape 4 : reset de l'index\n",
    "actors_occurence_df11.reset_index(inplace=True)"
   ]
  },
  {
   "cell_type": "code",
   "execution_count": null,
   "metadata": {},
   "outputs": [],
   "source": [
    "# étape 5 : groupby sur la startYear et primaryName\n",
    "df_grouped_notreset  = pd.DataFrame({'count' : actors_occurence_df11.groupby(['startYear', 'primaryName'] ).size()})\n",
    "df_grouped_notreset.head()"
   ]
  },
  {
   "cell_type": "code",
   "execution_count": null,
   "metadata": {},
   "outputs": [],
   "source": [
    "# étape 6 : placer les résultats du count du plus haut au plus bas\n",
    "df_grouped_notreset_sorted=df_grouped_notreset.sort_values(['startYear', 'count'], ascending=False)\n",
    "df_grouped_notreset_sorted.head()"
   ]
  },
  {
   "cell_type": "code",
   "execution_count": null,
   "metadata": {},
   "outputs": [],
   "source": [
    "groupedDf = actors_occurence_df11.groupby(['startYear', 'primaryName'] ).size()\n",
    "groupedDf.head()"
   ]
  },
  {
   "cell_type": "code",
   "execution_count": null,
   "metadata": {},
   "outputs": [],
   "source": [
    "# étape 7 : Récupérer uniquement les 5 plus hautes valeur de la colonne count\n",
    "df_final  = pd.DataFrame({'count' : groupedDf.groupby(level='startYear').nlargest(5).reset_index(level=0, drop=True)})"
   ]
  },
  {
   "cell_type": "code",
   "execution_count": null,
   "metadata": {},
   "outputs": [],
   "source": [
    "df_final.reset_index(inplace=True)\n",
    "df_final[\"test\"] = df_final.index"
   ]
  },
  {
   "cell_type": "code",
   "execution_count": null,
   "metadata": {},
   "outputs": [],
   "source": [
    "df_final2 = df_final.tail(60)"
   ]
  },
  {
   "cell_type": "code",
   "execution_count": null,
   "metadata": {},
   "outputs": [],
   "source": [
    "# # Etape 8 : Sauvegarde du dataframe\n",
    "df_final2.to_csv(r'C:\\Users\\Berenger\\Desktop\\projet abc\\acteur_par_periode.csv', index = False, header = True)"
   ]
  },
  {
   "cell_type": "code",
   "execution_count": null,
   "metadata": {},
   "outputs": [],
   "source": [
    "# # Etape 9 : Chargement du dataframe\n",
    "acteur_par_periode = pd.read_csv(r\"C:\\Users\\Berenger\\Desktop\\projet abc\\acteur_par_periode.csv\")\n",
    "acteur_par_periode.head()"
   ]
  },
  {
   "cell_type": "code",
   "execution_count": null,
   "metadata": {},
   "outputs": [],
   "source": [
    "acteur_par_periode['rank'] = acteur_par_periode.groupby('startYear')['count'].rank(method = 'first')\n",
    "acteur_par_periode.style.background_gradient(subset=pd.IndexSlice[:, ['rank']])\n",
    "acteur_par_periode.head(5)"
   ]
  },
  {
   "cell_type": "code",
   "execution_count": null,
   "metadata": {},
   "outputs": [],
   "source": [
    "fig = px.bar(acteur_par_periode, x = 'count', y=\"rank\", text ='primaryName', color = 'primaryName',\n",
    "    title = 'Quels sont les acteurs les plus présents par périodes ?',\n",
    "    labels = {'startYear': 'Période', 'primaryName': 'Acteurs'},\n",
    "    orientation='h',\n",
    "    animation_frame=\"startYear\",\n",
    "    range_x=[0,150],\n",
    "    range_y=[0,6],\n",
    "    width=1300, height=800)\n",
    " \n",
    "fig.update_traces(textfont_size=12, textposition='outside')\n",
    "fig.update_layout()\n",
    "fig.layout.updatemenus[0].buttons[0].args[1][\"frame\"][\"duration\"] = 1000\n",
    "\n",
    "fig.update_layout(showlegend=False, title_x=0.5)"
   ]
  },
  {
   "cell_type": "code",
   "execution_count": null,
   "metadata": {},
   "outputs": [],
   "source": []
  },
  {
   "cell_type": "code",
   "execution_count": null,
   "metadata": {},
   "outputs": [],
   "source": []
  }
 ],
 "metadata": {
  "language_info": {
   "name": "python"
  },
  "orig_nbformat": 4
 },
 "nbformat": 4,
 "nbformat_minor": 2
}
