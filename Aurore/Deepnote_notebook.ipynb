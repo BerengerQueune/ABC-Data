{
 "cells": [
  {
   "cell_type": "markdown",
   "source": "### Import librairies :",
   "metadata": {
    "tags": [],
    "is_collapsed": false,
    "cell_id": "00000-06ef7bf4-b093-4b05-92b4-0d500977d31d",
    "deepnote_cell_type": "text-cell-h3"
   }
  },
  {
   "cell_type": "code",
   "source": "import pandas as pd\nimport numpy as np",
   "metadata": {
    "tags": [],
    "cell_id": "00001-9aa58fec-c1da-42d5-95b2-75e3343dd51c",
    "deepnote_to_be_reexecuted": false,
    "source_hash": "c76c7c51",
    "execution_start": 1634895409538,
    "execution_millis": 3,
    "deepnote_cell_type": "code"
   },
   "outputs": [],
   "execution_count": null
  },
  {
   "cell_type": "markdown",
   "source": "### Import des TSV : ",
   "metadata": {
    "tags": [],
    "is_collapsed": false,
    "cell_id": "00002-208c534c-246f-40f4-a250-7892914edbbd",
    "deepnote_cell_type": "text-cell-h3"
   }
  },
  {
   "cell_type": "markdown",
   "source": "**PERSONNALITES**",
   "metadata": {
    "tags": [],
    "cell_id": "00003-a31c7fdc-e85e-44d7-99c2-9556f82f795c",
    "deepnote_cell_type": "markdown"
   }
  },
  {
   "cell_type": "code",
   "source": "name_DF = pd.read_csv('https://datasets.imdbws.com/name.basics.tsv.gz', sep = \"\\t\", low_memory = False)\nname_DF.head()",
   "metadata": {
    "tags": [],
    "cell_id": "00004-6a273d63-e3b0-45c7-b07f-f0caa5cac2b6",
    "deepnote_to_be_reexecuted": false,
    "source_hash": "cfe7fd03",
    "execution_start": 1634895411970,
    "execution_millis": 7,
    "deepnote_cell_type": "code"
   },
   "outputs": [
    {
     "output_type": "error",
     "ename": "KernelInterrupted",
     "evalue": "Execution interrupted by the Jupyter kernel.",
     "traceback": [
      "\u001b[0;31m---------------------------------------------------------------------------\u001b[0m",
      "\u001b[0;31mKernelInterrupted\u001b[0m: Execution interrupted by the Jupyter kernel."
     ]
    }
   ],
   "execution_count": null
  },
  {
   "cell_type": "markdown",
   "source": "**FILMS SELON LES PAYS**",
   "metadata": {
    "tags": [],
    "cell_id": "00005-c88599cc-5e48-48f5-a6bc-09c9382d0fa6",
    "deepnote_cell_type": "markdown"
   }
  },
  {
   "cell_type": "code",
   "source": "akas_DF = pd.read_csv('https://datasets.imdbws.com/title.akas.tsv.gz', sep = \"\\t\", low_memory = False)\nakas_DF.head(50)",
   "metadata": {
    "tags": [],
    "cell_id": "00006-087c2718-2423-426a-bf3c-1efd1b3e71c1",
    "deepnote_cell_type": "code"
   },
   "outputs": [],
   "execution_count": null
  },
  {
   "cell_type": "markdown",
   "source": "**FILMS : GENRES, ANNEES DE PRODUCTION...**",
   "metadata": {
    "tags": [],
    "cell_id": "00007-10bb99c1-c18b-4c96-a23b-f66e97b84706",
    "deepnote_cell_type": "markdown"
   }
  },
  {
   "cell_type": "code",
   "source": "basics_DF = pd.read_csv('https://datasets.imdbws.com/title.basics.tsv.gz', sep = \"\\t\", low_memory = False)\nbasics_DF.head()",
   "metadata": {
    "tags": [],
    "cell_id": "00008-a2eb6a35-bcdc-4abe-b722-11a5d94b7a0a",
    "deepnote_cell_type": "code"
   },
   "outputs": [],
   "execution_count": null
  },
  {
   "cell_type": "markdown",
   "source": "**DIRECTEURS**",
   "metadata": {
    "tags": [],
    "cell_id": "00009-4849cfb1-d181-4eff-9fce-efb2f76efe1f",
    "deepnote_cell_type": "markdown"
   }
  },
  {
   "cell_type": "code",
   "source": "crew_DF = pd.read_csv('https://datasets.imdbws.com/title.crew.tsv.gz', sep = \"\\t\", low_memory = False)\ncrew_DF.head()",
   "metadata": {
    "tags": [],
    "cell_id": "00010-85035229-3eb8-4e52-97b2-6582ecc51ae6",
    "deepnote_cell_type": "code"
   },
   "outputs": [],
   "execution_count": null
  },
  {
   "cell_type": "markdown",
   "source": "**ZOOM SUR LES SERIES**",
   "metadata": {
    "tags": [],
    "cell_id": "00011-b4237561-549d-488a-bd4d-17c07bb698fa",
    "deepnote_cell_type": "markdown"
   }
  },
  {
   "cell_type": "code",
   "source": "episode_DF = pd.read_csv('https://datasets.imdbws.com/title.episode.tsv.gz', sep = \"\\t\", low_memory = False)\nepisode_DF.head()",
   "metadata": {
    "tags": [],
    "cell_id": "00012-8a9d7d77-59a7-40e4-9fc2-7b9fb0593b27",
    "deepnote_cell_type": "code"
   },
   "outputs": [],
   "execution_count": null
  },
  {
   "cell_type": "markdown",
   "source": "**CASTING PAR FILMS YC EQUIPE DE REALISATION**",
   "metadata": {
    "tags": [],
    "cell_id": "00013-c9b4eb8b-d9c4-4812-ae52-1d70ed051b1f",
    "deepnote_cell_type": "markdown"
   }
  },
  {
   "cell_type": "code",
   "source": "principals_DF = pd.read_csv('https://datasets.imdbws.com/title.principals.tsv.gz', sep = \"\\t\", low_memory = False)\nprincipals_DF.head()",
   "metadata": {
    "tags": [],
    "cell_id": "00014-65465580-87f0-46cf-b24f-0ed907d36e0d",
    "deepnote_cell_type": "code"
   },
   "outputs": [],
   "execution_count": null
  },
  {
   "cell_type": "markdown",
   "source": "**RATINGS**",
   "metadata": {
    "tags": [],
    "cell_id": "00015-d57e3d07-6b79-40a3-bb7c-2ef78191295e",
    "deepnote_cell_type": "markdown"
   }
  },
  {
   "cell_type": "code",
   "source": "ratings_DF = pd.read_csv('https://datasets.imdbws.com/title.ratings.tsv.gz', sep = \"\\t\", low_memory = False)\nratings_DF.head()",
   "metadata": {
    "tags": [],
    "cell_id": "00016-d209fa72-0a68-4681-87df-49e7e9f7abd4",
    "deepnote_cell_type": "code"
   },
   "outputs": [],
   "execution_count": null
  },
  {
   "cell_type": "markdown",
   "source": "### DF Personnalités : ",
   "metadata": {
    "tags": [],
    "is_collapsed": false,
    "cell_id": "00001-da3b26dc-1d72-478b-a213-fba7fa7864a0",
    "deepnote_cell_type": "text-cell-h3"
   }
  },
  {
   "cell_type": "code",
   "metadata": {
    "tags": [],
    "cell_id": "00000-868e3a45-bbf2-4945-8a23-bf881f952547",
    "deepnote_cell_type": "code"
   },
   "source": "# Liste des personnalités nettoyée des NaN dans colonne 'primaryProfession': \n# Utilisation de .dropna() :\n\nList_Act_Clean_DF = name_DF.dropna(subset = ['primaryProfession', 'knownForTitles'])\nprint(List_Act_Clean_DF)",
   "execution_count": null,
   "outputs": []
  },
  {
   "cell_type": "code",
   "source": "# Liste nettoyée des \\N dans colonnes 'primaryProfession', 'birthYear et 'knowForTitles' : \n\nList_Act_Clean_DF2 = List_Act_Clean_DF[List_Act_Clean_DF['primaryProfession'] != '\\\\N']\nList_Act_Clean_DF3 = List_Act_Clean_DF2[List_Act_Clean_DF2['birthYear'] != '\\\\N']\nList_Act_Clean_DF4 = List_Act_Clean_DF3[List_Act_Clean_DF3['knownForTitles'] != '\\\\N']\nprint(List_Act_Clean_DF4)",
   "metadata": {
    "tags": [],
    "cell_id": "00002-5a267fb7-564b-401a-bb66-ce62d7f9342a",
    "deepnote_cell_type": "code"
   },
   "outputs": [],
   "execution_count": null
  },
  {
   "cell_type": "markdown",
   "source": "**Liste Acteurs vs Productions tout types confondus :**",
   "metadata": {
    "tags": [],
    "cell_id": "00004-82618656-0162-4c5e-a0b7-b06a4c623214",
    "deepnote_cell_type": "markdown"
   }
  },
  {
   "cell_type": "code",
   "source": "# 1) Liste des acteurs/Actrices - utilisation de .str.contains('x|y') :\n\nList_Act_Clean_DF5 = List_Act_Clean_DF4[List_Act_Clean_DF4['primaryProfession'].str.contains('actor|actress')]\nprint(List_Act_Clean_DF5)",
   "metadata": {
    "tags": [],
    "cell_id": "00004-59613ff6-d218-4b55-aa84-dc9cbd00cf2f",
    "deepnote_cell_type": "code"
   },
   "outputs": [],
   "execution_count": null
  },
  {
   "cell_type": "code",
   "source": "# Fractionnement colonne 'knownForTitles' pour avoir un film par acteur/actrice et par ligne : \n# Etape 1 : utilisation de .set_index() pour mettre en index toutes les colonnes qui ne doivent pas être fractionnées :\n\nList_Act_Clean_DF6 = List_Act_Clean_DF5.set_index(['nconst', 'primaryName', 'birthYear', 'deathYear','primaryProfession'])\nprint(List_Act_Clean_DF6)",
   "metadata": {
    "tags": [],
    "cell_id": "00005-9de60743-4215-4cd0-8e03-d784197e3a90",
    "deepnote_cell_type": "code"
   },
   "outputs": [],
   "execution_count": null
  },
  {
   "cell_type": "code",
   "source": "# Fractionnement colonne 'knownForTitles' pour avoir un film par acteur/actrice et par ligne : \n# Etape 2 : utilisation de .stack() pour pivoter l'en-tête de la colonne 'knownForTitles' :\n\nList_Act_Clean_DF7 = List_Act_Clean_DF6.stack()\nprint(List_Act_Clean_DF7)",
   "metadata": {
    "tags": [],
    "cell_id": "00006-693c4812-c3fd-47da-95a2-4dbff071051e",
    "deepnote_cell_type": "code"
   },
   "outputs": [],
   "execution_count": null
  },
  {
   "cell_type": "code",
   "source": "# Fractionnement colonne 'knownForTitles' pour avoir un film par acteur/actrice et par ligne : \n# Etape 3 : utilisation de .str.split('', expand = True) pour spliter les Id des films selon leur séparateur et mettre 1 iD par ligne (si expand = False, split des Id mais en colonnes)\n\nList_Act_Clean_DF8 = List_Act_Clean_DF7.str.split(',', expand=True)\nprint(List_Act_Clean_DF8)",
   "metadata": {
    "tags": [],
    "cell_id": "00007-04e2a02b-8aed-4656-824a-02635cfc5674",
    "deepnote_cell_type": "code"
   },
   "outputs": [],
   "execution_count": null
  },
  {
   "cell_type": "code",
   "source": "# Fractionnement colonne 'knownForTitles' pour avoir un film par acteur/actrice et par ligne : \n# Etape 4 : utilisation de .stack() pour regrouper les films par acteurs/actrices et leur mettre un 'index' avant :\n\nList_Act_Clean_DF9 = List_Act_Clean_DF8.stack()\nprint(List_Act_Clean_DF9)",
   "metadata": {
    "tags": [],
    "cell_id": "00008-816464eb-e242-462f-b323-c084213abf06",
    "deepnote_cell_type": "code"
   },
   "outputs": [],
   "execution_count": null
  },
  {
   "cell_type": "code",
   "source": "# Fractionnement colonne 'knownForTitles' pour avoir un film par acteur/actrice et par ligne : \n# Etape 5 : utilisation de .unstack(-2) pour dépivoter le nom de la colonne 'knownForTitles' :\n\nList_Act_Clean_DF10 = List_Act_Clean_DF9.unstack(-2)\nprint(List_Act_Clean_DF10)",
   "metadata": {
    "tags": [],
    "cell_id": "00009-c10f2931-2598-4f37-bdb2-e50c2e392e15",
    "deepnote_cell_type": "code"
   },
   "outputs": [],
   "execution_count": null
  },
  {
   "cell_type": "code",
   "source": "# Fractionnement colonne 'knownForTitles' pour avoir un film par acteur/actrice et par ligne : \n# Etape 6 : utilisation de .reset_index(-1, drop = True) pour supprimer l'index temporaire qui est dans l'avant dernière colonne :\n\n\nList_Act_Clean_DF11 = List_Act_Clean_DF10.reset_index(-1, drop=True)\nprint(List_Act_Clean_DF11)",
   "metadata": {
    "tags": [],
    "cell_id": "00010-02606045-c620-4f39-8370-67b252a69760",
    "deepnote_cell_type": "code"
   },
   "outputs": [],
   "execution_count": null
  },
  {
   "cell_type": "code",
   "source": "# Fractionnement colonne 'knownForTitles' pour avoir un film par acteur/actrice et par ligne : \n# Etape 7 : utilisation de .reset_index() pour rebasculer les colonnes indexées en étape 1 en colonnes normales :\n\nList_Act_Clean_DF12 = List_Act_Clean_DF11.reset_index()\nprint(List_Act_Clean_DF12)",
   "metadata": {
    "tags": [],
    "cell_id": "00011-f7e159c8-7adb-493f-94cd-404177787ca5",
    "deepnote_cell_type": "code"
   },
   "outputs": [],
   "execution_count": null
  },
  {
   "cell_type": "markdown",
   "source": "**Liaison Acteurs vs Films/Série etc... :**",
   "metadata": {
    "tags": [],
    "cell_id": "00013-8017a30f-78f3-42e2-b1e8-bdab1ef9e214",
    "deepnote_cell_type": "markdown"
   }
  },
  {
   "cell_type": "code",
   "source": "# SELECT t1.*, t2.*\n# FROM df_1 t1\n# INNER JOIN df_2 t2\n# ON t1.index = t2.index\n\n\nProduct_vs_act_DF = pd.merge(List_Act_Clean_DF12,basics_DF, how = 'inner', left_on=['knownForTitles'], right_on=['tconst'])\nprint(Product_vs_act_DF)",
   "metadata": {
    "tags": [],
    "cell_id": "00013-978380a5-d783-40cc-8f6c-83727fe6409d",
    "deepnote_cell_type": "code"
   },
   "outputs": [],
   "execution_count": null
  },
  {
   "cell_type": "markdown",
   "source": "**Moyenne âge acteurs de films/série etc... :**",
   "metadata": {
    "tags": [],
    "cell_id": "00014-b2b02d7d-3a35-475e-a061-7382ab30a768",
    "deepnote_cell_type": "markdown"
   }
  },
  {
   "cell_type": "code",
   "source": "# Etape 1 : Sélection des lignes où les films ont des dates de production (discimination des films n'en n'ayant pas): \n\nProduct_vs_act_DF = Product_vs_act_DF[Product_vs_act_DF['startYear'] != '\\\\N']\nprint(Product_vs_act_DF)",
   "metadata": {
    "tags": [],
    "cell_id": "00015-e139e792-013d-44f8-a27d-1f4471fba4fb",
    "deepnote_cell_type": "code"
   },
   "outputs": [],
   "execution_count": null
  },
  {
   "cell_type": "code",
   "source": "# Etape 2 : transformation des colonnes 'startYear' et 'birthYear' en int : \n\nProduct_vs_act_DF['startYear'] = Product_vs_act_DF['startYear'].astype(int)\nProduct_vs_act_DF['birthYear'] = Product_vs_act_DF['birthYear'].astype(int)\n\n\n\n# Etape 3 : ajout de la colonne 'Age' correspondant à l'âge de l'acteur/actrice au moment de la production du film : \n\nProduct_vs_act_DF['Age'] = Product_vs_act_DF['startYear'] - Product_vs_act_DF['birthYear']\nprint(Product_vs_act_DF)",
   "metadata": {
    "tags": [],
    "cell_id": "00016-786b6578-5757-4c3d-a966-0715d9978a30",
    "deepnote_cell_type": "code"
   },
   "outputs": [],
   "execution_count": null
  },
  {
   "cell_type": "code",
   "source": "# Etape 4 : calcul de la moyenne d'âge avec .mean() + utilisation de round() pour arrondir le résultat : \n\nMoy_Age_Act = round(Product_vs_act_DF['Age'].mean())\nprint(Moy_Age_Act)",
   "metadata": {
    "tags": [],
    "cell_id": "00017-9ef9f622-23fb-4bf9-9c59-52e78aadbd59",
    "deepnote_cell_type": "code"
   },
   "outputs": [],
   "execution_count": null
  },
  {
   "cell_type": "markdown",
   "source": "**Acteurs les + présents, quel que soit le type de production :**\n\n**--> Utilisation du DF liaisonné Product_vs_act_DF :**",
   "metadata": {
    "tags": [],
    "cell_id": "00018-9be00b1d-c12f-4b8b-b52c-c18ef50b15bd",
    "deepnote_cell_type": "markdown"
   }
  },
  {
   "cell_type": "code",
   "source": "Act_most_present_DF = Product_vs_act_DF['primaryName'].value_counts(sort = True, ascending = False).head(5)\nprint('Les 5 acteurs/actrices les plus présents quel que soit le type de production (films, séries..) sont : \\n',Act_most_present_DF)",
   "metadata": {
    "tags": [],
    "cell_id": "00019-2f3473af-052d-4f0d-a92e-a2d188643e8a",
    "deepnote_cell_type": "code"
   },
   "outputs": [],
   "execution_count": null
  },
  {
   "cell_type": "markdown",
   "source": "**Acteurs les + présents, quel que soit le type de production, selon les périodes :**\n\n**--> Utilisation du DF liaisonné Product_vs_act_DF :**",
   "metadata": {
    "tags": [],
    "cell_id": "00018-df7f27fe-cd4e-4afd-a881-d894bc4054aa",
    "deepnote_cell_type": "markdown"
   }
  },
  {
   "cell_type": "code",
   "source": "# Etape 1 : Définition des périodes (=décennies) via ajout colonne :\n\nProduct_vs_act_DF['Période'] = (Product_vs_act_DF['startYear'] //10) *10\nprint(Product_vs_act_DF)",
   "metadata": {
    "tags": [],
    "cell_id": "00019-87cb0df9-c57c-4804-a67a-d9d92845c18b",
    "deepnote_cell_type": "code"
   },
   "outputs": [],
   "execution_count": null
  },
  {
   "cell_type": "code",
   "source": "# Etape 2 : calcul fréquence selon période :\n\nAct_most_present_by_Decades_DF = Product_vs_act_DF.groupby(['Période','primaryName']).size()\nAct_most_present_by_Decades_DF",
   "metadata": {
    "tags": [],
    "cell_id": "00020-60e5a5a9-5a10-46dc-b561-fd8308df9afb",
    "deepnote_cell_type": "code"
   },
   "outputs": [],
   "execution_count": null
  },
  {
   "cell_type": "markdown",
   "source": "**Acteurs/actrices vs Movies_P1960_DF :**\n",
   "metadata": {
    "tags": [],
    "cell_id": "00040-58e8e88d-376f-4e68-ae19-218a4ec7132c",
    "deepnote_cell_type": "markdown"
   }
  },
  {
   "cell_type": "code",
   "source": "# Filtres : \n\n# Products après 1960 : \n\nProduct_P1960_vs_act_DF = Product_vs_act_DF[Product_vs_act_DF['startYear']>= 1960]\n\n# Films et films TV après 1960 : \n\nFilms__P1960_vs_act_DF = Product_P1960_vs_act_DF[Product_P1960_vs_act_DF['titleType'].str.contains('Movie|movie')] \nprint(Films__P1960_vs_act_DF)",
   "metadata": {
    "tags": [],
    "cell_id": "00041-bbab5dee-459a-4c6b-96b2-d941efc28d70",
    "deepnote_cell_type": "code"
   },
   "outputs": [],
   "execution_count": null
  },
  {
   "cell_type": "markdown",
   "source": "**Moyenne âge acteurs/actrices de films/films tv produits après 1960 (DataSet) :**",
   "metadata": {
    "tags": [],
    "cell_id": "00021-35f096f4-0698-4f3e-88b3-edd0f5757c89",
    "deepnote_cell_type": "markdown"
   }
  },
  {
   "cell_type": "code",
   "source": "Moy_Age_Act_Films_P1960 = round(Films__P1960_vs_act_DF['Age'].mean())\nprint(Moy_Age_Act_Films_P1960)",
   "metadata": {
    "tags": [],
    "cell_id": "00043-45941af0-2e55-4c7c-8b49-657f427617bb",
    "deepnote_cell_type": "code"
   },
   "outputs": [],
   "execution_count": null
  },
  {
   "cell_type": "markdown",
   "source": "**Acteurs/actrices de films/films tv produits après 1960 (DataSet) les + présents :**",
   "metadata": {
    "tags": [],
    "cell_id": "00024-d9dfdb8c-6768-42b6-b570-70b995a8e787",
    "deepnote_cell_type": "markdown"
   }
  },
  {
   "cell_type": "code",
   "source": "Act_most_present_FilmsP1960_DF = Films__P1960_vs_act_DF['primaryName'].value_counts(sort = True, ascending = False).head(5)\nprint('Les 5 acteurs/actrices les plus présents quel que soit le type de production (films, séries..) sont : \\n',Act_most_present_FilmsP1960_DF)",
   "metadata": {
    "tags": [],
    "cell_id": "00045-9a32c698-c755-4f5c-ac2c-9ddc9feffbc5",
    "deepnote_cell_type": "code"
   },
   "outputs": [],
   "execution_count": null
  },
  {
   "cell_type": "markdown",
   "source": "**Acteurs/actrices de films/films tv produits après 1960 (DataSet) les + présents selon décennies :**",
   "metadata": {
    "tags": [],
    "cell_id": "00025-a149d7aa-aa4c-46a6-bd5a-a36524aab3c3",
    "deepnote_cell_type": "markdown"
   }
  },
  {
   "cell_type": "code",
   "source": "",
   "metadata": {
    "tags": [],
    "cell_id": "00026-d7b6da39-15a6-4cb9-b776-0525ad9071d4",
    "deepnote_cell_type": "code"
   },
   "outputs": [],
   "execution_count": null
  },
  {
   "cell_type": "markdown",
   "source": "<a style='text-decoration:none;line-height:16px;display:flex;color:#5B5B62;padding:10px;justify-content:end;' href='https://deepnote.com?utm_source=created-in-deepnote-cell&projectId=bb4ebdbb-68fe-4d65-bdae-b774c78fb714' target=\"_blank\">\n<img alt='Created in deepnote.com' style='display:inline;max-height:16px;margin:0px;margin-right:7.5px;' src='data:image/svg+xml;base64,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' > </img>\nCreated in <span style='font-weight:600;margin-left:4px;'>Deepnote</span></a>",
   "metadata": {
    "tags": [],
    "created_in_deepnote_cell": true,
    "deepnote_cell_type": "markdown"
   }
  }
 ],
 "nbformat": 4,
 "nbformat_minor": 2,
 "metadata": {
  "orig_nbformat": 2,
  "deepnote": {
   "is_reactive": false
  },
  "deepnote_notebook_id": "6fd14a45-5178-4939-910c-437c499a677b",
  "deepnote_execution_queue": []
 }
}