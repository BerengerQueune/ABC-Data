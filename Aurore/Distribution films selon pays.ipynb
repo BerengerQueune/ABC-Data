{
 "cells": [
  {
   "cell_type": "code",
   "execution_count": 39,
   "id": "d563c6c8",
   "metadata": {},
   "outputs": [],
   "source": [
    "import matplotlib.pyplot as plt\n",
    "import numpy as np\n",
    "import pandas as pd\n",
    "import seaborn as sns\n",
    "from scipy import stats\n",
    "import ipywidgets as widgets\n",
    "import datetime as dt\n",
    "import plotly.express as px"
   ]
  },
  {
   "cell_type": "code",
   "execution_count": 151,
   "id": "b391c16b",
   "metadata": {},
   "outputs": [],
   "source": [
    "basics_DF = pd.read_csv(\"title_basics.tsv\", sep = \"\\t\", low_memory = False)"
   ]
  },
  {
   "cell_type": "code",
   "execution_count": 153,
   "id": "4dd09a59",
   "metadata": {},
   "outputs": [],
   "source": [
    "akas_DF = pd.read_csv(\"title_akas.tsv\", sep = \"\\t\", low_memory = False)"
   ]
  },
  {
   "cell_type": "markdown",
   "id": "804387ee",
   "metadata": {},
   "source": [
    "# NETTOYAGE ET FILTRES"
   ]
  },
  {
   "cell_type": "code",
   "execution_count": 154,
   "id": "b4533a27",
   "metadata": {},
   "outputs": [],
   "source": [
    "akas_DF.drop('isOriginalTitle', axis = 1, inplace = True) \n",
    "akas_DF.drop('ordering', axis = 1, inplace = True) \n",
    "akas_DF.drop('types', axis = 1, inplace = True) \n",
    "akas_DF.drop('attributes', axis = 1, inplace = True)\n",
    "\n",
    "basics_DF.drop('originalTitle', axis = 1, inplace = True)\n",
    "basics_DF.drop('endYear', axis = 1, inplace = True)\n",
    "\n",
    "# Ajout d'une colonne \"Période\" pour définir les décénnies : \n",
    "basics_DF = basics_DF.dropna(subset = ['startYear'])\n",
    "basics_DF = basics_DF[basics_DF['startYear'] != '\\\\N']\n",
    "basics_DF = basics_DF.astype({\"startYear\": int})\n",
    "basics_DF = basics_DF[basics_DF['startYear'] >= 1960 ]\n",
    "basics_DF['Période'] = (basics_DF['startYear'] //10) *10\n",
    "\n",
    "basics_DF_clean1 = basics_DF[basics_DF['runtimeMinutes'] != '\\\\N']\n",
    "basics_DF_clean2 = basics_DF_clean1.astype({\"runtimeMinutes\": int})\n",
    "basics_DF_clean = basics_DF_clean2[basics_DF_clean2['runtimeMinutes'] >= 60]"
   ]
  },
  {
   "cell_type": "code",
   "execution_count": 155,
   "id": "3125576a",
   "metadata": {},
   "outputs": [],
   "source": [
    "# Retourne que les 'movie' et 'tvMovie':\n",
    "Movies_DF = basics_DF[basics_DF['titleType'].str.contains('Movie|movie')]\n",
    "\n",
    "# Dropna akas_DF['region']:\n",
    "Akas_country_dropna_DF = akas_DF.dropna(subset = ['region'])\n",
    "\n",
    "# Drop Akas_country_dropna_DF['region'] !='\\\\N':\n",
    "Akas_country_dropna_DF = Akas_country_dropna_DF[Akas_country_dropna_DF['region'] != '\\\\N']"
   ]
  },
  {
   "cell_type": "markdown",
   "id": "dbca668d",
   "metadata": {},
   "source": [
    "# MERGE DES DF"
   ]
  },
  {
   "cell_type": "code",
   "execution_count": 156,
   "id": "ff44fa67",
   "metadata": {},
   "outputs": [],
   "source": [
    "# Liaison des DF Movies_DF et Akas_country_dropna_DF : \n",
    "Films_by_Country_long= pd.merge(Movies_DF,Akas_country_dropna_DF, how = 'inner', left_on=['tconst'], right_on=['titleId'])"
   ]
  },
  {
   "cell_type": "code",
   "execution_count": 157,
   "id": "9f0f30f6",
   "metadata": {},
   "outputs": [],
   "source": [
    "Films_by_Country_long.drop('titleId', axis = 1, inplace = True) \n",
    "Films_by_Country_long.drop('title', axis = 1, inplace = True) \n",
    "Films_by_Country_long.drop('language', axis = 1, inplace = True)\n",
    "Films_by_Country_long.drop('isAdult', axis = 1, inplace = True)\n",
    "Films_by_Country_long.drop('tconst', axis = 1, inplace = True)\n",
    "Films_by_Country_long.drop('runtimeMinutes', axis = 1, inplace = True)\n",
    "Films_by_Country_long.drop('genres', axis = 1, inplace = True)\n",
    "Films_by_Country_long.drop('startYear', axis = 1, inplace = True)\n",
    "Films_by_Country_long.drop('primaryTitle', axis = 1, inplace = True)"
   ]
  },
  {
   "cell_type": "code",
   "execution_count": 158,
   "id": "cc94a286",
   "metadata": {},
   "outputs": [],
   "source": [
    "Films_by_Country_long = Films_by_Country_long[Films_by_Country_long['region'] != 'WS']\n",
    "Films_by_Country_long = Films_by_Country_long[Films_by_Country_long['region'] != 'KN']\n",
    "Films_by_Country_long = Films_by_Country_long[Films_by_Country_long['region'] != 'GD']\n",
    "Films_by_Country_long = Films_by_Country_long[Films_by_Country_long['region'] != 'MS']\n",
    "Films_by_Country_long = Films_by_Country_long[Films_by_Country_long['region'] != 'MP']\n",
    "Films_by_Country_long = Films_by_Country_long[Films_by_Country_long['region'] != 'CF']\n",
    "Films_by_Country_long = Films_by_Country_long[Films_by_Country_long['region'] != 'DJ']\n",
    "Films_by_Country_long = Films_by_Country_long[Films_by_Country_long['region'] != 'SG']\n",
    "Films_by_Country_long = Films_by_Country_long[Films_by_Country_long['region'] != 'CQ']\n",
    "Films_by_Country_long = Films_by_Country_long[Films_by_Country_long['region'] != 'GQ']\n",
    "Films_by_Country_long = Films_by_Country_long[Films_by_Country_long['region'] != 'AS']\n",
    "Films_by_Country_long = Films_by_Country_long[Films_by_Country_long['region'] != 'SC']\n",
    "Films_by_Country_long = Films_by_Country_long[Films_by_Country_long['region'] != 'SB']\n",
    "Films_by_Country_long = Films_by_Country_long[Films_by_Country_long['region'] != 'VC']\n",
    "Films_by_Country_long = Films_by_Country_long[Films_by_Country_long['region'] != 'EH']\n",
    "Films_by_Country_long = Films_by_Country_long[Films_by_Country_long['region'] != 'NC']\n",
    "Films_by_Country_long = Films_by_Country_long[Films_by_Country_long['region'] != 'VU']\n",
    "Films_by_Country_long = Films_by_Country_long[Films_by_Country_long['region'] != 'AQ']\n",
    "Films_by_Country_long = Films_by_Country_long[Films_by_Country_long['region'] != 'KM']\n",
    "Films_by_Country_long = Films_by_Country_long[Films_by_Country_long['region'] != 'BW']\n",
    "Films_by_Country_long = Films_by_Country_long[Films_by_Country_long['region'] != 'DM']\n",
    "Films_by_Country_long = Films_by_Country_long[Films_by_Country_long['region'] != 'GY']\n",
    "Films_by_Country_long = Films_by_Country_long[Films_by_Country_long['region'] != 'ST']\n",
    "Films_by_Country_long = Films_by_Country_long[Films_by_Country_long['region'] != 'VA']\n",
    "Films_by_Country_long = Films_by_Country_long[Films_by_Country_long['region'] != 'LC']\n",
    "Films_by_Country_long = Films_by_Country_long[Films_by_Country_long['region'] != 'GM']\n",
    "Films_by_Country_long = Films_by_Country_long[Films_by_Country_long['region'] != 'FO']\n",
    "Films_by_Country_long = Films_by_Country_long[Films_by_Country_long['region'] != 'TL']\n",
    "Films_by_Country_long = Films_by_Country_long[Films_by_Country_long['region'] != 'TO']\n",
    "Films_by_Country_long = Films_by_Country_long[Films_by_Country_long['region'] != 'KY']\n",
    "Films_by_Country_long = Films_by_Country_long[Films_by_Country_long['region'] != 'MH']\n",
    "Films_by_Country_long = Films_by_Country_long[Films_by_Country_long['region'] != 'BZ']\n",
    "Films_by_Country_long = Films_by_Country_long[Films_by_Country_long['region'] != 'LS']\n",
    "Films_by_Country_long = Films_by_Country_long[Films_by_Country_long['region'] != 'CV']\n",
    "Films_by_Country_long = Films_by_Country_long[Films_by_Country_long['region'] != 'PF']\n",
    "Films_by_Country_long = Films_by_Country_long[Films_by_Country_long['region'] != 'TD']\n",
    "Films_by_Country_long = Films_by_Country_long[Films_by_Country_long['region'] != 'AN']\n",
    "Films_by_Country_long = Films_by_Country_long[Films_by_Country_long['region'] != 'BN']\n",
    "Films_by_Country_long = Films_by_Country_long[Films_by_Country_long['region'] != 'SZ']\n",
    "Films_by_Country_long = Films_by_Country_long[Films_by_Country_long['region'] != 'AD']\n",
    "Films_by_Country_long = Films_by_Country_long[Films_by_Country_long['region'] != 'LR']\n",
    "Films_by_Country_long = Films_by_Country_long[Films_by_Country_long['region'] != 'BM']\n",
    "Films_by_Country_long = Films_by_Country_long[Films_by_Country_long['region'] != 'GI']\n",
    "Films_by_Country_long = Films_by_Country_long[Films_by_Country_long['region'] != 'SO']\n",
    "Films_by_Country_long = Films_by_Country_long[Films_by_Country_long['region'] != 'MR']\n",
    "Films_by_Country_long = Films_by_Country_long[Films_by_Country_long['region'] != 'IM']\n",
    "Films_by_Country_long = Films_by_Country_long[Films_by_Country_long['region'] != 'RE']\n",
    "Films_by_Country_long = Films_by_Country_long[Films_by_Country_long['region'] != 'OM']\n",
    "Films_by_Country_long = Films_by_Country_long[Films_by_Country_long['region'] != 'ZM']\n",
    "Films_by_Country_long = Films_by_Country_long[Films_by_Country_long['region'] != 'AW']\n",
    "Films_by_Country_long = Films_by_Country_long[Films_by_Country_long['region'] != 'ER']\n",
    "Films_by_Country_long = Films_by_Country_long[Films_by_Country_long['region'] != 'LY']\n",
    "Films_by_Country_long = Films_by_Country_long[Films_by_Country_long['region'] != 'YE']\n",
    "Films_by_Country_long = Films_by_Country_long[Films_by_Country_long['region'] != 'GW']\n",
    "Films_by_Country_long = Films_by_Country_long[Films_by_Country_long['region'] != 'AG']\n",
    "Films_by_Country_long = Films_by_Country_long[Films_by_Country_long['region'] != 'TG']\n",
    "Films_by_Country_long = Films_by_Country_long[Films_by_Country_long['region'] != 'MQ']\n",
    "Films_by_Country_long = Films_by_Country_long[Films_by_Country_long['region'] != 'PG']\n",
    "Films_by_Country_long = Films_by_Country_long[Films_by_Country_long['region'] != 'MW']\n",
    "Films_by_Country_long = Films_by_Country_long[Films_by_Country_long['region'] != 'SR']\n",
    "Films_by_Country_long = Films_by_Country_long[Films_by_Country_long['region'] != 'GA']\n",
    "Films_by_Country_long = Films_by_Country_long[Films_by_Country_long['region'] != 'VI']\n",
    "Films_by_Country_long = Films_by_Country_long[Films_by_Country_long['region'] != 'BB']\n",
    "Films_by_Country_long = Films_by_Country_long[Films_by_Country_long['region'] != 'GN']\n",
    "Films_by_Country_long = Films_by_Country_long[Films_by_Country_long['region'] != 'MG']\n",
    "Films_by_Country_long = Films_by_Country_long[Films_by_Country_long['region'] != 'SL']\n",
    "Films_by_Country_long = Films_by_Country_long[Films_by_Country_long['region'] != 'BI']\n",
    "Films_by_Country_long = Films_by_Country_long[Films_by_Country_long['region'] != 'FJ']\n",
    "Films_by_Country_long = Films_by_Country_long[Films_by_Country_long['region'] != 'GU']\n",
    "Films_by_Country_long = Films_by_Country_long[Films_by_Country_long['region'] != 'GP']\n",
    "Films_by_Country_long = Films_by_Country_long[Films_by_Country_long['region'] != 'BJ']\n",
    "Films_by_Country_long = Films_by_Country_long[Films_by_Country_long['region'] != 'MO']\n",
    "Films_by_Country_long = Films_by_Country_long[Films_by_Country_long['region'] != 'BH']\n",
    "Films_by_Country_long = Films_by_Country_long[Films_by_Country_long['region'] != 'TM']\n",
    "Films_by_Country_long = Films_by_Country_long[Films_by_Country_long['region'] != 'GL']\n",
    "Films_by_Country_long = Films_by_Country_long[Films_by_Country_long['region'] != 'SD']\n",
    "Films_by_Country_long = Films_by_Country_long[Films_by_Country_long['region'] != 'NE']\n",
    "Films_by_Country_long = Films_by_Country_long[Films_by_Country_long['region'] != 'CD']\n",
    "Films_by_Country_long = Films_by_Country_long[Films_by_Country_long['region'] != 'SM']\n",
    "Films_by_Country_long = Films_by_Country_long[Films_by_Country_long['region'] != 'RW']\n",
    "Films_by_Country_long = Films_by_Country_long[Films_by_Country_long['region'] != 'ML']\n",
    "Films_by_Country_long = Films_by_Country_long[Films_by_Country_long['region'] != 'MC']\n",
    "Films_by_Country_long = Films_by_Country_long[Films_by_Country_long['region'] != 'CI']\n",
    "Films_by_Country_long = Films_by_Country_long[Films_by_Country_long['region'] != 'MV']\n",
    "Films_by_Country_long = Films_by_Country_long[Films_by_Country_long['region'] != 'ZW']\n",
    "Films_by_Country_long = Films_by_Country_long[Films_by_Country_long['region'] != 'BT']\n",
    "Films_by_Country_long = Films_by_Country_long[Films_by_Country_long['region'] != 'HN']\n",
    "Films_by_Country_long = Films_by_Country_long[Films_by_Country_long['region'] != 'NI']\n",
    "Films_by_Country_long = Films_by_Country_long[Films_by_Country_long['region'] != 'TJ']\n",
    "Films_by_Country_long = Films_by_Country_long[Films_by_Country_long['region'] != 'MU']\n",
    "Films_by_Country_long = Films_by_Country_long[Films_by_Country_long['region'] != 'ET']\n",
    "Films_by_Country_long = Films_by_Country_long[Films_by_Country_long['region'] != 'SV']\n",
    "Films_by_Country_long = Films_by_Country_long[Films_by_Country_long['region'] != 'JO']\n",
    "Films_by_Country_long = Films_by_Country_long[Films_by_Country_long['region'] != 'MZ']\n",
    "Films_by_Country_long = Films_by_Country_long[Films_by_Country_long['region'] != 'MM']\n",
    "Films_by_Country_long = Films_by_Country_long[Films_by_Country_long['region'] != 'TZ']\n",
    "Films_by_Country_long = Films_by_Country_long[Films_by_Country_long['region'] != 'AO']\n",
    "Films_by_Country_long = Films_by_Country_long[Films_by_Country_long['region'] != 'ME']\n",
    "Films_by_Country_long = Films_by_Country_long[Films_by_Country_long['region'] != 'BS']\n",
    "Films_by_Country_long = Films_by_Country_long[Films_by_Country_long['region'] != 'LA']\n",
    "Films_by_Country_long = Films_by_Country_long[Films_by_Country_long['region'] != 'MD']\n",
    "Films_by_Country_long = Films_by_Country_long[Films_by_Country_long['region'] != 'PS']\n",
    "Films_by_Country_long = Films_by_Country_long[Films_by_Country_long['region'] != 'TT']\n",
    "Films_by_Country_long = Films_by_Country_long[Films_by_Country_long['region'] != 'CG']\n",
    "Films_by_Country_long = Films_by_Country_long[Films_by_Country_long['region'] != 'KW']\n",
    "Films_by_Country_long = Films_by_Country_long[Films_by_Country_long['region'] != 'HT']\n",
    "Films_by_Country_long = Films_by_Country_long[Films_by_Country_long['region'] != 'KG']\n",
    "Films_by_Country_long = Films_by_Country_long[Films_by_Country_long['region'] != 'MT']\n",
    "Films_by_Country_long = Films_by_Country_long[Films_by_Country_long['region'] != 'LI']\n",
    "Films_by_Country_long = Films_by_Country_long[Films_by_Country_long['region'] != 'XSA']\n",
    "Films_by_Country_long = Films_by_Country_long[Films_by_Country_long['region'] != 'XKO']\n",
    "Films_by_Country_long = Films_by_Country_long[Films_by_Country_long['region'] != 'XKV']\n",
    "Films_by_Country_long = Films_by_Country_long[Films_by_Country_long['region'] != 'CSXX']\n",
    "Films_by_Country_long = Films_by_Country_long[Films_by_Country_long['region'] != 'VDVN']\n",
    "Films_by_Country_long = Films_by_Country_long[Films_by_Country_long['region'] != 'BUMM']\n",
    "Films_by_Country_long = Films_by_Country_long[Films_by_Country_long['region'] != 'ZRCD']\n",
    "Films_by_Country_long = Films_by_Country_long[Films_by_Country_long['region'] != 'XPI']\n",
    "Films_by_Country_long = Films_by_Country_long[Films_by_Country_long['region'] != 'XAU']\n",
    "Films_by_Country_long = Films_by_Country_long[Films_by_Country_long['region'] != 'XNA']\n",
    "Films_by_Country_long = Films_by_Country_long[Films_by_Country_long['region'] != 'XWW']"
   ]
  },
  {
   "cell_type": "code",
   "execution_count": 159,
   "id": "c897fdb1",
   "metadata": {},
   "outputs": [
    {
     "data": {
      "text/html": [
       "<div>\n",
       "<style scoped>\n",
       "    .dataframe tbody tr th:only-of-type {\n",
       "        vertical-align: middle;\n",
       "    }\n",
       "\n",
       "    .dataframe tbody tr th {\n",
       "        vertical-align: top;\n",
       "    }\n",
       "\n",
       "    .dataframe thead th {\n",
       "        text-align: right;\n",
       "    }\n",
       "</style>\n",
       "<table border=\"1\" class=\"dataframe\">\n",
       "  <thead>\n",
       "    <tr style=\"text-align: right;\">\n",
       "      <th></th>\n",
       "      <th>titleType</th>\n",
       "      <th>Période</th>\n",
       "      <th>region</th>\n",
       "    </tr>\n",
       "  </thead>\n",
       "  <tbody>\n",
       "    <tr>\n",
       "      <th>0</th>\n",
       "      <td>movie</td>\n",
       "      <td>2010</td>\n",
       "      <td>FR</td>\n",
       "    </tr>\n",
       "    <tr>\n",
       "      <th>1</th>\n",
       "      <td>movie</td>\n",
       "      <td>2010</td>\n",
       "      <td>PL</td>\n",
       "    </tr>\n",
       "    <tr>\n",
       "      <th>2</th>\n",
       "      <td>movie</td>\n",
       "      <td>2010</td>\n",
       "      <td>PT</td>\n",
       "    </tr>\n",
       "    <tr>\n",
       "      <th>3</th>\n",
       "      <td>movie</td>\n",
       "      <td>2010</td>\n",
       "      <td>XWW</td>\n",
       "    </tr>\n",
       "    <tr>\n",
       "      <th>4</th>\n",
       "      <td>movie</td>\n",
       "      <td>2010</td>\n",
       "      <td>DE</td>\n",
       "    </tr>\n",
       "    <tr>\n",
       "      <th>...</th>\n",
       "      <td>...</td>\n",
       "      <td>...</td>\n",
       "      <td>...</td>\n",
       "    </tr>\n",
       "    <tr>\n",
       "      <th>1792447</th>\n",
       "      <td>movie</td>\n",
       "      <td>2000</td>\n",
       "      <td>CO</td>\n",
       "    </tr>\n",
       "    <tr>\n",
       "      <th>1792448</th>\n",
       "      <td>tvMovie</td>\n",
       "      <td>2010</td>\n",
       "      <td>PL</td>\n",
       "    </tr>\n",
       "    <tr>\n",
       "      <th>1792449</th>\n",
       "      <td>movie</td>\n",
       "      <td>2010</td>\n",
       "      <td>IN</td>\n",
       "    </tr>\n",
       "    <tr>\n",
       "      <th>1792450</th>\n",
       "      <td>movie</td>\n",
       "      <td>2010</td>\n",
       "      <td>IN</td>\n",
       "    </tr>\n",
       "    <tr>\n",
       "      <th>1792451</th>\n",
       "      <td>movie</td>\n",
       "      <td>2010</td>\n",
       "      <td>BR</td>\n",
       "    </tr>\n",
       "  </tbody>\n",
       "</table>\n",
       "<p>1786797 rows × 3 columns</p>\n",
       "</div>"
      ],
      "text/plain": [
       "        titleType  Période region\n",
       "0           movie     2010     FR\n",
       "1           movie     2010     PL\n",
       "2           movie     2010     PT\n",
       "3           movie     2010    XWW\n",
       "4           movie     2010     DE\n",
       "...           ...      ...    ...\n",
       "1792447     movie     2000     CO\n",
       "1792448   tvMovie     2010     PL\n",
       "1792449     movie     2010     IN\n",
       "1792450     movie     2010     IN\n",
       "1792451     movie     2010     BR\n",
       "\n",
       "[1786797 rows x 3 columns]"
      ]
     },
     "execution_count": 159,
     "metadata": {},
     "output_type": "execute_result"
    }
   ],
   "source": [
    "Films_by_Country_long"
   ]
  },
  {
   "cell_type": "markdown",
   "id": "725b2b24",
   "metadata": {},
   "source": [
    "# COMPTAGE"
   ]
  },
  {
   "cell_type": "code",
   "execution_count": 171,
   "id": "662c874a",
   "metadata": {},
   "outputs": [],
   "source": [
    "# Values_count :\n",
    "Films_by_Country_values = Films_by_Country_long['region'].value_counts()"
   ]
  },
  {
   "cell_type": "code",
   "execution_count": 172,
   "id": "5f94f4a7",
   "metadata": {},
   "outputs": [
    {
     "name": "stdout",
     "output_type": "stream",
     "text": [
      "Palmarès des pays selon le nombre de films distribués\n"
     ]
    },
    {
     "data": {
      "text/plain": [
       "SN    140\n",
       "KE    139\n",
       "GH    137\n",
       "BF    123\n",
       "GT    116\n",
       "PY    111\n",
       "UG    110\n",
       "JM    104\n",
       "QA    104\n",
       "AF    100\n",
       "Name: region, dtype: int64"
      ]
     },
     "execution_count": 172,
     "metadata": {},
     "output_type": "execute_result"
    }
   ],
   "source": [
    "print('Palmarès des pays selon le nombre de films distribués')\n",
    "Films_by_Country_values.tail(10)"
   ]
  },
  {
   "cell_type": "markdown",
   "id": "29e76054",
   "metadata": {},
   "source": [
    "# GRAPHIQUES"
   ]
  },
  {
   "cell_type": "code",
   "execution_count": 173,
   "id": "7bb72268",
   "metadata": {},
   "outputs": [
    {
     "data": {
      "text/plain": [
       "<AxesSubplot:>"
      ]
     },
     "execution_count": 173,
     "metadata": {},
     "output_type": "execute_result"
    },
    {
     "data": {
      "image/png": "[encoded data removed]",
      "text/plain": [
       "<Figure size 432x288 with 1 Axes>"
      ]
     },
     "metadata": {
      "needs_background": "light"
     },
     "output_type": "display_data"
    }
   ],
   "source": [
    "# Barplot Films_by_Country :\n",
    "Films_by_Country_long['region'].value_counts().head(15).plot.bar()"
   ]
  },
  {
   "cell_type": "code",
   "execution_count": 176,
   "id": "814fd2a9",
   "metadata": {},
   "outputs": [
    {
     "data": {
      "text/plain": [
       "<AxesSubplot:xlabel='region', ylabel='count'>"
      ]
     },
     "execution_count": 176,
     "metadata": {},
     "output_type": "execute_result"
    },
    {
     "data": {
      "image/png": "[encoded data removed]",
      "text/plain": [
       "<Figure size 432x288 with 1 Axes>"
      ]
     },
     "metadata": {
      "needs_background": "light"
     },
     "output_type": "display_data"
    }
   ],
   "source": [
    "# countplot : \n",
    "sns.countplot(data = Films_by_Country_long, x= 'region', hue = 'titleType', order = Films_by_Country_long.region.value_counts().iloc[:10].index)"
   ]
  },
  {
   "cell_type": "code",
   "execution_count": 175,
   "id": "da4929ed",
   "metadata": {},
   "outputs": [],
   "source": [
    "#compression_opts = dict(method='zip',archive_name='Country.csv') \n",
    "#Films_by_Country_long.to_csv('Country.zip', index=False,compression=compression_opts) "
   ]
  },
  {
   "cell_type": "code",
   "execution_count": null,
   "id": "8f77c67b",
   "metadata": {},
   "outputs": [],
   "source": [
    "px.bar(Films_by_Country_long, x= 'region', color = 'titleType', y = country_DF.region.value_counts().iloc[:10].index,\n",
    "            title = 'Palmarès de la distribution des oeuvres par pays ',\n",
    "            labels = {'region': 'Pays'},\n",
    "            width=800, height=600)"
   ]
  }
 ],
 "metadata": {
  "kernelspec": {
   "display_name": "Python 3 (ipykernel)",
   "language": "python",
   "name": "python3"
  },
  "language_info": {
   "codemirror_mode": {
    "name": "ipython",
    "version": 3
   },
   "file_extension": ".py",
   "mimetype": "text/x-python",
   "name": "python",
   "nbconvert_exporter": "python",
   "pygments_lexer": "ipython3",
   "version": "3.8.12"
  }
 },
 "nbformat": 4,
 "nbformat_minor": 5
}
