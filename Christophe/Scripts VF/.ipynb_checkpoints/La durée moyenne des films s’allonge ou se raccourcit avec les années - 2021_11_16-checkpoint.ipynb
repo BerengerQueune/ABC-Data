{
 "cells": [
  {
   "cell_type": "code",
   "execution_count": 1,
   "id": "5baf5b37",
   "metadata": {},
   "outputs": [],
   "source": [
    "import numpy as np\n",
    "import pandas as pd\n",
    "import seaborn as sns\n",
    "import matplotlib.pyplot as plt\n",
    "import plotly.express as pe"
   ]
  },
  {
   "cell_type": "code",
   "execution_count": null,
   "id": "2e97d5b5",
   "metadata": {},
   "outputs": [],
   "source": [
    "#Import de la liste des films dans le fichier généré par Bérenger - ne pas garder pour github\n",
    "basics_DF = pd.read_csv('D:/Data analyst/Wild code school/Projets/Projet 2 - Pandas/BD/Christophe_DataFrame.csv', sep = ',', low_memory=False)"
   ]
  },
  {
   "cell_type": "code",
   "execution_count": null,
   "id": "311bd46c",
   "metadata": {},
   "outputs": [],
   "source": [
    "basics_DF.head()"
   ]
  },
  {
   "cell_type": "code",
   "execution_count": null,
   "id": "cee65291",
   "metadata": {},
   "outputs": [],
   "source": [
    "#Nettoyage du fichier source des titres\n",
    "basics_df1 = pd.read_csv(\"https://datasets.imdbws.com/title.basics.tsv.gz\", sep=\"\\t\", low_memory=False)\n",
    "basics_df2 = basics_df1[(basics_df1['startYear'] > str(1960))]\n",
    "basics_df3 = basics_df2[basics_df2['startYear'] != '\\\\N']\n",
    "basics_df4 = basics_df3[basics_df3['runtimeMinutes'] != '\\\\N']\n",
    "basics_DF = basics_df4[basics_df4['genres'] != '\\\\N']"
   ]
  },
  {
   "cell_type": "code",
   "execution_count": null,
   "id": "4ae0e873",
   "metadata": {},
   "outputs": [],
   "source": [
    "#Pour comparer ce qui est comparable, je ne prends que les movies non \"short\"\n",
    "film1 = basics_DF[basics_DF.titleType.isin (['movie'])]\n",
    "film2 = film1[film1[\"genres\"].apply(lambda x:x not in ['short'])]"
   ]
  },
  {
   "cell_type": "code",
   "execution_count": null,
   "id": "f14a0b33",
   "metadata": {},
   "outputs": [],
   "source": [
    "#Supprime les lignes avec des \"\\N\"\n",
    "aVirer = film2.index[film2.iloc[:,7] == (r'\\N')]\n",
    "film2.drop(aVirer,0, inplace=True)"
   ]
  },
  {
   "cell_type": "code",
   "execution_count": null,
   "id": "18c21c17",
   "metadata": {},
   "outputs": [],
   "source": [
    "#Transforme en integer la colonne\n",
    "film2['runtimeMinutes'] = film2['runtimeMinutes'].astype('int')"
   ]
  },
  {
   "cell_type": "code",
   "execution_count": null,
   "id": "a8f5a32d",
   "metadata": {},
   "outputs": [],
   "source": [
    "film3 = film2.groupby(['startYear']).mean()\n",
    "film3 = film3.reset_index()"
   ]
  },
  {
   "cell_type": "code",
   "execution_count": null,
   "id": "726445fb",
   "metadata": {},
   "outputs": [],
   "source": [
    "film3 = film3[(film3['startYear']<2021)]"
   ]
  },
  {
   "cell_type": "code",
   "execution_count": null,
   "id": "220fa7db",
   "metadata": {},
   "outputs": [],
   "source": [
    "fig = make_subplots(rows=2, cols=2)\n",
    "\n",
    "fig.add_trace(go.Scatter(x = film3[\"startYear\"], y=film3[\"runtimeMinutes\"]), row=1, col=1)\n",
    "\n",
    "fig.add_trace(go.Scatter(x = film3[\"startYear\"], y=film3[\"runtimeMinutes\"]), row=1, col=2)\n",
    "\n",
    "fig.add_trace(go.Scatter(x = film3[\"startYear\"], y=film3[\"runtimeMinutes\"]), row=2, col=1)\n",
    "\n",
    "fig.add_trace(go.Scatter(x = film3[\"startYear\"], y=film3[\"runtimeMinutes\"]), row=2, col=2)\n",
    "\n",
    "\n",
    "fig.update_yaxes(title_text=\"\", row=1, col=2, range=[80, 100])\n",
    "\n",
    "fig.update_yaxes(title_text=\"\", row=2, col=1, range=[50, 100])\n",
    "\n",
    "fig.update_yaxes(title_text=\"\", row=2, col=2, range=[0, 100])\n",
    "\n",
    "fig.update_layout(height=1000, width=1400, title_text=\"Evolution de la durée des films en minutes depuis 1960\", title_x=0.5, showlegend=False, template='plotly_dark', autosize=False)\n",
    "\n",
    "fig.show()"
   ]
  }
 ],
 "metadata": {
  "kernelspec": {
   "display_name": "Python 3",
   "language": "python",
   "name": "python3"
  },
  "language_info": {
   "codemirror_mode": {
    "name": "ipython",
    "version": 3
   },
   "file_extension": ".py",
   "mimetype": "text/x-python",
   "name": "python",
   "nbconvert_exporter": "python",
   "pygments_lexer": "ipython3",
   "version": "3.7.11"
  }
 },
 "nbformat": 4,
 "nbformat_minor": 5
}
