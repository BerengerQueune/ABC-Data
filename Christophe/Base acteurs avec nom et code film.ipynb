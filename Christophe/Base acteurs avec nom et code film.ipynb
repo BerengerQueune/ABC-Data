{
 "cells": [
  {
   "cell_type": "code",
   "execution_count": 1,
   "id": "3b346fba",
   "metadata": {},
   "outputs": [],
   "source": [
    "import numpy as np\n",
    "import pandas as pd\n",
    "import seaborn as sns\n",
    "import matplotlib.pyplot as plt\n",
    "import plotly.express as px"
   ]
  },
  {
   "cell_type": "code",
   "execution_count": 2,
   "id": "e02616b2",
   "metadata": {},
   "outputs": [],
   "source": [
    "principals_DF = pd.read_csv('D:/Data analyst/Wild code school/Projets/Projet 2 - Pandas/BD/title.principals.tsv', sep = '\\t')"
   ]
  },
  {
   "cell_type": "code",
   "execution_count": 3,
   "id": "6cfe8047",
   "metadata": {},
   "outputs": [],
   "source": [
    "#Filtrer les acteurs\n",
    "Actors = principals_DF[(principals_DF['category'].str.contains('actor', na = False)) \n",
    "                  | (principals_DF['category'].str.contains('actress', na = False))]"
   ]
  },
  {
   "cell_type": "code",
   "execution_count": 4,
   "id": "16a8bd1c",
   "metadata": {},
   "outputs": [],
   "source": [
    "name_DF = pd.read_csv('D:/Data analyst/Wild code school/Projets/Projet 2 - Pandas/BD/name.basics.tsv', sep = '\\t')"
   ]
  },
  {
   "cell_type": "code",
   "execution_count": 5,
   "id": "98836415",
   "metadata": {},
   "outputs": [],
   "source": [
    "actors2 = Actors.merge(name_DF, how = 'left', left_on = 'nconst', right_on = 'nconst')"
   ]
  },
  {
   "cell_type": "code",
   "execution_count": 9,
   "id": "62135f08",
   "metadata": {
    "scrolled": true
   },
   "outputs": [],
   "source": [
    "actors2 = actors2.drop(columns=['knownForTitles', 'job', 'characters', 'primaryProfession'])"
   ]
  },
  {
   "cell_type": "code",
   "execution_count": 12,
   "id": "5f720ce2",
   "metadata": {},
   "outputs": [
    {
     "data": {
      "text/html": [
       "<div><div id=7f91a497-515f-4a5a-9e3c-5fd516242f15 style=\"display:none; background-color:#9D6CFF; color:white; width:200px; height:30px; padding-left:5px; border-radius:4px; flex-direction:row; justify-content:space-around; align-items:center;\" onmouseover=\"this.style.backgroundColor='#BA9BF8'\" onmouseout=\"this.style.backgroundColor='#9D6CFF'\" onclick=\"window.commands?.execute('create-mitosheet-from-dataframe-output');\">See Full Dataframe in Mito</div> <script> if (window.commands.hasCommand('create-mitosheet-from-dataframe-output')) document.getElementById('7f91a497-515f-4a5a-9e3c-5fd516242f15').style.display = 'flex' </script> <table border=\"1\" class=\"dataframe\">\n",
       "  <thead>\n",
       "    <tr style=\"text-align: right;\">\n",
       "      <th></th>\n",
       "      <th>tconst</th>\n",
       "      <th>ordering</th>\n",
       "      <th>nconst</th>\n",
       "      <th>category</th>\n",
       "      <th>primaryName</th>\n",
       "      <th>birthYear</th>\n",
       "      <th>deathYear</th>\n",
       "    </tr>\n",
       "  </thead>\n",
       "  <tbody>\n",
       "    <tr>\n",
       "      <th>0</th>\n",
       "      <td>tt0000005</td>\n",
       "      <td>1</td>\n",
       "      <td>nm0443482</td>\n",
       "      <td>actor</td>\n",
       "      <td>Charles Kayser</td>\n",
       "      <td>1878</td>\n",
       "      <td>1966</td>\n",
       "    </tr>\n",
       "    <tr>\n",
       "      <th>1</th>\n",
       "      <td>tt0000005</td>\n",
       "      <td>2</td>\n",
       "      <td>nm0653042</td>\n",
       "      <td>actor</td>\n",
       "      <td>John Ott</td>\n",
       "      <td>1850</td>\n",
       "      <td>1931</td>\n",
       "    </tr>\n",
       "    <tr>\n",
       "      <th>2</th>\n",
       "      <td>tt0000007</td>\n",
       "      <td>1</td>\n",
       "      <td>nm0179163</td>\n",
       "      <td>actor</td>\n",
       "      <td>James J. Corbett</td>\n",
       "      <td>1866</td>\n",
       "      <td>1933</td>\n",
       "    </tr>\n",
       "    <tr>\n",
       "      <th>3</th>\n",
       "      <td>tt0000007</td>\n",
       "      <td>2</td>\n",
       "      <td>nm0183947</td>\n",
       "      <td>actor</td>\n",
       "      <td>Peter Courtney</td>\n",
       "      <td>1867</td>\n",
       "      <td>1896</td>\n",
       "    </tr>\n",
       "    <tr>\n",
       "      <th>4</th>\n",
       "      <td>tt0000008</td>\n",
       "      <td>1</td>\n",
       "      <td>nm0653028</td>\n",
       "      <td>actor</td>\n",
       "      <td>Fred Ott</td>\n",
       "      <td>1860</td>\n",
       "      <td>1936</td>\n",
       "    </tr>\n",
       "  </tbody>\n",
       "</table></div>"
      ],
      "text/plain": [
       "      tconst  ordering     nconst category       primaryName birthYear  \\\n",
       "0  tt0000005         1  nm0443482    actor    Charles Kayser      1878   \n",
       "1  tt0000005         2  nm0653042    actor          John Ott      1850   \n",
       "2  tt0000007         1  nm0179163    actor  James J. Corbett      1866   \n",
       "3  tt0000007         2  nm0183947    actor    Peter Courtney      1867   \n",
       "4  tt0000008         1  nm0653028    actor          Fred Ott      1860   \n",
       "\n",
       "  deathYear  \n",
       "0      1966  \n",
       "1      1931  \n",
       "2      1933  \n",
       "3      1896  \n",
       "4      1936  "
      ]
     },
     "execution_count": 12,
     "metadata": {},
     "output_type": "execute_result"
    }
   ],
   "source": [
    "actors2.head()"
   ]
  },
  {
   "cell_type": "code",
   "execution_count": 13,
   "id": "b8de2d21",
   "metadata": {},
   "outputs": [],
   "source": [
    "actors2.to_csv (r'D:\\Data analyst\\Wild code school\\Projets\\Projet 2 - Pandas\\acteursFilmNom.csv', index = False, header=True)"
   ]
  }
 ],
 "metadata": {
  "kernelspec": {
   "display_name": "Python 3",
   "language": "python",
   "name": "python3"
  },
  "language_info": {
   "codemirror_mode": {
    "name": "ipython",
    "version": 3
   },
   "file_extension": ".py",
   "mimetype": "text/x-python",
   "name": "python",
   "nbconvert_exporter": "python",
   "pygments_lexer": "ipython3",
   "version": "3.7.11"
  }
 },
 "nbformat": 4,
 "nbformat_minor": 5
}
