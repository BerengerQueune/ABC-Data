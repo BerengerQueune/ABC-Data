{
 "cells": [
  {
   "cell_type": "code",
   "execution_count": 11,
   "id": "d563c6c8",
   "metadata": {},
   "outputs": [],
   "source": [
    "import matplotlib.pyplot as plt\n",
    "import numpy as np\n",
    "import pandas as pd\n",
    "import seaborn as sns\n",
    "from scipy import stats\n",
    "import datetime as dt\n",
    "import plotly.express as px"
   ]
  },
  {
   "cell_type": "code",
   "execution_count": 14,
   "id": "957228dc",
   "metadata": {},
   "outputs": [],
   "source": [
    "name_DF = pd.read_csv(r\"C:\\Users\\agori\\Downloads\\Projet 2\\name_basics.tsv\", sep = \"\\t\", low_memory = False)"
   ]
  },
  {
   "cell_type": "code",
   "execution_count": 16,
   "id": "b391c16b",
   "metadata": {},
   "outputs": [],
   "source": [
    "basics_DF = pd.read_csv(r\"C:\\Users\\agori\\Downloads\\Projet 2\\title_basics.tsv\", sep = \"\\t\", low_memory = False)"
   ]
  },
  {
   "cell_type": "code",
   "execution_count": 17,
   "id": "d57b8e24",
   "metadata": {},
   "outputs": [],
   "source": [
    "principals_DF = pd.read_csv(r\"C:\\Users\\agori\\Downloads\\Projet 2\\title_principals.tsv\", sep = \"\\t\", low_memory = False)"
   ]
  },
  {
   "cell_type": "markdown",
   "id": "adb82063",
   "metadata": {},
   "source": [
    "# SELECTIONS DES COLONNES UTILES"
   ]
  },
  {
   "cell_type": "code",
   "execution_count": 18,
   "id": "097a7bf0",
   "metadata": {},
   "outputs": [],
   "source": [
    "name_DF.drop('deathYear', axis = 1, inplace = True)\n",
    "name_DF.drop('knownForTitles', axis = 1, inplace = True) "
   ]
  },
  {
   "cell_type": "code",
   "execution_count": 19,
   "id": "81a7c4b0",
   "metadata": {},
   "outputs": [],
   "source": [
    "basics_DF.drop('primaryTitle', axis = 1, inplace = True)\n",
    "basics_DF.drop('isAdult', axis = 1, inplace = True)\n",
    "basics_DF.drop('endYear', axis = 1, inplace = True)"
   ]
  },
  {
   "cell_type": "code",
   "execution_count": 20,
   "id": "120d7a24",
   "metadata": {},
   "outputs": [],
   "source": [
    "principals_DF.drop('job', axis = 1, inplace = True)\n",
    "principals_DF.drop('characters', axis = 1, inplace = True)"
   ]
  },
  {
   "cell_type": "markdown",
   "id": "804387ee",
   "metadata": {},
   "source": [
    "# NETTOYAGE ET FILTRES"
   ]
  },
  {
   "cell_type": "code",
   "execution_count": 21,
   "id": "3125576a",
   "metadata": {},
   "outputs": [],
   "source": [
    "# Nettoyage de la base relative aux acteurs\n",
    "name_clean_nan = name_DF.dropna(subset = ['primaryProfession'])\n",
    "name_clean_nan = name_clean_nan[name_clean_nan['primaryProfession'].str.contains('actor|actress')]\n",
    "name_clean = name_clean_nan[name_clean_nan['birthYear'] != '\\\\N']\n",
    "\n",
    "# --> nous avons maintenant un DF contenant uniquement des acteurs et actrices, et dont la colonne 'birthYear' est renseignée"
   ]
  },
  {
   "cell_type": "code",
   "execution_count": 22,
   "id": "5d472d30",
   "metadata": {},
   "outputs": [],
   "source": [
    "# Nettoyage de la base relative aux films et films tv :\n",
    "basics_DF = basics_DF[basics_DF['titleType'].str.contains('movie|tvMovie')]\n",
    "basics_DF_clean1 = basics_DF[basics_DF['runtimeMinutes'] != '\\\\N']\n",
    "basics_DF_clean2 = basics_DF_clean1.astype({\"runtimeMinutes\": int})\n",
    "basics_DF_clean = basics_DF_clean2[basics_DF_clean2['runtimeMinutes'] >= 60]\n",
    "basics_DF_clean = basics_DF_clean.dropna(subset = ['startYear'])\n",
    "basics_DF_clean = basics_DF_clean[basics_DF_clean['startYear'] != '\\\\N']\n",
    "basics_DF_clean = basics_DF_clean.astype({\"startYear\": int})\n",
    "basics_DF_clean = basics_DF_clean[basics_DF_clean['startYear'] >= 1894 ]\n",
    "\n",
    "# --> nous avons maintenant un DF contenant uniquement des films et des films tv dont la durée est supérieure à 60 minutes et dont nous avons des 'startYear' renseignés"
   ]
  },
  {
   "cell_type": "code",
   "execution_count": 23,
   "id": "e717e415",
   "metadata": {},
   "outputs": [],
   "source": [
    "# Nettoyage de la base relative category, contenant les clés des 2 tables précédentes :\n",
    "principals_DF = principals_DF[principals_DF['category'].str.contains('actor|actress')]\n",
    "\n",
    "# --> nous pouvons maintenant joindre les 2 bases de données grâce à cette table commune"
   ]
  },
  {
   "cell_type": "markdown",
   "id": "dbca668d",
   "metadata": {},
   "source": [
    "# MERGE DES DF"
   ]
  },
  {
   "cell_type": "code",
   "execution_count": 24,
   "id": "68b02742",
   "metadata": {},
   "outputs": [],
   "source": [
    "# Merge principals_DF avec name_clean :\n",
    "\n",
    "Act_DF = pd.merge(name_clean,principals_DF, how = 'left', left_on=['nconst'], right_on=['nconst'])"
   ]
  },
  {
   "cell_type": "code",
   "execution_count": 25,
   "id": "5250301a",
   "metadata": {},
   "outputs": [],
   "source": [
    "# Merge Act_DF avec basics_DF_clean :\n",
    "\n",
    "Age_DF = pd.merge(Act_DF,basics_DF_clean, how = 'right', left_on=['tconst'], right_on=['tconst'])\n",
    "Age_DF.reset_index(inplace = True)"
   ]
  },
  {
   "cell_type": "code",
   "execution_count": 26,
   "id": "7a9926df",
   "metadata": {},
   "outputs": [
    {
     "data": {
      "text/plain": [
       "index                     0\n",
       "nconst               122329\n",
       "primaryName          122329\n",
       "birthYear            122329\n",
       "primaryProfession    122329\n",
       "tconst                    0\n",
       "ordering             122329\n",
       "category             122329\n",
       "titleType                 0\n",
       "originalTitle             0\n",
       "startYear                 0\n",
       "runtimeMinutes            0\n",
       "genres                    0\n",
       "dtype: int64"
      ]
     },
     "execution_count": 26,
     "metadata": {},
     "output_type": "execute_result"
    }
   ],
   "source": [
    "Age_DF.isna().sum()"
   ]
  },
  {
   "cell_type": "code",
   "execution_count": 27,
   "id": "4a4974cf",
   "metadata": {},
   "outputs": [],
   "source": [
    "# On remarque que des films n'ont pas d'acteurs à mettre en face. \n",
    "# Nous allons donc supprimer ces lignes qui n'ont pas lieu d'être :\n",
    "Age_DF = Age_DF.dropna(subset = ['nconst'])"
   ]
  },
  {
   "cell_type": "code",
   "execution_count": 28,
   "id": "1c55fe94",
   "metadata": {},
   "outputs": [
    {
     "data": {
      "text/plain": [
       "index                0\n",
       "nconst               0\n",
       "primaryName          0\n",
       "birthYear            0\n",
       "primaryProfession    0\n",
       "tconst               0\n",
       "ordering             0\n",
       "category             0\n",
       "titleType            0\n",
       "originalTitle        0\n",
       "startYear            0\n",
       "runtimeMinutes       0\n",
       "genres               0\n",
       "dtype: int64"
      ]
     },
     "execution_count": 28,
     "metadata": {},
     "output_type": "execute_result"
    }
   ],
   "source": [
    "Age_DF.isna().sum()"
   ]
  },
  {
   "cell_type": "code",
   "execution_count": 29,
   "id": "a05a4be8",
   "metadata": {},
   "outputs": [
    {
     "data": {
      "text/plain": [
       "index                    0\n",
       "nconst                   0\n",
       "primaryName              0\n",
       "birthYear                0\n",
       "primaryProfession        0\n",
       "tconst                   0\n",
       "ordering                 0\n",
       "category                 0\n",
       "titleType                0\n",
       "originalTitle            0\n",
       "startYear                0\n",
       "runtimeMinutes           0\n",
       "genres               46691\n",
       "dtype: int64"
      ]
     },
     "execution_count": 29,
     "metadata": {},
     "output_type": "execute_result"
    }
   ],
   "source": [
    "Age_DF.isin(['\\\\N']).sum(axis = 0)"
   ]
  },
  {
   "cell_type": "code",
   "execution_count": 30,
   "id": "3cf5f9f2",
   "metadata": {},
   "outputs": [],
   "source": [
    "# Notre base est dorénavant propre.\n",
    "# Nous allons donc ajouter 1 colonne : celle de l'âge de l'acteur au moment de la 'startYear' :\n",
    "# Mais avant nous devons transformer les 2 colonnes souhaitées en int :\n",
    "Age_DF = Age_DF.astype({\"startYear\": int,\"birthYear\": int })\n",
    "Age_DF['Age'] = Age_DF['startYear'] - Age_DF['birthYear']"
   ]
  },
  {
   "cell_type": "code",
   "execution_count": 31,
   "id": "e911a588",
   "metadata": {},
   "outputs": [
    {
     "data": {
      "text/plain": [
       "array([  27,   35,   33,   34,   47,   38,   23,   43,    6,   28,   25,\n",
       "         67,   36,   42,   26,   30,   37,   22,   48,   32,   40,   31,\n",
       "         24,   49,   39,   66,   59,   41,   56,   45,   62,   54,   63,\n",
       "         60,   46,   61,   11,   21,   15,   19,   51,    8,   52,   18,\n",
       "         58,   20,   64,   50,   14,   69,   16,   29,   44,   73,   70,\n",
       "          9,   12,   53,   68,   55,   17,   84,   72,   65,   71,   57,\n",
       "          5,   80,   81,    7,    4,   75,   10,   13,   -1,    3,   79,\n",
       "         76,   74,   77,  133,  132,   78,   82,  124,  122,    2,   -3,\n",
       "         83,    1,  -15,   85,  107,  101,   95,   90,   87,   88,   -2,\n",
       "         91,   92,  100,  106,   86,   -5,   89,  112,   -6,   93,   -7,\n",
       "         97,   94,   98,    0,  -30,   99,  102,  -32, 1955,   -4,  131,\n",
       "        105,   96,  113,  110,  111,  129,  104,  116,  -18,  103,  121,\n",
       "        108,  148])"
      ]
     },
     "execution_count": 31,
     "metadata": {},
     "output_type": "execute_result"
    }
   ],
   "source": [
    "Age_DF['Age'].unique()"
   ]
  },
  {
   "cell_type": "code",
   "execution_count": 32,
   "id": "79c5e8b0",
   "metadata": {},
   "outputs": [],
   "source": [
    "# Malgré notre nettoyage des bases de données, nous rencontrons des outliers liés à des fautes de frappe ou autre\n",
    "# Nous allons donc nettoyer la base pour enlever les outliers (la valeur la + haute sera 110 car à notre connaissance, l'actrice la plus âgée ayant tourné avait 104 ans)\n",
    "\n",
    "Age_DF_clean_out = Age_DF[Age_DF['Age'] <= 110]\n",
    "Age_DF_clean = Age_DF_clean_out[Age_DF_clean_out['Age'] >= 0]\n"
   ]
  },
  {
   "cell_type": "code",
   "execution_count": 33,
   "id": "36c507ac",
   "metadata": {},
   "outputs": [],
   "source": [
    "Age_DF_clean.reset_index(inplace = True)"
   ]
  },
  {
   "cell_type": "code",
   "execution_count": 22,
   "id": "769832a0",
   "metadata": {},
   "outputs": [
    {
     "name": "stderr",
     "output_type": "stream",
     "text": [
      "C:\\Users\\agori\\AppData\\Local\\Temp/ipykernel_7492/3906605017.py:2: SettingWithCopyWarning: \n",
      "A value is trying to be set on a copy of a slice from a DataFrame.\n",
      "Try using .loc[row_indexer,col_indexer] = value instead\n",
      "\n",
      "See the caveats in the documentation: https://pandas.pydata.org/pandas-docs/stable/user_guide/indexing.html#returning-a-view-versus-a-copy\n",
      "  Age_DF_clean['periode'] = (Age_DF_clean['startYear'] //10) *10\n"
     ]
    }
   ],
   "source": [
    "# Notre DF est prêt mais nous allons ajouter une colonne période pour présenter nos données :\n",
    "#Age_DF_clean['periode'] = (Age_DF_clean['startYear'] //10) *10"
   ]
  },
  {
   "cell_type": "code",
   "execution_count": 34,
   "id": "76a70827",
   "metadata": {},
   "outputs": [
    {
     "data": {
      "text/html": [
       "<div>\n",
       "<style scoped>\n",
       "    .dataframe tbody tr th:only-of-type {\n",
       "        vertical-align: middle;\n",
       "    }\n",
       "\n",
       "    .dataframe tbody tr th {\n",
       "        vertical-align: top;\n",
       "    }\n",
       "\n",
       "    .dataframe thead th {\n",
       "        text-align: right;\n",
       "    }\n",
       "</style>\n",
       "<table border=\"1\" class=\"dataframe\">\n",
       "  <thead>\n",
       "    <tr style=\"text-align: right;\">\n",
       "      <th></th>\n",
       "      <th>level_0</th>\n",
       "      <th>index</th>\n",
       "      <th>nconst</th>\n",
       "      <th>primaryName</th>\n",
       "      <th>birthYear</th>\n",
       "      <th>primaryProfession</th>\n",
       "      <th>tconst</th>\n",
       "      <th>ordering</th>\n",
       "      <th>category</th>\n",
       "      <th>titleType</th>\n",
       "      <th>originalTitle</th>\n",
       "      <th>startYear</th>\n",
       "      <th>runtimeMinutes</th>\n",
       "      <th>genres</th>\n",
       "      <th>Age</th>\n",
       "    </tr>\n",
       "  </thead>\n",
       "  <tbody>\n",
       "    <tr>\n",
       "      <th>0</th>\n",
       "      <td>1</td>\n",
       "      <td>1</td>\n",
       "      <td>nm0846887</td>\n",
       "      <td>Elizabeth Tait</td>\n",
       "      <td>1879</td>\n",
       "      <td>actress</td>\n",
       "      <td>tt0000574</td>\n",
       "      <td>1.0</td>\n",
       "      <td>actress</td>\n",
       "      <td>movie</td>\n",
       "      <td>The Story of the Kelly Gang</td>\n",
       "      <td>1906</td>\n",
       "      <td>70</td>\n",
       "      <td>Action,Adventure,Biography</td>\n",
       "      <td>27</td>\n",
       "    </tr>\n",
       "    <tr>\n",
       "      <th>1</th>\n",
       "      <td>2</td>\n",
       "      <td>2</td>\n",
       "      <td>nm0846894</td>\n",
       "      <td>John Tait</td>\n",
       "      <td>1871</td>\n",
       "      <td>actor,producer</td>\n",
       "      <td>tt0000574</td>\n",
       "      <td>2.0</td>\n",
       "      <td>actor</td>\n",
       "      <td>movie</td>\n",
       "      <td>The Story of the Kelly Gang</td>\n",
       "      <td>1906</td>\n",
       "      <td>70</td>\n",
       "      <td>Action,Adventure,Biography</td>\n",
       "      <td>35</td>\n",
       "    </tr>\n",
       "    <tr>\n",
       "      <th>2</th>\n",
       "      <td>3</td>\n",
       "      <td>3</td>\n",
       "      <td>nm0906197</td>\n",
       "      <td>Georges Wague</td>\n",
       "      <td>1874</td>\n",
       "      <td>actor</td>\n",
       "      <td>tt0000591</td>\n",
       "      <td>1.0</td>\n",
       "      <td>actor</td>\n",
       "      <td>movie</td>\n",
       "      <td>L'enfant prodigue</td>\n",
       "      <td>1907</td>\n",
       "      <td>90</td>\n",
       "      <td>Drama</td>\n",
       "      <td>33</td>\n",
       "    </tr>\n",
       "    <tr>\n",
       "      <th>3</th>\n",
       "      <td>4</td>\n",
       "      <td>4</td>\n",
       "      <td>nm1323543</td>\n",
       "      <td>Christiane Mandelys</td>\n",
       "      <td>1873</td>\n",
       "      <td>actress</td>\n",
       "      <td>tt0000591</td>\n",
       "      <td>3.0</td>\n",
       "      <td>actress</td>\n",
       "      <td>movie</td>\n",
       "      <td>L'enfant prodigue</td>\n",
       "      <td>1907</td>\n",
       "      <td>90</td>\n",
       "      <td>Drama</td>\n",
       "      <td>34</td>\n",
       "    </tr>\n",
       "    <tr>\n",
       "      <th>4</th>\n",
       "      <td>7</td>\n",
       "      <td>7</td>\n",
       "      <td>nm0470307</td>\n",
       "      <td>Henry Krauss</td>\n",
       "      <td>1866</td>\n",
       "      <td>actor,director,writer</td>\n",
       "      <td>tt0001790</td>\n",
       "      <td>1.0</td>\n",
       "      <td>actor</td>\n",
       "      <td>movie</td>\n",
       "      <td>Les misérables - Époque 1: Jean Valjean</td>\n",
       "      <td>1913</td>\n",
       "      <td>60</td>\n",
       "      <td>Drama</td>\n",
       "      <td>47</td>\n",
       "    </tr>\n",
       "    <tr>\n",
       "      <th>...</th>\n",
       "      <td>...</td>\n",
       "      <td>...</td>\n",
       "      <td>...</td>\n",
       "      <td>...</td>\n",
       "      <td>...</td>\n",
       "      <td>...</td>\n",
       "      <td>...</td>\n",
       "      <td>...</td>\n",
       "      <td>...</td>\n",
       "      <td>...</td>\n",
       "      <td>...</td>\n",
       "      <td>...</td>\n",
       "      <td>...</td>\n",
       "      <td>...</td>\n",
       "      <td>...</td>\n",
       "    </tr>\n",
       "    <tr>\n",
       "      <th>818002</th>\n",
       "      <td>940382</td>\n",
       "      <td>940382</td>\n",
       "      <td>nm8678236</td>\n",
       "      <td>Lala Karmela</td>\n",
       "      <td>1985</td>\n",
       "      <td>actress</td>\n",
       "      <td>tt9916538</td>\n",
       "      <td>1.0</td>\n",
       "      <td>actress</td>\n",
       "      <td>movie</td>\n",
       "      <td>Kuambil Lagi Hatiku</td>\n",
       "      <td>2019</td>\n",
       "      <td>123</td>\n",
       "      <td>Drama</td>\n",
       "      <td>34</td>\n",
       "    </tr>\n",
       "    <tr>\n",
       "      <th>818003</th>\n",
       "      <td>940384</td>\n",
       "      <td>940384</td>\n",
       "      <td>nm0952498</td>\n",
       "      <td>Zbigniew Zamachowski</td>\n",
       "      <td>1961</td>\n",
       "      <td>actor,soundtrack,composer</td>\n",
       "      <td>tt9916692</td>\n",
       "      <td>4.0</td>\n",
       "      <td>actor</td>\n",
       "      <td>tvMovie</td>\n",
       "      <td>Teatroteka: Czlowiek bez twarzy</td>\n",
       "      <td>2015</td>\n",
       "      <td>66</td>\n",
       "      <td>Drama</td>\n",
       "      <td>54</td>\n",
       "    </tr>\n",
       "    <tr>\n",
       "      <th>818004</th>\n",
       "      <td>940385</td>\n",
       "      <td>940385</td>\n",
       "      <td>nm1410499</td>\n",
       "      <td>Sambor Czarnota</td>\n",
       "      <td>1977</td>\n",
       "      <td>actor</td>\n",
       "      <td>tt9916692</td>\n",
       "      <td>1.0</td>\n",
       "      <td>actor</td>\n",
       "      <td>tvMovie</td>\n",
       "      <td>Teatroteka: Czlowiek bez twarzy</td>\n",
       "      <td>2015</td>\n",
       "      <td>66</td>\n",
       "      <td>Drama</td>\n",
       "      <td>38</td>\n",
       "    </tr>\n",
       "    <tr>\n",
       "      <th>818005</th>\n",
       "      <td>940386</td>\n",
       "      <td>940386</td>\n",
       "      <td>nm1697691</td>\n",
       "      <td>Marzena Bergmann</td>\n",
       "      <td>1975</td>\n",
       "      <td>actress</td>\n",
       "      <td>tt9916692</td>\n",
       "      <td>2.0</td>\n",
       "      <td>actress</td>\n",
       "      <td>tvMovie</td>\n",
       "      <td>Teatroteka: Czlowiek bez twarzy</td>\n",
       "      <td>2015</td>\n",
       "      <td>66</td>\n",
       "      <td>Drama</td>\n",
       "      <td>40</td>\n",
       "    </tr>\n",
       "    <tr>\n",
       "      <th>818006</th>\n",
       "      <td>940387</td>\n",
       "      <td>940387</td>\n",
       "      <td>nm3937824</td>\n",
       "      <td>Marta Chyczewska</td>\n",
       "      <td>1988</td>\n",
       "      <td>actress,miscellaneous</td>\n",
       "      <td>tt9916692</td>\n",
       "      <td>3.0</td>\n",
       "      <td>actress</td>\n",
       "      <td>tvMovie</td>\n",
       "      <td>Teatroteka: Czlowiek bez twarzy</td>\n",
       "      <td>2015</td>\n",
       "      <td>66</td>\n",
       "      <td>Drama</td>\n",
       "      <td>27</td>\n",
       "    </tr>\n",
       "  </tbody>\n",
       "</table>\n",
       "<p>818007 rows × 15 columns</p>\n",
       "</div>"
      ],
      "text/plain": [
       "        level_0   index     nconst           primaryName  birthYear  \\\n",
       "0             1       1  nm0846887        Elizabeth Tait       1879   \n",
       "1             2       2  nm0846894             John Tait       1871   \n",
       "2             3       3  nm0906197         Georges Wague       1874   \n",
       "3             4       4  nm1323543   Christiane Mandelys       1873   \n",
       "4             7       7  nm0470307          Henry Krauss       1866   \n",
       "...         ...     ...        ...                   ...        ...   \n",
       "818002   940382  940382  nm8678236          Lala Karmela       1985   \n",
       "818003   940384  940384  nm0952498  Zbigniew Zamachowski       1961   \n",
       "818004   940385  940385  nm1410499       Sambor Czarnota       1977   \n",
       "818005   940386  940386  nm1697691      Marzena Bergmann       1975   \n",
       "818006   940387  940387  nm3937824      Marta Chyczewska       1988   \n",
       "\n",
       "                primaryProfession     tconst  ordering category titleType  \\\n",
       "0                         actress  tt0000574       1.0  actress     movie   \n",
       "1                  actor,producer  tt0000574       2.0    actor     movie   \n",
       "2                           actor  tt0000591       1.0    actor     movie   \n",
       "3                         actress  tt0000591       3.0  actress     movie   \n",
       "4           actor,director,writer  tt0001790       1.0    actor     movie   \n",
       "...                           ...        ...       ...      ...       ...   \n",
       "818002                    actress  tt9916538       1.0  actress     movie   \n",
       "818003  actor,soundtrack,composer  tt9916692       4.0    actor   tvMovie   \n",
       "818004                      actor  tt9916692       1.0    actor   tvMovie   \n",
       "818005                    actress  tt9916692       2.0  actress   tvMovie   \n",
       "818006      actress,miscellaneous  tt9916692       3.0  actress   tvMovie   \n",
       "\n",
       "                                  originalTitle  startYear  runtimeMinutes  \\\n",
       "0                   The Story of the Kelly Gang       1906              70   \n",
       "1                   The Story of the Kelly Gang       1906              70   \n",
       "2                             L'enfant prodigue       1907              90   \n",
       "3                             L'enfant prodigue       1907              90   \n",
       "4       Les misérables - Époque 1: Jean Valjean       1913              60   \n",
       "...                                         ...        ...             ...   \n",
       "818002                      Kuambil Lagi Hatiku       2019             123   \n",
       "818003          Teatroteka: Czlowiek bez twarzy       2015              66   \n",
       "818004          Teatroteka: Czlowiek bez twarzy       2015              66   \n",
       "818005          Teatroteka: Czlowiek bez twarzy       2015              66   \n",
       "818006          Teatroteka: Czlowiek bez twarzy       2015              66   \n",
       "\n",
       "                            genres  Age  \n",
       "0       Action,Adventure,Biography   27  \n",
       "1       Action,Adventure,Biography   35  \n",
       "2                            Drama   33  \n",
       "3                            Drama   34  \n",
       "4                            Drama   47  \n",
       "...                            ...  ...  \n",
       "818002                       Drama   34  \n",
       "818003                       Drama   54  \n",
       "818004                       Drama   38  \n",
       "818005                       Drama   40  \n",
       "818006                       Drama   27  \n",
       "\n",
       "[818007 rows x 15 columns]"
      ]
     },
     "execution_count": 34,
     "metadata": {},
     "output_type": "execute_result"
    }
   ],
   "source": [
    "Age_DF_clean"
   ]
  },
  {
   "cell_type": "code",
   "execution_count": 35,
   "id": "053ca8bf",
   "metadata": {},
   "outputs": [
    {
     "name": "stderr",
     "output_type": "stream",
     "text": [
      "C:\\Users\\agori\\AppData\\Local\\Packages\\PythonSoftwareFoundation.Python.3.9_qbz5n2kfra8p0\\LocalCache\\local-packages\\Python39\\site-packages\\pandas\\core\\frame.py:4906: SettingWithCopyWarning: \n",
      "A value is trying to be set on a copy of a slice from a DataFrame\n",
      "\n",
      "See the caveats in the documentation: https://pandas.pydata.org/pandas-docs/stable/user_guide/indexing.html#returning-a-view-versus-a-copy\n",
      "  return super().drop(\n"
     ]
    },
    {
     "data": {
      "text/html": [
       "<div>\n",
       "<style scoped>\n",
       "    .dataframe tbody tr th:only-of-type {\n",
       "        vertical-align: middle;\n",
       "    }\n",
       "\n",
       "    .dataframe tbody tr th {\n",
       "        vertical-align: top;\n",
       "    }\n",
       "\n",
       "    .dataframe thead th {\n",
       "        text-align: right;\n",
       "    }\n",
       "</style>\n",
       "<table border=\"1\" class=\"dataframe\">\n",
       "  <thead>\n",
       "    <tr style=\"text-align: right;\">\n",
       "      <th></th>\n",
       "      <th>primaryName</th>\n",
       "      <th>birthYear</th>\n",
       "      <th>tconst</th>\n",
       "      <th>category</th>\n",
       "      <th>titleType</th>\n",
       "      <th>originalTitle</th>\n",
       "      <th>startYear</th>\n",
       "      <th>genres</th>\n",
       "      <th>Age</th>\n",
       "    </tr>\n",
       "  </thead>\n",
       "  <tbody>\n",
       "    <tr>\n",
       "      <th>0</th>\n",
       "      <td>Elizabeth Tait</td>\n",
       "      <td>1879</td>\n",
       "      <td>tt0000574</td>\n",
       "      <td>actress</td>\n",
       "      <td>movie</td>\n",
       "      <td>The Story of the Kelly Gang</td>\n",
       "      <td>1906</td>\n",
       "      <td>Action,Adventure,Biography</td>\n",
       "      <td>27</td>\n",
       "    </tr>\n",
       "    <tr>\n",
       "      <th>1</th>\n",
       "      <td>John Tait</td>\n",
       "      <td>1871</td>\n",
       "      <td>tt0000574</td>\n",
       "      <td>actor</td>\n",
       "      <td>movie</td>\n",
       "      <td>The Story of the Kelly Gang</td>\n",
       "      <td>1906</td>\n",
       "      <td>Action,Adventure,Biography</td>\n",
       "      <td>35</td>\n",
       "    </tr>\n",
       "    <tr>\n",
       "      <th>2</th>\n",
       "      <td>Georges Wague</td>\n",
       "      <td>1874</td>\n",
       "      <td>tt0000591</td>\n",
       "      <td>actor</td>\n",
       "      <td>movie</td>\n",
       "      <td>L'enfant prodigue</td>\n",
       "      <td>1907</td>\n",
       "      <td>Drama</td>\n",
       "      <td>33</td>\n",
       "    </tr>\n",
       "    <tr>\n",
       "      <th>3</th>\n",
       "      <td>Christiane Mandelys</td>\n",
       "      <td>1873</td>\n",
       "      <td>tt0000591</td>\n",
       "      <td>actress</td>\n",
       "      <td>movie</td>\n",
       "      <td>L'enfant prodigue</td>\n",
       "      <td>1907</td>\n",
       "      <td>Drama</td>\n",
       "      <td>34</td>\n",
       "    </tr>\n",
       "    <tr>\n",
       "      <th>4</th>\n",
       "      <td>Henry Krauss</td>\n",
       "      <td>1866</td>\n",
       "      <td>tt0001790</td>\n",
       "      <td>actor</td>\n",
       "      <td>movie</td>\n",
       "      <td>Les misérables - Époque 1: Jean Valjean</td>\n",
       "      <td>1913</td>\n",
       "      <td>Drama</td>\n",
       "      <td>47</td>\n",
       "    </tr>\n",
       "    <tr>\n",
       "      <th>...</th>\n",
       "      <td>...</td>\n",
       "      <td>...</td>\n",
       "      <td>...</td>\n",
       "      <td>...</td>\n",
       "      <td>...</td>\n",
       "      <td>...</td>\n",
       "      <td>...</td>\n",
       "      <td>...</td>\n",
       "      <td>...</td>\n",
       "    </tr>\n",
       "    <tr>\n",
       "      <th>818002</th>\n",
       "      <td>Lala Karmela</td>\n",
       "      <td>1985</td>\n",
       "      <td>tt9916538</td>\n",
       "      <td>actress</td>\n",
       "      <td>movie</td>\n",
       "      <td>Kuambil Lagi Hatiku</td>\n",
       "      <td>2019</td>\n",
       "      <td>Drama</td>\n",
       "      <td>34</td>\n",
       "    </tr>\n",
       "    <tr>\n",
       "      <th>818003</th>\n",
       "      <td>Zbigniew Zamachowski</td>\n",
       "      <td>1961</td>\n",
       "      <td>tt9916692</td>\n",
       "      <td>actor</td>\n",
       "      <td>tvMovie</td>\n",
       "      <td>Teatroteka: Czlowiek bez twarzy</td>\n",
       "      <td>2015</td>\n",
       "      <td>Drama</td>\n",
       "      <td>54</td>\n",
       "    </tr>\n",
       "    <tr>\n",
       "      <th>818004</th>\n",
       "      <td>Sambor Czarnota</td>\n",
       "      <td>1977</td>\n",
       "      <td>tt9916692</td>\n",
       "      <td>actor</td>\n",
       "      <td>tvMovie</td>\n",
       "      <td>Teatroteka: Czlowiek bez twarzy</td>\n",
       "      <td>2015</td>\n",
       "      <td>Drama</td>\n",
       "      <td>38</td>\n",
       "    </tr>\n",
       "    <tr>\n",
       "      <th>818005</th>\n",
       "      <td>Marzena Bergmann</td>\n",
       "      <td>1975</td>\n",
       "      <td>tt9916692</td>\n",
       "      <td>actress</td>\n",
       "      <td>tvMovie</td>\n",
       "      <td>Teatroteka: Czlowiek bez twarzy</td>\n",
       "      <td>2015</td>\n",
       "      <td>Drama</td>\n",
       "      <td>40</td>\n",
       "    </tr>\n",
       "    <tr>\n",
       "      <th>818006</th>\n",
       "      <td>Marta Chyczewska</td>\n",
       "      <td>1988</td>\n",
       "      <td>tt9916692</td>\n",
       "      <td>actress</td>\n",
       "      <td>tvMovie</td>\n",
       "      <td>Teatroteka: Czlowiek bez twarzy</td>\n",
       "      <td>2015</td>\n",
       "      <td>Drama</td>\n",
       "      <td>27</td>\n",
       "    </tr>\n",
       "  </tbody>\n",
       "</table>\n",
       "<p>818007 rows × 9 columns</p>\n",
       "</div>"
      ],
      "text/plain": [
       "                 primaryName  birthYear     tconst category titleType  \\\n",
       "0             Elizabeth Tait       1879  tt0000574  actress     movie   \n",
       "1                  John Tait       1871  tt0000574    actor     movie   \n",
       "2              Georges Wague       1874  tt0000591    actor     movie   \n",
       "3        Christiane Mandelys       1873  tt0000591  actress     movie   \n",
       "4               Henry Krauss       1866  tt0001790    actor     movie   \n",
       "...                      ...        ...        ...      ...       ...   \n",
       "818002          Lala Karmela       1985  tt9916538  actress     movie   \n",
       "818003  Zbigniew Zamachowski       1961  tt9916692    actor   tvMovie   \n",
       "818004       Sambor Czarnota       1977  tt9916692    actor   tvMovie   \n",
       "818005      Marzena Bergmann       1975  tt9916692  actress   tvMovie   \n",
       "818006      Marta Chyczewska       1988  tt9916692  actress   tvMovie   \n",
       "\n",
       "                                  originalTitle  startYear  \\\n",
       "0                   The Story of the Kelly Gang       1906   \n",
       "1                   The Story of the Kelly Gang       1906   \n",
       "2                             L'enfant prodigue       1907   \n",
       "3                             L'enfant prodigue       1907   \n",
       "4       Les misérables - Époque 1: Jean Valjean       1913   \n",
       "...                                         ...        ...   \n",
       "818002                      Kuambil Lagi Hatiku       2019   \n",
       "818003          Teatroteka: Czlowiek bez twarzy       2015   \n",
       "818004          Teatroteka: Czlowiek bez twarzy       2015   \n",
       "818005          Teatroteka: Czlowiek bez twarzy       2015   \n",
       "818006          Teatroteka: Czlowiek bez twarzy       2015   \n",
       "\n",
       "                            genres  Age  \n",
       "0       Action,Adventure,Biography   27  \n",
       "1       Action,Adventure,Biography   35  \n",
       "2                            Drama   33  \n",
       "3                            Drama   34  \n",
       "4                            Drama   47  \n",
       "...                            ...  ...  \n",
       "818002                       Drama   34  \n",
       "818003                       Drama   54  \n",
       "818004                       Drama   38  \n",
       "818005                       Drama   40  \n",
       "818006                       Drama   27  \n",
       "\n",
       "[818007 rows x 9 columns]"
      ]
     },
     "execution_count": 35,
     "metadata": {},
     "output_type": "execute_result"
    }
   ],
   "source": [
    "Age_DF_clean.drop('level_0', axis = 1, inplace = True)\n",
    "Age_DF_clean.drop('index', axis = 1, inplace = True)\n",
    "Age_DF_clean.drop('nconst', axis = 1, inplace = True)\n",
    "Age_DF_clean.drop('primaryProfession', axis = 1, inplace = True)\n",
    "Age_DF_clean.drop('ordering', axis = 1, inplace = True)\n",
    "Age_DF_clean.drop('runtimeMinutes', axis = 1, inplace = True)\n",
    "Age_DF_clean.drop('tconst', axis = 1, inplace = True)\n",
    "Age_DF_clean.drop('originalTitle', axis = 1, inplace = True)\n",
    "Age_DF_clean.drop('primaryName', axis = 1, inplace = True)\n",
    "Age_DF_clean.drop('birthYear', axis = 1, inplace = True)\n",
    "Age_DF_clean.drop('genres', axis = 1, inplace = True)\n",
    "Age_DF_clean = Age_DF_clean[Age_DF_clean['startYear'] >= 1960 ]\n",
    "Age_DF_clean.reset_index(inplace = True)\n"
   ]
  },
  {
   "cell_type": "code",
   "execution_count": 78,
   "id": "e3201bb8",
   "metadata": {},
   "outputs": [
    {
     "data": {
      "text/html": [
       "<div>\n",
       "<style scoped>\n",
       "    .dataframe tbody tr th:only-of-type {\n",
       "        vertical-align: middle;\n",
       "    }\n",
       "\n",
       "    .dataframe tbody tr th {\n",
       "        vertical-align: top;\n",
       "    }\n",
       "\n",
       "    .dataframe thead th {\n",
       "        text-align: right;\n",
       "    }\n",
       "</style>\n",
       "<table border=\"1\" class=\"dataframe\">\n",
       "  <thead>\n",
       "    <tr style=\"text-align: right;\">\n",
       "      <th></th>\n",
       "      <th>index</th>\n",
       "      <th>category</th>\n",
       "      <th>titleType</th>\n",
       "      <th>startYear</th>\n",
       "      <th>Age</th>\n",
       "    </tr>\n",
       "  </thead>\n",
       "  <tbody>\n",
       "    <tr>\n",
       "      <th>0</th>\n",
       "      <td>10666</td>\n",
       "      <td>actor</td>\n",
       "      <td>movie</td>\n",
       "      <td>1993</td>\n",
       "      <td>64</td>\n",
       "    </tr>\n",
       "    <tr>\n",
       "      <th>1</th>\n",
       "      <td>10667</td>\n",
       "      <td>actress</td>\n",
       "      <td>movie</td>\n",
       "      <td>1993</td>\n",
       "      <td>29</td>\n",
       "    </tr>\n",
       "    <tr>\n",
       "      <th>2</th>\n",
       "      <td>10668</td>\n",
       "      <td>actress</td>\n",
       "      <td>movie</td>\n",
       "      <td>1993</td>\n",
       "      <td>35</td>\n",
       "    </tr>\n",
       "    <tr>\n",
       "      <th>3</th>\n",
       "      <td>49100</td>\n",
       "      <td>actor</td>\n",
       "      <td>movie</td>\n",
       "      <td>1970</td>\n",
       "      <td>37</td>\n",
       "    </tr>\n",
       "    <tr>\n",
       "      <th>4</th>\n",
       "      <td>49101</td>\n",
       "      <td>actor</td>\n",
       "      <td>movie</td>\n",
       "      <td>1970</td>\n",
       "      <td>64</td>\n",
       "    </tr>\n",
       "    <tr>\n",
       "      <th>...</th>\n",
       "      <td>...</td>\n",
       "      <td>...</td>\n",
       "      <td>...</td>\n",
       "      <td>...</td>\n",
       "      <td>...</td>\n",
       "    </tr>\n",
       "    <tr>\n",
       "      <th>653325</th>\n",
       "      <td>818002</td>\n",
       "      <td>actress</td>\n",
       "      <td>movie</td>\n",
       "      <td>2019</td>\n",
       "      <td>34</td>\n",
       "    </tr>\n",
       "    <tr>\n",
       "      <th>653326</th>\n",
       "      <td>818003</td>\n",
       "      <td>actor</td>\n",
       "      <td>tvMovie</td>\n",
       "      <td>2015</td>\n",
       "      <td>54</td>\n",
       "    </tr>\n",
       "    <tr>\n",
       "      <th>653327</th>\n",
       "      <td>818004</td>\n",
       "      <td>actor</td>\n",
       "      <td>tvMovie</td>\n",
       "      <td>2015</td>\n",
       "      <td>38</td>\n",
       "    </tr>\n",
       "    <tr>\n",
       "      <th>653328</th>\n",
       "      <td>818005</td>\n",
       "      <td>actress</td>\n",
       "      <td>tvMovie</td>\n",
       "      <td>2015</td>\n",
       "      <td>40</td>\n",
       "    </tr>\n",
       "    <tr>\n",
       "      <th>653329</th>\n",
       "      <td>818006</td>\n",
       "      <td>actress</td>\n",
       "      <td>tvMovie</td>\n",
       "      <td>2015</td>\n",
       "      <td>27</td>\n",
       "    </tr>\n",
       "  </tbody>\n",
       "</table>\n",
       "<p>653330 rows × 5 columns</p>\n",
       "</div>"
      ],
      "text/plain": [
       "         index category titleType  startYear  Age\n",
       "0        10666    actor     movie       1993   64\n",
       "1        10667  actress     movie       1993   29\n",
       "2        10668  actress     movie       1993   35\n",
       "3        49100    actor     movie       1970   37\n",
       "4        49101    actor     movie       1970   64\n",
       "...        ...      ...       ...        ...  ...\n",
       "653325  818002  actress     movie       2019   34\n",
       "653326  818003    actor   tvMovie       2015   54\n",
       "653327  818004    actor   tvMovie       2015   38\n",
       "653328  818005  actress   tvMovie       2015   40\n",
       "653329  818006  actress   tvMovie       2015   27\n",
       "\n",
       "[653330 rows x 5 columns]"
      ]
     },
     "execution_count": 78,
     "metadata": {},
     "output_type": "execute_result"
    }
   ],
   "source": [
    "Age_DF_clean"
   ]
  },
  {
   "cell_type": "code",
   "execution_count": 79,
   "id": "7000fdc9",
   "metadata": {},
   "outputs": [],
   "source": [
    "#compression_opts = dict(method='zip',archive_name='Age_acteurs20211118.csv') \n",
    "#Age_DF_clean.to_csv('Age_acteurs20211118.zip', index=False,compression=compression_opts) "
   ]
  },
  {
   "cell_type": "markdown",
   "id": "2d5cc10f",
   "metadata": {},
   "source": [
    "# STATS"
   ]
  },
  {
   "cell_type": "code",
   "execution_count": 82,
   "id": "4242d517",
   "metadata": {},
   "outputs": [],
   "source": [
    "Age_Moyen = pd.read_csv(r\"C:\\Users\\agori\\OneDrive\\Documents\\GitHub\\Movie_Recommandation\\Streamlit\\Age_acteurs20211118.csv\", sep = \"\\t\", low_memory = False)"
   ]
  },
  {
   "cell_type": "code",
   "execution_count": 83,
   "id": "80e33de8",
   "metadata": {},
   "outputs": [
    {
     "name": "stdout",
     "output_type": "stream",
     "text": [
      "La moyenne d'âge des acteurs de films est de 40 ans au moment des tournages.\n"
     ]
    }
   ],
   "source": [
    "# Moyenne âge acteurs de films :\n",
    "# Calcul de la moyenne d'âge avec .mean() + utilisation de round() pour arrondir le résultat : \n",
    "\n",
    "Age_Moyen = round(Age_DF_clean['Age'].mean())\n",
    "print(\"La moyenne d'âge des acteurs de films est de\", Age_Moyen, \"ans au moment des tournages.\")"
   ]
  },
  {
   "cell_type": "code",
   "execution_count": 84,
   "id": "292cf6b2",
   "metadata": {},
   "outputs": [
    {
     "data": {
      "text/plain": [
       "<seaborn.axisgrid.FacetGrid at 0x1f6abdaf190>"
      ]
     },
     "execution_count": 84,
     "metadata": {},
     "output_type": "execute_result"
    },
    {
     "data": {
      "image/png": "[encoded data removed]",
      "text/plain": [
       "<Figure size 360x360 with 1 Axes>"
      ]
     },
     "metadata": {},
     "output_type": "display_data"
    }
   ],
   "source": [
    "sns.displot(Age_DF_clean['Age'], kde=True)"
   ]
  },
  {
   "cell_type": "code",
   "execution_count": 86,
   "id": "caff460b",
   "metadata": {},
   "outputs": [
    {
     "data": {
      "image/png": "[encoded data removed]",
      "text/plain": [
       "<Figure size 1080x720 with 1 Axes>"
      ]
     },
     "metadata": {},
     "output_type": "display_data"
    }
   ],
   "source": [
    "fig, axes = plt.subplots(figsize=(15, 10))\n",
    "\n",
    "sns.set_style(\"whitegrid\")\n",
    "boxplot = sns.boxplot(data=Age_DF_clean,  y=\"Age\",\n",
    "                        showmeans=True, meanprops={\"marker\": \"x\", \"markeredgecolor\": \"red\", \"markersize\": \"30\"})\n",
    "\n",
    "\n",
    "boxplot.axes.set_title('Age des acteurs et actrices : Zoom',fontsize=25)\n",
    "boxplot.set_xlabel(\"Sexe\", size = 15)\n",
    "boxplot.set_ylabel('Age', size = 15)\n",
    "boxplot.tick_params(labelsize = 10)\n",
    "\n",
    "moyenne = round(Age_DF_clean['Age'].mean())\n",
    "\n",
    "plt.show()"
   ]
  },
  {
   "cell_type": "code",
   "execution_count": 87,
   "id": "35d1343f",
   "metadata": {},
   "outputs": [
    {
     "name": "stdout",
     "output_type": "stream",
     "text": [
      " Age des acteurs et actrices : Statistiques :\n",
      " \n",
      "L'âge moyen des acteurs, tout sexe confondu, est de 40 ans.\n"
     ]
    }
   ],
   "source": [
    "print(\" Age des acteurs et actrices : Statistiques :\")\n",
    "print(' ')\n",
    "print(\"L'âge moyen des acteurs, tout sexe confondu, est de\", moyenne, \"ans.\")"
   ]
  },
  {
   "cell_type": "code",
   "execution_count": 74,
   "id": "78584bd3",
   "metadata": {},
   "outputs": [
    {
     "data": {
      "image/png": "[encoded data removed]",
      "text/plain": [
       "<Figure size 1080x720 with 1 Axes>"
      ]
     },
     "metadata": {},
     "output_type": "display_data"
    }
   ],
   "source": [
    "fig, axes = plt.subplots(figsize=(15, 10))\n",
    "\n",
    "sns.set_style(\"whitegrid\")\n",
    "boxplot = sns.boxplot(data=Age_DF_clean,  x=\"category\", y=\"Age\",\n",
    "                        showmeans=True, meanprops={\"marker\": \"x\", \"markeredgecolor\": \"red\", \"markersize\": \"30\"})\n",
    "\n",
    "\n",
    "boxplot.axes.set_title('Age des acteurs et actrices : Zoom',fontsize=25)\n",
    "boxplot.set_xlabel(\"Sexe\", size = 15)\n",
    "boxplot.set_ylabel('Age', size = 15)\n",
    "boxplot.tick_params(labelsize = 10)\n",
    "\n",
    "plt.show()"
   ]
  },
  {
   "cell_type": "code",
   "execution_count": 88,
   "id": "56c6497f",
   "metadata": {},
   "outputs": [
    {
     "name": "stdout",
     "output_type": "stream",
     "text": [
      " Age des acteurs et actrices : Statistiques :\n",
      " \n",
      "Voici les moyennes d'âge par sexe : \n",
      "           Age\n",
      "category     \n",
      "actor      43\n",
      "actress    36\n",
      " \n",
      "Voici l'âge central des populations sexe :\n",
      "           Age\n",
      "category     \n",
      "actor      41\n",
      "actress    32\n"
     ]
    }
   ],
   "source": [
    "stats_Mean_ages_pivot = ((Age_DF_clean.pivot_table(values='Age', index='category', aggfunc='mean')).round()).astype(int)\n",
    "stats_Median_ages_pivot = Age_DF_clean.pivot_table(values='Age', index='category', aggfunc='median')\n",
    "print(\" Age des acteurs et actrices : Statistiques :\")\n",
    "print(' ')\n",
    "print(\"Voici les moyennes d'âge par sexe : \\n\", stats_Mean_ages_pivot)\n",
    "print(' ')\n",
    "print(\"Voici l'âge central des populations sexe :\\n\", stats_Median_ages_pivot)"
   ]
  },
  {
   "cell_type": "code",
   "execution_count": 89,
   "id": "80e16d27",
   "metadata": {},
   "outputs": [
    {
     "data": {
      "image/png": "[encoded data removed]",
      "text/plain": [
       "<Figure size 1080x720 with 1 Axes>"
      ]
     },
     "metadata": {},
     "output_type": "display_data"
    }
   ],
   "source": [
    "fig, axes = plt.subplots(figsize=(15, 10))\n",
    "\n",
    "sns.set_style(\"whitegrid\")\n",
    "boxplot = sns.boxplot(data=Age_DF_clean,  x=\"category\", y=\"Age\", hue = 'titleType',\n",
    "                        showmeans=True, meanprops={\"marker\": \"x\", \"markeredgecolor\": \"red\", \"markersize\": \"30\"})\n",
    "\n",
    "\n",
    "boxplot.axes.set_title('Age des acteurs et actrices : Zoom',fontsize=25)\n",
    "boxplot.set_xlabel(\"Sexe\", size = 15)\n",
    "boxplot.set_ylabel('Age', size = 15)\n",
    "boxplot.tick_params(labelsize = 10)\n",
    "boxplot.legend(loc = 'upper right', prop={'size': 15}, borderaxespad=0.)\n",
    "\n",
    "plt.show()"
   ]
  },
  {
   "cell_type": "code",
   "execution_count": 90,
   "id": "ba2d5190",
   "metadata": {},
   "outputs": [
    {
     "name": "stdout",
     "output_type": "stream",
     "text": [
      " Age des acteurs et actrices : Statistiques :\n",
      " \n",
      "Voici les moyennes d'âge par sexe et par catégorie de film: \n",
      " titleType  movie  tvMovie\n",
      "category                 \n",
      "actor         42       45\n",
      "actress       35       40\n",
      " \n",
      "Voici l'âge central des populations sexe et par catégorie de film:\n",
      " titleType  movie  tvMovie\n",
      "category                 \n",
      "actor         41       44\n",
      "actress       31       37\n"
     ]
    }
   ],
   "source": [
    "stats_Mean_ages_pivot = ((Age_DF_clean.pivot_table(values='Age', index='category', columns='titleType', aggfunc='mean')).round()).astype(int)\n",
    "stats_Median_ages_pivot = Age_DF_clean.pivot_table(values='Age', index='category', columns='titleType', aggfunc='median')\n",
    "print(\" Age des acteurs et actrices : Statistiques :\")\n",
    "print(' ')\n",
    "print(\"Voici les moyennes d'âge par sexe et par catégorie de film: \\n\", stats_Mean_ages_pivot)\n",
    "print(' ')\n",
    "print(\"Voici l'âge central des populations sexe et par catégorie de film:\\n\", stats_Median_ages_pivot)"
   ]
  }
 ],
 "metadata": {
  "kernelspec": {
   "display_name": "Python 3 (ipykernel)",
   "language": "python",
   "name": "python3"
  },
  "language_info": {
   "codemirror_mode": {
    "name": "ipython",
    "version": 3
   },
   "file_extension": ".py",
   "mimetype": "text/x-python",
   "name": "python",
   "nbconvert_exporter": "python",
   "pygments_lexer": "ipython3",
   "version": "3.9.9"
  }
 },
 "nbformat": 4,
 "nbformat_minor": 5
}
