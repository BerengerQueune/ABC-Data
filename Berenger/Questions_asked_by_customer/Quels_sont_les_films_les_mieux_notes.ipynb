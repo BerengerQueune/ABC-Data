{
 "cells": [
  {
   "cell_type": "code",
   "execution_count": null,
   "metadata": {},
   "outputs": [],
   "source": [
    "import numpy as np\n",
    "import pandas as pd\n",
    "import matplotlib.pyplot as plt\n",
    "import datetime as dt\n",
    "from scipy import stats\n",
    "import chart_studio.plotly as py\n",
    "import plotly.express as px\n",
    "import cufflinks as cf\n",
    "import plotly.graph_objects as go\n",
    "import seaborn as sns\n",
    "import ipywidgets as widgets"
   ]
  },
  {
   "cell_type": "code",
   "execution_count": null,
   "metadata": {},
   "outputs": [],
   "source": [
    "ratings_df = pd.read_csv(\"https://datasets.imdbws.com/title.ratings.tsv.gz\", sep=\"\\t\", low_memory=False)\n",
    "ratings_df.head(1)"
   ]
  },
  {
   "cell_type": "code",
   "execution_count": null,
   "metadata": {},
   "outputs": [],
   "source": [
    "basics_df = pd.read_csv(\"https://datasets.imdbws.com/title.basics.tsv.gz\", sep=\"\\t\", low_memory=False)\n",
    "basics_df.head(1)"
   ]
  },
  {
   "cell_type": "code",
   "execution_count": null,
   "metadata": {},
   "outputs": [],
   "source": [
    "best_ratings = ratings_df.loc[ratings_df['numVotes'] >= 10000]\n",
    "best_ratings"
   ]
  },
  {
   "cell_type": "code",
   "execution_count": null,
   "metadata": {},
   "outputs": [],
   "source": [
    "best_ratings_basics = basics_df[[\"tconst\", \"titleType\", \"primaryTitle\", \"startYear\", \"genres\"]]\n",
    "best_ratings_basics"
   ]
  },
  {
   "cell_type": "code",
   "execution_count": null,
   "metadata": {},
   "outputs": [],
   "source": [
    "best_ratings_basics2 = best_ratings_basics.set_index('tconst')\n",
    "best_ratings2 = best_ratings.set_index('tconst')"
   ]
  },
  {
   "cell_type": "code",
   "execution_count": null,
   "metadata": {},
   "outputs": [],
   "source": [
    "# \n",
    "best_ratings3 = pd.merge(best_ratings_basics2, best_ratings2, how='inner', left_index=True, right_index=True)"
   ]
  },
  {
   "cell_type": "code",
   "execution_count": null,
   "metadata": {},
   "outputs": [],
   "source": [
    "best_ratings4 = best_ratings3.loc[best_ratings3['titleType'] == \"movie\"]\n",
    "best_ratings4"
   ]
  },
  {
   "cell_type": "code",
   "execution_count": null,
   "metadata": {},
   "outputs": [],
   "source": [
    "best_ratings5 = best_ratings4.sort_values(by=['averageRating'], ascending=False).head(20)"
   ]
  },
  {
   "cell_type": "code",
   "execution_count": null,
   "metadata": {},
   "outputs": [],
   "source": [
    "#sauvegarde du dataframe\n",
    "best_ratings5.to_csv(r'C:\\Users\\Berenger\\Desktop\\projet abc\\films_meilleures_notes.csv', index = True, header = True)"
   ]
  },
  {
   "cell_type": "code",
   "execution_count": null,
   "metadata": {},
   "outputs": [],
   "source": [
    "#chargement du dataframe\n",
    "films_meilleures_notes = pd.read_csv(r\"C:\\Users\\Berenger\\Desktop\\projet abc\\films_meilleures_notes.csv\")"
   ]
  },
  {
   "cell_type": "code",
   "execution_count": null,
   "metadata": {},
   "outputs": [],
   "source": [
    "fig = px.bar(films_meilleures_notes.head(20), x=\"averageRating\", y ='primaryTitle', color = \"primaryTitle\", text ='averageRating',\n",
    "    title = 'Quels sont les films les mieux notés ?',\n",
    "    labels = {'averageRating': '', 'primaryTitle': ''},\n",
    "    width=1000, height=700)\n",
    " \n",
    "fig.update_traces(textfont_size=11)\n",
    "\n",
    "fig.update_layout(showlegend=False, title_x=0.5)\n",
    "fig.show()"
   ]
  },
  {
   "cell_type": "markdown",
   "metadata": {},
   "source": [
    "# <span style=\"color:orange\">Partagent-ils des caractéristiques communes ?</span> "
   ]
  },
  {
   "cell_type": "code",
   "execution_count": null,
   "metadata": {},
   "outputs": [],
   "source": [
    "films_meilleures_notes = pd.read_csv(r\"C:\\Users\\Berenger\\Desktop\\projet abc\\films_meilleures_notes.csv\")\n",
    "genres_df = films_meilleures_notes[['genres']]\n",
    "new = genres_df[\"genres\"].str.split(\",\", n = 1, expand = True)\n",
    "new2 = new[1].str.split(\",\", n = 1, expand = True)\n",
    "genres_df[\"genre1\"] = new[0]\n",
    "genres_df[\"genre2\"] = new2[0]\n",
    "genres_df[\"genre3\"] = new2[1]\n",
    "genres_df.head()"
   ]
  },
  {
   "cell_type": "code",
   "execution_count": null,
   "metadata": {},
   "outputs": [],
   "source": [
    "new_df = pd.concat([genres_df[\"genre1\"], genres_df[\"genre2\"], genres_df[\"genre3\"]])\n",
    "new_df"
   ]
  },
  {
   "cell_type": "code",
   "execution_count": null,
   "metadata": {},
   "outputs": [],
   "source": [
    "new_df2 = new_df.value_counts(normalize=True).mul(100).round(1).astype(str) + '%'\n",
    "new_df2"
   ]
  },
  {
   "cell_type": "code",
   "execution_count": null,
   "metadata": {},
   "outputs": [],
   "source": [
    "new_df3 = pd.DataFrame(new_df2)\n",
    "new_df3.reset_index(inplace=True)\n",
    "new_df3"
   ]
  },
  {
   "cell_type": "code",
   "execution_count": null,
   "metadata": {},
   "outputs": [],
   "source": [
    "fig = px.bar(new_df4, x=\"index\", y=\"lol\", color = \"lol\", text ='lol',\n",
    "    title = 'Partagent-ils des caractéristiques communes ?',\n",
    "    labels = {'index': '', 'lol': ''},\n",
    "    width=1000, height=700)\n",
    "\n",
    "\n",
    "\n",
    "fig.update_traces(textfont_size=14)\n",
    "\n",
    "\n",
    "fig.update_layout(showlegend=False, title_x=0.5, yaxis={'visible': False})\n",
    "fig.show()\n",
    "\n",
    "\n",
    "\n",
    "    "
   ]
  },
  {
   "cell_type": "code",
   "execution_count": null,
   "metadata": {},
   "outputs": [],
   "source": [
    "films_meilleures_notes[\"startYear\"].median()"
   ]
  },
  {
   "cell_type": "code",
   "execution_count": null,
   "metadata": {},
   "outputs": [],
   "source": []
  },
  {
   "cell_type": "code",
   "execution_count": null,
   "metadata": {},
   "outputs": [],
   "source": []
  }
 ],
 "metadata": {
  "language_info": {
   "name": "python"
  },
  "orig_nbformat": 4
 },
 "nbformat": 4,
 "nbformat_minor": 2
}
